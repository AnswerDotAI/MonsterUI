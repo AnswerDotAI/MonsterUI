{
 "cells": [
  {
   "cell_type": "markdown",
   "id": "e43d0955",
   "metadata": {},
   "source": [
    "# Main\n",
    "\n",
    "> FrankenUI Tasks Example"
   ]
  },
  {
   "cell_type": "code",
   "execution_count": 4,
   "id": "0cc276d0",
   "metadata": {},
   "outputs": [],
   "source": [
    "#| default_exp main"
   ]
  },
  {
   "cell_type": "markdown",
   "id": "7cf0bc28",
   "metadata": {},
   "source": [
    "## Imports"
   ]
  },
  {
   "cell_type": "code",
   "execution_count": 5,
   "id": "d5abdcb0",
   "metadata": {},
   "outputs": [],
   "source": [
    "#| export\n",
    "from fasthtml.common import *\n",
    "import fasthtml.common as fh\n",
    "from fh_frankenui.components import *\n",
    "from fh_frankenui.core import *\n",
    "import re\n",
    "from fasthtml.components import Uk_theme_switcher\n",
    "from utils import hjs"
   ]
  },
  {
   "cell_type": "code",
   "execution_count": 6,
   "id": "9238fa2a",
   "metadata": {},
   "outputs": [],
   "source": [
    "#| hide\n",
    "#| eval: false\n",
    "from utils import create_server\n",
    "from fasthtml.jupyter import *"
   ]
  },
  {
   "cell_type": "code",
   "execution_count": 7,
   "id": "9b2ce5c5",
   "metadata": {},
   "outputs": [],
   "source": [
    "#| export\n",
    "\n",
    "app,rt = fast_app(pico=False, hdrs=(*Theme.blue.headers(),*hjs))"
   ]
  },
  {
   "cell_type": "code",
   "execution_count": 8,
   "id": "d53a9e4d",
   "metadata": {},
   "outputs": [],
   "source": [
    "#| hide\n",
    "#| eval: false\n",
    "\n",
    "server, Show = create_server(app)"
   ]
  },
  {
   "cell_type": "markdown",
   "id": "661a800c",
   "metadata": {},
   "source": [
    "## Examples"
   ]
  },
  {
   "cell_type": "code",
   "execution_count": 10,
   "id": "52e3819e",
   "metadata": {},
   "outputs": [],
   "source": [
    "#| export\n",
    "from tasks import tasks_homepage\n",
    "from cards import cards_homepage\n",
    "from dashboard import dashboard_homepage\n",
    "from forms import forms_homepage\n",
    "from music import music_homepage\n",
    "from auth import auth_homepage\n",
    "from playground import playground_homepage\n",
    "from mail import mail_homepage"
   ]
  },
  {
   "cell_type": "code",
   "execution_count": 11,
   "id": "77bc464f",
   "metadata": {},
   "outputs": [],
   "source": [
    "#| export\n",
    "@rt\n",
    "def tasks():      return tasks_homepage\n",
    "@rt\n",
    "def cards():      return cards_homepage\n",
    "@rt\n",
    "def dashboard():  return dashboard_homepage\n",
    "@rt \n",
    "def forms():      return forms_homepage\n",
    "@rt\n",
    "def music():      return music_homepage\n",
    "@rt\n",
    "def auth():       return auth_homepage\n",
    "@rt\n",
    "def playground(): return playground_homepage\n",
    "@rt\n",
    "def mail():       return mail_homepage"
   ]
  },
  {
   "cell_type": "markdown",
   "id": "d25174b5",
   "metadata": {},
   "source": [
    "## Getting Started"
   ]
  },
  {
   "cell_type": "code",
   "execution_count": 12,
   "id": "7f0694dd",
   "metadata": {},
   "outputs": [],
   "source": [
    "#| export\n",
    "@rt\n",
    "def getting_started():\n",
    "    return Container(render_md(open('GettingStarted.md').read()))"
   ]
  },
  {
   "cell_type": "markdown",
   "id": "60db03e7",
   "metadata": {},
   "source": [
    "## API Reference"
   ]
  },
  {
   "cell_type": "code",
   "execution_count": 13,
   "id": "1ee741bc",
   "metadata": {},
   "outputs": [],
   "source": [
    "#| export\n",
    "import api_reference"
   ]
  },
  {
   "cell_type": "code",
   "execution_count": 14,
   "id": "9e464c60",
   "metadata": {
    "scrolled": true
   },
   "outputs": [
    {
     "data": {
      "text/plain": [
       "(#9) ['docs_button_link','docs_cards','docs_containers','docs_forms','docs_headers','docs_heading','docs_lists','docs_markdown','docs_text']"
      ]
     },
     "execution_count": 14,
     "metadata": {},
     "output_type": "execute_result"
    }
   ],
   "source": [
    "#| export\n",
    "reference_fns = L([o for o in dir(api_reference) if o.startswith('docs_')])\n",
    "reference_fns"
   ]
  },
  {
   "cell_type": "code",
   "execution_count": 15,
   "id": "71c1ef02",
   "metadata": {},
   "outputs": [],
   "source": [
    "#| export\n",
    "def fnname2title(ref_fn_name): return ref_fn_name[5:].replace('_',' | ').title() "
   ]
  },
  {
   "cell_type": "code",
   "execution_count": 16,
   "id": "b2108baa",
   "metadata": {
    "scrolled": false
   },
   "outputs": [],
   "source": [
    "#| export\n",
    "api_ref_rts = [(f\"/{o}\", app.add_route(f\"/{o}\", getattr(api_reference, o))) for o in reference_fns]"
   ]
  },
  {
   "cell_type": "markdown",
   "id": "25c2fb51",
   "metadata": {},
   "source": [
    "## Theme"
   ]
  },
  {
   "cell_type": "code",
   "execution_count": 17,
   "id": "ad65f276",
   "metadata": {},
   "outputs": [],
   "source": [
    "#| export\n",
    "@rt\n",
    "def themeswitcher(): return Div(Uk_theme_switcher(),cls=\"p-12\")"
   ]
  },
  {
   "cell_type": "markdown",
   "id": "28525f93",
   "metadata": {},
   "source": [
    "## Page Layout"
   ]
  },
  {
   "cell_type": "code",
   "execution_count": 19,
   "id": "1b257864",
   "metadata": {},
   "outputs": [],
   "source": [
    "#| export\n",
    "sidebar = NavContainer(\n",
    "     Li(A(\"Getting Started\", hx_get=getting_started, hx_target=\"#content\", hx_push_url='true')),\n",
    "     NavParentLi(\n",
    "         A(FullySpacedDiv(\"API Reference\")),\n",
    "         NavContainer(\n",
    "             *[Li(A(fnname2title(o), hx_get=f\"/{o}\", hx_target=\"#content\", hx_push_url='true')) for o in reference_fns],\n",
    "             parent=False),\n",
    "         ),\n",
    "     NavParentLi(\n",
    "        A(FullySpacedDiv('Examples')),\n",
    "        NavContainer(\n",
    "            Li(A('Tasks',     hx_get=tasks, hx_target=\"#content\", hx_push_url='true')),\n",
    "            Li(A('Cards',     hx_get=cards, hx_target=\"#content\", hx_push_url='true')),\n",
    "            Li(A('Dashboard', hx_get=dashboard, hx_target=\"#content\", hx_push_url='true')),\n",
    "            Li(A('Form',      hx_get=forms, hx_target=\"#content\", hx_push_url='true')),\n",
    "            Li(A('Music',     hx_get=music, hx_target=\"#content\", hx_push_url='true')),\n",
    "            Li(A('Auth',      hx_get=auth, hx_target=\"#content\", hx_push_url='true')),\n",
    "            Li(A('Playground',hx_get=playground, hx_target=\"#content\", hx_push_url='true')),\n",
    "            Li(A('Mail',      hx_get=mail, hx_target=\"#content\", hx_push_url='true')),\n",
    "            parent=False),\n",
    "         ),\n",
    "      Li(A(\"Theme\",hx_get=themeswitcher,hx_target=\"#content\", hx_push_url='true')),\n",
    "\n",
    "    uk_nav=False, cls=(NavT.primary,\"space-y-4 p-4 w-1/5\"))"
   ]
  },
  {
   "cell_type": "code",
   "execution_count": 20,
   "id": "d463e684",
   "metadata": {},
   "outputs": [],
   "source": [
    "#| export\n",
    "@rt\n",
    "def index():return Body(cls=\"bg-background text-foreground\")(Div(sidebar,Div(getting_started(),id=\"content\", cls='w-full'),cls=\"flex\"))"
   ]
  },
  {
   "cell_type": "code",
   "execution_count": 22,
   "id": "8f0b0c50",
   "metadata": {},
   "outputs": [],
   "source": [
    "%%aip\n",
    "\n",
    "Fix `Div(getting_started(),id=\"content\")` to make it show on the page.  It's in the html but the div isn't visible."
   ]
  },
  {
   "cell_type": "code",
   "execution_count": null,
   "id": "35df3e16",
   "metadata": {},
   "outputs": [],
   "source": [
    "# Let's inspect the current structure and styling of the page\n",
    "\n",
    "@rt\n",
    "def debug_layout():\n",
    "    return Div(\n",
    "        Div(\"Sidebar:\", cls=\"font-bold\"),\n",
    "        Pre(str(sidebar)),\n",
    "        Div(\"Content:\", cls=\"font-bold mt-4\"),\n",
    "        Pre(str(Div(getting_started(), id=\"content\"))),\n",
    "        Div(\"Full index:\", cls=\"font-bold mt-4\"),\n",
    "        Pre(str(index())),\n",
    "        cls=\"p-4 bg-gray-100\"\n",
    "    )\n",
    "\n",
    "# Add this route to inspect the layout\n",
    "app.add_route(\"/debug\", debug_layout)\n",
    "\n",
    "# Modify the index function to add some basic styling\n",
    "@rt\n",
    "def index():\n",
    "    return Div(\n",
    "        sidebar,\n",
    "        Div(getting_started(), id=\"content\", cls=\"flex-grow p-4\"),\n",
    "        cls=\"flex w-full\"\n",
    "    )"
   ]
  },
  {
   "cell_type": "code",
   "execution_count": 53,
   "id": "94e3c1e4",
   "metadata": {},
   "outputs": [],
   "source": [
    "#| export\n",
    "serve()"
   ]
  }
 ],
 "metadata": {
  "kernelspec": {
   "display_name": "Python 3 (ipykernel)",
   "language": "python",
   "name": "python3"
  },
  "language_info": {
   "codemirror_mode": {
    "name": "ipython",
    "version": 3
   },
   "file_extension": ".py",
   "mimetype": "text/x-python",
   "name": "python",
   "nbconvert_exporter": "python",
   "pygments_lexer": "ipython3",
   "version": "3.12.4"
  },
  "toc": {
   "base_numbering": 1,
   "nav_menu": {},
   "number_sections": true,
   "sideBar": true,
   "skip_h1_title": false,
   "title_cell": "Table of Contents",
   "title_sidebar": "Contents",
   "toc_cell": false,
   "toc_position": {},
   "toc_section_display": true,
   "toc_window_display": false
  }
 },
 "nbformat": 4,
 "nbformat_minor": 5
}
