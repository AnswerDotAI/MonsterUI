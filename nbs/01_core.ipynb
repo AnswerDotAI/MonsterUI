{
 "cells": [
  {
   "cell_type": "markdown",
   "metadata": {},
   "source": [
    "## Core\n",
    "\n",
    "> The building blocks to the UI"
   ]
  },
  {
   "cell_type": "code",
   "execution_count": null,
   "metadata": {},
   "outputs": [],
   "source": [
    "#| default_exp core"
   ]
  },
  {
   "cell_type": "markdown",
   "metadata": {},
   "source": [
    "## Imports"
   ]
  },
  {
   "cell_type": "markdown",
   "metadata": {},
   "source": [
    "\n"
   ]
  },
  {
   "cell_type": "code",
   "execution_count": null,
   "metadata": {},
   "outputs": [],
   "source": [
    "#| hide\n",
    "#| export\n",
    "import fasthtml.common as fh\n",
    "from monsterui.foundations import *\n",
    "from fasthtml.common import is_listy, Div, P, Span, Script, FastHTML, FT, to_xml, show,fast_app\n",
    "from fasthtml.svg import Svg\n",
    "from fasthtml.components import Uk_theme_switcher, Main\n",
    "from enum import Enum, auto\n",
    "from fasthtml.components import Uk_select,Uk_input_tag,Uk_icon\n",
    "from functools import partial\n",
    "from itertools import zip_longest\n",
    "from typing import Union, Tuple, Optional\n",
    "from fastcore.all import *\n",
    "import copy, re, httpx\n",
    "from pathlib import Path"
   ]
  },
  {
   "cell_type": "code",
   "execution_count": null,
   "metadata": {},
   "outputs": [],
   "source": [
    "from IPython.display import HTML, display, Markdown\n",
    "from fasthtml.jupyter import *\n",
    "from functools import partial"
   ]
  },
  {
   "cell_type": "code",
   "execution_count": null,
   "metadata": {},
   "outputs": [],
   "source": [
    "from nbdev.showdoc import *"
   ]
  },
  {
   "cell_type": "markdown",
   "metadata": {},
   "source": [
    "## App"
   ]
  },
  {
   "cell_type": "code",
   "execution_count": null,
   "metadata": {},
   "outputs": [],
   "source": [
    "#| export\n",
    "@delegates(fh.fast_app, but=['pico'])\n",
    "def fast_app(*args, pico=False, **kwargs):\n",
    "    \"Create a FastHTML or FastHTMLWithLiveReload app with `bg-background text-foreground` to bodykw for frankenui themes\"\n",
    "    if 'bodykw' not in kwargs: kwargs['bodykw'] = {}\n",
    "    if 'class' not in kwargs['bodykw']: kwargs['bodykw']['class'] = ''\n",
    "    kwargs['bodykw']['class'] = stringify((kwargs['bodykw']['class'],'bg-background text-foreground'))\n",
    "    return fh.fast_app(*args, pico=False, **kwargs)"
   ]
  },
  {
   "cell_type": "code",
   "execution_count": null,
   "metadata": {},
   "outputs": [],
   "source": [
    "assert fast_app(bodykw={'something':'test'})[0].bodykw == {'something': 'test', 'class': ' bg-background text-foreground'}"
   ]
  },
  {
   "cell_type": "code",
   "execution_count": null,
   "metadata": {},
   "outputs": [],
   "source": [
    "#| export\n",
    "@delegates(fh.FastHTML, but=['pico'])\n",
    "def FastHTML(*args, pico=False, **kwargs):\n",
    "    \"Create a FastHTML app and adds `bg-background text-foreground` to bodykw for frankenui themes\"\n",
    "    if 'bodykw' not in kwargs: kwargs['bodykw'] = {}\n",
    "    if 'class' not in kwargs['bodykw']: kwargs['bodykw']['class'] = ''\n",
    "    kwargs['bodykw']['class'] = stringify((kwargs['bodykw']['class'],'bg-background text-foreground'))\n",
    "    bodykw = kwargs.pop('bodykw',{})\n",
    "    return fh.FastHTML(*args, pico=False, **bodykw, **kwargs)"
   ]
  },
  {
   "cell_type": "code",
   "execution_count": null,
   "metadata": {},
   "outputs": [
    {
     "data": {
      "text/plain": [
       "{'pico': False, 'something': 'test', 'class': ' bg-background text-foreground'}"
      ]
     },
     "execution_count": null,
     "metadata": {},
     "output_type": "execute_result"
    }
   ],
   "source": [
    "FastHTML(bodykw={'something':'test'}).bodykw"
   ]
  },
  {
   "cell_type": "markdown",
   "metadata": {},
   "source": [
    "## Theme / Headers"
   ]
  },
  {
   "cell_type": "markdown",
   "metadata": {},
   "source": [
    "You can select a theme color to and get all the headers."
   ]
  },
  {
   "cell_type": "code",
   "execution_count": null,
   "metadata": {},
   "outputs": [],
   "source": [
    "#| export\n",
    "def _headers_theme(color, mode='auto'):\n",
    "    mode_script = {\n",
    "        'auto': '''\n",
    "            if (\n",
    "                localStorage.getItem(\"mode\") === \"dark\" ||\n",
    "                (!(\"mode\" in localStorage) &&\n",
    "                window.matchMedia(\"(prefers-color-scheme: dark)\").matches)\n",
    "            ) {\n",
    "                htmlElement.classList.add(\"dark\");\n",
    "            } else {\n",
    "                htmlElement.classList.remove(\"dark\");\n",
    "            }\n",
    "        ''',\n",
    "        'light': 'htmlElement.classList.remove(\"dark\");',\n",
    "        'dark': 'htmlElement.classList.add(\"dark\");'\n",
    "    }\n",
    "    \n",
    "    return fh.Script(f'''\n",
    "        const htmlElement = document.documentElement;\n",
    "        {mode_script[mode]}\n",
    "        htmlElement.classList.add(localStorage.getItem(\"theme\") || \"uk-theme-{color}\");\n",
    "    ''')"
   ]
  },
  {
   "cell_type": "code",
   "execution_count": null,
   "metadata": {},
   "outputs": [],
   "source": [
    "#| export\n",
    "HEADER_URLS = {\n",
    "        'franken_css': \"https://unpkg.com/franken-ui@1.1.0/dist/css/core.min.css\",\n",
    "        'franken_js': \"https://unpkg.com/franken-ui@1.1.0/dist/js/core.iife.js\",\n",
    "        'icon_js': \"https://cdn.jsdelivr.net/gh/answerdotai/monsterui@main/monsterui/icon.iife.js\",\n",
    "        'tailwind': \"https://cdn.tailwindcss.com\"\n",
    "    }\n",
    "\n",
    "def _download_resource(url, static_dir):\n",
    "    \"Download a single resource and return its local path\"\n",
    "    static = Path(static_dir)\n",
    "    fname = static/f\"{url[0]}.{'js' if 'js' in url[1] else 'css'}\"\n",
    "    content = httpx.get(url[1], follow_redirects=True).content\n",
    "    fname.write_bytes(content)\n",
    "    return (url[0], f\"/{static_dir}/{fname.name}\")"
   ]
  },
  {
   "cell_type": "code",
   "execution_count": null,
   "metadata": {},
   "outputs": [],
   "source": [
    "#| export\n",
    "class Theme(Enum):\n",
    "    \"Selector to choose theme and get all headers needed for app.  Includes frankenui + tailwind\"\n",
    "    def _generate_next_value_(name, start, count, last_values): return name\n",
    "    slate = auto()\n",
    "    stone = auto()\n",
    "    gray = auto()\n",
    "    neutral = auto()\n",
    "    red = auto()\n",
    "    rose = auto()\n",
    "    orange = auto()\n",
    "    green = auto()\n",
    "    blue = auto()\n",
    "    yellow = auto()\n",
    "    violet = auto()\n",
    "    zinc = auto()\n",
    "\n",
    "\n",
    "    def _create_headers(self, urls, mode='auto'):\n",
    "        \"Create header elements with given URLs\"\n",
    "        return (\n",
    "            fh.Link(rel=\"stylesheet\", href=urls['franken_css']),\n",
    "            fh.Script(type=\"module\", src=urls['franken_js']),\n",
    "            fh.Script(type=\"module\", src=urls['icon_js']),\n",
    "            fh.Script(src=urls['tailwind']),\n",
    "            _headers_theme(self.value, mode=mode),\n",
    "        )\n",
    "\n",
    "    def headers(self, mode='auto'):\n",
    "        \"Create frankenui and tailwind cdns\"\n",
    "        return self._create_headers(HEADER_URLS, mode=mode)\n",
    "    \n",
    "    def local_headers(self, mode='auto', static_dir='static'):\n",
    "        \"Create headers using local files downloaded from CDNs\"\n",
    "        Path(static_dir).mkdir(exist_ok=True)\n",
    "        local_urls = dict([_download_resource(url, static_dir) for url in HEADER_URLS.items()])\n",
    "        return self._create_headers(local_urls, mode=mode)"
   ]
  },
  {
   "cell_type": "code",
   "execution_count": null,
   "metadata": {},
   "outputs": [],
   "source": [
    "hdrs = Theme.blue.headers()\n",
    "app = FastHTML(hdrs=hdrs)"
   ]
  },
  {
   "cell_type": "code",
   "execution_count": null,
   "metadata": {},
   "outputs": [
    {
     "data": {
      "text/html": [
       "<meta charset=\"utf-8\">\n",
       "<meta name=\"viewport\" content=\"width=device-width, initial-scale=1, viewport-fit=cover\">\n",
       "<script src=\"https://unpkg.com/htmx.org@next/dist/htmx.min.js\"></script><script src=\"https://cdn.jsdelivr.net/gh/answerdotai/fasthtml-js@1.0.4/fasthtml.js\"></script><script src=\"https://cdn.jsdelivr.net/gh/answerdotai/surreal@main/surreal.js\"></script><script src=\"https://cdn.jsdelivr.net/gh/gnat/css-scope-inline@main/script.js\"></script><link rel=\"stylesheet\" href=\"https://unpkg.com/franken-ui@1.1.0/dist/css/core.min.css\">\n",
       "<script type=\"module\" src=\"https://unpkg.com/franken-ui@1.1.0/dist/js/core.iife.js\"></script><script type=\"module\" src=\"https://cdn.jsdelivr.net/gh/answerdotai/fh-frankenui@main/fh_frankenui/icon.iife.js\"></script><script src=\"https://cdn.tailwindcss.com\"></script><script>\n",
       "        const htmlElement = document.documentElement;\n",
       "        \n",
       "            if (\n",
       "                localStorage.getItem(\"mode\") === \"dark\" ||\n",
       "                (!(\"mode\" in localStorage) &&\n",
       "                window.matchMedia(\"(prefers-color-scheme: dark)\").matches)\n",
       "            ) {\n",
       "                htmlElement.classList.add(\"dark\");\n",
       "            } else {\n",
       "                htmlElement.classList.remove(\"dark\");\n",
       "            }\n",
       "        \n",
       "        htmlElement.classList.add(localStorage.getItem(\"theme\") || \"uk-theme-blue\");\n",
       "    </script><script>\n",
       "    function sendmsg() {\n",
       "        window.parent.postMessage({height: document.documentElement.offsetHeight}, '*');\n",
       "    }\n",
       "    window.onload = function() {\n",
       "        sendmsg();\n",
       "        document.body.addEventListener('htmx:afterSettle',    sendmsg);\n",
       "        document.body.addEventListener('htmx:wsAfterMessage', sendmsg);\n",
       "    };</script>"
      ],
      "text/plain": [
       "<IPython.core.display.HTML object>"
      ]
     },
     "metadata": {},
     "output_type": "display_data"
    }
   ],
   "source": [
    "app, rt = fast_app(hdrs=Theme.blue.headers())\n",
    "Show = partial(HTMX, app=app)"
   ]
  },
  {
   "cell_type": "markdown",
   "metadata": {},
   "source": [
    "## Text Style"
   ]
  },
  {
   "cell_type": "code",
   "execution_count": null,
   "metadata": {},
   "outputs": [],
   "source": [
    "#| export\n",
    "class TextT(VEnum):\n",
    "    'Text Styles from https://franken-ui.dev/docs/text'\n",
    "    def _generate_next_value_(name, start, count, last_values):\n",
    "        return str2ukcls('text', name)\n",
    "    \n",
    "    # Text Style\n",
    "    lead,meta, italic = auto(), auto(), auto()\n",
    "    # Text Size\n",
    "    small, default, large = auto(), 'uk-text', auto()\n",
    "    # Text Weight\n",
    "    light, normal, bold, lighter, bolder = auto(),auto(),auto(),auto(),auto()\n",
    "    # Text Transform\n",
    "    capitalize,uppercase, lowercase = auto(),auto(),auto()\n",
    "    # Text Decoration\n",
    "    decoration_none = auto()\n",
    "    # Text Color\n",
    "    muted,primary,secondary, success,warning, danger = auto(),auto(),auto(),auto(),auto(),auto()\n",
    "    # Text Alignment\n",
    "    left, right,center,justify = auto(), auto(), auto(), auto()\n",
    "    # Vertical Alignment\n",
    "    top,middle,bottom, baseline = auto(),auto(),auto(),auto()\n",
    "    \n",
    "    # Text Wrapping\n",
    "    truncate,break_,nowrap = auto(),auto(),auto()"
   ]
  },
  {
   "cell_type": "code",
   "execution_count": null,
   "metadata": {},
   "outputs": [],
   "source": [
    "# print(enum_to_markdown_table(TextT))"
   ]
  },
  {
   "cell_type": "code",
   "execution_count": null,
   "metadata": {},
   "outputs": [],
   "source": [
    "#| export\n",
    "class TextFont(Enum):\n",
    "    \"Combinations of TextT that are particularly useful\"\n",
    "    def __add__(self, other):   return stringify((self, other))\n",
    "    def __radd__(self, other):  return stringify((other, self)) \n",
    "    def __str__(self): return self.value\n",
    "    muted_sm = stringify((TextT.muted, TextT.small))\n",
    "    muted_lg = stringify((TextT.muted, TextT.large))\n",
    "    bold_sm = stringify((TextT.bold, TextT.small))"
   ]
  },
  {
   "cell_type": "code",
   "execution_count": null,
   "metadata": {},
   "outputs": [],
   "source": [
    "#| export\n",
    "def PParagraph(*args, cls='', **kwargs): \n",
    "    return fh.P(*args, cls=('uk-paragraph',stringify(cls)), **kwargs)\n",
    "def PLarge(*args, cls='', **kwargs):\n",
    "    return fh.P(*args, cls=('uk-text-large', stringify(cls)), **kwargs)\n",
    "def PLead(*args, cls='', **kwargs):\n",
    "    return fh.P(*args, cls=('uk-text-lead',  stringify(cls)), **kwargs)\n",
    "def PSmall(*args, cls='', **kwargs):\n",
    "    return fh.P(*args, cls=('uk-text-small', stringify(cls)), **kwargs)\n",
    "def PMuted(*args, cls='', **kwargs):\n",
    "    return fh.P(*args, cls=('uk-text-muted', stringify(cls)), **kwargs)"
   ]
  },
  {
   "cell_type": "code",
   "execution_count": null,
   "metadata": {},
   "outputs": [],
   "source": [
    "#| export\n",
    "def CodeSpan(*args, **kwargs):\n",
    "    return fh.Code(*args, cls=('uk-codespan\"'), **kwargs)"
   ]
  },
  {
   "cell_type": "code",
   "execution_count": null,
   "metadata": {},
   "outputs": [],
   "source": [
    "#| export\n",
    "def Blockquote(*c:FT|str, cls:Enum|str|tuple=(), **kwargs)->FT:\n",
    "    \"A Blockquote with Styling\"\n",
    "    return fh.Blockquote(*c, cls=('uk-blockquote',stringify(cls)), **kwargs)"
   ]
  },
  {
   "cell_type": "code",
   "execution_count": null,
   "metadata": {},
   "outputs": [],
   "source": [
    "#| export\n",
    "def H1(*c:FT|str, cls:Enum|str|tuple=(), **kwargs)->FT: \n",
    "    \"A H1 with Styling\"\n",
    "    return fh.H1(*c, cls=('uk-h1',stringify(cls)), **kwargs)"
   ]
  },
  {
   "cell_type": "code",
   "execution_count": null,
   "metadata": {},
   "outputs": [],
   "source": [
    "#| export\n",
    "def H2(*c:FT|str, cls:Enum|str|tuple=(), **kwargs)->FT: \n",
    "    \"A H2 with Styling\"\n",
    "    return fh.H2(*c, cls=('uk-h2',stringify(cls)), **kwargs)"
   ]
  },
  {
   "cell_type": "code",
   "execution_count": null,
   "metadata": {},
   "outputs": [],
   "source": [
    "#| export\n",
    "def H3(*c:FT|str, cls:Enum|str|tuple=(), **kwargs)->FT: \n",
    "    \"A H3 with Styling\"\n",
    "    return fh.H3(*c, cls=('uk-h3',stringify(cls)), **kwargs)"
   ]
  },
  {
   "cell_type": "code",
   "execution_count": null,
   "metadata": {},
   "outputs": [],
   "source": [
    "#| export\n",
    "def H4(*c:FT|str, cls:Enum|str|tuple=(), **kwargs)->FT:\n",
    "    \"A H4 with Styling\"\n",
    "    return fh.H4(*c, cls=('uk-h4',stringify(cls)), **kwargs)"
   ]
  },
  {
   "cell_type": "markdown",
   "metadata": {},
   "source": [
    "## Button"
   ]
  },
  {
   "cell_type": "code",
   "execution_count": null,
   "metadata": {},
   "outputs": [],
   "source": [
    "#| export\n",
    "class ButtonT(VEnum):\n",
    "    \"Options for styling Buttons\"\n",
    "    def _generate_next_value_(name, start, count, last_values): return str2ukcls('button', name)\n",
    "    default = auto()\n",
    "    primary = auto()\n",
    "    secondary = auto()\n",
    "    danger = auto()\n",
    "    text = auto()\n",
    "    link = auto()\n",
    "    ghost = auto()"
   ]
  },
  {
   "cell_type": "code",
   "execution_count": null,
   "metadata": {},
   "outputs": [],
   "source": [
    "#| export\n",
    "def Button(*c: Union[str, FT],\n",
    "           cls: Union[str, Enum]=ButtonT.default,\n",
    "           submit=True,\n",
    "           **kwargs\n",
    "          ) -> FT:\n",
    "    \"A Button with Styling (defaults to `type=submit` for form submission)\"\n",
    "    return fh.Button(*c, cls=('uk-button', stringify(cls)), type='submit' if submit else 'button', **kwargs)"
   ]
  },
  {
   "cell_type": "markdown",
   "metadata": {},
   "source": [
    "## Headings"
   ]
  },
  {
   "cell_type": "code",
   "execution_count": null,
   "metadata": {},
   "outputs": [],
   "source": [
    "#| export\n",
    "def Main(*args, **kwargs): return fh.Main(*args, **kwargs)"
   ]
  },
  {
   "cell_type": "code",
   "execution_count": null,
   "metadata": {},
   "outputs": [],
   "source": [
    "#| export\n",
    "class ContainerT(VEnum):\n",
    "    'Max width container sizes from https://franken-ui.dev/docs/container'\n",
    "    def _generate_next_value_(name, start, count, last_values): return str2ukcls('container', name)\n",
    "    xsmall = auto()\n",
    "    small = auto()\n",
    "    large = auto()\n",
    "    xlarge = auto()\n",
    "    expand = auto()"
   ]
  },
  {
   "cell_type": "code",
   "execution_count": null,
   "metadata": {},
   "outputs": [],
   "source": [
    "#| export\n",
    "def Container(*c, cls=('mt-5', ContainerT.xlarge), **kwargs): \n",
    "    \"A Div to be used as a container that often wraps large sections or a page of content\"\n",
    "    return Div(*c, cls=('uk-container',stringify(cls)), **kwargs)"
   ]
  },
  {
   "cell_type": "code",
   "execution_count": null,
   "metadata": {},
   "outputs": [],
   "source": [
    "#| export\n",
    "def Titled(title:str=\"FastHTML app\", *args, cls='uk-container-xlarge', **kwargs)->FT:\n",
    "    \"A H1 with styling, whose title is also used in the page's title tag\"\n",
    "    return fh.Title(title), fh.Main(Container(H1(title), *args, cls=cls, **kwargs))"
   ]
  },
  {
   "cell_type": "code",
   "execution_count": null,
   "metadata": {},
   "outputs": [],
   "source": []
  },
  {
   "cell_type": "markdown",
   "metadata": {},
   "source": [
    "## Dividers"
   ]
  },
  {
   "cell_type": "code",
   "execution_count": null,
   "metadata": {},
   "outputs": [],
   "source": [
    "#| export\n",
    "class DividerT(VEnum):\n",
    "    \" Divider Styles from https://franken-ui.dev/docs/divider\"\n",
    "    def _generate_next_value_(name, start, count, last_values): return str2ukcls('divider', name)\n",
    "    icon=auto()\n",
    "    small=auto()\n",
    "    vertical=auto()"
   ]
  },
  {
   "cell_type": "code",
   "execution_count": null,
   "metadata": {},
   "outputs": [],
   "source": [
    "#| export\n",
    "def Divider(*args, cls=('my-4', DividerT.icon), **kwargs):\n",
    "    \"Divider with default styling and margin\"\n",
    "    cls = stringify(cls)\n",
    "    container = Div if 'uk-divider-vertical' in cls else Hr\n",
    "    return container(*args, cls=cls, **kwargs)"
   ]
  },
  {
   "cell_type": "code",
   "execution_count": null,
   "metadata": {},
   "outputs": [],
   "source": [
    "#| export\n",
    "def DividerSplit(*c, cls=(), line_cls=(), text_cls=()):\n",
    "    cls, line_cls, text_cls = map(stringify,(cls, line_cls, text_cls))\n",
    "    return Div(cls='relative ' + cls)(\n",
    "        Div(cls=\"absolute inset-0 flex items-center \" + line_cls)(Span(cls=\"w-full border-t border-border\")),\n",
    "        Div(cls=\"relative flex justify-center \" + text_cls)(Span(cls=\"bg-background px-2 \")(*c)))"
   ]
  },
  {
   "cell_type": "code",
   "execution_count": null,
   "metadata": {},
   "outputs": [],
   "source": [
    "#| export\n",
    "def DividerLine(lwidth=2, y_space=4): return Hr(cls=f\"my-{y_space} h-[{lwidth}px] w-full bg-secondary\")"
   ]
  },
  {
   "cell_type": "markdown",
   "metadata": {},
   "source": [
    "## Articles & Containers & Sections"
   ]
  },
  {
   "cell_type": "code",
   "execution_count": null,
   "metadata": {},
   "outputs": [],
   "source": [
    "#| export\n",
    "def Alert(*args, cls=(), **kwargs): \n",
    "    return Div(*args, cls=('uk-alert', stringify(cls)), uk_alert=True, **kwargs)\n",
    "\n",
    "def AlertCloseButton(*args, cls=(), **kwargs): \n",
    "    return A(*args, cls=('uk-alert-close', stringify(cls)), **kwargs)\n",
    "\n",
    "def AlertTitle(*args, cls='', **kwargs): \n",
    "    return Div(*args, cls=('uk-alert-title', stringify(cls)), **kwargs)\n",
    "\n",
    "def AlertDescription(*args, cls='', **kwargs): \n",
    "    return Div(*args, cls=('uk-alert-description', stringify(cls)), **kwargs)"
   ]
  },
  {
   "cell_type": "code",
   "execution_count": null,
   "metadata": {},
   "outputs": [],
   "source": [
    "#| export\n",
    "def Article(*c, cls=(), **kwargs):\n",
    "    return fh.Article(*c, cls=('uk-article',stringify(cls)), **kwargs)\n",
    "\n",
    "def ArticleTitle(*c, cls=(), **kwargs):\n",
    "    return H1(*c, cls=('uk-article-title',stringify(cls)), **kwargs)\n",
    "\n",
    "def ArticleMeta(*c, cls=(), **kwargs):\n",
    "    return P(*c, cls=('uk-article-meta',stringify(cls)), **kwargs)"
   ]
  },
  {
   "cell_type": "code",
   "execution_count": null,
   "metadata": {},
   "outputs": [
    {
     "data": {
      "text/markdown": [
       "```html\n",
       "<article class=\"uk-article \">\n",
       "  <h1 class=\"uk-h1 uk-article-title \">Article Title</h1>\n",
       "  <p class=\"uk-article-meta \">By: John Doe</p>\n",
       "</article>\n",
       "\n",
       "```"
      ],
      "text/plain": [
       "article((h1(('Article Title',),{'class': 'uk-h1 uk-article-title '}), p(('By: John Doe',),{'class': 'uk-article-meta '})),{'class': 'uk-article '})"
      ]
     },
     "execution_count": null,
     "metadata": {},
     "output_type": "execute_result"
    }
   ],
   "source": [
    "Article(ArticleTitle(\"Article Title\"), ArticleMeta(\"By: John Doe\"))"
   ]
  },
  {
   "cell_type": "code",
   "execution_count": null,
   "metadata": {},
   "outputs": [
    {
     "data": {
      "text/markdown": [
       "```html\n",
       "<div class=\"uk-container uk-container-xsmall\" style=\"background-color: #e6f2ff; padding: 20px; border-radius: 5px;\">This is a container with a custom background color.</div>\n",
       "\n",
       "```"
      ],
      "text/plain": [
       "div(('This is a container with a custom background color.',),{'class': 'uk-container uk-container-xsmall', 'style': 'background-color: #e6f2ff; padding: 20px; border-radius: 5px;'})"
      ]
     },
     "execution_count": null,
     "metadata": {},
     "output_type": "execute_result"
    }
   ],
   "source": [
    "Container(\n",
    "    \"This is a container with a custom background color.\",\n",
    "    cls=ContainerT.xsmall,\n",
    "    style=\"background-color: #e6f2ff; padding: 20px; border-radius: 5px;\"\n",
    ")"
   ]
  },
  {
   "cell_type": "code",
   "execution_count": null,
   "metadata": {},
   "outputs": [],
   "source": [
    "#| export\n",
    "class SectionT(VEnum):\n",
    "    'Section styles from https://franken-ui.dev/docs/section'\n",
    "    def _generate_next_value_(name, start, count, last_values): return str2ukcls('section', name)\n",
    "    default = auto()\n",
    "    muted = auto()\n",
    "    primary = auto()\n",
    "    secondary = auto()\n",
    "    xsmall = auto()\n",
    "    small = auto()\n",
    "    large = auto()\n",
    "    xlarge = auto()\n",
    "    remove_vertical = auto()"
   ]
  },
  {
   "cell_type": "code",
   "execution_count": null,
   "metadata": {},
   "outputs": [],
   "source": [
    "# Markdown(enum_to_markdown_table(SectionT))"
   ]
  },
  {
   "cell_type": "code",
   "execution_count": null,
   "metadata": {},
   "outputs": [],
   "source": [
    "#| export\n",
    "def Section(*c, cls=(), **kwargs):\n",
    "    return fh.Div(*c, cls=('uk-section',stringify(cls)), **kwargs)"
   ]
  },
  {
   "cell_type": "markdown",
   "metadata": {},
   "source": [
    "## Forms & Inputs"
   ]
  },
  {
   "cell_type": "code",
   "execution_count": null,
   "metadata": {},
   "outputs": [],
   "source": [
    "#| export\n",
    "def Form(*c, cls='space-y-3', **kwargs):\n",
    "    return fh.Form(*c, cls=stringify(cls), **kwargs)"
   ]
  },
  {
   "cell_type": "code",
   "execution_count": null,
   "metadata": {},
   "outputs": [],
   "source": [
    "#|export\n",
    "def Fieldset(*c, cls=(), **kwargs): \n",
    "    return fh.Fieldset(*c, cls=('uk-fieldset',stringify(cls)), **kwargs)\n",
    "\n",
    "def Legend(*c, cls=(), **kwargs): \n",
    "    return fh.Legend(*c, cls=('uk-legend',stringify(cls)), **kwargs)"
   ]
  },
  {
   "cell_type": "code",
   "execution_count": null,
   "metadata": {},
   "outputs": [],
   "source": [
    "#| export\n",
    "def Input(*c, cls=(), **kwargs):      \n",
    "    return fh.Input(*c, cls=('uk-input',stringify(cls)), **kwargs)\n",
    "def Select(*option, cls=(), **kwargs):\n",
    "    return fh.Select(*option, cls=('uk-select',stringify(cls)), **kwargs)\n",
    "def Radio(*c, cls=(), **kwargs):      \n",
    "    return fh.Input(*c, cls=('uk-radio',stringify(cls)), type='radio', **kwargs)\n",
    "def CheckboxX(*c, cls=(), **kwargs):  \n",
    "    return fh.Input(*c, cls=('uk-checkbox',stringify(cls)), type='checkbox', **kwargs)\n",
    "def Range(*c, cls=(), **kwargs):      \n",
    "    return fh.Input(*c, cls=('uk-range',stringify(cls)), type='range', **kwargs)\n",
    "def Toggle_switch(*c, cls=(), **kwargs):\n",
    "    return fh.Input(*c, cls=('uk-toggle-switch uk-toggle-switch-primary',stringify(cls)), type='checkbox', **kwargs)\n",
    "def TextArea(*c, cls=(), **kwargs):            \n",
    "    return fh.Textarea(*c, cls=('uk-textarea',stringify(cls)), **kwargs)\n",
    "def Switch(*c, cls='min-w-9', **kwargs):              \n",
    "    return fh.Input(*c, cls=('uk-toggle-switch uk-toggle-switch-primary',stringify(cls)), type='checkbox', **kwargs)"
   ]
  },
  {
   "cell_type": "code",
   "execution_count": null,
   "metadata": {},
   "outputs": [],
   "source": [
    "#|export\n",
    "def FormLabel(*c, cls=(), **kwargs): return fh.Label(*c, cls=('uk-form-label',stringify(cls)), **kwargs)"
   ]
  },
  {
   "cell_type": "code",
   "execution_count": null,
   "metadata": {},
   "outputs": [],
   "source": [
    "#| export\n",
    "class LabelT(VEnum):\n",
    "    def _generate_next_value_(name, start, count, last_values): return str2ukcls('label', name)\n",
    "    primary = auto()\n",
    "    secondary = auto()\n",
    "    danger = auto()"
   ]
  },
  {
   "cell_type": "code",
   "execution_count": null,
   "metadata": {},
   "outputs": [],
   "source": [
    "#| export\n",
    "def Label(*c, cls=(), **kwargs):\n",
    "    \"FrankenUI labels, which look like pills\"\n",
    "    return fh.Label(*c, cls=('uk-label',stringify(cls)), **kwargs)"
   ]
  },
  {
   "cell_type": "code",
   "execution_count": null,
   "metadata": {},
   "outputs": [],
   "source": [
    "#| export\n",
    "def UkFormSection(title, description, *c, button_txt='Update', outer_margin=6, inner_margin=6):\n",
    "    return Div(cls=f'space-y-{inner_margin} py-{outer_margin}')(\n",
    "        Div(H3(title), P(description, cls=TextFont.muted_sm)),\n",
    "        DividerSplit(), *c,\n",
    "        Div(Button(button_txt, cls=ButtonT.primary)) if button_txt else None)"
   ]
  },
  {
   "cell_type": "markdown",
   "metadata": {},
   "source": [
    "## Labeled Inputs"
   ]
  },
  {
   "cell_type": "markdown",
   "metadata": {},
   "source": [
    "Inputs of various types often go with a label.  Because of this we created functions to do this for you along with properly linking the `for` attribute from the lable to the input.  We also have some nice defaults, such as putting a little spacing between the label and the input"
   ]
  },
  {
   "cell_type": "code",
   "execution_count": null,
   "metadata": {},
   "outputs": [],
   "source": [
    "#| export\n",
    "def GenericLabelInput(\n",
    "               label:str|FT,\n",
    "               lbl_cls='',\n",
    "               input_cls='',\n",
    "               container=Div, \n",
    "               cls='',\n",
    "               id='',\n",
    "               input_fn=noop, \n",
    "                **kwargs\n",
    "                ):\n",
    "    \"`Div(Label,Input)` component with Uk styling injected appropriately. Generally you should higher level API, such as `UkTextArea` which is created for you in this library\"\n",
    "    if isinstance(label, str) or label.tag != 'label': \n",
    "        label = FormLabel(cls=stringify(lbl_cls), fr=id)(label)\n",
    "    inp = input_fn(id=id, cls=stringify(input_cls), **kwargs)        \n",
    "    if container: return container(label, inp, cls=stringify(cls))\n",
    "    return label, inp"
   ]
  },
  {
   "cell_type": "code",
   "execution_count": null,
   "metadata": {},
   "outputs": [],
   "source": [
    "#| export\n",
    "@delegates(GenericLabelInput, but=['input_fn','cls'])\n",
    "def LabelInput(*args, cls='space-y-2', **kwargs): \n",
    "    \"A Label and Input pair that provides default spacing and links/names them based on id\"\n",
    "    return GenericLabelInput(*args, cls=stringify(cls),input_fn=Input, **kwargs)"
   ]
  },
  {
   "cell_type": "code",
   "execution_count": null,
   "metadata": {},
   "outputs": [],
   "source": [
    "#| export\n",
    "def LabelRadio(label:str|FT,\n",
    "               lbl_cls='',\n",
    "               input_cls='',\n",
    "               container=Div, \n",
    "               cls='flex items-center space-x-2',\n",
    "               id='',\n",
    "                **kwargs\n",
    "                ):\n",
    "    \"A Label and Radio pair that provides default spacing and links/names them based on id\"\n",
    "    if isinstance(label, str) or label.tag != 'label': \n",
    "        label = FormLabel(cls=stringify(lbl_cls), fr=id)(label)\n",
    "    inp = Radio(id=id, cls=stringify(input_cls), **kwargs)        \n",
    "    if container: return container(inp, label, cls=stringify(cls))\n",
    "    return inp, label"
   ]
  },
  {
   "cell_type": "code",
   "execution_count": null,
   "metadata": {},
   "outputs": [],
   "source": [
    "#| export\n",
    "def LabelCheckboxX(label:str|FT,\n",
    "               lbl_cls='',\n",
    "               input_cls='',\n",
    "               container=Div, \n",
    "               cls='flex items-center space-x-2',\n",
    "                **kwargs\n",
    "                ):\n",
    "    \"`Div(Label,Input)` component with Uk styling injected appropriately. Generally you should higher level API, such as `UkTextArea` which is created for you in this library\"\n",
    "    \n",
    "    id = kwargs.pop('id', fh.unqid())\n",
    "    if isinstance(label, str) or label.tag != 'label': \n",
    "        label = FormLabel(cls=stringify(lbl_cls), fr=id)(label)\n",
    "    inp = CheckboxX(id=id, cls=stringify(input_cls), **kwargs)        \n",
    "    if container: return container(inp, label, cls=stringify(cls))\n",
    "    return inp, label"
   ]
  },
  {
   "cell_type": "code",
   "execution_count": null,
   "metadata": {},
   "outputs": [],
   "source": [
    "#| export\n",
    "# @delegates(GenericLabelInput, but=['input_fn','cls'])\n",
    "# def LabelCheckboxX(*args, cls='space-x-2', **kwargs): return GenericLabelInput(*args, cls=stringify(cls), input_fn=CheckboxX, **kwargs)"
   ]
  },
  {
   "cell_type": "code",
   "execution_count": null,
   "metadata": {},
   "outputs": [],
   "source": [
    "#| export\n",
    "@delegates(GenericLabelInput, but=['input_fn','cls'])\n",
    "def LabelRange(*args, cls='space-y-2', **kwargs): return GenericLabelInput(*args, cls=stringify(cls), input_fn=Range, **kwargs)"
   ]
  },
  {
   "cell_type": "code",
   "execution_count": null,
   "metadata": {},
   "outputs": [],
   "source": [
    "#| export\n",
    "@delegates(GenericLabelInput, but=['input_fn','cls'])\n",
    "def LabelTextArea(*args, cls='space-y-2', value='', **kwargs): \n",
    "    \"Creates a labeled textarea with optional initial value\"\n",
    "    def text_area_with_value(**kw): return TextArea(value, **kw)\n",
    "    return GenericLabelInput(*args, cls=stringify(cls), input_fn=text_area_with_value, **kwargs)"
   ]
  },
  {
   "cell_type": "code",
   "execution_count": null,
   "metadata": {},
   "outputs": [],
   "source": [
    "#| export\n",
    "@delegates(GenericLabelInput, but=['input_fn','cls'])\n",
    "def LabelSwitch(*args, cls='space-x-2', **kwargs): return GenericLabelInput(*args, cls=stringify(cls), input_fn=Toggle_switch, **kwargs)"
   ]
  },
  {
   "cell_type": "code",
   "execution_count": null,
   "metadata": {},
   "outputs": [],
   "source": [
    "#| export\n",
    "def LabelSelect(*option,\n",
    "               label:str|FT,\n",
    "               lbl_cls='',\n",
    "               input_cls='',\n",
    "               container=Div, \n",
    "               cls='space-y-2',\n",
    "               id='',\n",
    "                **kwargs\n",
    "                ):\n",
    "    \"`Div(Label,Input)` component with Uk styling injected appropriately. Generally you should higher level API, such as `UkTextArea` which is created for you in this library\"\n",
    "    if isinstance(label, str) or label.tag != 'label': \n",
    "        label = FormLabel(lbl_cls=stringify(lbl_cls), fr=id)(label)\n",
    "    inp = Select(*option, id=id, cls=stringify(input_cls), **kwargs)        \n",
    "    if container: return container(label, inp, cls=stringify(cls))\n",
    "    return label, inp"
   ]
  },
  {
   "cell_type": "code",
   "execution_count": null,
   "metadata": {},
   "outputs": [],
   "source": [
    "#| export\n",
    "def Options(*c,                    # Content for an `Option`\n",
    "            selected_idx:int=None, # Index location of selected `Option`\n",
    "            disabled_idxs:set=None # Idex locations of disabled `Options`\n",
    "           ):\n",
    "    \"Helper function to wrap things into `Option`s for use in `UkSelect`\"\n",
    "    return [fh.Option(o,selected=i==selected_idx, disabled=disabled_idxs and i in disabled_idxs) for i,o in enumerate(c)]"
   ]
  },
  {
   "cell_type": "code",
   "execution_count": null,
   "metadata": {},
   "outputs": [],
   "source": [
    "#| export\n",
    "def UkSelect(*option,            # Options for the select dropdown (can use `Options` helper function to create)\n",
    "             inp_cls=(),         # Additional classes for the select input\n",
    "             cls=('space-y-2',), # Classes for the outer div\n",
    "             id=\"\",              # ID for the select input\n",
    "             name=\"\",            # Name attribute for the select input\n",
    "             placeholder=\"\",     # Placeholder text for the select input\n",
    "             searchable=False,   # Whether the select should be searchable\n",
    "             **kwargs):          # Additional arguments passed to Uk_select\n",
    "    \"Creates a select dropdown with uk styling\"\n",
    "    inp_cls, cls = map(stringify, (inp_cls, cls))\n",
    "    select = Uk_select(*option, cls=inp_cls, uk_cloak=True, id=id, \n",
    "                       name=name, placeholder=placeholder, searchable=searchable, **kwargs)\n",
    "    return Div(cls=cls)(select)"
   ]
  },
  {
   "cell_type": "code",
   "execution_count": null,
   "metadata": {},
   "outputs": [],
   "source": [
    "#| export\n",
    "def LabelUkSelect(*option,            # Options for the select dropdown (can use `Options` helper function to create)\n",
    "             label=(),           # String or FT component for the label\n",
    "             lbl_cls=(),         # Additional classes for the label\n",
    "             inp_cls=(),         # Additional classes for the select input\n",
    "             cls=('space-y-2',), # Classes for the outer div\n",
    "             id=\"\",              # ID for the select input\n",
    "             name=\"\",            # Name attribute for the select input\n",
    "             placeholder=\"\",     # Placeholder text for the select input\n",
    "             searchable=False,   # Whether the select should be searchable\n",
    "             **kwargs):          # Additional arguments passed to Uk_select\n",
    "    \"Creates a select dropdown with uk styling\"\n",
    "    lbl_cls, inp_cls, cls = map(stringify, (lbl_cls, inp_cls, cls))\n",
    "    if label: \n",
    "        lbl = FormLabel(cls=f'{lbl_cls}', fr=id)(label) \n",
    "    select = Uk_select(*option, cls=inp_cls, uk_cloak=True, id=id, \n",
    "                       name=name if name else id, placeholder=placeholder, searchable=searchable, **kwargs)\n",
    "    return Div(cls=cls)(lbl, select) if label else Div(cls=cls)(select)"
   ]
  },
  {
   "cell_type": "markdown",
   "metadata": {},
   "source": [
    "## Links"
   ]
  },
  {
   "cell_type": "code",
   "execution_count": null,
   "metadata": {},
   "outputs": [],
   "source": [
    "#| export\n",
    "class AT(VEnum):\n",
    "    'Link styles from https://franken-ui.dev/docs/link'\n",
    "    def _generate_next_value_(name, start, count, last_values): return str2ukcls('link', name)\n",
    "    muted = auto()\n",
    "    text = auto()\n",
    "    reset = auto()"
   ]
  },
  {
   "cell_type": "markdown",
   "metadata": {},
   "source": [
    "## Lists"
   ]
  },
  {
   "cell_type": "code",
   "execution_count": null,
   "metadata": {},
   "outputs": [],
   "source": [
    "#| export\n",
    "class ListT(VEnum):\n",
    "    'List styles from https://franken-ui.dev/docs/list'\n",
    "    def _generate_next_value_(name, start, count, last_values): return str2ukcls('list', name)\n",
    "    disc = auto()\n",
    "    circle = auto()\n",
    "    square = auto()\n",
    "    decimal = auto()\n",
    "    hyphen = auto()\n",
    "    muted = auto()\n",
    "    primary = auto()\n",
    "    secondary = auto()\n",
    "    bullet = auto()\n",
    "    divider = auto()\n",
    "    striped = auto()"
   ]
  },
  {
   "cell_type": "code",
   "execution_count": null,
   "metadata": {},
   "outputs": [],
   "source": [
    "#| export\n",
    "def UkList(*c, cls=(), **kwargs): return fh.Ul(*c, cls=('uk-list',stringify(cls)), **kwargs)"
   ]
  },
  {
   "cell_type": "markdown",
   "metadata": {},
   "source": [
    "## Modal"
   ]
  },
  {
   "cell_type": "code",
   "execution_count": null,
   "metadata": {},
   "outputs": [],
   "source": [
    "#| export\n",
    "def ModalContainer(*c, cls=(), **kwargs):   return fh.Div(*c, cls=('uk-modal uk-modal-container',stringify(cls)), uk_modal=True, **kwargs)\n",
    "def ModalDialog(*c, cls=(), **kwargs):      return fh.Div(*c, cls=('uk-modal-dialog',   stringify(cls)),                **kwargs)\n",
    "def ModalHeader(*c, cls=(), **kwargs):      return fh.Div(*c, cls=('uk-modal-header',   stringify(cls)),                **kwargs)\n",
    "def ModalBody(*c, cls=(), **kwargs):        return fh.Div(*c, cls=('uk-modal-body',     stringify(cls)),                **kwargs)\n",
    "def ModalFooter(*c, cls=(), **kwargs):      return fh.Div(*c, cls=('uk-modal-footer',   stringify(cls)),                **kwargs)\n",
    "def ModalTitle(*c, cls=(), **kwargs):       return fh.H2(*c,  cls=('uk-modal-title',    stringify(cls)),                **kwargs)\n",
    "def ModalCloseButton(*c, cls=(), **kwargs): return Button(*c, cls=('uk-modal-close',    stringify(cls)),                **kwargs)"
   ]
  },
  {
   "cell_type": "code",
   "execution_count": null,
   "metadata": {},
   "outputs": [],
   "source": [
    "#| export\n",
    "def Modal(*c,\n",
    "        header=None,          # Components that go in the header\n",
    "        footer=None,          # Components that go in the footer\n",
    "        cls=(),               # class for outermost container\n",
    "        dialog_cls=(),        # classes for the dialog\n",
    "        header_cls='p-6',     # classes for the header\n",
    "        body_cls='space-y-6', # classes for the body\n",
    "        footer_cls=(),        # classes for the footer\n",
    "        id='',                # id for the outermost container\n",
    "        **kwargs              # classes for the outermost container\n",
    "        ): # Modal\n",
    "    \"Create a Modal using the appropriate Modal* classes to put the boilerplate in the appropriate places for you\"\n",
    "    cls, dialog_cls, header_cls, body_cls, footer_cls = map(stringify, (cls, dialog_cls, header_cls, body_cls, footer_cls))\n",
    "    res = []\n",
    "    if header: res.append(ModalHeader(cls=header_cls)(header))\n",
    "    res.append(ModalBody(cls=body_cls)(*c))\n",
    "    if footer: res.append(ModalFooter(cls=footer_cls)(footer))\n",
    "    return ModalContainer(ModalDialog(*res, cls=dialog_cls), cls=cls, id=id, **kwargs)"
   ]
  },
  {
   "cell_type": "markdown",
   "metadata": {},
   "source": [
    "## Padding | Positioning"
   ]
  },
  {
   "cell_type": "code",
   "execution_count": null,
   "metadata": {},
   "outputs": [],
   "source": [
    "#| export\n",
    "class PaddingT(VEnum):\n",
    "    'Padding Modifiers from https://franken-ui.dev/docs/padding'\n",
    "    def _generate_next_value_(name, start, count, last_values): return str2ukcls('padding', name)\n",
    "    xsmall = auto()\n",
    "    small = auto()\n",
    "    default = ''\n",
    "    medium = auto()\n",
    "    large = auto()\n",
    "    xlarge = auto()\n",
    "    remove = auto()\n",
    "    remove_top = auto()\n",
    "    remove_bottom = auto()\n",
    "    remove_left = auto()\n",
    "    remove_right = auto()\n",
    "    remove_vertical = auto()\n",
    "    remove_horizontal = auto()"
   ]
  },
  {
   "cell_type": "code",
   "execution_count": null,
   "metadata": {},
   "outputs": [],
   "source": [
    "#| export\n",
    "class PositionT(VEnum):\n",
    "    'Position modifiers from https://franken-ui.dev/docs/position'\n",
    "    def _generate_next_value_(name, start, count, last_values): return str2ukcls('position', name)\n",
    "    top = auto()\n",
    "    bottom = auto()\n",
    "    left = auto()\n",
    "    right = auto()\n",
    "    top_left = auto()\n",
    "    top_center = auto()\n",
    "    top_right = auto()\n",
    "    center = auto()\n",
    "    center_left = auto()\n",
    "    center_right = auto()\n",
    "    bottom_left = auto()\n",
    "    bottom_center = auto()\n",
    "    bottom_right = auto()\n",
    "    center_horizontal = auto()\n",
    "    center_vertical = auto()"
   ]
  },
  {
   "cell_type": "markdown",
   "metadata": {},
   "source": [
    "## Other"
   ]
  },
  {
   "cell_type": "code",
   "execution_count": null,
   "metadata": {},
   "outputs": [],
   "source": [
    "#| export\n",
    "def Placeholder(*c, cls=(), **kwargs):\n",
    "    return fh.Div(*c, cls=('uk-placeholder',stringify(cls)), **kwargs)"
   ]
  },
  {
   "cell_type": "code",
   "execution_count": null,
   "metadata": {},
   "outputs": [],
   "source": [
    "#| export\n",
    "def Progress(*c, cls=(), value=\"\", max=\"\", **kwargs):\n",
    "    return fh.Progress(*c, value=value, max=max, cls=('uk-progress',stringify(cls)), **kwargs)"
   ]
  },
  {
   "cell_type": "markdown",
   "metadata": {},
   "source": [
    "## Icons and Avatars"
   ]
  },
  {
   "cell_type": "code",
   "execution_count": null,
   "metadata": {},
   "outputs": [],
   "source": [
    "#| export\n",
    "def UkIcon(icon,height=None,width=None,stroke_width=None,cls=(), **kwargs):\n",
    "    return Uk_icon(icon=icon, height=height, width=width, stroke_width=stroke_width, cls=cls, **kwargs)"
   ]
  },
  {
   "cell_type": "code",
   "execution_count": null,
   "metadata": {},
   "outputs": [],
   "source": [
    "#| export\n",
    "def UkIconLink(icon, \n",
    "           height=None,\n",
    "           width=None,\n",
    "           stroke_width=None,\n",
    "           cls=(), \n",
    "           button=False, \n",
    "           **kwargs):\n",
    "    \n",
    "    fn = fh.Button if button else fh.A\n",
    "    return fn(cls=(f\"uk-icon-{'button' if button else 'link'}\", stringify(cls)), **kwargs)(\n",
    "        UkIcon(icon=icon, height=height, width=width, stroke_width=stroke_width))"
   ]
  },
  {
   "cell_type": "code",
   "execution_count": null,
   "metadata": {},
   "outputs": [],
   "source": [
    "class IconButtonT(VEnum):\n",
    "    xsmall = 'uk-icon-button-xsmall'\n",
    "    small  = 'uk-icon-button-small'\n",
    "    outline= 'uk-icon-button-outline'"
   ]
  },
  {
   "cell_type": "code",
   "execution_count": null,
   "metadata": {},
   "outputs": [],
   "source": [
    "#| export\n",
    "def DiceBearAvatar(seed_name, # Seed name (ie 'Isaac Flath')\n",
    "                   h=20,         # Height \n",
    "                   w=20,          # Width\n",
    "                  ):          # Span with Avatar\n",
    "    url = 'https://api.dicebear.com/8.x/lorelei/svg?seed='\n",
    "    return Span(cls=f\"relative flex h-{h} w-{w} shrink-0 overflow-hidden rounded-full bg-accent\")(\n",
    "            fh.Img(cls=f\"aspect-square h-{h} w-{w}\", alt=\"Avatar\", loading=\"lazy\", src=f\"{url}{seed_name}\"))"
   ]
  },
  {
   "cell_type": "markdown",
   "metadata": {},
   "source": [
    "## Flexbox | Grid"
   ]
  },
  {
   "cell_type": "markdown",
   "metadata": {},
   "source": [
    "The most common pattern for spacing it to organize the general high level page layout with a `Grid`, and smaller components with `Flex`.\n",
    "\n",
    ":::{.callout-tip}\n",
    "Play [Flex Box Froggy](https://flexboxfroggy.com/) to get an understanding of flex box.\n",
    ":::"
   ]
  },
  {
   "cell_type": "code",
   "execution_count": null,
   "metadata": {},
   "outputs": [],
   "source": [
    "#| export\n",
    "class FlexT(VEnum):\n",
    "    'Flexbox modifiers from UIkit'\n",
    "    def _generate_next_value_(name, start, count, last_values): return str2ukcls('flex', name)\n",
    "    \n",
    "    # Display\n",
    "    block, inline = 'uk-flex', auto()\n",
    "    # Horizontal Alignment\n",
    "    left, center, right, between, around = auto(), auto(), auto(), auto(), auto()\n",
    "    # Vertical Alignment\n",
    "    stretch, top, middle, bottom = auto(), auto(), auto(), auto()\n",
    "    # Direction\n",
    "    row, row_reverse, column, column_reverse = auto(), auto(), auto(), auto()\n",
    "    # Wrap\n",
    "    nowrap, wrap, wrap_reverse = auto(), auto(), auto()"
   ]
  },
  {
   "cell_type": "code",
   "execution_count": null,
   "metadata": {},
   "outputs": [],
   "source": [
    "#|export\n",
    "def Grid(*div, cols_min=1, cols_max=None, cols_sm=None, cols_md=None, cols_lg=None, cols=None, cls='gap-4', **kwargs):\n",
    "    \"Creates a responsive grid layout with smart defaults based on content\"\n",
    "    if cols: cols_min = cols_sm = cols_md = cols_lg = cols\n",
    "    else:\n",
    "        n = len(div)\n",
    "        cols_max = min(n, cols_max or 4)\n",
    "        cols_sm = cols_sm or min(n, cols_min+1, cols_max)\n",
    "        cols_md = cols_md or min(n, cols_min+2, cols_max) \n",
    "        cols_lg = cols_lg or cols_max\n",
    "    return Div(cls=(f'grid grid-cols-{cols_min} sm:grid-cols-{cols_sm} md:grid-cols-{cols_md} lg:grid-cols-{cols_lg}', \n",
    "                    stringify(cls)), **kwargs)(*div)"
   ]
  },
  {
   "cell_type": "markdown",
   "metadata": {},
   "source": [
    "We can use the `FlexT` enum above to create `Div`s that arrange components in a flex box in different ways.  \n",
    "\n",
    "For example, `DivFullySpaced` applies a very common pattern so we've made a function that helps to this for you.  But if you look at the code, it's really just using the enum to apply the right combonation of flex classes."
   ]
  },
  {
   "cell_type": "code",
   "execution_count": null,
   "metadata": {},
   "outputs": [],
   "source": [
    "#| exports\n",
    "def DivFullySpaced(*c,                # Components\n",
    "                   cls='uk-width-1-1',# Classes for outer div\n",
    "                   **kwargs           # Additional args for outer div\n",
    "                  ):                  # Div with spaced components via flex classes\n",
    "    \"Creates a flex div with it's components having as much space between them as possible\"\n",
    "    cls = stringify(cls)\n",
    "    return Div(cls=(FlexT.block,FlexT.between,FlexT.middle,cls), **kwargs)(*c)"
   ]
  },
  {
   "cell_type": "code",
   "execution_count": null,
   "metadata": {},
   "outputs": [],
   "source": [
    "#| export\n",
    "def DivCentered(*c,      # Components\n",
    "                cls='space-y-4',  # Classes for outer div\n",
    "                **kwargs # Additional args for outer div\n",
    "               ): # Div with components centered in it\n",
    "    \"Creates a flex div with it's components centered in it\"\n",
    "    cls=stringify(cls)\n",
    "    return Div(cls=(FlexT.block,FlexT.column,FlexT.middle,FlexT.center,cls),**kwargs)(*c)"
   ]
  },
  {
   "cell_type": "code",
   "execution_count": null,
   "metadata": {},
   "outputs": [],
   "source": [
    "#| export\n",
    "def DivLAligned(*c,      # Components\n",
    "                cls='space-x-4',  # Classes for outer div\n",
    "                **kwargs # Additional args for outer div\n",
    "               ): # Div with components aligned to the left\n",
    "    \"Creates a flex div with it's components aligned to the left\"\n",
    "    cls=stringify(cls)\n",
    "    return Div(cls=(FlexT.block,FlexT.left,FlexT.middle,cls), **kwargs)(*c)"
   ]
  },
  {
   "cell_type": "code",
   "execution_count": null,
   "metadata": {},
   "outputs": [],
   "source": [
    "#| export\n",
    "def DivRAligned(*c,      # Components\n",
    "                cls='space-x-4',  # Classes for outer div\n",
    "                **kwargs # Additional args for outer div\n",
    "               ): # Div with components aligned to the right\n",
    "    \"Creates a flex div with it's components aligned to the right\"\n",
    "    cls=stringify(cls)\n",
    "    return Div(cls=(FlexT.block,FlexT.right,FlexT.middle,cls), **kwargs)(*c)"
   ]
  },
  {
   "cell_type": "code",
   "execution_count": null,
   "metadata": {},
   "outputs": [],
   "source": [
    "#| export\n",
    "def DivVStacked(*c, cls='space-y-4', **kwargs):\n",
    "    cls=stringify(cls)\n",
    "    return Div(cls=(FlexT.block,FlexT.column,FlexT.middle,cls), **kwargs)(*c)"
   ]
  },
  {
   "cell_type": "code",
   "execution_count": null,
   "metadata": {},
   "outputs": [],
   "source": [
    "#| export\n",
    "def DivHStacked(*c, cls='space-x-4', **kwargs):\n",
    "    cls=stringify(cls)\n",
    "    return Div(cls=(FlexT.block,FlexT.row,FlexT.middle,cls), **kwargs)(*c)"
   ]
  },
  {
   "cell_type": "markdown",
   "metadata": {},
   "source": [
    "## Nav"
   ]
  },
  {
   "cell_type": "markdown",
   "metadata": {},
   "source": [
    "A `Nav` is something highly versatile that is the foundation for many things.  Three common places to use a Nav:\n",
    "\n",
    "    + On its own as a sidebar navigation\n",
    "    + In a button to give it a drop-down like behavior\n",
    "    + In a Navbar to give drop down options in the navbar"
   ]
  },
  {
   "cell_type": "code",
   "execution_count": null,
   "metadata": {},
   "outputs": [],
   "source": [
    "#| export\n",
    "class NavT(VEnum):\n",
    "    def _generate_next_value_(name, start, count, last_values): return str2ukcls('nav', name)\n",
    "    default = auto()\n",
    "    primary = auto()\n",
    "    secondary = auto()"
   ]
  },
  {
   "cell_type": "code",
   "execution_count": null,
   "metadata": {},
   "outputs": [],
   "source": [
    "#| export\n",
    "def NavContainer(*li, \n",
    "                 cls=NavT.primary,\n",
    "                 parent=True, \n",
    "                 uk_nav=False, #True for default collapsible behavior, see https://franken-ui.dev/docs/nav#component-options for more advanced options\n",
    "                 **kwargs):\n",
    "    return fh.Ul(*li, uk_nav=uk_nav, cls=(f\"uk-nav{'' if parent else '-sub'}\", stringify(cls)),**kwargs)"
   ]
  },
  {
   "cell_type": "code",
   "execution_count": null,
   "metadata": {},
   "outputs": [],
   "source": [
    "#| export\n",
    "def NavParentLi(*nav_container, cls=(), **kwargs): return fh.Li(*nav_container,  cls=('uk-parent',  stringify(cls)),**kwargs)\n",
    "def NavDividerLi(*c,cls=(), **kwargs): return fh.Li(*c, cls=('uk-nav-divider', stringify(cls)),**kwargs)\n",
    "def NavHeaderLi(*c,cls=(), **kwargs): return fh.Li(*c, cls=('uk-nav-header', stringify(cls)),**kwargs)\n",
    "def NavSubtitle(*c,cls=TextFont.muted_sm, **kwargs): return fh.Div(*c, cls=('uk-nav-subtitle', stringify(cls)),**kwargs)\n",
    "def NavCloseLi(*c,cls=(), **kwargs): return fh.Li(*c, cls=('uk-drop-close', stringify(cls)),**kwargs)"
   ]
  },
  {
   "cell_type": "code",
   "execution_count": null,
   "metadata": {},
   "outputs": [],
   "source": [
    "def NavParentIcon(): return Span(uk_nav_parent_icon=True)"
   ]
  },
  {
   "cell_type": "markdown",
   "metadata": {},
   "source": [
    "## NavBar"
   ]
  },
  {
   "cell_type": "code",
   "execution_count": null,
   "metadata": {},
   "outputs": [],
   "source": [
    "#| export\n",
    "def NavBarContainer(*c, \n",
    "                    cls=(),\n",
    "                    container_cls=ContainerT.expand,\n",
    "                    uk_navbar=True,\n",
    "                    **kwargs): \n",
    "    return fh.Div(Container(Div(*c, uk_navbar=uk_navbar),cls=stringify(container_cls)), cls=('',stringify(cls)), **kwargs) #uk-navbar-container\n",
    "def NavBarLSide(*c,  cls=(), **kwargs): return fh.Div(*c, cls=('uk-navbar-left',  stringify(cls)), **kwargs)\n",
    "def NavBarRSide(*c,  cls=(), **kwargs): return fh.Div(*c, cls=('uk-navbar-right', stringify(cls)), **kwargs)\n",
    "def NavBarCenter(*c, cls=(), **kwargs): return fh.Div(*c, cls=('uk-navbar-center',stringify(cls)), **kwargs)"
   ]
  },
  {
   "cell_type": "code",
   "execution_count": null,
   "metadata": {},
   "outputs": [],
   "source": [
    "#| export\n",
    "def NavBarNav(*li, cls=(), **kwargs): return fh.Nav(*li, cls=('uk-navbar-nav',      stringify(cls)),                 **kwargs)"
   ]
  },
  {
   "cell_type": "code",
   "execution_count": null,
   "metadata": {},
   "outputs": [],
   "source": [
    "#| export\n",
    "def NavBarSubtitle(title, subtitle, cls=(), subtitle_cls=TextFont.muted_sm, **kwargs): \n",
    "    return fh.Div(title,fh.Div(subtitle, cls=('uk-navbar-subtitle', stringify(subtitle_cls))), cls=stringify(cls), **kwargs)"
   ]
  },
  {
   "cell_type": "code",
   "execution_count": null,
   "metadata": {},
   "outputs": [],
   "source": [
    "#| export\n",
    "def NavBarNavContainer(*li, \n",
    "                       cls=NavT.primary,\n",
    "                         parent=True, \n",
    "                         uk_nav=False, #True for default collapsible behavior, see https://franken-ui.dev/docs/nav#component-options for more advanced options\n",
    "                         **kwargs):\n",
    "    return Div(cls=\"uk-navbar-dropdown\")(NavContainer(*li, cls=('uk-navbar-dropdown-nav',stringify(cls)), uk_nav=uk_nav, parent=parent, **kwargs))"
   ]
  },
  {
   "cell_type": "code",
   "execution_count": null,
   "metadata": {},
   "outputs": [],
   "source": [
    "#|export\n",
    "def NavBarParentIcon(): return Span(uk_navbar_parent_icon=True)"
   ]
  },
  {
   "cell_type": "markdown",
   "metadata": {},
   "source": [
    "## DropDown"
   ]
  },
  {
   "cell_type": "code",
   "execution_count": null,
   "metadata": {},
   "outputs": [],
   "source": [
    "#| export\n",
    "def DropDownNavContainer(*li, \n",
    "                         cls=NavT.primary,\n",
    "                         parent=True, \n",
    "                         uk_nav=False, #True for default collapsible behavior, see https://franken-ui.dev/docs/nav#component-options for more advanced options\n",
    "                         uk_dropdown=True,\n",
    "                         **kwargs):\n",
    "    return Div(cls = 'uk-drop uk-dropdown',uk_dropdown=uk_dropdown)(NavContainer(*li, cls=('uk-dropdown-nav',stringify(cls)), uk_nav=uk_nav, parent=parent, **kwargs))"
   ]
  },
  {
   "cell_type": "markdown",
   "metadata": {},
   "source": [
    "## Tabs"
   ]
  },
  {
   "cell_type": "code",
   "execution_count": null,
   "metadata": {},
   "outputs": [],
   "source": [
    "#| export\n",
    "def TabContainer(*li,cls='', alt=False, **kwargs):\n",
    "    cls = stringify(cls)\n",
    "    return Ul(cls=(f\"uk-tab{'-alt' if alt else ''}\",stringify(cls)),**kwargs)(*li)"
   ]
  },
  {
   "cell_type": "markdown",
   "metadata": {},
   "source": [
    "## Cards"
   ]
  },
  {
   "cell_type": "code",
   "execution_count": null,
   "metadata": {},
   "outputs": [],
   "source": [
    "#| export\n",
    "class CardT(VEnum):\n",
    "    'Card styles from UIkit'\n",
    "    def _generate_next_value_(name, start, count, last_values): return str2ukcls('card', name)\n",
    "    default = auto()\n",
    "    primary = auto()\n",
    "    secondary = auto()\n",
    "    danger = auto()"
   ]
  },
  {
   "cell_type": "code",
   "execution_count": null,
   "metadata": {},
   "outputs": [],
   "source": [
    "#| export\n",
    "def CardTitle(*c, cls=(), **kwargs):\n",
    "    return fh.Div(*c, cls=('uk-card-title',stringify(cls)), **kwargs)\n",
    "\n",
    "def CardHeader(*c, cls=(), **kwargs):\n",
    "    return fh.Div(*c, cls=('uk-card-header',stringify(cls)), **kwargs)\n",
    "\n",
    "def CardBody(*c, cls=(), **kwargs):\n",
    "    return fh.Div(*c, cls=('uk-card-body',stringify(cls)), **kwargs)\n",
    "\n",
    "def CardFooter(*c, cls=(), **kwargs):\n",
    "    return fh.Div(*c, cls=('uk-card-footer',stringify(cls)), **kwargs)\n",
    "\n",
    "def CardContainer(*c, cls=CardT.default, **kwargs):\n",
    "    return fh.Div(*c, cls=('uk-card',stringify(cls)), **kwargs)"
   ]
  },
  {
   "cell_type": "code",
   "execution_count": null,
   "metadata": {},
   "outputs": [],
   "source": [
    "#|export\n",
    "def Card(*c, # Components that go in the body\n",
    "        header=None, # Components that go in the header\n",
    "        footer=None,  # Components that go in the footer\n",
    "        body_cls='space-y-6', # classes for the body\n",
    "        header_cls=(), # classes for the header\n",
    "        footer_cls=(), # classes for the footer\n",
    "        cls=(), #class for outermost component\n",
    "        **kwargs # classes that for the card itself\n",
    "        ):\n",
    "    header_cls, footer_cls, body_cls, cls = map(stringify, (header_cls, footer_cls, body_cls, cls))\n",
    "    res = []\n",
    "    if header: res.append(CardHeader(cls=header_cls)(header))\n",
    "    res.append(CardBody(cls=body_cls)(*c))\n",
    "    if footer: res.append(CardFooter(cls=footer_cls)(footer))\n",
    "    return CardContainer(cls=cls, **kwargs)(*res)"
   ]
  },
  {
   "cell_type": "markdown",
   "metadata": {},
   "source": [
    "## Tables"
   ]
  },
  {
   "cell_type": "code",
   "execution_count": null,
   "metadata": {},
   "outputs": [],
   "source": [
    "#| export\n",
    "class TableT(VEnum):\n",
    "    def _generate_next_value_(name, start, count, last_values): return str2ukcls('table', name)\n",
    "    divider = auto()\n",
    "    striped = auto()\n",
    "    hover = auto()\n",
    "    small = auto()\n",
    "    large = auto()\n",
    "    justify = auto()\n",
    "    middle = auto()\n",
    "    responsive = auto()"
   ]
  },
  {
   "cell_type": "code",
   "execution_count": null,
   "metadata": {},
   "outputs": [],
   "source": [
    "#| export\n",
    "def Table(*args, cls=(TableT.middle, TableT.divider, TableT.hover, TableT.small), **kwargs): \n",
    "    return fh.Table(cls=('uk-table', stringify(cls)), *args, **kwargs)"
   ]
  },
  {
   "cell_type": "code",
   "execution_count": null,
   "metadata": {},
   "outputs": [],
   "source": [
    "#| export\n",
    "def _TableCell(Component, *args, cls=(), shrink=False, expand=False, small=False, **kwargs):\n",
    "    cls = stringify(cls)\n",
    "    if shrink: cls += ' uk-table-shrink'\n",
    "    if expand: cls += ' uk-table-expand'\n",
    "    if small: cls += ' uk-table-small'\n",
    "    return Component(*args,cls=cls, **kwargs)\n",
    "\n",
    "@delegates(_TableCell, but=['Component'])\n",
    "def Td(*args,**kwargs):  return _TableCell(fh.Td, *args, **kwargs)\n",
    "@delegates(_TableCell, but=['Component'])\n",
    "def Th(*args,**kwargs): return _TableCell(fh.Th, *args, **kwargs)\n",
    "\n",
    "def Tr(*cells, cls=(), **kwargs):  return fh.Tr(*cells, cls=stringify(cls), **kwargs)\n",
    "def Thead(*rows, cls=(), **kwargs): return fh.Thead(*rows, cls=stringify(cls), **kwargs)\n",
    "def Tbody(*rows, cls=(), sortable=False, **kwargs): return fh.Tbody(*rows, cls=stringify(cls), uk_sortable=sortable, **kwargs)"
   ]
  },
  {
   "cell_type": "code",
   "execution_count": null,
   "metadata": {},
   "outputs": [],
   "source": [
    "#|export\n",
    "def TableFromLists(header_data, body_data, footer_data=None, \n",
    "                   header_cell_render=Th,body_cell_render=Td, footer_cell_render=Td,\n",
    "                   cls=(TableT.middle, TableT.divider, TableT.hover, TableT.small), \n",
    "                   sortable=False, **kwargs):\n",
    "    \n",
    "    return Table(\n",
    "                Thead(Tr(*map(header_cell_render, header_data))),\n",
    "                Tbody(*[Tr(*map(body_cell_render, r)) for r in body_data], sortable=sortable),\n",
    "                Tfoot(Tr(*map(footer_cell_render, footer_data))) if footer_data else '',\n",
    "                cls=stringify(cls),    \n",
    "                **kwargs)"
   ]
  },
  {
   "cell_type": "code",
   "execution_count": null,
   "metadata": {},
   "outputs": [],
   "source": [
    "#| export\n",
    "def TableFromDicts(header_data:Sequence, body_data:Sequence[dict], footer_data=None, \n",
    "                   header_cell_render=Th, body_cell_render=lambda k,v : Td(v), footer_cell_render=lambda k,v : Td(v),\n",
    "                   cls=(TableT.middle, TableT.divider, TableT.hover, TableT.small),\n",
    "                   sortable=False,\n",
    "                   **kwargs):\n",
    "    \n",
    "    return Table(\n",
    "        Thead(Tr(*[header_cell_render(h) for h in header_data])),\n",
    "        Tbody(*[Tr(*[body_cell_render(k, r.get(k, '')) for k in header_data]) for r in body_data], sortable=sortable),\n",
    "        Tfoot(Tr(*[footer_cell_render(k, footer_data.get(k.lower(), '')) for k in header_data])) if footer_data else '',\n",
    "        cls=stringify(cls),    \n",
    "        **kwargs\n",
    "    )"
   ]
  },
  {
   "cell_type": "markdown",
   "metadata": {},
   "source": [
    "## Markdown"
   ]
  },
  {
   "cell_type": "code",
   "execution_count": null,
   "metadata": {},
   "outputs": [],
   "source": [
    "#| export\n",
    "franken_class_map = {\n",
    "    'h1': 'uk-h1 my-4 mb-4',\n",
    "    'h2': 'uk-h2 my-8',\n",
    "    'h3': 'uk-h3 my-8',\n",
    "    'h4': 'uk-h4 my-8',\n",
    "    'a': \"uk-link\",\n",
    "    'p': 'my-1',\n",
    "    'blockquote': \"uk-blockquote mb-8\",\n",
    "    'hr':'uk-divider-icon my-4',\n",
    "    'table':'uk-table-middle uk-table-divider uk-table-hover uk-table-small',\n",
    "    'ol': 'uk-list-decimal',\n",
    "    'ul': 'uk-list-disc',\n",
    "    'code': 'uk-codespan'\n",
    "}"
   ]
  },
  {
   "cell_type": "code",
   "execution_count": null,
   "metadata": {},
   "outputs": [],
   "source": [
    "#| export\n",
    "def apply_classes(html_str:str, \n",
    "                  class_map=None, \n",
    "                  class_map_mods=None):\n",
    "    if not html_str: return html_str\n",
    "    try:\n",
    "        from lxml import html, etree\n",
    "        class_map = ifnone(class_map, franken_class_map)\n",
    "\n",
    "        if class_map_mods: class_map = {**class_map, **class_map_mods}\n",
    "        html_str = html.fromstring(html_str)\n",
    "        for tag, classes in class_map.items():\n",
    "            for element in html_str.xpath(f'//{tag}'):\n",
    "                existing_class = element.get('class', '')\n",
    "                new_class = f\"{existing_class} {classes}\".strip()\n",
    "                element.set('class', new_class)\n",
    "        return etree.tostring(html_str, encoding='unicode', method='html')\n",
    "    except ImportError:\n",
    "        raise ImportError(\"Install 'lxml' to use the apply_classes function\")\n",
    "    except etree.ParserError:\n",
    "        return html_str"
   ]
  },
  {
   "cell_type": "code",
   "execution_count": null,
   "metadata": {},
   "outputs": [],
   "source": [
    "_test = apply_classes(\"<div><h1>Hello, world!</h1></div>\", class_map_mods={'h1': 'uk-h1 my-4 mb-4'})\n",
    "assert _test == '<div><h1 class=\"uk-h1 my-4 mb-4\">Hello, world!</h1></div>'"
   ]
  },
  {
   "cell_type": "code",
   "execution_count": null,
   "metadata": {},
   "outputs": [],
   "source": [
    "_test = apply_classes(\"\", class_map_mods={'h1': 'uk-h1 my-4 mb-4'})\n",
    "assert _test == ''"
   ]
  },
  {
   "cell_type": "code",
   "execution_count": null,
   "metadata": {},
   "outputs": [
    {
     "data": {
      "text/plain": [
       "'<!-- why -->\\n'"
      ]
     },
     "execution_count": null,
     "metadata": {},
     "output_type": "execute_result"
    }
   ],
   "source": [
    "import mistletoe\n",
    "apply_classes(mistletoe.markdown('<!-- why -->'), franken_class_map, None)"
   ]
  },
  {
   "cell_type": "code",
   "execution_count": null,
   "metadata": {},
   "outputs": [],
   "source": [
    "#| export\n",
    "def render_md(md_content:str, class_map=None, class_map_mods=None):\n",
    "    if md_content=='': return md_content\n",
    "    # Check for required dependencies\n",
    "    missing = []\n",
    "    try: import mistletoe\n",
    "    except ImportError: missing.append('mistletoe')\n",
    "    try: import lxml\n",
    "    except ImportError: missing.append('lxml')\n",
    "    if missing:\n",
    "        pkgs = ' and '.join(missing)\n",
    "        raise ImportError(f\"Please install {pkgs} to use the render_md function\")\n",
    "        \n",
    "    html_content = mistletoe.markdown(md_content) #, mcp.PygmentsRenderer)\n",
    "    return NotStr(apply_classes(html_content, class_map, class_map_mods))"
   ]
  },
  {
   "cell_type": "code",
   "execution_count": null,
   "metadata": {},
   "outputs": [
    {
     "data": {
      "text/plain": [
       "'<div><p class=\"my-1\">Look here:</p>\\n<ul class=\"uk-list-disc\">\\n<li>a</li>\\n<li>b</li>\\n</ul>\\n<pre><code class=\"language-python uk-codespan\">a = \"aa\"\\n</code></pre>\\n</div>'"
      ]
     },
     "execution_count": null,
     "metadata": {},
     "output_type": "execute_result"
    }
   ],
   "source": [
    "#| eval: false\n",
    "render_md('''Look here:\n",
    "- a\n",
    "- b\n",
    "\n",
    "```python\n",
    "a = \"aa\"\n",
    "```''')"
   ]
  },
  {
   "cell_type": "markdown",
   "metadata": {},
   "source": [
    "## export -"
   ]
  },
  {
   "cell_type": "code",
   "execution_count": null,
   "metadata": {},
   "outputs": [],
   "source": [
    "#| hide\n",
    "import nbdev; nbdev.nbdev_export()"
   ]
  }
 ],
 "metadata": {
  "kernelspec": {
   "display_name": "python3",
   "language": "python",
   "name": "python3"
  }
 },
 "nbformat": 4,
 "nbformat_minor": 4
}
