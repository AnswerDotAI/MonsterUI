{
 "cells": [
  {
   "cell_type": "markdown",
   "metadata": {},
   "source": [
    "## Core\n",
    "\n",
    "> The building blocks to the UI"
   ]
  },
  {
   "cell_type": "code",
   "execution_count": null,
   "metadata": {},
   "outputs": [],
   "source": [
    "#| default_exp core"
   ]
  },
  {
   "cell_type": "markdown",
   "metadata": {},
   "source": [
    "## Imports"
   ]
  },
  {
   "cell_type": "markdown",
   "metadata": {},
   "source": [
    "\n"
   ]
  },
  {
   "cell_type": "code",
   "execution_count": null,
   "metadata": {},
   "outputs": [],
   "source": [
    "#| hide\n",
    "#| export\n",
    "import fasthtml.common as fh\n",
    "from fh_frankenui.foundations import *\n",
    "from fasthtml.common import is_listy, Div, P, Span, Script, FastHTML, FT, to_xml, show,fast_app\n",
    "from fasthtml.svg import Svg\n",
    "from fasthtml.components import Uk_theme_switcher, Main\n",
    "\n",
    "from enum import Enum, auto\n",
    "from fasthtml.components import Uk_select,Uk_input_tag,Uk_icon\n",
    "from functools import partial\n",
    "from itertools import zip_longest\n",
    "from typing import Union, Tuple, Optional\n",
    "from fastcore.all import *\n",
    "import copy, re\n"
   ]
  },
  {
   "cell_type": "code",
   "execution_count": null,
   "metadata": {},
   "outputs": [],
   "source": [
    "#| hide\n",
    "from IPython.display import HTML, display, Markdown\n",
    "from fasthtml.jupyter import *\n",
    "from functools import partial\n"
   ]
  },
  {
   "cell_type": "code",
   "execution_count": null,
   "metadata": {},
   "outputs": [
    {
     "data": {
      "text/html": [
       "<script src=\"https://cdn.tailwindcss.com\"></script>\n",
       "<script src=\"https://cdn.jsdelivr.net/npm/uikit@3.21.6/dist/js/uikit.min.js\"></script>\n",
       "<script src=\"https://cdn.jsdelivr.net/npm/uikit@3.21.6/dist/js/uikit-icons.min.js\"></script>\n",
       "<script type=\"module\" src=\"https://unpkg.com/franken-wc@0.0.6/dist/js/wc.iife.js\"></script>\n",
       "<link rel=\"stylesheet\" href=\"https://unpkg.com/franken-wc@0.0.6/dist/css/blue.min.css\">\n",
       "\n",
       "\n",
       "<style>\n",
       "#notebook-container { max-width: none; }\n",
       ".output_html * { list-style-type: none !important; }\n",
       "</style>\n"
      ],
      "text/plain": [
       "<IPython.core.display.HTML object>"
      ]
     },
     "metadata": {},
     "output_type": "display_data"
    }
   ],
   "source": [
    "%%html\n",
    "<script src=\"https://cdn.tailwindcss.com\"></script>\n",
    "<script src=\"https://cdn.jsdelivr.net/npm/uikit@3.21.6/dist/js/uikit.min.js\"></script>\n",
    "<script src=\"https://cdn.jsdelivr.net/npm/uikit@3.21.6/dist/js/uikit-icons.min.js\"></script>\n",
    "<script type=\"module\" src=\"https://unpkg.com/franken-wc@0.0.6/dist/js/wc.iife.js\"></script>\n",
    "<link rel=\"stylesheet\" href=\"https://unpkg.com/franken-wc@0.0.6/dist/css/blue.min.css\">\n",
    "\n",
    "\n",
    "<style>\n",
    "#notebook-container { max-width: none; }\n",
    ".output_html * { list-style-type: none !important; }\n",
    "</style>"
   ]
  },
  {
   "cell_type": "code",
   "execution_count": null,
   "metadata": {},
   "outputs": [],
   "source": [
    "#| hide\n",
    "from nbdev.showdoc import *"
   ]
  },
  {
   "cell_type": "code",
   "execution_count": null,
   "metadata": {},
   "outputs": [],
   "source": [
    "#| hide\n",
    "#| export\n",
    "def enum_to_markdown_table(enum_class):\n",
    "    headers = [\"Option\", \"Value\"]\n",
    "    rows = [[name, value.value] for name, value in enum_class.__members__.items()]\n",
    "    \n",
    "    max_name_len = max(len(row[0]) for row in rows)\n",
    "    max_value_len = max(len(row[1]) for row in rows)\n",
    "    \n",
    "    header = f\"| {'Option':<{max_name_len}} | {'Value':<{max_value_len}} |\"\n",
    "    separator = f\"|{'-'*(max_name_len+2)}|{'-'*(max_value_len+2)}|\"\n",
    "    body = \"\\n\".join(f\"| {row[0]:<{max_name_len}} | {row[1]:<{max_value_len}} |\" for row in rows)\n",
    "    \n",
    "    return f\"{header}\\n{separator}\\n{body}\""
   ]
  },
  {
   "cell_type": "markdown",
   "metadata": {},
   "source": [
    "# App"
   ]
  },
  {
   "cell_type": "code",
   "execution_count": null,
   "metadata": {},
   "outputs": [],
   "source": [
    "#| export\n",
    "@delegates(fh.fast_app)\n",
    "def fast_app(*args, **kwargs):\n",
    "    \"Adds `bg-background text-foreground` to bodykw for frankenui themes\"\n",
    "    if 'bodykw' not in kwargs: kwargs['bodykw'] = {}\n",
    "    if 'class' not in kwargs['bodykw']: kwargs['bodykw']['class'] = ''\n",
    "    kwargs['bodykw']['class'] = stringify((kwargs['bodykw']['class'],'bg-background text-foreground'))\n",
    "    return fh.fast_app(*args, **kwargs)"
   ]
  },
  {
   "cell_type": "code",
   "execution_count": null,
   "metadata": {},
   "outputs": [],
   "source": [
    "assert fast_app(bodykw={'something':'test'})[0].bodykw == {'something': 'test', 'class': ' bg-background text-foreground'}"
   ]
  },
  {
   "cell_type": "code",
   "execution_count": null,
   "metadata": {},
   "outputs": [],
   "source": [
    "#| export\n",
    "@delegates(fh.FastHTML)\n",
    "def FastHTML(*args, **kwargs):\n",
    "    \"Adds `bg-background text-foreground` to bodykw for frankenui themes\"\n",
    "    if 'bodykw' not in kwargs: kwargs['bodykw'] = {}\n",
    "    if 'bodykw' not in kwargs['bodykw']: kwargs['bodykw']['class'] = ''\n",
    "    kwargs['bodykw']['class'] = stringify((kwargs['bodykw']['class'],'bg-background text-foreground'))\n",
    "    return fh.FastHTML(*args, **kwargs)"
   ]
  },
  {
   "cell_type": "markdown",
   "metadata": {},
   "source": [
    "## Theme / Headers"
   ]
  },
  {
   "cell_type": "markdown",
   "metadata": {},
   "source": [
    "You can select a theme color to and get all the headers."
   ]
  },
  {
   "cell_type": "code",
   "execution_count": null,
   "metadata": {},
   "outputs": [],
   "source": [
    "#| export\n",
    "def _headers_theme(color):    \n",
    "    return fh.Script(f'''const htmlElement = document.documentElement;\n",
    "          if (\n",
    "            localStorage.getItem(\"mode\") === \"dark\" ||\n",
    "            (!(\"mode\" in localStorage) &&\n",
    "              window.matchMedia(\"(prefers-color-scheme: dark)\").matches)\n",
    "          ) {{\n",
    "            htmlElement.classList.add(\"dark\");\n",
    "          }} else {{\n",
    "            htmlElement.classList.remove(\"dark\");\n",
    "          }}\n",
    "\n",
    "          htmlElement.classList.add(localStorage.getItem(\"theme\") || \"uk-theme-{color}\");\n",
    "          ''')"
   ]
  },
  {
   "cell_type": "code",
   "execution_count": null,
   "metadata": {},
   "outputs": [],
   "source": [
    "#| export\n",
    "class Theme(Enum):\n",
    "    \"Selector to choose theme and get all headers needed for app.  Includes frankenui + tailwind\"\n",
    "    def _generate_next_value_(name, start, count, last_values): return name\n",
    "    slate = auto()\n",
    "    stone = auto()\n",
    "    gray = auto()\n",
    "    neutral = auto()\n",
    "    red = auto()\n",
    "    rose = auto()\n",
    "    orange = auto()\n",
    "    green = auto()\n",
    "    blue = auto()\n",
    "    yellow = auto()\n",
    "    violet = auto()\n",
    "    zinc = auto()\n",
    "    \n",
    "    def headers(self):\n",
    "        return (fh.Link(rel=\"stylesheet\", href=\"https://unpkg.com/franken-ui@1.1.0/dist/css/core.min.css\"),\n",
    "            fh.Script( type=\"module\", src =\"https://unpkg.com/franken-ui@1.1.0/dist/js/core.iife.js\"),\n",
    "            fh.Script( type=\"module\", src =\"https://unpkg.com/franken-ui@1.1.0/dist/js/icon.iife.js\"),\n",
    "            fh.Script(src=\"https://cdn.tailwindcss.com\"),\n",
    "            _headers_theme(self.value),)"
   ]
  },
  {
   "cell_type": "code",
   "execution_count": null,
   "metadata": {},
   "outputs": [],
   "source": [
    "hdrs = Theme.blue.headers()\n",
    "app = FastHTML(hdrs=hdrs)"
   ]
  },
  {
   "cell_type": "code",
   "execution_count": null,
   "metadata": {},
   "outputs": [
    {
     "name": "stdout",
     "output_type": "stream",
     "text": [
      "Starter server on port 8001\n"
     ]
    }
   ],
   "source": [
    "#| hide\n",
    "def create_server(app,rt):\n",
    "    if 'server' in globals(): globals()['server'].stop()\n",
    "    if IN_NOTEBOOK:\n",
    "        for port in range(8000,8030):   \n",
    "            if is_port_free(port):\n",
    "                server = JupyUvi(app, port=port)\n",
    "\n",
    "                def HShow(comp, app):\n",
    "                    @app.get('/')\n",
    "                    def get(): return comp\n",
    "                    display(HTML(f'<a href=\"http://localhost:{port}/\" target=\"_blank\">Open in new tab</a>'))\n",
    "                    return HTMX(\"/\",port=port)\n",
    "                print(f\"Starter server on port {port}\")\n",
    "                Show = partial(HShow, app=app)\n",
    "                return app, rt, server, HShow, Show\n",
    "            \n",
    "if IN_NOTEBOOK: \n",
    "    app, rt = fast_app(pico=False, hdrs=Theme.blue.headers())\n",
    "    app, rt, server, HShow, Show = create_server(app, rt)\n",
    "else: \n",
    "    Show=noop"
   ]
  },
  {
   "cell_type": "markdown",
   "metadata": {},
   "source": [
    "## Text Style"
   ]
  },
  {
   "cell_type": "code",
   "execution_count": null,
   "metadata": {},
   "outputs": [],
   "source": [
    "#| export\n",
    "class TextT(VEnum):\n",
    "    'Text Styles from https://franken-ui.dev/docs/text'\n",
    "    def _generate_next_value_(name, start, count, last_values):\n",
    "        return str2ukcls('text', name)\n",
    "    \n",
    "    # Text Style\n",
    "    lead,meta, italic = auto(), auto(), auto()\n",
    "    # Text Size\n",
    "    small, default, large = auto(), 'uk-text', auto()\n",
    "    # Text Weight\n",
    "    light, normal, bold, lighter, bolder = auto(),auto(),auto(),auto(),auto()\n",
    "    # Text Transform\n",
    "    capitalize,uppercase, lowercase = auto(),auto(),auto()\n",
    "    # Text Decoration\n",
    "    decoration_none = auto()\n",
    "    # Text Color\n",
    "    muted,primary,secondary, success,warning, danger = auto(),auto(),auto(),auto(),auto(),auto()\n",
    "    # Text Alignment\n",
    "    left, right,center,justify = auto(), auto(), auto(), auto()\n",
    "    # Vertical Alignment\n",
    "    top,middle,bottom, baseline = auto(),auto(),auto(),auto()\n",
    "    \n",
    "    # Text Wrapping\n",
    "    truncate,break_,nowrap = auto(),auto(),auto()"
   ]
  },
  {
   "cell_type": "code",
   "execution_count": null,
   "metadata": {},
   "outputs": [],
   "source": [
    "# print(enum_to_markdown_table(TextT))"
   ]
  },
  {
   "cell_type": "code",
   "execution_count": null,
   "metadata": {},
   "outputs": [],
   "source": [
    "#| export\n",
    "class TextFont(Enum):\n",
    "    \"Combinations of TextT that are particularly useful\"\n",
    "    def __add__(self, other):   return stringify((self, other))\n",
    "    def __radd__(self, other):  return stringify((other, self)) \n",
    "    def __str__(self): return self.value\n",
    "    muted_sm = stringify((TextT.muted, TextT.small))\n",
    "    muted_lg = stringify((TextT.muted, TextT.large))\n",
    "    bold_sm = stringify((TextT.bold, TextT.small))\n",
    "    "
   ]
  },
  {
   "cell_type": "markdown",
   "metadata": {},
   "source": [
    "## Button"
   ]
  },
  {
   "cell_type": "code",
   "execution_count": null,
   "metadata": {},
   "outputs": [],
   "source": [
    "#| export\n",
    "class ButtonT(VEnum):\n",
    "    \"Options for styling Buttons\"\n",
    "    def _generate_next_value_(name, start, count, last_values): return str2ukcls('button', name)\n",
    "    default = auto()\n",
    "    primary = auto()\n",
    "    secondary = auto()\n",
    "    danger = auto()\n",
    "    text = auto()\n",
    "    link = auto()\n",
    "    ghost = auto()"
   ]
  },
  {
   "cell_type": "code",
   "execution_count": null,
   "metadata": {},
   "outputs": [],
   "source": [
    "#| export\n",
    "def Button(*c: Union[str, FT],\n",
    "           cls: Union[str, Enum]=ButtonT.default,\n",
    "           **kwargs\n",
    "          ) -> FT:\n",
    "    \"A Button with Styling\"\n",
    "    return fh.Button(*c, cls=('uk-button', stringify(cls)), type='button', **kwargs)"
   ]
  },
  {
   "cell_type": "code",
   "execution_count": null,
   "metadata": {},
   "outputs": [],
   "source": [
    "#| export\n",
    "def ButtonSubmit(*c: Union[str, FT],\n",
    "           cls: Union[str, Enum]=ButtonT.default,\n",
    "           **kwargs\n",
    "          ) -> FT:\n",
    "    \"A Button with Styling to be used for submitting forms\"\n",
    "    return fh.Button(*c, cls=('uk-button', stringify(cls)), type='submit', **kwargs)"
   ]
  },
  {
   "cell_type": "code",
   "execution_count": null,
   "metadata": {},
   "outputs": [
    {
     "data": {
      "text/html": [
       "<div>\n",
       "<button type=\"button\" class=\"uk-button uk-button-default\">Default Class</button><button type=\"button\" class=\"uk-button uk-button-primary\">Primary Class</button><button type=\"button\" class=\"uk-button uk-button-secondary\">Secondary Class</button><button type=\"button\" class=\"uk-button uk-button-danger\">Danger Class</button><button type=\"button\" class=\"uk-button uk-button-ghost\">Ghost Class</button><button type=\"button\" class=\"uk-button uk-button-link\">Link Class</button><button type=\"button\" class=\"uk-button uk-button-text\">Text Class</button></div>\n"
      ],
      "text/plain": [
       "<IPython.core.display.HTML object>"
      ]
     },
     "execution_count": null,
     "metadata": {},
     "output_type": "execute_result"
    }
   ],
   "source": [
    "show(Div(Button(\"Default Class\"),\n",
    "        Button(\"Primary Class\", cls=ButtonT.primary),\n",
    "        Button(\"Secondary Class\", cls=ButtonT.secondary),\n",
    "        Button(\"Danger Class\", cls=ButtonT.danger),\n",
    "        Button(\"Ghost Class\", cls=ButtonT.ghost),\n",
    "        Button(\"Link Class\", cls=ButtonT.link),\n",
    "        Button(\"Text Class\", cls=ButtonT.text),))"
   ]
  },
  {
   "cell_type": "markdown",
   "metadata": {},
   "source": [
    "## Headings\n",
    "\n",
    "> fh-frankenui provides FastTags that generate headings with the styles defined in the [FrankenUI Headings documentation](https://franken-ui.dev/docs/heading)."
   ]
  },
  {
   "cell_type": "code",
   "execution_count": null,
   "metadata": {},
   "outputs": [],
   "source": [
    "#| export\n",
    "def H1(*c:FT|str, cls:Enum|str|tuple=(), **kwargs)->FT: \n",
    "    \"A H1 with Styling\"\n",
    "    return fh.H1(*c, cls=('uk-h1',stringify(cls)), **kwargs)"
   ]
  },
  {
   "cell_type": "code",
   "execution_count": null,
   "metadata": {},
   "outputs": [],
   "source": [
    "#| export\n",
    "def H2(*c:FT|str, cls:Enum|str|tuple=(), **kwargs)->FT: \n",
    "    \"A H2 with Styling\"\n",
    "    return fh.H2(*c, cls=('uk-h2',stringify(cls)), **kwargs)"
   ]
  },
  {
   "cell_type": "code",
   "execution_count": null,
   "metadata": {},
   "outputs": [],
   "source": [
    "#| export\n",
    "def H3(*c:FT|str, cls:Enum|str|tuple=(), **kwargs)->FT: \n",
    "    \"A H3 with Styling\"\n",
    "    return fh.H3(*c, cls=('uk-h3',stringify(cls)), **kwargs)"
   ]
  },
  {
   "cell_type": "code",
   "execution_count": null,
   "metadata": {},
   "outputs": [],
   "source": [
    "#| export\n",
    "def H4(*c:FT|str, cls:Enum|str|tuple=(), **kwargs)->FT:\n",
    "    \"A H4 with Styling\"\n",
    "    return fh.H4(*c, cls=('uk-h4',stringify(cls)), **kwargs)"
   ]
  },
  {
   "cell_type": "code",
   "execution_count": null,
   "metadata": {},
   "outputs": [],
   "source": [
    "#| export\n",
    "def Main(*args, **kwargs): return Main(*args, **kwargs)"
   ]
  },
  {
   "cell_type": "code",
   "execution_count": null,
   "metadata": {},
   "outputs": [],
   "source": [
    "#| export\n",
    "def Titled(title:str=\"FastHTML app\", *args, cls=\"container\", **kwargs)->FT:\n",
    "    \"A H1 with Styling, whose title is also used in the page's title tag\"\n",
    "    return fh.Title(title), fh.Main(H1(title), *args, cls=cls, **kwargs)"
   ]
  },
  {
   "cell_type": "code",
   "execution_count": null,
   "metadata": {},
   "outputs": [
    {
     "data": {
      "text/html": [
       "<div>\n",
       "  <title>Titled</title>\n",
       "<main class=\"container\">    <h1 class=\"uk-h1 \">Titled</h1>\n",
       "</main>  <h1 class=\"uk-h1 \">Heading 1 (H1)</h1>\n",
       "  <h2 class=\"uk-h2 \">Heading 2 (H2)</h2>\n",
       "  <h3 class=\"uk-h3 \">Heading 3 (H3)</h3>\n",
       "  <h4 class=\"uk-h4 \">Heading 4 (H4)</h4>\n",
       "</div>\n"
      ],
      "text/plain": [
       "<IPython.core.display.HTML object>"
      ]
     },
     "execution_count": null,
     "metadata": {},
     "output_type": "execute_result"
    }
   ],
   "source": [
    "show(Div(\n",
    "    Titled(\"Titled\"),\n",
    "    H1(\"Heading 1 (H1)\"),\n",
    "    H2(\"Heading 2 (H2)\"),\n",
    "    H3(\"Heading 3 (H3)\"),\n",
    "    H4(\"Heading 4 (H4)\")))"
   ]
  },
  {
   "cell_type": "markdown",
   "metadata": {},
   "source": [
    "## Dividers"
   ]
  },
  {
   "cell_type": "code",
   "execution_count": null,
   "metadata": {},
   "outputs": [],
   "source": [
    "#| export\n",
    "class DividerT(VEnum):\n",
    "    \" Divider Styles from https://franken-ui.dev/docs/divider\"\n",
    "    def _generate_next_value_(name, start, count, last_values): return str2ukcls('divider', name)\n",
    "    icon=auto()\n",
    "    small=auto()\n",
    "    vertical=auto()"
   ]
  },
  {
   "cell_type": "code",
   "execution_count": null,
   "metadata": {},
   "outputs": [],
   "source": [
    "#| export\n",
    "def Divider(*args, cls=('my-4', DividerT.icon), **kwargs):\n",
    "    \"Divider with default styling and margin\"\n",
    "    cls = stringify(cls)\n",
    "    container = Div if 'uk-divider-vertical' in cls else Hr\n",
    "    return container(*args, cls=cls, **kwargs)"
   ]
  },
  {
   "cell_type": "code",
   "execution_count": null,
   "metadata": {},
   "outputs": [],
   "source": [
    "#| export\n",
    "def UkHSplit(*c, cls=(), line_cls=(), text_cls=()):\n",
    "    # Divider FrankenUI stuff\n",
    "    cls, line_cls, text_cls = map(stringify,(cls, line_cls, text_cls))\n",
    "    return Div(cls='relative ' + cls)(\n",
    "        Div(cls=\"absolute inset-0 flex items-center \" + line_cls)(Span(cls=\"w-full border-t border-border\")),\n",
    "        Div(cls=\"relative flex justify-center \" + text_cls)(Span(cls=\"bg-background px-2 \")(*c)))"
   ]
  },
  {
   "cell_type": "code",
   "execution_count": null,
   "metadata": {},
   "outputs": [
    {
     "data": {
      "text/html": [
       "<div class=\"relative \">\n",
       "  <div class=\"absolute inset-0 flex items-center \">\n",
       "<span class=\"w-full border-t border-border\"></span>  </div>\n",
       "  <div class=\"relative flex justify-center \">\n",
       "<span class=\"bg-background px-2 \"></span>  </div>\n",
       "</div>\n"
      ],
      "text/plain": [
       "<IPython.core.display.HTML object>"
      ]
     },
     "execution_count": null,
     "metadata": {},
     "output_type": "execute_result"
    }
   ],
   "source": [
    "show(UkHSplit())"
   ]
  },
  {
   "cell_type": "code",
   "execution_count": null,
   "metadata": {},
   "outputs": [],
   "source": [
    "#| export\n",
    "def UkHLine(lwidth=2, y_space=4): return Div(cls=f\"my-{y_space} h-[{lwidth}px] w-full bg-secondary\")"
   ]
  },
  {
   "cell_type": "code",
   "execution_count": null,
   "metadata": {},
   "outputs": [
    {
     "data": {
      "text/html": [
       "<div class=\"my-4 h-[2px] w-full bg-secondary\"></div>\n"
      ],
      "text/plain": [
       "<IPython.core.display.HTML object>"
      ]
     },
     "execution_count": null,
     "metadata": {},
     "output_type": "execute_result"
    }
   ],
   "source": [
    "show(UkHLine())"
   ]
  },
  {
   "cell_type": "markdown",
   "metadata": {},
   "source": [
    "## Articles & Containers & Sections"
   ]
  },
  {
   "cell_type": "code",
   "execution_count": null,
   "metadata": {},
   "outputs": [],
   "source": [
    "#| export\n",
    "def Article(*c, cls=(), **kwargs):\n",
    "    return fh.Article(*c, cls=('uk-article',stringify(cls)), **kwargs)\n",
    "\n",
    "def ArticleTitle(*c, cls=(), **kwargs):\n",
    "    return H1(*c, cls=('uk-article-title',stringify(cls)), **kwargs)\n",
    "\n",
    "def ArticleMeta(*c, cls=(), **kwargs):\n",
    "    return P(*c, cls=('uk-article-meta',stringify(cls)), **kwargs)"
   ]
  },
  {
   "cell_type": "code",
   "execution_count": null,
   "metadata": {},
   "outputs": [
    {
     "data": {
      "text/html": [
       "<article class=\"uk-article \">\n",
       "  <h1 class=\"uk-h1 uk-article-title \">Article Title</h1>\n",
       "  <p class=\"uk-article-meta \">By: John Doe</p>\n",
       "</article>\n"
      ],
      "text/plain": [
       "<IPython.core.display.HTML object>"
      ]
     },
     "execution_count": null,
     "metadata": {},
     "output_type": "execute_result"
    }
   ],
   "source": [
    "show(Article(ArticleTitle(\"Article Title\"), ArticleMeta(\"By: John Doe\")))"
   ]
  },
  {
   "cell_type": "code",
   "execution_count": null,
   "metadata": {},
   "outputs": [],
   "source": [
    "#| export\n",
    "class ContainerT(VEnum):\n",
    "    'Max width container sizes from https://franken-ui.dev/docs/container'\n",
    "    def _generate_next_value_(name, start, count, last_values): return str2ukcls('container', name)\n",
    "    xsmall = auto()\n",
    "    small = auto()\n",
    "    large = auto()\n",
    "    xlarge = auto()\n",
    "    expand = auto()"
   ]
  },
  {
   "cell_type": "code",
   "execution_count": null,
   "metadata": {},
   "outputs": [],
   "source": [
    "#| export\n",
    "def DivContainer(*c, cls=(), **kwargs): \n",
    "    \"A Div to be used as a container that often wraps large sections or a page of content\"\n",
    "    return Div(*c, cls=('uk-container',stringify(cls)), **kwargs)"
   ]
  },
  {
   "cell_type": "code",
   "execution_count": null,
   "metadata": {},
   "outputs": [
    {
     "data": {
      "text/html": [
       "<div class=\"uk-container uk-container-xsmall\" style=\"background-color: #e6f2ff; padding: 20px; border-radius: 5px;\">This is a container with a custom background color.</div>\n"
      ],
      "text/plain": [
       "<IPython.core.display.HTML object>"
      ]
     },
     "execution_count": null,
     "metadata": {},
     "output_type": "execute_result"
    }
   ],
   "source": [
    "show(DivContainer(\n",
    "    \"This is a container with a custom background color.\",\n",
    "    cls=ContainerT.xsmall,\n",
    "    style=\"background-color: #e6f2ff; padding: 20px; border-radius: 5px;\"\n",
    "))"
   ]
  },
  {
   "cell_type": "code",
   "execution_count": null,
   "metadata": {},
   "outputs": [],
   "source": [
    "#| export\n",
    "class SectionT(VEnum):\n",
    "    'Section styles from https://franken-ui.dev/docs/section'\n",
    "    def _generate_next_value_(name, start, count, last_values): return str2ukcls('section', name)\n",
    "    default = auto()\n",
    "    muted = auto()\n",
    "    primary = auto()\n",
    "    secondary = auto()\n",
    "    xsmall = auto()\n",
    "    small = auto()\n",
    "    large = auto()\n",
    "    xlarge = auto()\n",
    "    remove_vertical = auto()"
   ]
  },
  {
   "cell_type": "code",
   "execution_count": null,
   "metadata": {},
   "outputs": [],
   "source": [
    "# Markdown(enum_to_markdown_table(SectionT))"
   ]
  },
  {
   "cell_type": "code",
   "execution_count": null,
   "metadata": {},
   "outputs": [],
   "source": [
    "#| export\n",
    "def Section(*c, cls=(), **kwargs):\n",
    "    return fh.Div(*c, cls=('uk-section',stringify(cls)), **kwargs)"
   ]
  },
  {
   "cell_type": "markdown",
   "metadata": {},
   "source": [
    "## Forms & Inputs"
   ]
  },
  {
   "cell_type": "code",
   "execution_count": null,
   "metadata": {},
   "outputs": [],
   "source": [
    "#|export\n",
    "def Fieldset(*c, cls=(), **kwargs): \n",
    "    return fh.Fieldset(*c, cls=('uk-fieldset',stringify(cls)), **kwargs)\n",
    "\n",
    "def Legend(*c, cls=(), **kwargs): \n",
    "    return fh.Legend(*c, cls=('uk-legend',stringify(cls)), **kwargs)"
   ]
  },
  {
   "cell_type": "code",
   "execution_count": null,
   "metadata": {},
   "outputs": [],
   "source": [
    "#| export\n",
    "def Input(*c, cls=(), **kwargs):      \n",
    "    return fh.Input(*c, cls=('uk-input',stringify(cls)), **kwargs)\n",
    "def Select(*option, cls=(), **kwargs):\n",
    "    return fh.Select(*option, cls=('uk-select',stringify(cls)), **kwargs)\n",
    "def Radio(*c, cls=(), **kwargs):      \n",
    "    return fh.Input(*c, cls=('uk-radio',stringify(cls)), type='radio', **kwargs)\n",
    "def CheckboxX(*c, cls=(), **kwargs):  \n",
    "    return fh.Input(*c, cls=('uk-checkbox',stringify(cls)), type='checkbox', **kwargs)\n",
    "def Range(*c, cls=(), **kwargs):      \n",
    "    return fh.Input(*c, cls=('uk-range',stringify(cls)), type='range', **kwargs)\n",
    "def Toggle_switch(*c, cls=(), **kwargs):\n",
    "    return fh.Input(*c, cls=('uk-toggle-switch',stringify(cls)), type='checkbox', **kwargs)\n",
    "def TextArea(*c, cls=(), **kwargs):            \n",
    "    return fh.Textarea(*c, cls=('uk-textarea',stringify(cls)), **kwargs)\n",
    "def Switch(*c, cls='min-w-9', **kwargs):              \n",
    "    return fh.Input(*c, cls=('uk-toggle-switch',stringify(cls)), type='checkbox', **kwargs)"
   ]
  },
  {
   "cell_type": "code",
   "execution_count": null,
   "metadata": {},
   "outputs": [],
   "source": [
    "#|export\n",
    "def FormLabel(*c, cls=(), **kwargs): return fh.Label(*c, cls=('uk-form-label',stringify(cls)), **kwargs)"
   ]
  },
  {
   "cell_type": "code",
   "execution_count": null,
   "metadata": {},
   "outputs": [],
   "source": []
  },
  {
   "cell_type": "code",
   "execution_count": null,
   "metadata": {},
   "outputs": [
    {
     "data": {
      "text/html": [
       "<form class=\"space-y-6\"><fieldset class=\"uk-fieldset space-x-4\"><legend class=\"uk-legend \">Fieldset Legend 1</legend><label class=\"uk-form-label \">Input:       <input class=\"uk-input \">\n",
       "</label><label class=\"uk-form-label \">Select: <select class=\"uk-select \"><option>Option 1</option><option>Option 2</option></select></label><label class=\"uk-form-label \">Radio:       <input type=\"radio\" class=\"uk-radio \">\n",
       "</label><label class=\"uk-form-label \">Checkbox:       <input type=\"checkbox\" class=\"uk-checkbox \">\n",
       "</label><label class=\"uk-form-label \">Button: <button type=\"button\" class=\"uk-button uk-button-default\">Click me</button></label></fieldset><fieldset class=\"uk-fieldset space-x-4\"><legend class=\"uk-legend \">Fieldset Legend 2</legend><label class=\"uk-form-label \">Range:       <input type=\"range\" class=\"uk-range \">\n",
       "</label><label class=\"uk-form-label \">Toggle switch:       <input type=\"checkbox\" class=\"uk-toggle-switch \">\n",
       "</label><label class=\"uk-form-label \">TextArea: <textarea class=\"uk-textarea \"></textarea></label><label class=\"uk-form-label \">Switch:       <input type=\"checkbox\" class=\"uk-toggle-switch min-w-9\">\n",
       "</label></fieldset></form>"
      ],
      "text/plain": [
       "<IPython.core.display.HTML object>"
      ]
     },
     "execution_count": null,
     "metadata": {},
     "output_type": "execute_result"
    }
   ],
   "source": [
    "show(Form(\n",
    "    Fieldset(\n",
    "        Legend(\"Fieldset Legend 1\"),\n",
    "        FormLabel(\"Input: \", Input()),    \n",
    "        FormLabel(\"Select: \", Select(fh.Option(\"Option 1\"), fh.Option(\"Option 2\"))),\n",
    "        FormLabel(\"Radio: \", Radio()),\n",
    "        FormLabel(\"Checkbox: \", CheckboxX()),\n",
    "        FormLabel(\"Button: \", Button(\"Click me\")),\n",
    "        cls='space-x-4'),   \n",
    "    Fieldset(\n",
    "        Legend(\"Fieldset Legend 2\"),        \n",
    "        FormLabel(\"Range: \", Range()),\n",
    "        FormLabel(\"Toggle switch: \", Toggle_switch()),\n",
    "        FormLabel(\"TextArea: \", TextArea()),\n",
    "        FormLabel(\"Switch: \", Switch()),\n",
    "        cls='space-x-4'),   \n",
    "    cls=\"space-y-6\"\n",
    "))"
   ]
  },
  {
   "cell_type": "code",
   "execution_count": null,
   "metadata": {},
   "outputs": [],
   "source": [
    "#| export\n",
    "class LabelT(VEnum):\n",
    "    def _generate_next_value_(name, start, count, last_values): return str2ukcls('label', name)\n",
    "    primary = auto()\n",
    "    secondary = auto()\n",
    "    danger = auto()"
   ]
  },
  {
   "cell_type": "code",
   "execution_count": null,
   "metadata": {},
   "outputs": [],
   "source": [
    "#| export\n",
    "def Label(*c, cls=(), **kwargs):\n",
    "    \"FrankenUI labels, which look like pills\"\n",
    "    return fh.Label(*c, cls=('uk-label',stringify(cls)), **kwargs)"
   ]
  },
  {
   "cell_type": "code",
   "execution_count": null,
   "metadata": {},
   "outputs": [
    {
     "data": {
      "text/html": [
       "<div>\n",
       "<label class=\"uk-label \">Default</label><label class=\"uk-label uk-label-primary\">Primary</label><label class=\"uk-label uk-label-secondary\">Secondary</label><label class=\"uk-label uk-label-danger\">Default</label></div>\n"
      ],
      "text/plain": [
       "<IPython.core.display.HTML object>"
      ]
     },
     "execution_count": null,
     "metadata": {},
     "output_type": "execute_result"
    }
   ],
   "source": [
    "show(Div(\n",
    "    Label(\"Default\"),\n",
    "    Label(\"Primary\",cls=LabelT.primary),\n",
    "    Label(\"Secondary\",cls=LabelT.secondary),\n",
    "    Label(\"Default\",cls=LabelT.danger),\n",
    "))"
   ]
  },
  {
   "cell_type": "code",
   "execution_count": null,
   "metadata": {},
   "outputs": [],
   "source": [
    "#| export\n",
    "def UkFormSection(title, description, *c, button_txt='Update', outer_margin=6, inner_margin=6):\n",
    "    return Div(cls=f'space-y-{inner_margin} py-{outer_margin}')(\n",
    "        Div(H3(title), P(description, cls=TextFont.muted_sm)),\n",
    "        UkHSplit(), *c,\n",
    "        Div(Button(button_txt, cls=ButtonT.primary)) if button_txt else None)"
   ]
  },
  {
   "cell_type": "markdown",
   "metadata": {},
   "source": [
    "## Labeled Inputs"
   ]
  },
  {
   "cell_type": "markdown",
   "metadata": {},
   "source": [
    "Inputs of various types often go with a label.  Because of this we created functions to do this for you along with properly linking the `for` attribute from the lable to the input.  We also have some nice defaults, such as putting a little spacing between the label and the input"
   ]
  },
  {
   "cell_type": "code",
   "execution_count": null,
   "metadata": {},
   "outputs": [],
   "source": [
    "#| export\n",
    "def GenericLabelInput(\n",
    "               label:str|FT,\n",
    "               lbl_cls='',\n",
    "               input_cls='',\n",
    "               container=Div, \n",
    "               cls='',\n",
    "               id='',\n",
    "               input_fn=noop, \n",
    "                **kwargs\n",
    "                ):\n",
    "    \"`Div(Label,Input)` component with Uk styling injected appropriately. Generally you should higher level API, such as `UkTextArea` which is created for you in this library\"\n",
    "    if isinstance(label, str) or label.tag != 'label': \n",
    "        label = FormLabel(cls=stringify(lbl_cls), fr=id)(label)\n",
    "    inp = input_fn(id=id, cls=stringify(input_cls), **kwargs)        \n",
    "    if container: return container(label, inp, cls=stringify(cls))\n",
    "    return label, inp"
   ]
  },
  {
   "cell_type": "code",
   "execution_count": null,
   "metadata": {},
   "outputs": [],
   "source": [
    "#| export\n",
    "@delegates(GenericLabelInput, but=['input_fn','cls'])\n",
    "def LabelInput(*args, cls='space-y-2', **kwargs): \n",
    "    \"A Label and Input pair that provides default spacing and links/names them based on id\"\n",
    "    return GenericLabelInput(*args, cls=stringify(cls),input_fn=Input, **kwargs)"
   ]
  },
  {
   "cell_type": "code",
   "execution_count": null,
   "metadata": {},
   "outputs": [],
   "source": [
    "#| export\n",
    "def LabelRadio(label:str|FT,\n",
    "               lbl_cls='',\n",
    "               input_cls='',\n",
    "               container=Div, \n",
    "               cls='flex items-center space-x-2',\n",
    "               id='',\n",
    "                **kwargs\n",
    "                ):\n",
    "    \"A Label and Radio pair that provides default spacing and links/names them based on id\"\n",
    "    if isinstance(label, str) or label.tag != 'label': \n",
    "        label = FormLabel(cls=stringify(lbl_cls), fr=id)(label)\n",
    "    inp = Radio(id=id, cls=stringify(input_cls), **kwargs)        \n",
    "    if container: return container(inp, label, cls=stringify(cls))\n",
    "    return inp, label"
   ]
  },
  {
   "cell_type": "code",
   "execution_count": null,
   "metadata": {},
   "outputs": [
    {
     "data": {
      "text/html": [
       "<div class=\"flex items-center space-x-2\">\n",
       "  <input type=\"radio\" id=\"myid\" class=\"uk-radio \" name=\"myid\">\n",
       "<label for=\"myid\" class=\"uk-form-label \">My Label</label></div>\n"
      ],
      "text/plain": [
       "<IPython.core.display.HTML object>"
      ]
     },
     "execution_count": null,
     "metadata": {},
     "output_type": "execute_result"
    }
   ],
   "source": [
    "show(LabelRadio('My Label',id='myid'))"
   ]
  },
  {
   "cell_type": "code",
   "execution_count": null,
   "metadata": {},
   "outputs": [],
   "source": [
    "#| export\n",
    "def LabelCheckboxX(label:str|FT,\n",
    "               lbl_cls='',\n",
    "               input_cls='',\n",
    "               container=Div, \n",
    "               cls='flex items-center space-x-2',\n",
    "               id='',\n",
    "                **kwargs\n",
    "                ):\n",
    "    \"`Div(Label,Input)` component with Uk styling injected appropriately. Generally you should higher level API, such as `UkTextArea` which is created for you in this library\"\n",
    "    if isinstance(label, str) or label.tag != 'label': \n",
    "        label = FormLabel(cls=stringify(lbl_cls), fr=id)(label)\n",
    "    inp = CheckboxX(id=id, cls=stringify(input_cls), **kwargs)        \n",
    "    if container: return container(inp, label, cls=stringify(cls))\n",
    "    return inp, label"
   ]
  },
  {
   "cell_type": "code",
   "execution_count": null,
   "metadata": {},
   "outputs": [],
   "source": [
    "#| export\n",
    "# @delegates(GenericLabelInput, but=['input_fn','cls'])\n",
    "# def LabelCheckboxX(*args, cls='space-x-2', **kwargs): return GenericLabelInput(*args, cls=stringify(cls), input_fn=CheckboxX, **kwargs)"
   ]
  },
  {
   "cell_type": "code",
   "execution_count": null,
   "metadata": {},
   "outputs": [
    {
     "data": {
      "text/html": [
       "<div class=\"flex items-center space-x-2\">\n",
       "  <input type=\"checkbox\" id=\"myid\" class=\"uk-checkbox \" name=\"myid\">\n",
       "<label for=\"myid\" class=\"uk-form-label \">My Label</label></div>\n"
      ],
      "text/plain": [
       "<IPython.core.display.HTML object>"
      ]
     },
     "execution_count": null,
     "metadata": {},
     "output_type": "execute_result"
    }
   ],
   "source": [
    "show(LabelCheckboxX('My Label',id='myid'))"
   ]
  },
  {
   "cell_type": "code",
   "execution_count": null,
   "metadata": {},
   "outputs": [],
   "source": [
    "#| export\n",
    "@delegates(GenericLabelInput, but=['input_fn','cls'])\n",
    "def LabelRange(*args, cls='space-y-2', **kwargs): return GenericLabelInput(*args, cls=stringify(cls), input_fn=Range, **kwargs)"
   ]
  },
  {
   "cell_type": "code",
   "execution_count": null,
   "metadata": {},
   "outputs": [
    {
     "data": {
      "text/html": [
       "<div class=\"space-y-2\">\n",
       "<label for=\"myid\" class=\"uk-form-label \">My Label</label>  <input type=\"range\" id=\"myid\" class=\"uk-range \" name=\"myid\">\n",
       "</div>\n"
      ],
      "text/plain": [
       "<IPython.core.display.HTML object>"
      ]
     },
     "execution_count": null,
     "metadata": {},
     "output_type": "execute_result"
    }
   ],
   "source": [
    "show(LabelRange('My Label',id='myid'))"
   ]
  },
  {
   "cell_type": "code",
   "execution_count": null,
   "metadata": {},
   "outputs": [],
   "source": [
    "#| export\n",
    "@delegates(GenericLabelInput, but=['input_fn','cls'])\n",
    "def LabelTextArea(*args, cls='space-y-2', **kwargs): return GenericLabelInput(*args, cls=stringify(cls), input_fn=TextArea, **kwargs)"
   ]
  },
  {
   "cell_type": "code",
   "execution_count": null,
   "metadata": {},
   "outputs": [
    {
     "data": {
      "text/html": [
       "<form class=\"space-y-2\"><label class=\"uk-form-label \">mylabel</label><textarea class=\"uk-textarea \"></textarea></form>"
      ],
      "text/plain": [
       "<IPython.core.display.HTML object>"
      ]
     },
     "execution_count": null,
     "metadata": {},
     "output_type": "execute_result"
    }
   ],
   "source": [
    "show(LabelTextArea('mylabel',container=Form))"
   ]
  },
  {
   "cell_type": "code",
   "execution_count": null,
   "metadata": {},
   "outputs": [],
   "source": [
    "#| export\n",
    "@delegates(GenericLabelInput, but=['input_fn','cls'])\n",
    "def LabelSwitch(*args, cls='space-x-2', **kwargs): return GenericLabelInput(*args, cls=stringify(cls), input_fn=Toggle_switch, **kwargs)"
   ]
  },
  {
   "cell_type": "code",
   "execution_count": null,
   "metadata": {},
   "outputs": [
    {
     "data": {
      "text/html": [
       "<div class=\"space-x-2\">\n",
       "<label for=\"myid\" class=\"uk-form-label \">mylabel</label>  <input type=\"checkbox\" id=\"myid\" class=\"uk-toggle-switch \" name=\"myid\">\n",
       "</div>\n"
      ],
      "text/plain": [
       "<IPython.core.display.HTML object>"
      ]
     },
     "execution_count": null,
     "metadata": {},
     "output_type": "execute_result"
    }
   ],
   "source": [
    "show(LabelSwitch('mylabel',id='myid'))"
   ]
  },
  {
   "cell_type": "code",
   "execution_count": null,
   "metadata": {},
   "outputs": [],
   "source": [
    "#| export\n",
    "def LabelSelect(*option,\n",
    "               label:str|FT,\n",
    "               lbl_cls='',\n",
    "               input_cls='',\n",
    "               container=Div, \n",
    "               cls='space-y-2',\n",
    "               id='',\n",
    "                **kwargs\n",
    "                ):\n",
    "    \"`Div(Label,Input)` component with Uk styling injected appropriately. Generally you should higher level API, such as `UkTextArea` which is created for you in this library\"\n",
    "    if isinstance(label, str) or label.tag != 'label': \n",
    "        label = FormLabel(lbl_cls=stringify(lbl_cls), fr=id)(label)\n",
    "    inp = Select(*option, id=id, cls=stringify(input_cls), **kwargs)        \n",
    "    if container: return container(label, inp, cls=stringify(cls))\n",
    "    return label, inp"
   ]
  },
  {
   "cell_type": "code",
   "execution_count": null,
   "metadata": {},
   "outputs": [
    {
     "data": {
      "text/html": [
       "<div class=\"space-y-2\">\n",
       "<label for=\"myid\" class=\"uk-form-label \">My Label</label><select id=\"myid\" class=\"uk-select \" name=\"myid\"><option>1</option><option>2</option></select></div>\n"
      ],
      "text/plain": [
       "<IPython.core.display.HTML object>"
      ]
     },
     "execution_count": null,
     "metadata": {},
     "output_type": "execute_result"
    }
   ],
   "source": [
    "show(LabelSelect(Option(1),Option(2),label='My Label', id='myid'))"
   ]
  },
  {
   "cell_type": "code",
   "execution_count": null,
   "metadata": {},
   "outputs": [],
   "source": [
    "#| export\n",
    "def Options(*c,                    # Content for an `Option`\n",
    "            selected_idx:int=None, # Index location of selected `Option`\n",
    "            disabled_idxs:set=None # Idex locations of disabled `Options`\n",
    "           ):\n",
    "    \"Helper function to wrap things into `Option`s for use in `UkSelect`\"\n",
    "    return [fh.Option(o,selected=i==selected_idx, disabled=disabled_idxs and i in disabled_idxs) for i,o in enumerate(c)]"
   ]
  },
  {
   "cell_type": "code",
   "execution_count": null,
   "metadata": {},
   "outputs": [],
   "source": [
    "# list(map(to_xml,Options('option1','option2','option3', selected_idx=1, disabled_idxs={0,2})))"
   ]
  },
  {
   "cell_type": "markdown",
   "metadata": {},
   "source": [
    "UK Select is a custom select that has more functionality than the basic select.  One particularly useful feature is the `searchable`, which allows the user to type to search for options in the Select."
   ]
  },
  {
   "cell_type": "code",
   "execution_count": null,
   "metadata": {},
   "outputs": [],
   "source": [
    "#| export\n",
    "def UkSelect(*option,            # Options for the select dropdown (can use `Options` helper function to create)\n",
    "             inp_cls=(),         # Additional classes for the select input\n",
    "             cls=('space-y-2',), # Classes for the outer div\n",
    "             id=\"\",              # ID for the select input\n",
    "             name=\"\",            # Name attribute for the select input\n",
    "             placeholder=\"\",     # Placeholder text for the select input\n",
    "             searchable=False,   # Whether the select should be searchable\n",
    "             **kwargs):          # Additional arguments passed to Uk_select\n",
    "    \"Creates a select dropdown with uk styling\"\n",
    "    inp_cls, cls = map(stringify, (inp_cls, cls))\n",
    "    select = Uk_select(*option, cls=inp_cls, uk_cloak=True, id=id, \n",
    "                       name=name, placeholder=placeholder, searchable=searchable, **kwargs)\n",
    "    return Div(cls=cls)(select)"
   ]
  },
  {
   "cell_type": "code",
   "execution_count": null,
   "metadata": {},
   "outputs": [],
   "source": [
    "#| export\n",
    "def LabelUkSelect(*option,            # Options for the select dropdown (can use `Options` helper function to create)\n",
    "             label=(),           # String or FT component for the label\n",
    "             lbl_cls=(),         # Additional classes for the label\n",
    "             inp_cls=(),         # Additional classes for the select input\n",
    "             cls=('space-y-2',), # Classes for the outer div\n",
    "             id=\"\",              # ID for the select input\n",
    "             name=\"\",            # Name attribute for the select input\n",
    "             placeholder=\"\",     # Placeholder text for the select input\n",
    "             searchable=False,   # Whether the select should be searchable\n",
    "             **kwargs):          # Additional arguments passed to Uk_select\n",
    "    \"Creates a select dropdown with uk styling\"\n",
    "    lbl_cls, inp_cls, cls = map(stringify, (lbl_cls, inp_cls, cls))\n",
    "    if label: \n",
    "        lbl = FormLabel(cls=f'{lbl_cls}', fr=id)(label) \n",
    "    select = Uk_select(*option, cls=inp_cls, uk_cloak=True, id=id, \n",
    "                       name=name, placeholder=placeholder, searchable=searchable, **kwargs)\n",
    "    return Div(cls=cls)(lbl, select) if label else Div(cls=cls)(select)"
   ]
  },
  {
   "cell_type": "code",
   "execution_count": null,
   "metadata": {},
   "outputs": [
    {
     "data": {
      "text/html": [
       "<div class=\"space-y-2\">\n",
       "<uk-select uk-cloak searchable label=\"My Label\" id=\"myid\"><option>1</option><option>2</option></uk-select></div>\n"
      ],
      "text/plain": [
       "<IPython.core.display.HTML object>"
      ]
     },
     "execution_count": null,
     "metadata": {},
     "output_type": "execute_result"
    }
   ],
   "source": [
    "show(UkSelect(Option(1),Option(2),label='My Label', id='myid', searchable=True))"
   ]
  },
  {
   "cell_type": "markdown",
   "metadata": {},
   "source": [
    "## Links"
   ]
  },
  {
   "cell_type": "code",
   "execution_count": null,
   "metadata": {},
   "outputs": [],
   "source": [
    "#| export\n",
    "class AT(VEnum):\n",
    "    'Link styles from https://franken-ui.dev/docs/link'\n",
    "    def _generate_next_value_(name, start, count, last_values): return str2ukcls('link', name)\n",
    "    muted = auto()\n",
    "    text = auto()\n",
    "    reset = auto()"
   ]
  },
  {
   "cell_type": "code",
   "execution_count": null,
   "metadata": {},
   "outputs": [],
   "source": [
    "#| export\n",
    "# def Link(*c, cls=(), **kwargs):  \n",
    "#     return fh.A(*c, cls=('uk-link',stringify(cls)), **kwargs)"
   ]
  },
  {
   "cell_type": "code",
   "execution_count": null,
   "metadata": {},
   "outputs": [
    {
     "data": {
      "text/html": [
       "<div class=\"space-x-4\">\n",
       "Default Link<a class=\"uk-link-muted\">Muted Link</a><a class=\"uk-link-text\">Text Link</a><a class=\"uk-link-reset\">Reset Link</a></div>\n"
      ],
      "text/plain": [
       "<IPython.core.display.HTML object>"
      ]
     },
     "execution_count": null,
     "metadata": {},
     "output_type": "execute_result"
    }
   ],
   "source": [
    "show(Div(cls='space-x-4')(('Default Link'),\n",
    "                     A('Muted Link', cls=AT.muted),\n",
    "                     A('Text Link', cls=AT.text),\n",
    "                     A('Reset Link', cls=AT.reset)))"
   ]
  },
  {
   "cell_type": "markdown",
   "metadata": {},
   "source": [
    "## Lists"
   ]
  },
  {
   "cell_type": "code",
   "execution_count": null,
   "metadata": {},
   "outputs": [],
   "source": [
    "#| export\n",
    "class ListT(VEnum):\n",
    "    'List styles from https://franken-ui.dev/docs/list'\n",
    "    def _generate_next_value_(name, start, count, last_values): return str2ukcls('list', name)\n",
    "    disc = auto()\n",
    "    circle = auto()\n",
    "    square = auto()\n",
    "    decimal = auto()\n",
    "    hyphen = auto()\n",
    "    muted = auto()\n",
    "    primary = auto()\n",
    "    secondary = auto()\n",
    "    bullet = auto()\n",
    "    divider = auto()\n",
    "    striped = auto()"
   ]
  },
  {
   "cell_type": "code",
   "execution_count": null,
   "metadata": {},
   "outputs": [],
   "source": [
    "#| export\n",
    "def List(*c, cls=(), **kwargs): return fh.Ul(*c, cls=('uk-list',stringify(cls)), **kwargs)"
   ]
  },
  {
   "cell_type": "code",
   "execution_count": null,
   "metadata": {},
   "outputs": [
    {
     "data": {
      "text/html": [
       "<div class=\"grid grid-cols-4\">\n",
       "  <div>\n",
       "    <h4 class=\"uk-h4 \">disc List:</h4>\n",
       "    <ul class=\"uk-list uk-list-disc\">\n",
       "      <li>Item 1</li>\n",
       "      <li>Item 2</li>\n",
       "    </ul>\n",
       "  </div>\n",
       "  <div>\n",
       "    <h4 class=\"uk-h4 \">circle List:</h4>\n",
       "    <ul class=\"uk-list uk-list-circle\">\n",
       "      <li>Item 1</li>\n",
       "      <li>Item 2</li>\n",
       "    </ul>\n",
       "  </div>\n",
       "  <div>\n",
       "    <h4 class=\"uk-h4 \">square List:</h4>\n",
       "    <ul class=\"uk-list uk-list-square\">\n",
       "      <li>Item 1</li>\n",
       "      <li>Item 2</li>\n",
       "    </ul>\n",
       "  </div>\n",
       "  <div>\n",
       "    <h4 class=\"uk-h4 \">decimal List:</h4>\n",
       "    <ul class=\"uk-list uk-list-decimal\">\n",
       "      <li>Item 1</li>\n",
       "      <li>Item 2</li>\n",
       "    </ul>\n",
       "  </div>\n",
       "  <div>\n",
       "    <h4 class=\"uk-h4 \">hyphen List:</h4>\n",
       "    <ul class=\"uk-list uk-list-hyphen\">\n",
       "      <li>Item 1</li>\n",
       "      <li>Item 2</li>\n",
       "    </ul>\n",
       "  </div>\n",
       "  <div>\n",
       "    <h4 class=\"uk-h4 \">muted List:</h4>\n",
       "    <ul class=\"uk-list uk-list-muted\">\n",
       "      <li>Item 1</li>\n",
       "      <li>Item 2</li>\n",
       "    </ul>\n",
       "  </div>\n",
       "  <div>\n",
       "    <h4 class=\"uk-h4 \">primary List:</h4>\n",
       "    <ul class=\"uk-list uk-list-primary\">\n",
       "      <li>Item 1</li>\n",
       "      <li>Item 2</li>\n",
       "    </ul>\n",
       "  </div>\n",
       "  <div>\n",
       "    <h4 class=\"uk-h4 \">secondary List:</h4>\n",
       "    <ul class=\"uk-list uk-list-secondary\">\n",
       "      <li>Item 1</li>\n",
       "      <li>Item 2</li>\n",
       "    </ul>\n",
       "  </div>\n",
       "  <div>\n",
       "    <h4 class=\"uk-h4 \">bullet List:</h4>\n",
       "    <ul class=\"uk-list uk-list-bullet\">\n",
       "      <li>Item 1</li>\n",
       "      <li>Item 2</li>\n",
       "    </ul>\n",
       "  </div>\n",
       "  <div>\n",
       "    <h4 class=\"uk-h4 \">divider List:</h4>\n",
       "    <ul class=\"uk-list uk-list-divider\">\n",
       "      <li>Item 1</li>\n",
       "      <li>Item 2</li>\n",
       "    </ul>\n",
       "  </div>\n",
       "  <div>\n",
       "    <h4 class=\"uk-h4 \">striped List:</h4>\n",
       "    <ul class=\"uk-list uk-list-striped\">\n",
       "      <li>Item 1</li>\n",
       "      <li>Item 2</li>\n",
       "    </ul>\n",
       "  </div>\n",
       "</div>\n"
      ],
      "text/plain": [
       "<IPython.core.display.HTML object>"
      ]
     },
     "execution_count": null,
     "metadata": {},
     "output_type": "execute_result"
    }
   ],
   "source": [
    "list_options = [(style,str(cls)) for style,cls in ListT.__members__.items()]\n",
    "def create_list(style, cls): return List(fh.Li(\"Item 1\"), fh.Li(\"Item 2\"), cls=cls)\n",
    "\n",
    "lists = [Div(H4(f\"{style} List:\"), create_list(style, cls)) for style, cls in list_options]\n",
    "show(Div(*lists, cls=\"grid grid-cols-4\"))"
   ]
  },
  {
   "cell_type": "markdown",
   "metadata": {},
   "source": [
    "## Modal"
   ]
  },
  {
   "cell_type": "code",
   "execution_count": null,
   "metadata": {},
   "outputs": [],
   "source": [
    "#| export\n",
    "def ModalContainer(*c, cls=(), **kwargs):   return fh.Div(*c, cls=('uk-modal-container',stringify(cls)), uk_modal=True, **kwargs)\n",
    "def ModalDialog(*c, cls=(), **kwargs):      return fh.Div(*c, cls=('uk-modal-dialog',   stringify(cls)),                **kwargs)\n",
    "def ModalHeader(*c, cls=(), **kwargs):      return fh.Div(*c, cls=('uk-modal-header',   stringify(cls)),                **kwargs)\n",
    "def ModalBody(*c, cls=(), **kwargs):        return fh.Div(*c, cls=('uk-modal-body',     stringify(cls)),                **kwargs)\n",
    "def ModalFooter(*c, cls=(), **kwargs):      return fh.Div(*c, cls=('uk-modal-footer',   stringify(cls)),                **kwargs)\n",
    "def ModalTitle(*c, cls=(), **kwargs):       return fh.H2(*c,  cls=('uk-modal-title',    stringify(cls)),                **kwargs)\n",
    "def ModalCloseButton(*c, cls=(), **kwargs): return Button(*c, cls=('uk-modal-close',    stringify(cls)),                **kwargs)"
   ]
  },
  {
   "cell_type": "code",
   "execution_count": null,
   "metadata": {},
   "outputs": [
    {
     "data": {
      "text/html": [
       "<button type=\"button\" class=\"uk-button uk-modal-close uk-button-primary\">Modal Close Button</button>"
      ],
      "text/plain": [
       "<IPython.core.display.HTML object>"
      ]
     },
     "execution_count": null,
     "metadata": {},
     "output_type": "execute_result"
    }
   ],
   "source": [
    "show(ModalCloseButton('Modal Close Button', cls=ButtonT.primary))"
   ]
  },
  {
   "cell_type": "code",
   "execution_count": null,
   "metadata": {},
   "outputs": [],
   "source": [
    "#| export\n",
    "def Modal(*c,\n",
    "        header=None,          # Components that go in the header\n",
    "        footer=None,          # Components that go in the footer\n",
    "        cls=(),               # class for outermost container\n",
    "        dialog_cls=(),        # classes for the dialog\n",
    "        header_cls='p-6',     # classes for the header\n",
    "        body_cls='space-y-6', # classes for the body\n",
    "        footer_cls=(),        # classes for the footer\n",
    "        id='',                # id for the outermost container\n",
    "        **kwargs              # classes for the outermost container\n",
    "        ): # Modal\n",
    "    \"Create a Modal using the appropriate Modal* classes to put the boilerplate in the appropriate places for you\"\n",
    "    cls, dialog_cls, header_cls, body_cls, footer_cls = map(stringify, (cls, dialog_cls, header_cls, body_cls, footer_cls))\n",
    "    res = []\n",
    "    if header: res.append(ModalHeader(cls=header_cls)(header))\n",
    "    res.append(ModalBody(cls=body_cls)(*c))\n",
    "    if footer: res.append(ModalFooter(cls=footer_cls)(footer))\n",
    "    return ModalContainer(ModalDialog(*res, cls=dialog_cls), cls=cls, id=id, **kwargs)"
   ]
  },
  {
   "cell_type": "code",
   "execution_count": null,
   "metadata": {},
   "outputs": [
    {
     "data": {
      "text/html": [
       "<a href=\"http://localhost:8001/\" target=\"_blank\">Open in new tab</a>"
      ],
      "text/plain": [
       "<IPython.core.display.HTML object>"
      ]
     },
     "metadata": {},
     "output_type": "display_data"
    },
    {
     "data": {
      "text/html": [
       "<iframe src=\"http://localhost:8001/\" style=\"width: 100%; height: auto; border: none;\" onload=\"{\n",
       "        let frame = this;\n",
       "        window.addEventListener('message', function(e) {\n",
       "            if (e.source !== frame.contentWindow) return; // Only proceed if the message is from this iframe\n",
       "            if (e.data.height) frame.style.height = (e.data.height+1) + 'px';\n",
       "        }, false);\n",
       "    }\" allow=\"accelerometer; autoplay; camera; clipboard-read; clipboard-write; display-capture; encrypted-media; fullscreen; gamepad; geolocation; gyroscope; hid; identity-credentials-get; idle-detection; magnetometer; microphone; midi; payment; picture-in-picture; publickey-credentials-get; screen-wake-lock; serial; usb; web-share; xr-spatial-tracking\"></iframe> "
      ],
      "text/plain": [
       "<IPython.core.display.HTML object>"
      ]
     },
     "execution_count": null,
     "metadata": {},
     "output_type": "execute_result"
    }
   ],
   "source": [
    "Show(Div(\n",
    "    Button(\"Open Modal\",uk_toggle=\"target: #my-modal\" ),\n",
    "    Modal(ModalTitle(\"Simple Test Modal\"), \n",
    "          P(\"With some somewhat brief content to show that it works!\", cls=TextFont.muted_sm),\n",
    "          footer=ModalCloseButton(\"Close\", cls=ButtonT.primary),id='my-modal')))"
   ]
  },
  {
   "cell_type": "markdown",
   "metadata": {},
   "source": [
    "## Padding | Positioning"
   ]
  },
  {
   "cell_type": "code",
   "execution_count": null,
   "metadata": {},
   "outputs": [],
   "source": [
    "#| export\n",
    "class PaddingT(VEnum):\n",
    "    'Padding Modifiers from https://franken-ui.dev/docs/padding'\n",
    "    def _generate_next_value_(name, start, count, last_values): return str2ukcls('padding', name)\n",
    "    xsmall = auto()\n",
    "    small = auto()\n",
    "    default = ''\n",
    "    medium = auto()\n",
    "    large = auto()\n",
    "    xlarge = auto()\n",
    "    remove = auto()\n",
    "    remove_top = auto()\n",
    "    remove_bottom = auto()\n",
    "    remove_left = auto()\n",
    "    remove_right = auto()\n",
    "    remove_vertical = auto()\n",
    "    remove_horizontal = auto()"
   ]
  },
  {
   "cell_type": "code",
   "execution_count": null,
   "metadata": {},
   "outputs": [],
   "source": [
    "#| export\n",
    "class PositionT(VEnum):\n",
    "    'Position modifiers from https://franken-ui.dev/docs/position'\n",
    "    def _generate_next_value_(name, start, count, last_values): return str2ukcls('position', name)\n",
    "    top = auto()\n",
    "    bottom = auto()\n",
    "    left = auto()\n",
    "    right = auto()\n",
    "    top_left = auto()\n",
    "    top_center = auto()\n",
    "    top_right = auto()\n",
    "    center = auto()\n",
    "    center_left = auto()\n",
    "    center_right = auto()\n",
    "    bottom_left = auto()\n",
    "    bottom_center = auto()\n",
    "    bottom_right = auto()\n",
    "    center_horizontal = auto()\n",
    "    center_vertical = auto()"
   ]
  },
  {
   "cell_type": "markdown",
   "metadata": {},
   "source": [
    "## Other"
   ]
  },
  {
   "cell_type": "code",
   "execution_count": null,
   "metadata": {},
   "outputs": [],
   "source": [
    "#| export\n",
    "def Placeholder(*c, cls=(), **kwargs):\n",
    "    return fh.Div(*c, cls=('uk-placeholder',stringify(cls)), **kwargs)"
   ]
  },
  {
   "cell_type": "code",
   "execution_count": null,
   "metadata": {},
   "outputs": [
    {
     "data": {
      "text/html": [
       "<div class=\"uk-placeholder \">Placeholder</div>\n"
      ],
      "text/plain": [
       "<IPython.core.display.HTML object>"
      ]
     },
     "execution_count": null,
     "metadata": {},
     "output_type": "execute_result"
    }
   ],
   "source": [
    "show(Placeholder(\"Placeholder\"))"
   ]
  },
  {
   "cell_type": "code",
   "execution_count": null,
   "metadata": {},
   "outputs": [],
   "source": [
    "#| export\n",
    "def Progress(*c, cls=(), value=\"\", max=\"\", **kwargs):\n",
    "    return fh.Progress(*c, value=value, max=max, cls=('uk-progress',stringify(cls)), **kwargs)"
   ]
  },
  {
   "cell_type": "code",
   "execution_count": null,
   "metadata": {},
   "outputs": [
    {
     "data": {
      "text/html": [
       "<progress value=\"20\" max=\"100\" class=\"uk-progress \"></progress>"
      ],
      "text/plain": [
       "<IPython.core.display.HTML object>"
      ]
     },
     "execution_count": null,
     "metadata": {},
     "output_type": "execute_result"
    }
   ],
   "source": [
    "show(Progress(value=20, max=100))"
   ]
  },
  {
   "cell_type": "markdown",
   "metadata": {},
   "source": [
    "## Icons and Avatars"
   ]
  },
  {
   "cell_type": "code",
   "execution_count": null,
   "metadata": {},
   "outputs": [],
   "source": [
    "#| export\n",
    "def UkIcon(icon,height=None,width=None,stroke_width=None,cls=(), **kwargs):\n",
    "    return Uk_icon(icon=icon, height=height, width=width, stroke_width=stroke_width, cls=cls, **kwargs)"
   ]
  },
  {
   "cell_type": "code",
   "execution_count": null,
   "metadata": {},
   "outputs": [],
   "source": [
    "#| export\n",
    "def UkIconLink(icon, \n",
    "           height=None,\n",
    "           width=None,\n",
    "           stroke_width=None,\n",
    "           cls=(), \n",
    "           button=False, \n",
    "           **kwargs):\n",
    "    \n",
    "    fn = fh.Button if button else fh.A\n",
    "    return fh.A(cls=(f\"uk-icon-{'button' if button else 'link'}\", stringify(cls)), **kwargs)(\n",
    "        UkIcon(icon=icon, height=height, width=width, stroke_width=stroke_width))"
   ]
  },
  {
   "cell_type": "code",
   "execution_count": null,
   "metadata": {},
   "outputs": [],
   "source": [
    "class IconButtonT(VEnum):\n",
    "    xsmall = 'uk-icon-button-xsmall'\n",
    "    small  = 'uk-icon-button-small'\n",
    "    outline= 'uk-icon-button-outline'"
   ]
  },
  {
   "cell_type": "code",
   "execution_count": null,
   "metadata": {},
   "outputs": [],
   "source": [
    "#| export\n",
    "def DiceBearAvatar(seed_name, # Seed name (ie 'Isaac Flath')\n",
    "                   h=20,         # Height \n",
    "                   w=20,          # Width\n",
    "                  ):          # Span with Avatar\n",
    "    url = 'https://api.dicebear.com/8.x/lorelei/svg?seed='\n",
    "    return Span(cls=f\"relative flex h-{h} w-{w} shrink-0 overflow-hidden rounded-full bg-accent\")(\n",
    "            fh.Img(cls=f\"aspect-square h-{h} w-{w}\", alt=\"Avatar\", src=f\"{url}{seed_name}\"))"
   ]
  },
  {
   "cell_type": "code",
   "execution_count": null,
   "metadata": {},
   "outputs": [
    {
     "data": {
      "text/html": [
       "<span class=\"relative flex h-20 w-20 shrink-0 overflow-hidden rounded-full bg-accent\"><img alt=\"Avatar\" src=\"https://api.dicebear.com/8.x/lorelei/svg?seed=Isaac Flath\" class=\"aspect-square h-20 w-20\"></span>"
      ],
      "text/plain": [
       "<IPython.core.display.HTML object>"
      ]
     },
     "execution_count": null,
     "metadata": {},
     "output_type": "execute_result"
    }
   ],
   "source": [
    "show(DiceBearAvatar('Isaac Flath', 20, 20))"
   ]
  },
  {
   "cell_type": "markdown",
   "metadata": {},
   "source": [
    "## Flexbox | Grid"
   ]
  },
  {
   "cell_type": "markdown",
   "metadata": {},
   "source": [
    "The most common pattern for spacing it to organize the general high level page layout with a `Grid`, and smaller components with `Flex`.\n",
    "\n",
    ":::{.callout-tip}\n",
    "Play [Flex Box Froggy](https://flexboxfroggy.com/) to get an understanding of flex box.\n",
    ":::"
   ]
  },
  {
   "cell_type": "code",
   "execution_count": null,
   "metadata": {},
   "outputs": [],
   "source": [
    "#| export\n",
    "class FlexT(VEnum):\n",
    "    'Flexbox modifiers from UIkit'\n",
    "    def _generate_next_value_(name, start, count, last_values): return str2ukcls('flex', name)\n",
    "    \n",
    "    # Display\n",
    "    block, inline = 'uk-flex', auto()\n",
    "    # Horizontal Alignment\n",
    "    left, center, right, between, around = auto(), auto(), auto(), auto(), auto()\n",
    "    # Vertical Alignment\n",
    "    stretch, top, middle, bottom = auto(), auto(), auto(), auto()\n",
    "    # Direction\n",
    "    row, row_reverse, column, column_reverse = auto(), auto(), auto(), auto()\n",
    "    # Wrap\n",
    "    nowrap, wrap, wrap_reverse = auto(), auto(), auto()"
   ]
  },
  {
   "cell_type": "code",
   "execution_count": null,
   "metadata": {},
   "outputs": [],
   "source": [
    "#|export\n",
    "def Grid(*div,         # Divs/Containers that should be divided into a grid\n",
    "         cols_min=None, # defaults to min(len(div),1)\n",
    "         cols_sm=None, # defaults to min(len(div),2)\n",
    "         cols_md=None, # defaults to min(len(div),3)\n",
    "         cols_lg=None, # defaults to min(len(div),4)\n",
    "         cols=None,    # Size at every breakpoint\n",
    "         cls='gap-4',  # Additional classes for Grid Div\n",
    "         **kwargs      # Additional args for Grid Div\n",
    "        ):\n",
    "    \"\"\"Creates a grid with the given number of columns, often used for a grid of cards\"\"\"\n",
    "    cols_min = cols_min if cols_min else cols if cols else 1\n",
    "    cols_sm = cols_sm if cols_sm else cols if cols else max(min(len(div), 2), cols_min+1)\n",
    "    cols_md = cols_md if cols_md else cols if cols else max(min(len(div), 3), cols_min+2)\n",
    "    cols_lg = cols_lg if cols_lg else cols if cols else max(min(len(div), 3), cols_min+2)\n",
    "    cls = stringify(cls)\n",
    "    return Div(cls=(f'grid grid-cols-{cols_min} sm:grid-cols-{cols_sm} md:grid-cols-{cols_md} lg:grid-cols-{cols_lg}',cls), **kwargs)(*div)"
   ]
  },
  {
   "cell_type": "markdown",
   "metadata": {},
   "source": [
    "We can use the `FlexT` enum above to create `Div`s that arrange components in a flex box in different ways.  \n",
    "\n",
    "For example, `DivFullySpaced` applies a very common pattern so we've made a function that helps to this for you.  But if you look at the code, it's really just using the enum to apply the right combonation of flex classes."
   ]
  },
  {
   "cell_type": "code",
   "execution_count": null,
   "metadata": {},
   "outputs": [],
   "source": [
    "#| exports\n",
    "def DivFullySpaced(*c,                # Components\n",
    "                   cls='uk-width-1-1',# Classes for outer div\n",
    "                   **kwargs           # Additional args for outer div\n",
    "                  ):                  # Div with spaced components via flex classes\n",
    "    \"Creates a flex div with it's components having as much space between them as possible\"\n",
    "    cls = stringify(cls)\n",
    "    return Div(cls=(FlexT.block,FlexT.between,FlexT.middle,cls), **kwargs)(*c)"
   ]
  },
  {
   "cell_type": "code",
   "execution_count": null,
   "metadata": {},
   "outputs": [],
   "source": [
    "from functools import partial\n",
    "_button = partial(Button,cls=ButtonT.primary)"
   ]
  },
  {
   "cell_type": "code",
   "execution_count": null,
   "metadata": {},
   "outputs": [
    {
     "data": {
      "text/html": [
       "<div class=\"uk-flex uk-flex-between uk-flex-middle uk-width-1-1\">\n",
       "<button type=\"button\" class=\"uk-button uk-button-primary\">0</button><button type=\"button\" class=\"uk-button uk-button-primary\">1</button><button type=\"button\" class=\"uk-button uk-button-primary\">2</button></div>\n"
      ],
      "text/plain": [
       "<IPython.core.display.HTML object>"
      ]
     },
     "execution_count": null,
     "metadata": {},
     "output_type": "execute_result"
    }
   ],
   "source": [
    "show(DivFullySpaced(*map(_button, range(3))))"
   ]
  },
  {
   "cell_type": "code",
   "execution_count": null,
   "metadata": {},
   "outputs": [],
   "source": [
    "#| export\n",
    "def DivCentered(*c,      # Components\n",
    "                cls='space-y-4',  # Classes for outer div\n",
    "                **kwargs # Additional args for outer div\n",
    "               ): # Div with components centered in it\n",
    "    \"Creates a flex div with it's components centered in it\"\n",
    "    cls=stringify(cls)\n",
    "    return Div(cls=(FlexT.block,FlexT.column,FlexT.middle,FlexT.center,cls),**kwargs)(*c)"
   ]
  },
  {
   "cell_type": "code",
   "execution_count": null,
   "metadata": {},
   "outputs": [
    {
     "data": {
      "text/html": [
       "<div class=\"uk-flex uk-flex-column uk-flex-middle uk-flex-center space-y-4\">\n",
       "<button type=\"button\" class=\"uk-button uk-button-primary\">0</button><button type=\"button\" class=\"uk-button uk-button-primary\">1</button><button type=\"button\" class=\"uk-button uk-button-primary\">2</button></div>\n"
      ],
      "text/plain": [
       "<IPython.core.display.HTML object>"
      ]
     },
     "execution_count": null,
     "metadata": {},
     "output_type": "execute_result"
    }
   ],
   "source": [
    "show(DivCentered(*map(_button, range(3))))"
   ]
  },
  {
   "cell_type": "code",
   "execution_count": null,
   "metadata": {},
   "outputs": [],
   "source": [
    "#| export\n",
    "def DivLAligned(*c,      # Components\n",
    "                cls='space-x-4',  # Classes for outer div\n",
    "                **kwargs # Additional args for outer div\n",
    "               ): # Div with components aligned to the left\n",
    "    \"Creates a flex div with it's components aligned to the left\"\n",
    "    cls=stringify(cls)\n",
    "    return Div(cls=(FlexT.block,FlexT.left,FlexT.middle,cls), **kwargs)(*c)"
   ]
  },
  {
   "cell_type": "code",
   "execution_count": null,
   "metadata": {},
   "outputs": [
    {
     "data": {
      "text/html": [
       "<div class=\"uk-flex uk-flex-left uk-flex-middle space-x-4\">\n",
       "<button type=\"button\" class=\"uk-button uk-button-primary\">0</button><button type=\"button\" class=\"uk-button uk-button-primary\">1</button><button type=\"button\" class=\"uk-button uk-button-primary\">2</button></div>\n"
      ],
      "text/plain": [
       "<IPython.core.display.HTML object>"
      ]
     },
     "execution_count": null,
     "metadata": {},
     "output_type": "execute_result"
    }
   ],
   "source": [
    "show(DivLAligned(*map(_button, range(3))))"
   ]
  },
  {
   "cell_type": "code",
   "execution_count": null,
   "metadata": {},
   "outputs": [],
   "source": [
    "#| export\n",
    "def DivRAligned(*c,      # Components\n",
    "                cls='space-x-4',  # Classes for outer div\n",
    "                **kwargs # Additional args for outer div\n",
    "               ): # Div with components aligned to the right\n",
    "    \"Creates a flex div with it's components aligned to the right\"\n",
    "    cls=stringify(cls)\n",
    "    return Div(cls=(FlexT.block,FlexT.right,FlexT.middle,cls), **kwargs)(*c)"
   ]
  },
  {
   "cell_type": "code",
   "execution_count": null,
   "metadata": {},
   "outputs": [
    {
     "data": {
      "text/html": [
       "<div class=\"uk-flex uk-flex-right uk-flex-middle space-x-4\">\n",
       "<button type=\"button\" class=\"uk-button uk-button-primary\">0</button><button type=\"button\" class=\"uk-button uk-button-primary\">1</button><button type=\"button\" class=\"uk-button uk-button-primary\">2</button></div>\n"
      ],
      "text/plain": [
       "<IPython.core.display.HTML object>"
      ]
     },
     "execution_count": null,
     "metadata": {},
     "output_type": "execute_result"
    }
   ],
   "source": [
    "show(DivRAligned(*map(_button, range(3))))"
   ]
  },
  {
   "cell_type": "code",
   "execution_count": null,
   "metadata": {},
   "outputs": [],
   "source": [
    "#| export\n",
    "def DivVStacked(*c, cls='space-y-4', **kwargs):\n",
    "    cls=stringify(cls)\n",
    "    return Div(cls=(FlexT.block,FlexT.column,FlexT.middle,cls), **kwargs)(*c)"
   ]
  },
  {
   "cell_type": "code",
   "execution_count": null,
   "metadata": {},
   "outputs": [
    {
     "data": {
      "text/html": [
       "<div class=\"uk-flex uk-flex-column uk-flex-middle space-y-4\">\n",
       "<button type=\"button\" class=\"uk-button uk-button-primary\">0</button><button type=\"button\" class=\"uk-button uk-button-primary\">1</button><button type=\"button\" class=\"uk-button uk-button-primary\">2</button></div>\n"
      ],
      "text/plain": [
       "<IPython.core.display.HTML object>"
      ]
     },
     "execution_count": null,
     "metadata": {},
     "output_type": "execute_result"
    }
   ],
   "source": [
    "show(DivVStacked(*map(_button, range(3))))"
   ]
  },
  {
   "cell_type": "code",
   "execution_count": null,
   "metadata": {},
   "outputs": [],
   "source": [
    "#| export\n",
    "def DivHStacked(*c, cls='space-x-4', **kwargs):\n",
    "    cls=stringify(cls)\n",
    "    return Div(cls=(FlexT.block,FlexT.row,FlexT.middle,cls), **kwargs)(*c)"
   ]
  },
  {
   "cell_type": "code",
   "execution_count": null,
   "metadata": {},
   "outputs": [
    {
     "data": {
      "text/html": [
       "<div class=\"uk-flex uk-flex-row uk-flex-middle space-x-4\">\n",
       "<button type=\"button\" class=\"uk-button uk-button-primary\">0</button><button type=\"button\" class=\"uk-button uk-button-primary\">1</button><button type=\"button\" class=\"uk-button uk-button-primary\">2</button></div>\n"
      ],
      "text/plain": [
       "<IPython.core.display.HTML object>"
      ]
     },
     "execution_count": null,
     "metadata": {},
     "output_type": "execute_result"
    }
   ],
   "source": [
    "show(DivHStacked(*map(_button, range(3))))"
   ]
  },
  {
   "cell_type": "markdown",
   "metadata": {},
   "source": [
    "## Nav"
   ]
  },
  {
   "cell_type": "markdown",
   "metadata": {},
   "source": [
    "A `Nav` is something highly versatile that is the foundation for many things.  Three common places to use a Nav:\n",
    "\n",
    "    + On its own as a sidebar navigation\n",
    "    + In a button to give it a drop-down like behavior\n",
    "    + In a Navbar to give drop down options in the navbar"
   ]
  },
  {
   "cell_type": "code",
   "execution_count": null,
   "metadata": {},
   "outputs": [],
   "source": [
    "#| export\n",
    "class NavT(VEnum):\n",
    "    def _generate_next_value_(name, start, count, last_values): return str2ukcls('nav', name)\n",
    "    default = auto()\n",
    "    primary = auto()\n",
    "    secondary = auto()"
   ]
  },
  {
   "cell_type": "code",
   "execution_count": null,
   "metadata": {},
   "outputs": [],
   "source": [
    "#| export\n",
    "def NavContainer(*li, \n",
    "                 cls=NavT.primary,\n",
    "                 parent=True, \n",
    "                 uk_nav=False, #True for default collapsible behavior, see https://franken-ui.dev/docs/nav#component-options for more advanced options\n",
    "                 **kwargs):\n",
    "    return fh.Ul(*li, uk_nav=uk_nav, cls=(f\"uk-nav{'' if parent else '-sub'}\", stringify(cls)),**kwargs)"
   ]
  },
  {
   "cell_type": "code",
   "execution_count": null,
   "metadata": {},
   "outputs": [],
   "source": [
    "mbrs1 = [Li(A('Option 1'), cls='uk-active'), \n",
    "         Li(A('Option 2')),\n",
    "         Li(A('Option 3'))]"
   ]
  },
  {
   "cell_type": "code",
   "execution_count": null,
   "metadata": {},
   "outputs": [
    {
     "data": {
      "text/html": [
       "<ul class=\"uk-nav uk-nav-primary\">\n",
       "  <li class=\"uk-active\">\n",
       "<a>Option 1</a>  </li>\n",
       "  <li>\n",
       "<a>Option 2</a>  </li>\n",
       "  <li>\n",
       "<a>Option 3</a>  </li>\n",
       "</ul>\n"
      ],
      "text/plain": [
       "<IPython.core.display.HTML object>"
      ]
     },
     "execution_count": null,
     "metadata": {},
     "output_type": "execute_result"
    }
   ],
   "source": [
    "show(NavContainer(*mbrs1))"
   ]
  },
  {
   "cell_type": "code",
   "execution_count": null,
   "metadata": {},
   "outputs": [],
   "source": [
    "#| export\n",
    "def NavParentLi(*nav_container, cls=(), **kwargs): return fh.Li(*nav_container,  cls=('uk-parent',  stringify(cls)),**kwargs)\n",
    "def NavDividerLi(*c,cls=(), **kwargs): return fh.Li(*c, cls=('uk-nav-divider', stringify(cls)),**kwargs)\n",
    "def NavHeaderLi(*c,cls=(), **kwargs): return fh.Li(*c, cls=('uk-nav-header', stringify(cls)),**kwargs)\n",
    "def NavSubtitle(*c,cls=TextFont.muted_sm, **kwargs): return fh.Div(*c, cls=('uk-nav-subtitle', stringify(cls)),**kwargs)\n",
    "def NavCloseLi(*c,cls=(), **kwargs): return fh.Li(*c, cls=('uk-drop-close', stringify(cls)),**kwargs)"
   ]
  },
  {
   "cell_type": "code",
   "execution_count": null,
   "metadata": {},
   "outputs": [
    {
     "data": {
      "text/markdown": [
       "```html\n",
       "<li class=\"uk-nav-divider \"></li>\n",
       "\n",
       "```"
      ],
      "text/plain": [
       "li((),{'class': 'uk-nav-divider '})"
      ]
     },
     "execution_count": null,
     "metadata": {},
     "output_type": "execute_result"
    }
   ],
   "source": [
    "NavDividerLi()"
   ]
  },
  {
   "cell_type": "code",
   "execution_count": null,
   "metadata": {},
   "outputs": [
    {
     "data": {
      "text/html": [
       "<a href=\"http://localhost:8001/\" target=\"_blank\">Open in new tab</a>"
      ],
      "text/plain": [
       "<IPython.core.display.HTML object>"
      ]
     },
     "metadata": {},
     "output_type": "display_data"
    },
    {
     "data": {
      "text/html": [
       "<iframe src=\"http://localhost:8001/\" style=\"width: 100%; height: auto; border: none;\" onload=\"{\n",
       "        let frame = this;\n",
       "        window.addEventListener('message', function(e) {\n",
       "            if (e.source !== frame.contentWindow) return; // Only proceed if the message is from this iframe\n",
       "            if (e.data.height) frame.style.height = (e.data.height+1) + 'px';\n",
       "        }, false);\n",
       "    }\" allow=\"accelerometer; autoplay; camera; clipboard-read; clipboard-write; display-capture; encrypted-media; fullscreen; gamepad; geolocation; gyroscope; hid; identity-credentials-get; idle-detection; magnetometer; microphone; midi; payment; picture-in-picture; publickey-credentials-get; screen-wake-lock; serial; usb; web-share; xr-spatial-tracking\"></iframe> "
      ],
      "text/plain": [
       "<IPython.core.display.HTML object>"
      ]
     },
     "execution_count": null,
     "metadata": {},
     "output_type": "execute_result"
    }
   ],
   "source": [
    "mbrs2 = [Li(A('Child 1')), Li(A('Child 2')),Li(A('Child 3'))]\n",
    "\n",
    "Show(\n",
    "    NavContainer(\n",
    "        NavHeaderLi(\"NavHeaderLi\"),\n",
    "        *mbrs1,\n",
    "        Li(A(href='')(Div(\"Subtitle Ex\",NavSubtitle(\"NavSubtitle text to be shown\")))),\n",
    "        NavDividerLi(),\n",
    "        NavParentLi(\n",
    "            A('Parent Name'),\n",
    "            NavContainer(*mbrs2,parent=False),\n",
    "             ),\n",
    "    )\n",
    ")"
   ]
  },
  {
   "cell_type": "code",
   "execution_count": null,
   "metadata": {},
   "outputs": [],
   "source": [
    "def NavParentIcon(): return Span(uk_nav_parent_icon=True)"
   ]
  },
  {
   "cell_type": "markdown",
   "metadata": {},
   "source": [
    "## NavBar"
   ]
  },
  {
   "cell_type": "code",
   "execution_count": null,
   "metadata": {},
   "outputs": [],
   "source": [
    "#| export\n",
    "def NavBarContainer(*c, \n",
    "                    cls=(),\n",
    "                    container_cls=ContainerT.expand,\n",
    "                    uk_navbar=True,\n",
    "                    **kwargs): \n",
    "    return fh.Div(DivContainer(Div(*c, uk_navbar=uk_navbar),cls=stringify(container_cls)), cls=('',stringify(cls)), **kwargs) #uk-navbar-container\n",
    "def NavBarLSide(*c,  cls=(), **kwargs): return fh.Div(*c, cls=('uk-navbar-left',  stringify(cls)), **kwargs)\n",
    "def NavBarRSide(*c,  cls=(), **kwargs): return fh.Div(*c, cls=('uk-navbar-right', stringify(cls)), **kwargs)\n",
    "def NavBarCenter(*c, cls=(), **kwargs): return fh.Div(*c, cls=('uk-navbar-center',stringify(cls)), **kwargs)"
   ]
  },
  {
   "cell_type": "code",
   "execution_count": null,
   "metadata": {},
   "outputs": [],
   "source": [
    "#| export\n",
    "def NavBarNav(*li, cls=(), **kwargs): return fh.Nav(*li, cls=('uk-navbar-nav',      stringify(cls)),                 **kwargs)"
   ]
  },
  {
   "cell_type": "code",
   "execution_count": null,
   "metadata": {},
   "outputs": [],
   "source": [
    "#| export\n",
    "def NavBarSubtitle(title, subtitle, cls=(), subtitle_cls=TextFont.muted_sm, **kwargs): \n",
    "    return fh.Div(title,fh.Div(subtitle, cls=('uk-navbar-subtitle', stringify(subtitle_cls))), cls=stringify(cls), **kwargs)"
   ]
  },
  {
   "cell_type": "code",
   "execution_count": null,
   "metadata": {},
   "outputs": [],
   "source": [
    "#| export\n",
    "def NavBarNavContainer(*li, \n",
    "                       cls=NavT.primary,\n",
    "                         parent=True, \n",
    "                         uk_nav=False, #True for default collapsible behavior, see https://franken-ui.dev/docs/nav#component-options for more advanced options\n",
    "                         **kwargs):\n",
    "    return Div(cls=\"uk-navbar-dropdown\")(NavContainer(*li, cls=('uk-navbar-dropdown-nav',stringify(cls)), uk_nav=uk_nav, parent=parent, **kwargs))"
   ]
  },
  {
   "cell_type": "code",
   "execution_count": null,
   "metadata": {},
   "outputs": [],
   "source": [
    "#|export\n",
    "def NavBarParentIcon(): return Span(uk_navbar_parent_icon=True)"
   ]
  },
  {
   "cell_type": "code",
   "execution_count": null,
   "metadata": {},
   "outputs": [],
   "source": [
    "l = NavBarNav(Li(cls='uk-active')(A(\"Active\",href='')),\n",
    "              Li(A(\"Parent\",href=''),\n",
    "                  NavBarNavContainer(\n",
    "                      Li(cls='uk-active')(A(\"Active\",href='')),\n",
    "                      Li(A(\"Item\",href='')),\n",
    "                      Li(A(\"Item\",href='')))),\n",
    "              Li(A(\"Item\",href='')))\n",
    "\n",
    "r = NavBarNav(\n",
    "            Li(cls='uk-active')(A(NavBarSubtitle(\"Title\",\"Subtitle\"),href='')),\n",
    "            Li(A(\"DropDown\",NavBarParentIcon(),href=''),\n",
    "                NavBarNavContainer(\n",
    "                    NavHeaderLi(\"NavHeaderLi\"),\n",
    "                    *mbrs1,\n",
    "                    Li(A(href='')(Div(\"Subtitle Ex\",NavSubtitle(\"NavSubtitle text to be shown\")))),\n",
    "                    NavDividerLi(),\n",
    "                    NavParentLi(\n",
    "                        A('Parent Name'),\n",
    "                        NavContainer(*mbrs2,parent=False)))),\n",
    "            \n",
    "    Li(A(NavBarSubtitle(\"Title\",\"Subtitle\"),href='')))"
   ]
  },
  {
   "cell_type": "code",
   "execution_count": null,
   "metadata": {},
   "outputs": [
    {
     "data": {
      "text/html": [
       "<a href=\"http://localhost:8001/\" target=\"_blank\">Open in new tab</a>"
      ],
      "text/plain": [
       "<IPython.core.display.HTML object>"
      ]
     },
     "metadata": {},
     "output_type": "display_data"
    },
    {
     "data": {
      "text/html": [
       "<iframe src=\"http://localhost:8001/\" style=\"width: 100%; height: auto; border: none;\" onload=\"{\n",
       "        let frame = this;\n",
       "        window.addEventListener('message', function(e) {\n",
       "            if (e.source !== frame.contentWindow) return; // Only proceed if the message is from this iframe\n",
       "            if (e.data.height) frame.style.height = (e.data.height+1) + 'px';\n",
       "        }, false);\n",
       "    }\" allow=\"accelerometer; autoplay; camera; clipboard-read; clipboard-write; display-capture; encrypted-media; fullscreen; gamepad; geolocation; gyroscope; hid; identity-credentials-get; idle-detection; magnetometer; microphone; midi; payment; picture-in-picture; publickey-credentials-get; screen-wake-lock; serial; usb; web-share; xr-spatial-tracking\"></iframe> "
      ],
      "text/plain": [
       "<IPython.core.display.HTML object>"
      ]
     },
     "execution_count": null,
     "metadata": {},
     "output_type": "execute_result"
    }
   ],
   "source": [
    "Show(\n",
    "NavBarContainer(\n",
    "    NavBarLSide(l),\n",
    "    NavBarRSide(r)\n",
    ")\n",
    ")"
   ]
  },
  {
   "cell_type": "markdown",
   "metadata": {},
   "source": [
    "## DropDown"
   ]
  },
  {
   "cell_type": "code",
   "execution_count": null,
   "metadata": {},
   "outputs": [],
   "source": [
    "#| export\n",
    "def DropDownNavContainer(*li, \n",
    "                         cls=NavT.primary,\n",
    "                         parent=True, \n",
    "                         uk_nav=False, #True for default collapsible behavior, see https://franken-ui.dev/docs/nav#component-options for more advanced options\n",
    "                         uk_dropdown=True,\n",
    "                         **kwargs):\n",
    "    return Div(cls = 'uk-drop uk-dropdown',uk_dropdown=uk_dropdown)(NavContainer(*li, cls=('uk-dropdown-nav',stringify(cls)), uk_nav=uk_nav, parent=parent, **kwargs))"
   ]
  },
  {
   "cell_type": "code",
   "execution_count": null,
   "metadata": {},
   "outputs": [
    {
     "data": {
      "text/html": [
       "<a href=\"http://localhost:8001/\" target=\"_blank\">Open in new tab</a>"
      ],
      "text/plain": [
       "<IPython.core.display.HTML object>"
      ]
     },
     "metadata": {},
     "output_type": "display_data"
    },
    {
     "data": {
      "text/html": [
       "<iframe src=\"http://localhost:8001/\" style=\"width: 100%; height: auto; border: none;\" onload=\"{\n",
       "        let frame = this;\n",
       "        window.addEventListener('message', function(e) {\n",
       "            if (e.source !== frame.contentWindow) return; // Only proceed if the message is from this iframe\n",
       "            if (e.data.height) frame.style.height = (e.data.height+1) + 'px';\n",
       "        }, false);\n",
       "    }\" allow=\"accelerometer; autoplay; camera; clipboard-read; clipboard-write; display-capture; encrypted-media; fullscreen; gamepad; geolocation; gyroscope; hid; identity-credentials-get; idle-detection; magnetometer; microphone; midi; payment; picture-in-picture; publickey-credentials-get; screen-wake-lock; serial; usb; web-share; xr-spatial-tracking\"></iframe> "
      ],
      "text/plain": [
       "<IPython.core.display.HTML object>"
      ]
     },
     "execution_count": null,
     "metadata": {},
     "output_type": "execute_result"
    }
   ],
   "source": [
    "Show(Div(\n",
    "        Button(\"Open DropDown\"),\n",
    "        DropDownNavContainer(Li(A(\"Item 1\",href=''),Li(A(\"Item 2\",href=''))))))"
   ]
  },
  {
   "cell_type": "markdown",
   "metadata": {},
   "source": [
    "## Tabs"
   ]
  },
  {
   "cell_type": "code",
   "execution_count": null,
   "metadata": {},
   "outputs": [],
   "source": [
    "#| export\n",
    "def TabContainer(*li,cls='', alt=False, **kwargs):\n",
    "    cls = stringify(cls)\n",
    "    return Ul(cls=(f\"uk-tab{'-alt' if alt else ''}\",stringify(cls)),**kwargs)(*li)"
   ]
  },
  {
   "cell_type": "code",
   "execution_count": null,
   "metadata": {},
   "outputs": [
    {
     "data": {
      "text/html": [
       "<div class=\"uk-container \">\n",
       "  <ul class=\"uk-tab-alt \">\n",
       "    <li>\n",
       "<a href=\"#\" class=\"uk-active\">Active</a>    </li>\n",
       "    <li>\n",
       "<a href=\"#\">Item</a>    </li>\n",
       "    <li>\n",
       "<a href=\"#\">Item</a>    </li>\n",
       "    <li>\n",
       "<a href=\"#\" class=\"uk-disabled\">Disabled</a>    </li>\n",
       "  </ul>\n",
       "</div>\n"
      ],
      "text/plain": [
       "<IPython.core.display.HTML object>"
      ]
     },
     "execution_count": null,
     "metadata": {},
     "output_type": "execute_result"
    }
   ],
   "source": [
    "show(DivContainer(TabContainer(\n",
    "    Li(A(\"Active\",href='#', cls='uk-active')),\n",
    "    Li(A(\"Item\",href='#')),\n",
    "    Li(A(\"Item\",href='#')),\n",
    "    Li(A(\"Disabled\",href='#', cls='uk-disabled')),\n",
    "    alt=True)))"
   ]
  },
  {
   "cell_type": "code",
   "execution_count": null,
   "metadata": {},
   "outputs": [
    {
     "data": {
      "text/html": [
       "<div class=\"uk-container \">\n",
       "  <ul class=\"uk-tab \">\n",
       "    <li>\n",
       "<a href=\"#\" class=\"uk-active\">Active</a>    </li>\n",
       "    <li>\n",
       "<a href=\"#\">Item</a>    </li>\n",
       "    <li>\n",
       "<a href=\"#\">Item</a>    </li>\n",
       "    <li>\n",
       "<a href=\"#\" class=\"uk-disabled\">Disabled</a>    </li>\n",
       "  </ul>\n",
       "</div>\n"
      ],
      "text/plain": [
       "<IPython.core.display.HTML object>"
      ]
     },
     "execution_count": null,
     "metadata": {},
     "output_type": "execute_result"
    }
   ],
   "source": [
    "show(DivContainer(TabContainer(\n",
    "    Li(A(\"Active\",href='#', cls='uk-active')),\n",
    "    Li(A(\"Item\",href='#')),\n",
    "    Li(A(\"Item\",href='#')),\n",
    "    Li(A(\"Disabled\",href='#', cls='uk-disabled')),\n",
    "    )))"
   ]
  },
  {
   "cell_type": "markdown",
   "metadata": {},
   "source": [
    "## Cards"
   ]
  },
  {
   "cell_type": "code",
   "execution_count": null,
   "metadata": {},
   "outputs": [],
   "source": [
    "#| export\n",
    "class CardT(VEnum):\n",
    "    'Card styles from UIkit'\n",
    "    def _generate_next_value_(name, start, count, last_values): return str2ukcls('card', name)\n",
    "    default = auto()\n",
    "    primary = auto()\n",
    "    secondary = auto()\n",
    "    danger = auto()"
   ]
  },
  {
   "cell_type": "code",
   "execution_count": null,
   "metadata": {},
   "outputs": [],
   "source": [
    "#| export\n",
    "def CardTitle(*c, cls=(), **kwargs):\n",
    "    return fh.Div(*c, cls=('uk-card-title',stringify(cls)), **kwargs)\n",
    "\n",
    "def CardTitle(*c, cls=(), **kwargs):\n",
    "    return fh.Div(*c, cls=('uk-card-title',stringify(cls)), **kwargs)\n",
    "\n",
    "def CardHeader(*c, cls=(), **kwargs):\n",
    "    return fh.Div(*c, cls=('uk-card-header',stringify(cls)), **kwargs)\n",
    "\n",
    "def CardBody(*c, cls=(), **kwargs):\n",
    "    return fh.Div(*c, cls=('uk-card-body',stringify(cls)), **kwargs)\n",
    "\n",
    "def CardFooter(*c, cls=(), **kwargs):\n",
    "    return fh.Div(*c, cls=('uk-card-footer',stringify(cls)), **kwargs)\n",
    "\n",
    "def CardContainer(*c, cls=CardT.default, **kwargs):\n",
    "    return fh.Div(*c, cls=('uk-card',stringify(cls)), **kwargs)"
   ]
  },
  {
   "cell_type": "code",
   "execution_count": null,
   "metadata": {},
   "outputs": [],
   "source": [
    "#|export\n",
    "def Card(*c, # Components that go in the body\n",
    "        header=None, # Components that go in the header\n",
    "        footer=None,  # Components that go in the footer\n",
    "        body_cls='space-y-6', # classes for the body\n",
    "        header_cls=(), # classes for the header\n",
    "        footer_cls=(), # classes for the footer\n",
    "        cls=(), #class for outermost component\n",
    "        **kwargs # classes that for the card itself\n",
    "        ):\n",
    "    header_cls, footer_cls, body_cls, cls = map(stringify, (header_cls, footer_cls, body_cls, cls))\n",
    "    res = []\n",
    "    if header: res.append(CardHeader(cls=header_cls)(header))\n",
    "    res.append(CardBody(cls=body_cls)(*c))\n",
    "    if footer: res.append(CardFooter(cls=footer_cls)(footer))\n",
    "    return CardContainer(cls=cls, **kwargs)(*res)"
   ]
  },
  {
   "cell_type": "code",
   "execution_count": null,
   "metadata": {},
   "outputs": [
    {
     "data": {
      "text/html": [
       "<div class=\"uk-card \">\n",
       "  <div class=\"uk-card-header \">\n",
       "    <div>\n",
       "      <div class=\"uk-card-title \">Header</div>\n",
       "      <p class=\"uk-text-muted uk-text-small\">A card with header and footer</p>\n",
       "    </div>\n",
       "  </div>\n",
       "  <div class=\"uk-card-body space-y-6\">\n",
       "<form>      <div class=\"space-y-2\">\n",
       "<label class=\"uk-form-label \">Input</label>        <input class=\"uk-input \">\n",
       "      </div>\n",
       "      <div class=\"space-y-2\">\n",
       "<label class=\"uk-form-label \">Range</label>        <input type=\"range\" class=\"uk-range \">\n",
       "      </div>\n",
       "</form>  </div>\n",
       "  <div class=\"uk-card-footer \">\n",
       "    <div class=\"uk-flex uk-flex-left uk-flex-middle space-x-4\">\n",
       "<button type=\"button\" class=\"uk-button uk-button-default\">Footer Submit button</button>    </div>\n",
       "  </div>\n",
       "</div>\n"
      ],
      "text/plain": [
       "<IPython.core.display.HTML object>"
      ]
     },
     "execution_count": null,
     "metadata": {},
     "output_type": "execute_result"
    }
   ],
   "source": [
    "show(\n",
    "    Card(\n",
    "        Form(LabelInput(\"Input\"),LabelRange(\"Range\")),\n",
    "        header=Div(CardTitle(\"Header\"),P(\"A card with header and footer\",cls=TextFont.muted_sm)),\n",
    "        footer=DivLAligned(Button(\"Footer Submit button\")),\n",
    ")\n",
    ")"
   ]
  },
  {
   "cell_type": "markdown",
   "metadata": {},
   "source": [
    "## Tables"
   ]
  },
  {
   "cell_type": "code",
   "execution_count": null,
   "metadata": {},
   "outputs": [],
   "source": [
    "#| export\n",
    "class TableT(VEnum):\n",
    "    def _generate_next_value_(name, start, count, last_values): return str2ukcls('table', name)\n",
    "    divider = auto()\n",
    "    striped = auto()\n",
    "    hover = auto()\n",
    "    small = auto()\n",
    "    large = auto()\n",
    "    justify = auto()\n",
    "    middle = auto()\n",
    "    responsive = auto()"
   ]
  },
  {
   "cell_type": "code",
   "execution_count": null,
   "metadata": {},
   "outputs": [],
   "source": [
    "#| export\n",
    "def Table(*args, cls=(TableT.middle, TableT.divider, TableT.hover, TableT.small), **kwargs): \n",
    "    return fh.Table(cls=('uk-table', stringify(cls)), *args, **kwargs)"
   ]
  },
  {
   "cell_type": "code",
   "execution_count": null,
   "metadata": {},
   "outputs": [],
   "source": [
    "#| export\n",
    "def _TableCell(Component, *args, cls=(), shrink=False, expand=False, small=False, **kwargs):\n",
    "    cls = stringify(cls)\n",
    "    if shrink: cls += ' uk-table-shrink'\n",
    "    if expand: cls += ' uk-table-expand'\n",
    "    if small: cls += ' uk-table-small'\n",
    "    return Component(*args,cls=cls, **kwargs)\n",
    "\n",
    "@delegates(_TableCell, but=['Component'])\n",
    "def Td(*args,**kwargs):  return _TableCell(fh.Td, *args, **kwargs)\n",
    "@delegates(_TableCell, but=['Component'])\n",
    "def Th(*args,**kwargs): return _TableCell(fh.Th, *args, **kwargs)\n",
    "\n",
    "def Tr(*cells, cls=(), **kwargs):  return fh.Tr(*cells, cls=stringify(cls), **kwargs)\n",
    "def Thead(*rows, cls=(), **kwargs): return fh.Thead(*rows, cls=stringify(cls), **kwargs)\n",
    "def Tbody(*rows, cls=(), sortable=False, **kwargs): return fh.Tbody(*rows, cls=stringify(cls), uk_sortable=sortable, **kwargs)"
   ]
  },
  {
   "cell_type": "code",
   "execution_count": null,
   "metadata": {},
   "outputs": [
    {
     "data": {
      "text/html": [
       "<table class=\"uk-table uk-table-middle uk-table-divider uk-table-hover uk-table-small\">\n",
       "  <thead>\n",
       "    <tr>\n",
       "      <th>Name</th>\n",
       "      <th>Age</th>\n",
       "      <th>City</th>\n",
       "    </tr>\n",
       "  </thead>\n",
       "  <tbody>\n",
       "    <tr>\n",
       "      <td>Alice</td>\n",
       "      <td>25</td>\n",
       "      <td>New York</td>\n",
       "    </tr>\n",
       "    <tr>\n",
       "      <td>Bob</td>\n",
       "      <td>30</td>\n",
       "      <td>San Francisco</td>\n",
       "    </tr>\n",
       "    <tr>\n",
       "      <td>Charlie</td>\n",
       "      <td>35</td>\n",
       "      <td>London</td>\n",
       "    </tr>\n",
       "  </tbody>\n",
       "  <tfoot>\n",
       "    <tr>\n",
       "      <td>Total</td>\n",
       "      <td>90</td>\n",
       "    </tr>\n",
       "  </tfoot>\n",
       "</table>\n"
      ],
      "text/plain": [
       "<IPython.core.display.HTML object>"
      ]
     },
     "execution_count": null,
     "metadata": {},
     "output_type": "execute_result"
    }
   ],
   "source": [
    "show(\n",
    "Table(\n",
    "    Thead(Tr(Th('Name'), Th('Age'), Th('City'))),\n",
    "    Tbody(Tr(Td('Alice'), Td('25'), Td('New York')),\n",
    "          Tr(Td('Bob'), Td('30'), Td('San Francisco')),\n",
    "          Tr(Td('Charlie'), Td('35'), Td('London'))),\n",
    "    Tfoot(Tr(Td('Total'), Td('90'))))\n",
    ")"
   ]
  },
  {
   "cell_type": "code",
   "execution_count": null,
   "metadata": {},
   "outputs": [],
   "source": [
    "#|export\n",
    "def TableFromLists(header_data, body_data, footer_data=None, \n",
    "                   header_cell_render=Th,body_cell_render=Td, footer_cell_render=Td,\n",
    "                   cls=(TableT.middle, TableT.divider, TableT.hover, TableT.small), \n",
    "                   sortable=False, **kwargs):\n",
    "    \n",
    "    return Table(\n",
    "                Thead(Tr(*map(header_cell_render, header_data))),\n",
    "                Tbody(*[Tr(*map(body_cell_render, r)) for r in body_data], sortable=sortable),\n",
    "                Tfoot(Tr(*map(footer_cell_render, footer_data))) if footer_data else '',\n",
    "                cls=stringify(cls),    \n",
    "                **kwargs)"
   ]
  },
  {
   "cell_type": "code",
   "execution_count": null,
   "metadata": {},
   "outputs": [
    {
     "data": {
      "text/html": [
       "<table class=\"uk-table uk-table-middle uk-table-divider uk-table-hover uk-table-small\">\n",
       "  <thead>\n",
       "    <tr>\n",
       "      <th>Name</th>\n",
       "      <th>Age</th>\n",
       "      <th>City</th>\n",
       "    </tr>\n",
       "  </thead>\n",
       "  <tbody>\n",
       "    <tr>\n",
       "      <td>Alice</td>\n",
       "      <td>25</td>\n",
       "      <td>New York</td>\n",
       "    </tr>\n",
       "    <tr>\n",
       "      <td>Bob</td>\n",
       "      <td>30</td>\n",
       "      <td>San Francisco</td>\n",
       "    </tr>\n",
       "    <tr>\n",
       "      <td>Charlie</td>\n",
       "      <td>35</td>\n",
       "      <td>London</td>\n",
       "    </tr>\n",
       "  </tbody>\n",
       "  <tfoot>\n",
       "    <tr>\n",
       "      <td>Total</td>\n",
       "      <td>90</td>\n",
       "    </tr>\n",
       "  </tfoot>\n",
       "</table>\n"
      ],
      "text/plain": [
       "<IPython.core.display.HTML object>"
      ]
     },
     "execution_count": null,
     "metadata": {},
     "output_type": "execute_result"
    }
   ],
   "source": [
    "# Test the function\n",
    "header = ['Name', 'Age', 'City']\n",
    "body = [['Alice', '25', 'New York'],\n",
    "        ['Bob', '30', 'San Francisco'],\n",
    "        ['Charlie', '35', 'London']]\n",
    "footer = ['Total', '90']\n",
    "\n",
    "show(TableFromLists(header, body, footer))"
   ]
  },
  {
   "cell_type": "code",
   "execution_count": null,
   "metadata": {},
   "outputs": [],
   "source": [
    "#| export\n",
    "def TableFromDicts(header_data:Sequence, body_data:Sequence[dict], footer_data=None, \n",
    "                   header_cell_render=Th, body_cell_render=lambda k,v : Td(v), footer_cell_render=lambda k,v : Td(v),\n",
    "                   cls=(TableT.middle, TableT.divider, TableT.hover, TableT.small),\n",
    "                   sortable=False,\n",
    "                   **kwargs):\n",
    "    \n",
    "    return Table(\n",
    "        Thead(Tr(*[header_cell_render(h) for h in header_data])),\n",
    "        Tbody(*[Tr(*[body_cell_render(k, r.get(k, '')) for k in header_data]) for r in body_data], sortable=sortable),\n",
    "        Tfoot(Tr(*[footer_cell_render(k, footer_data.get(k.lower(), '')) for k in header_data])) if footer_data else '',\n",
    "        cls=stringify(cls),    \n",
    "        **kwargs\n",
    "    )"
   ]
  },
  {
   "cell_type": "code",
   "execution_count": null,
   "metadata": {},
   "outputs": [
    {
     "data": {
      "text/html": [
       "<table class=\"uk-table uk-table-middle uk-table-divider uk-table-hover uk-table-small\">\n",
       "  <thead>\n",
       "    <tr>\n",
       "      <th>Name</th>\n",
       "      <th>Age</th>\n",
       "      <th>City</th>\n",
       "    </tr>\n",
       "  </thead>\n",
       "  <tbody>\n",
       "    <tr>\n",
       "      <td>Alice</td>\n",
       "      <td>30</td>\n",
       "      <td>New York</td>\n",
       "    </tr>\n",
       "    <tr>\n",
       "      <td>Bob</td>\n",
       "      <td>25</td>\n",
       "      <td>London</td>\n",
       "    </tr>\n",
       "  </tbody>\n",
       "</table>\n"
      ],
      "text/plain": [
       "<IPython.core.display.HTML object>"
      ]
     },
     "execution_count": null,
     "metadata": {},
     "output_type": "execute_result"
    }
   ],
   "source": [
    "header_data = ['Name', 'Age', 'City']\n",
    "body_data = [{'Name': 'Alice', 'Age': 30, 'City': 'New York'},\n",
    "             {'Name': 'Bob', 'Age': 25, 'City': 'London'}]\n",
    "\n",
    "show(TableFromDicts(header_data, body_data))"
   ]
  },
  {
   "cell_type": "code",
   "execution_count": null,
   "metadata": {},
   "outputs": [
    {
     "data": {
      "text/html": [
       "<table class=\"uk-table uk-table-middle uk-table-divider uk-table-hover uk-table-small\">\n",
       "  <thead>\n",
       "    <tr>\n",
       "      <th>NAME</th>\n",
       "      <th>AGE</th>\n",
       "      <th>CITY</th>\n",
       "    </tr>\n",
       "  </thead>\n",
       "  <tbody>\n",
       "    <tr>\n",
       "      <td class=\"font-bold\">Alice</td>\n",
       "      <td>30 years</td>\n",
       "      <td>New York</td>\n",
       "    </tr>\n",
       "    <tr>\n",
       "      <td class=\"font-bold\">Bob</td>\n",
       "      <td>25 years</td>\n",
       "      <td>London</td>\n",
       "    </tr>\n",
       "  </tbody>\n",
       "</table>\n"
      ],
      "text/plain": [
       "<IPython.core.display.HTML object>"
      ]
     },
     "execution_count": null,
     "metadata": {},
     "output_type": "execute_result"
    }
   ],
   "source": [
    "# Example usage:\n",
    "def header_render(v): return Th(v.upper())\n",
    "def body_render(k, v):\n",
    "    match k.lower():\n",
    "        case 'name': return Td(v, cls='font-bold')\n",
    "        case 'age':  return Td(f\"{v} years\")\n",
    "        case _:      return Td(v)\n",
    "\n",
    "header_data = ['Name', 'Age', 'City']\n",
    "body_data = [{'Name': 'Alice', 'Age': 30, 'City': 'New York'},\n",
    "             {'Name': 'Bob', 'Age': 25, 'City': 'London'}]\n",
    "\n",
    "show(TableFromDicts(header_data, body_data, header_cell_render=header_render, body_cell_render=body_render))"
   ]
  },
  {
   "cell_type": "code",
   "execution_count": null,
   "metadata": {},
   "outputs": [
    {
     "data": {
      "text/html": [
       "<table class=\"uk-table uk-table-middle uk-table-divider uk-table-hover uk-table-small\">\n",
       "  <thead>\n",
       "    <tr>\n",
       "      <th>NAME</th>\n",
       "      <th>AGE</th>\n",
       "      <th>CITY</th>\n",
       "    </tr>\n",
       "  </thead>\n",
       "  <tbody>\n",
       "    <tr>\n",
       "      <td class=\"font-bold\">Alice</td>\n",
       "      <td>30 years</td>\n",
       "      <td>New York</td>\n",
       "    </tr>\n",
       "    <tr>\n",
       "      <td class=\"font-bold\">Bob</td>\n",
       "      <td>25 years</td>\n",
       "      <td>London</td>\n",
       "    </tr>\n",
       "  </tbody>\n",
       "</table>\n"
      ],
      "text/plain": [
       "<IPython.core.display.HTML object>"
      ]
     },
     "execution_count": null,
     "metadata": {},
     "output_type": "execute_result"
    }
   ],
   "source": [
    "# Example usage:\n",
    "def header_render(v): return Th(v.upper())\n",
    "def body_render(k, v):\n",
    "    match k.lower():\n",
    "        case 'name': return Td(v, cls='font-bold')\n",
    "        case 'age': return Td(f\"{v} years\")\n",
    "        case _: return Td(v)\n",
    "\n",
    "header_data = ['Name', 'Age', 'City']\n",
    "body_data = [{'Name': 'Alice', 'Age': 30, 'City': 'New York'},\n",
    "             {'Name': 'Bob', 'Age': 25, 'City': 'London'}]\n",
    "\n",
    "show(TableFromDicts(header_data, body_data, header_cell_render=header_render, body_cell_render=body_render))"
   ]
  },
  {
   "cell_type": "markdown",
   "metadata": {},
   "source": [
    "## Markdown"
   ]
  },
  {
   "cell_type": "code",
   "execution_count": null,
   "metadata": {},
   "outputs": [],
   "source": [
    "#| export\n",
    "def apply_classes(html_str:str, \n",
    "                  class_map=None, \n",
    "                  class_map_mods=None):\n",
    "    from lxml import html, etree\n",
    "    if not class_map:\n",
    "        class_map = {\n",
    "            'h1': 'uk-h1 my-4 mb-4',\n",
    "            'h2': 'uk-h2 my-8',\n",
    "            'h3': 'uk-h3 my-8',\n",
    "            'h4': 'uk-h4 my-8',\n",
    "            'ul': \"uk-list uk-list-disc mb-4\",\n",
    "            'a': \"uk-link\",\n",
    "            'p': 'my-1',\n",
    "            'blockquote': \"uk-blockquote mb-8\",\n",
    "            'hr':'uk-divider-icon my-4',\n",
    "            'table':'uk-table-middle uk-table-divider uk-table-hover uk-table-small'\n",
    "        }\n",
    "\n",
    "    if class_map_mods: class_map = {**class_map, **class_map_mods}\n",
    "    html_str = html.fromstring(html_str)\n",
    "    for tag, classes in class_map.items():\n",
    "        for element in html_str.xpath(f'//{tag}'):\n",
    "            existing_class = element.get('class', '')\n",
    "            new_class = f\"{existing_class} {classes}\".strip()\n",
    "            element.set('class', new_class)\n",
    "    return etree.tostring(html_str, encoding='unicode', method='html')"
   ]
  },
  {
   "cell_type": "code",
   "execution_count": null,
   "metadata": {},
   "outputs": [],
   "source": [
    "_test = apply_classes(\"<div><h1>Hello, world!</h1></div>\", class_map_mods={'h1': 'uk-h1 my-4 mb-4'})\n",
    "assert _test == '<div><h1 class=\"uk-h1 my-4 mb-4\">Hello, world!</h1></div>'"
   ]
  },
  {
   "cell_type": "code",
   "execution_count": null,
   "metadata": {},
   "outputs": [],
   "source": [
    "#| export\n",
    "def render_md(md_content):\n",
    "    try: import markdown2\n",
    "    except ImportError: raise ImportError(\"Install 'markdown2' to use the 'render_md' function\")\n",
    "    html_content = markdown2.markdown(md_content)\n",
    "    styled_html = apply_classes(html_content)\n",
    "    return NotStr(styled_html)"
   ]
  },
  {
   "cell_type": "code",
   "execution_count": null,
   "metadata": {},
   "outputs": [],
   "source": [
    "def render_md(md_content):\n",
    "    try:\n",
    "        html_content = markdown2.markdown(md_content)\n",
    "        styled_html = apply_classes(html_content)\n",
    "        return NotStr(styled_html)\n",
    "    except Exception as e:\n",
    "        print(f\"Error rendering markdown: {str(e)}\", file=sys.stderr)\n",
    "        return None"
   ]
  },
  {
   "cell_type": "markdown",
   "metadata": {},
   "source": [
    "## _"
   ]
  },
  {
   "cell_type": "code",
   "execution_count": null,
   "metadata": {},
   "outputs": [],
   "source": [
    "#| hide\n",
    "import nbdev; nbdev.nbdev_export()"
   ]
  },
  {
   "cell_type": "code",
   "execution_count": null,
   "metadata": {},
   "outputs": [
    {
     "data": {
      "text/html": [
       "<script>\n",
       "window.addEventListener('load', function() {\n",
       "    for (let i = 1; i <= 6; i++) {\n",
       "        document.querySelectorAll(`h${i}`).forEach(el => {\n",
       "            el.classList.add(`uk-h${i}`);\n",
       "        });\n",
       "    }\n",
       "});\n",
       "\n",
       "document.querySelectorAll('.sidebar-item-text').forEach(el => {\n",
       "  el.style.visibility = 'visible';\n",
       "})\n",
       "\n",
       "</script>\n"
      ],
      "text/plain": [
       "<IPython.core.display.HTML object>"
      ]
     },
     "metadata": {},
     "output_type": "display_data"
    }
   ],
   "source": [
    "%%html\n",
    "<script>\n",
    "window.addEventListener('load', function() {\n",
    "    for (let i = 1; i <= 6; i++) {\n",
    "        document.querySelectorAll(`h${i}`).forEach(el => {\n",
    "            el.classList.add(`uk-h${i}`);\n",
    "        });\n",
    "    }\n",
    "});\n",
    "\n",
    "document.querySelectorAll('.sidebar-item-text').forEach(el => {\n",
    "  el.style.visibility = 'visible';\n",
    "})\n",
    "\n",
    "</script>"
   ]
  }
 ],
 "metadata": {
  "kernelspec": {
   "display_name": "Python 3 (ipykernel)",
   "language": "python",
   "name": "python3"
  },
  "language_info": {
   "codemirror_mode": {
    "name": "ipython",
    "version": 3
   },
   "file_extension": ".py",
   "mimetype": "text/x-python",
   "name": "python",
   "nbconvert_exporter": "python",
   "pygments_lexer": "ipython3",
   "version": "3.12.4"
  }
 },
 "nbformat": 4,
 "nbformat_minor": 4
}
