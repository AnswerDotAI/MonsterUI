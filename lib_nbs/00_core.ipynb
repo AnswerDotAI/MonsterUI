{
 "cells": [
  {
   "cell_type": "markdown",
   "metadata": {},
   "source": [
    "# Core\n",
    "\n",
    "> The building blocks to the UI"
   ]
  },
  {
   "cell_type": "markdown",
   "metadata": {},
   "source": [
    "## Imports"
   ]
  },
  {
   "cell_type": "markdown",
   "metadata": {},
   "source": [
    "\n"
   ]
  },
  {
   "cell_type": "code",
   "execution_count": null,
   "metadata": {},
   "outputs": [],
   "source": [
    "#| default_exp core"
   ]
  },
  {
   "cell_type": "code",
   "execution_count": null,
   "metadata": {},
   "outputs": [],
   "source": [
    "#| hide\n",
    "#| export\n",
    "import fasthtml.common as fh\n",
    "from fasthtml.svg import Svg\n",
    "from enum import Enum\n",
    "from fasthtml.components import Uk_select,Uk_input_tag\n",
    "from functools import partial\n",
    "from itertools import zip_longest\n",
    "from typing import Union, Tuple, Optional\n",
    "from fastcore.all import L, delegates\n",
    "import copy"
   ]
  },
  {
   "cell_type": "code",
   "execution_count": null,
   "metadata": {},
   "outputs": [],
   "source": [
    "from nbdev.showdoc import show_doc\n",
    "from IPython.display import HTML"
   ]
  },
  {
   "cell_type": "markdown",
   "metadata": {},
   "source": [
    "## Utils"
   ]
  },
  {
   "cell_type": "markdown",
   "metadata": {},
   "source": [
    "### Tests"
   ]
  },
  {
   "cell_type": "code",
   "execution_count": null,
   "metadata": {},
   "outputs": [],
   "source": [
    "from fastcore.test import *"
   ]
  },
  {
   "cell_type": "code",
   "execution_count": null,
   "metadata": {},
   "outputs": [],
   "source": [
    "def test_xml_eq(a, b):\n",
    "    \"Tests if if 2 FT components generate the same xml\"\n",
    "    test_eq(*map(lambda x: x if isinstance(x,str) else to_xml(x), (a, b)))"
   ]
  },
  {
   "cell_type": "markdown",
   "metadata": {},
   "source": [
    "### Other"
   ]
  },
  {
   "cell_type": "code",
   "execution_count": null,
   "metadata": {},
   "outputs": [],
   "source": [
    "#| export\n",
    "# need a better name, stringify might be too general for what it does \n",
    "def stringify(o # String, Tuple, or Enum options we want stringified\n",
    "             ): # String that can be passed FT comp args (such as `cls=`)\n",
    "    \"Converts input types into strings that can be passed to FT components\"  \n",
    "    if fh.is_listy(o): return ' '.join(map(str,o)) if o else \"\"\n",
    "    return o.__str__()"
   ]
  },
  {
   "cell_type": "code",
   "execution_count": null,
   "metadata": {},
   "outputs": [],
   "source": [
    "assert stringify('abc') == 'abc'\n",
    "assert stringify(('abc','def')) == 'abc def'\n",
    "assert 'uk-input ' + stringify(()) == 'uk-input '\n",
    "assert 'uk-input ' + stringify(\"\") == 'uk-input '"
   ]
  },
  {
   "cell_type": "code",
   "execution_count": null,
   "metadata": {},
   "outputs": [],
   "source": [
    "#| export\n",
    "class VEnum(Enum):\n",
    "    def __add__(self, other):\n",
    "        \"Add other enums, listy, or strings\"\n",
    "        return stringify((self, other))\n",
    "\n",
    "    def __radd__(self, other):\n",
    "        \"Add other enums, listy, or strings\"\n",
    "        return stringify((other, self))    \n",
    "    \n",
    "    def __str__(self):\n",
    "        base = self.__class__.__name__.lstrip('Uk').rstrip('T')\n",
    "        return f\"uk-{base.lower()}-{self.value}\".strip('-')"
   ]
  },
  {
   "cell_type": "code",
   "execution_count": null,
   "metadata": {},
   "outputs": [],
   "source": [
    "class TestT(VEnum):\n",
    "    foo = 'foo'\n",
    "    baz = 'baaz'\n",
    "\n",
    "assert str(TestT.baz) == 'uk-test-baaz'\n",
    "assert TestT.baz + TestT.foo + ' bar' == 'uk-test-baaz uk-test-foo bar'\n",
    "assert stringify((TestT.baz, TestT.foo, 'bar')) == 'uk-test-baaz uk-test-foo bar'"
   ]
  },
  {
   "cell_type": "markdown",
   "metadata": {},
   "source": [
    "## Theme"
   ]
  },
  {
   "cell_type": "markdown",
   "metadata": {},
   "source": [
    "You can select a theme color to and get all the headers.  This brings in the most standard grouping:\n",
    "+ Tailwind: Optional, but typically FrankenUI is used in conjunction with tailwind\n",
    "+ Uikit: Many things are styled with uikit\n",
    "+ UIkit icons: Gives many icons OOTB, and is nice to have handy.\n",
    "+ Franken WC: Neccesary for some of the (minimal) interactivity components have"
   ]
  },
  {
   "cell_type": "code",
   "execution_count": null,
   "metadata": {},
   "outputs": [],
   "source": [
    "#| export\n",
    "class Theme(Enum):\n",
    "    slate = \"slate\"\n",
    "    stone = \"stone\"\n",
    "    gray = \"gray\"\n",
    "    neutral = \"neutral\"\n",
    "    red = \"red\"\n",
    "    rose = \"rose\"\n",
    "    orange = \"orange\"\n",
    "    green = \"green\"\n",
    "    blue = \"blue\"\n",
    "    yellow = \"yellow\"\n",
    "    violet = \"violet\"\n",
    "    zinc = \"zinc\"\n",
    "\n",
    "    def headers(self):\n",
    "        js = (fh.Script(src=\"https://cdn.tailwindcss.com\"),\n",
    "              fh.Script(src=\"https://cdn.jsdelivr.net/npm/uikit@3.21.6/dist/js/uikit.min.js\"),\n",
    "              fh.Script(src=\"https://cdn.jsdelivr.net/npm/uikit@3.21.6/dist/js/uikit-icons.min.js\"),\n",
    "              fh.Script(type=\"module\", src=\"https://unpkg.com/franken-wc@0.0.6/dist/js/wc.iife.js\")\n",
    "              )\n",
    "        _url = f\"https://unpkg.com/franken-wc@0.0.6/dist/css/{self.value}.min.css\"\n",
    "        return (*js, fh.Link(rel=\"stylesheet\", href=_url))"
   ]
  },
  {
   "cell_type": "code",
   "execution_count": null,
   "metadata": {},
   "outputs": [],
   "source": [
    "hdrs = Theme.blue.headers()\n",
    "app = fh.FastHTML(hdrs=hdrs)"
   ]
  },
  {
   "cell_type": "markdown",
   "metadata": {},
   "source": [
    "## Text Style"
   ]
  },
  {
   "cell_type": "markdown",
   "metadata": {},
   "source": [
    "#### `B` (Base)"
   ]
  },
  {
   "cell_type": "markdown",
   "metadata": {},
   "source": [
    "Base enums all will end with `B`.  These are designed to make classes discoverable in python.  These should be generally a 1:1 mapping to a class.\n",
    "\n",
    "These are the lowest level class selection options without dropping into strings.  We don't need to cover everything, but we want most useful things in here."
   ]
  },
  {
   "cell_type": "code",
   "execution_count": null,
   "metadata": {},
   "outputs": [],
   "source": [
    "#| export\n",
    "class TextB(Enum):\n",
    "    sz_xsmall = 'text-xs'\n",
    "    sz_small = 'text-sm'\n",
    "    sz_medium = 'text-base'\n",
    "    sz_large = 'text-lg'\n",
    "    cl_muted = 'uk-text-muted'\n",
    "    \n",
    "    wt_light = 'font-light'\n",
    "    wt_normal = 'font-normal'\n",
    "    wt_medium = 'font-medium'\n",
    "    wt_bold = 'font-bold'\n",
    "    \n",
    "    def __str__(self): return stringify(self.value)"
   ]
  },
  {
   "cell_type": "code",
   "execution_count": null,
   "metadata": {},
   "outputs": [
    {
     "name": "stdout",
     "output_type": "stream",
     "text": [
      "text-xs\n"
     ]
    }
   ],
   "source": [
    "print(TextB.sz_xsmall)"
   ]
  },
  {
   "cell_type": "markdown",
   "metadata": {},
   "source": [
    "### `T` (Transform)"
   ]
  },
  {
   "cell_type": "markdown",
   "metadata": {},
   "source": [
    "Transform enums all will end with `T`.  These are designed to make useful class groups discoverable in python.\n",
    "\n",
    "Each option should be a group of enums that are useful in many cases.  For example `muted_sm` is very commonly used as a subheader below a card title and looks great.  These should be high level things that users can generally just pick from to have a decent default without much thought."
   ]
  },
  {
   "cell_type": "code",
   "execution_count": null,
   "metadata": {},
   "outputs": [],
   "source": [
    "#| export\n",
    "class TextT(Enum):\n",
    "    muted_xs =  TextB.sz_xsmall, TextB.cl_muted \n",
    "    muted_sm =  TextB.sz_small,  TextB.cl_muted # Text below card headings\n",
    "    muted_med = TextB.sz_medium, TextB.cl_muted \n",
    "    muted_lg =  TextB.sz_large,  TextB.cl_muted \n",
    "    medium_sm = TextB.sz_small,  TextB.wt_medium\n",
    "    medium_xs = TextB.sz_xsmall, TextB.wt_medium\n",
    "\n",
    "    def __str__(self): return stringify(self.value)"
   ]
  },
  {
   "cell_type": "code",
   "execution_count": null,
   "metadata": {},
   "outputs": [
    {
     "name": "stdout",
     "output_type": "stream",
     "text": [
      "text-sm uk-text-muted\n"
     ]
    }
   ],
   "source": [
    "print(TextT.muted_sm)"
   ]
  },
  {
   "cell_type": "markdown",
   "metadata": {},
   "source": [
    "## Icons and Avatars"
   ]
  },
  {
   "cell_type": "code",
   "execution_count": null,
   "metadata": {},
   "outputs": [],
   "source": [
    "#| export\n",
    "def Icon(icon,    # Icon name from https://getuikit.com/docs/icon\n",
    "           ratio=1, # Icon ratio/size \n",
    "           cls=()   # Span classes\n",
    "          ):        # Span with Icon\n",
    "    \"Creates a Span with the given icon\"\n",
    "    return fh.Span(uk_icon=f\"icon: {icon}; ratio: {ratio}\",cls=stringify(cls))"
   ]
  },
  {
   "cell_type": "code",
   "execution_count": null,
   "metadata": {},
   "outputs": [
    {
     "data": {
      "text/markdown": [
       "```html\n",
       "<span uk-icon=\"icon: heart; ratio: 0.5\"></span>\n",
       "```"
      ],
      "text/plain": [
       "span((),{'uk-icon': 'icon: heart; ratio: 0.5', 'class': ''})"
      ]
     },
     "execution_count": null,
     "metadata": {},
     "output_type": "execute_result"
    }
   ],
   "source": [
    "Icon('heart', 0.5)"
   ]
  },
  {
   "cell_type": "code",
   "execution_count": null,
   "metadata": {},
   "outputs": [],
   "source": [
    "#| export\n",
    "def DiceBearAvatar(seed_name, # Seed name (ie 'Isaac Flath')\n",
    "                   h,         # Height \n",
    "                   w          # Width\n",
    "                  ):          # Span with Avatar\n",
    "    url = 'https://api.dicebear.com/8.x/lorelei/svg?seed='\n",
    "    return fh.Span(cls=f\"relative flex h-{h} w-{w} shrink-0 overflow-hidden rounded-full bg-accent\")(\n",
    "            fh.Img(cls=\"aspect-square h-full w-full\", alt=\"Avatar\", src=f\"{url}{seed_name}\"))"
   ]
  },
  {
   "cell_type": "code",
   "execution_count": null,
   "metadata": {},
   "outputs": [
    {
     "data": {
      "text/markdown": [
       "```html\n",
       "<span class=\"relative flex h-10 w-10 shrink-0 overflow-hidden rounded-full bg-accent\"><img alt=\"Avatar\" src=\"https://api.dicebear.com/8.x/lorelei/svg?seed=Isaac Flath\" class=\"aspect-square h-full w-full\"></span>\n",
       "```"
      ],
      "text/plain": [
       "span((img((),{'alt': 'Avatar', 'src': 'https://api.dicebear.com/8.x/lorelei/svg?seed=Isaac Flath', 'class': 'aspect-square h-full w-full'}),),{'class': 'relative flex h-10 w-10 shrink-0 overflow-hidden rounded-full bg-accent'})"
      ]
     },
     "execution_count": null,
     "metadata": {},
     "output_type": "execute_result"
    }
   ],
   "source": [
    "DiceBearAvatar('Isaac Flath', 10, 10)"
   ]
  },
  {
   "cell_type": "markdown",
   "metadata": {},
   "source": [
    "## Spacing | Flexbox | Grid"
   ]
  },
  {
   "cell_type": "markdown",
   "metadata": {},
   "source": [
    "The most common pattern for spacing it to organize the general high level page layout with a `Grid`, and smaller components with `Flex`.\n",
    "\n",
    ":::{.callout-tip}\n",
    "Play [Flex Box Froggy](https://flexboxfroggy.com/) to get an understanding of flex box.\n",
    ":::"
   ]
  },
  {
   "cell_type": "code",
   "execution_count": null,
   "metadata": {},
   "outputs": [],
   "source": [
    "#|exports\n",
    "class FlexT(VEnum):\n",
    "    block       = ''\n",
    "    inline      = 'inline'\n",
    "    #horizontal\n",
    "    left        = 'left'\n",
    "    center      = 'center'\n",
    "    right       = 'right'\n",
    "    between     = 'between'\n",
    "    around      = 'around'\n",
    "    #vertical\n",
    "    stretch     = 'stretch'\n",
    "    top         = 'top'\n",
    "    middle      = 'middle'\n",
    "    botton      = 'bottom'\n",
    "    #direction\n",
    "    row         = 'row'\n",
    "    row_reverse = 'row-reverse'\n",
    "    col         = 'col'\n",
    "    col_reverse = 'col-reverse'\n",
    "    #wrap\n",
    "    nowrap      = 'nowrap'\n",
    "    wrap        = 'wrap'\n",
    "    wrap_reverse= 'wrap-reverse'"
   ]
  },
  {
   "cell_type": "code",
   "execution_count": null,
   "metadata": {},
   "outputs": [
    {
     "data": {
      "text/markdown": [
       "```html\n",
       "<div class=\"uk-flex uk-flex-left uk-flex-middle some_cls\"></div>\n",
       "\n",
       "```"
      ],
      "text/plain": [
       "div((),{'class': 'uk-flex uk-flex-left uk-flex-middle some_cls'})"
      ]
     },
     "execution_count": null,
     "metadata": {},
     "output_type": "execute_result"
    }
   ],
   "source": [
    "fh.Div(cls=(FlexT.block,FlexT.left,FlexT.middle,'some_cls'))"
   ]
  },
  {
   "cell_type": "code",
   "execution_count": null,
   "metadata": {},
   "outputs": [],
   "source": [
    "#|exports\n",
    "class GridT(VEnum):\n",
    "    # gap\n",
    "    small  = 'small'\n",
    "    medium = 'medium'\n",
    "    large  = 'large'\n",
    "    none   = 'collapse'"
   ]
  },
  {
   "cell_type": "code",
   "execution_count": null,
   "metadata": {},
   "outputs": [],
   "source": [
    "#|export\n",
    "def Grid(*c,      # Divs/Containers that should be divided into a grid\n",
    "         cols=3,  # Number of columns\n",
    "         cls=(),  # Additional classes for Grid Div\n",
    "         **kwargs # Additional args for Grid Div\n",
    "        ):\n",
    "    \"\"\"Creates a grid with the given number of columns, often used for a grid of cards\"\"\"\n",
    "    cls = stringify(cls)\n",
    "    return fh.Div(cls=(f'grid grid-cols-{cols}',cls), **kwargs)(*c)"
   ]
  },
  {
   "cell_type": "code",
   "execution_count": null,
   "metadata": {},
   "outputs": [
    {
     "data": {
      "text/markdown": [
       "```html\n",
       "<div class=\"grid grid-cols-3 uk-grid-small\">\n",
       "  <div>0</div>\n",
       "  <div>1</div>\n",
       "  <div>2</div>\n",
       "  <div>3</div>\n",
       "  <div>4</div>\n",
       "  <div>5</div>\n",
       "</div>\n",
       "\n",
       "```"
      ],
      "text/plain": [
       "div((div((0,),{}), div((1,),{}), div((2,),{}), div((3,),{}), div((4,),{}), div((5,),{})),{'class': 'grid grid-cols-3 uk-grid-small'})"
      ]
     },
     "execution_count": null,
     "metadata": {},
     "output_type": "execute_result"
    }
   ],
   "source": [
    "Grid(*map(fh.Div, range(6)),cols=3, cls=GridT.small)"
   ]
  },
  {
   "cell_type": "code",
   "execution_count": null,
   "metadata": {},
   "outputs": [],
   "source": [
    "#| export\n",
    "def ResponsiveGrid(*c, sm=1, md=2, lg=3, xl=4, gap=2, cls='', **kwargs):\n",
    "    \"Creates a responsive grid with the given number of columns for different screen sizes\"\n",
    "    return fh.Div(cls=f'grid grid-cols-{sm} md:grid-cols-{md} lg:grid-cols-{lg} xl:grid-cols-{xl} gap-{gap} ' + stringify(cls), **kwargs)(*c)"
   ]
  },
  {
   "cell_type": "markdown",
   "metadata": {},
   "source": [
    "We can use the `FlexT` enum above to create `Div`s that arrange components in a flex box in different ways.  \n",
    "\n",
    "For example, `FullySpacedDiv` applies a very common pattern so we've made a function that helps to this for you.  But if you look at the code, it's really just using the enum to apply the right combonation of flex classes."
   ]
  },
  {
   "cell_type": "code",
   "execution_count": null,
   "metadata": {},
   "outputs": [],
   "source": [
    "#| exports\n",
    "def FullySpacedDiv(*c,                # Components\n",
    "                   cls='uk-width-1-1',# Classes for outer div\n",
    "                   **kwargs           # Additional args for outer div\n",
    "                  ):                  # Div with spaced components via flex classes\n",
    "    \"Creates a flex div with it's components having as much space between them as possible\"\n",
    "    cls = stringify(cls)\n",
    "    return fh.Div(cls=(FlexT.block,FlexT.between,FlexT.middle,cls), **kwargs)(*c)"
   ]
  },
  {
   "cell_type": "code",
   "execution_count": null,
   "metadata": {},
   "outputs": [
    {
     "data": {
      "text/markdown": [
       "```html\n",
       "<div class=\"uk-flex uk-flex-between uk-flex-middle uk-width-1-1\">\n",
       "  <p>0</p>\n",
       "  <p>1</p>\n",
       "  <p>2</p>\n",
       "</div>\n",
       "\n",
       "```"
      ],
      "text/plain": [
       "div((p((0,),{}), p((1,),{}), p((2,),{})),{'class': 'uk-flex uk-flex-between uk-flex-middle uk-width-1-1'})"
      ]
     },
     "execution_count": null,
     "metadata": {},
     "output_type": "execute_result"
    }
   ],
   "source": [
    "FullySpacedDiv(*map(fh.P, range(3)))"
   ]
  },
  {
   "cell_type": "code",
   "execution_count": null,
   "metadata": {},
   "outputs": [],
   "source": [
    "#| export\n",
    "def CenteredDiv(*c,      # Components\n",
    "                cls=(),  # Classes for outer div\n",
    "                **kwargs # Additional args for outer div\n",
    "               ): # Div with components centered in it\n",
    "    \"Creates a flex div with it's components centered in it\"\n",
    "    cls=stringify(cls)\n",
    "    return fh.Div(cls=(FlexT.block,FlexT.col,FlexT.middle,FlexT.center,cls),**kwargs)(*c)"
   ]
  },
  {
   "cell_type": "code",
   "execution_count": null,
   "metadata": {},
   "outputs": [
    {
     "data": {
      "text/markdown": [
       "```html\n",
       "<div class=\"uk-flex uk-flex-col uk-flex-middle uk-flex-center \">\n",
       "  <p>0</p>\n",
       "  <p>1</p>\n",
       "  <p>2</p>\n",
       "</div>\n",
       "\n",
       "```"
      ],
      "text/plain": [
       "div((p((0,),{}), p((1,),{}), p((2,),{})),{'class': 'uk-flex uk-flex-col uk-flex-middle uk-flex-center '})"
      ]
     },
     "execution_count": null,
     "metadata": {},
     "output_type": "execute_result"
    }
   ],
   "source": [
    "CenteredDiv(*map(fh.P, range(3)))"
   ]
  },
  {
   "cell_type": "code",
   "execution_count": null,
   "metadata": {},
   "outputs": [],
   "source": [
    "#| export\n",
    "def LAlignedDiv(*c,      # Components\n",
    "                cls=(),  # Classes for outer div\n",
    "                **kwargs # Additional args for outer div\n",
    "               ): # Div with components aligned to the left\n",
    "    \"Creates a flex div with it's components aligned to the left\"\n",
    "    cls=stringify(cls)\n",
    "    return fh.Div(cls=(FlexT.block,FlexT.left,FlexT.middle,cls), **kwargs)(*c)"
   ]
  },
  {
   "cell_type": "code",
   "execution_count": null,
   "metadata": {},
   "outputs": [
    {
     "data": {
      "text/markdown": [
       "```html\n",
       "<div class=\"uk-flex uk-flex-left uk-flex-middle \">\n",
       "  <p>0</p>\n",
       "  <p>1</p>\n",
       "  <p>2</p>\n",
       "</div>\n",
       "\n",
       "```"
      ],
      "text/plain": [
       "div((p((0,),{}), p((1,),{}), p((2,),{})),{'class': 'uk-flex uk-flex-left uk-flex-middle '})"
      ]
     },
     "execution_count": null,
     "metadata": {},
     "output_type": "execute_result"
    }
   ],
   "source": [
    "LAlignedDiv(*map(fh.P, range(3)))"
   ]
  },
  {
   "cell_type": "code",
   "execution_count": null,
   "metadata": {},
   "outputs": [],
   "source": [
    "#| export\n",
    "def RAlignedDiv(*c,      # Components\n",
    "                cls=(),  # Classes for outer div\n",
    "                **kwargs # Additional args for outer div\n",
    "               ): # Div with components aligned to the right\n",
    "    \"Creates a flex div with it's components aligned to the right\"\n",
    "    cls=stringify(cls)\n",
    "    return fh.Div(cls=(FlexT.block,FlexT.right,FlexT.middle,cls), **kwargs)(*c)"
   ]
  },
  {
   "cell_type": "code",
   "execution_count": null,
   "metadata": {},
   "outputs": [
    {
     "data": {
      "text/markdown": [
       "```html\n",
       "<div class=\"uk-flex uk-flex-right uk-flex-middle \">\n",
       "  <p>0</p>\n",
       "  <p>1</p>\n",
       "  <p>2</p>\n",
       "</div>\n",
       "\n",
       "```"
      ],
      "text/plain": [
       "div((p((0,),{}), p((1,),{}), p((2,),{})),{'class': 'uk-flex uk-flex-right uk-flex-middle '})"
      ]
     },
     "execution_count": null,
     "metadata": {},
     "output_type": "execute_result"
    }
   ],
   "source": [
    "RAlignedDiv(*map(fh.P, range(3)))"
   ]
  },
  {
   "cell_type": "code",
   "execution_count": null,
   "metadata": {},
   "outputs": [],
   "source": [
    "#| export\n",
    "def VStackedDiv(*c, cls='', **kwargs):\n",
    "    cls=stringify(cls)\n",
    "    return fh.Div(cls=(FlexT.block,FlexT.col,FlexT.middle,cls), **kwargs)(*c)"
   ]
  },
  {
   "cell_type": "code",
   "execution_count": null,
   "metadata": {},
   "outputs": [],
   "source": [
    "#| export\n",
    "def HStackedDiv(*c, cls='', **kwargs):\n",
    "    cls=stringify(cls)\n",
    "    return fh.Div(cls=(FlexT.block,FlexT.row,FlexT.middle,cls), **kwargs)(*c)"
   ]
  },
  {
   "cell_type": "code",
   "execution_count": null,
   "metadata": {},
   "outputs": [],
   "source": [
    "#| export\n",
    "def SpaceBetweenDiv(*c, cls='', **kwargs):\n",
    "    cls = stringify(cls)\n",
    "    return fh.Div(cls=(FlexT.block,FlexT.between,FlexT.middle,cls), **kwargs)(*c)"
   ]
  },
  {
   "cell_type": "markdown",
   "metadata": {},
   "source": [
    "## Basic Inputs"
   ]
  },
  {
   "cell_type": "markdown",
   "metadata": {},
   "source": [
    "Inputs of various types often go with a label.  Because of this we created functions to do this for you along with properly linking the `for` attribute from the lable to the input.  We also have some nice defaults, such as putting a little spacing between the label and the input"
   ]
  },
  {
   "cell_type": "code",
   "execution_count": null,
   "metadata": {},
   "outputs": [],
   "source": [
    "#| export\n",
    "def GenericInput(input_fn: fh.FT, # FT Components that generates a user input (e.g. `TextArea`)\n",
    "                    label:str|fh.FT=(), # String or FT component that goes in `Label`\n",
    "                    lbl_cls:str|Enum=(), # Additional classes that goes in `Label`\n",
    "                    inp_cls:str|Enum='', # Additional classes that go in user input (e.g. `TextArea`)\n",
    "                    cls:str|Enum=('space-y-2',), # Div cls\n",
    "                    id: str=\"\", # ID of the user input (e.g. `TextArea`)\n",
    "                   **kwargs # Passed to `input_fn` (e.g. ` TextArea`)\n",
    "                  ) -> fh.FT: # FT component in structure `(Div(label,input))`\n",
    "    \"`Div(Label,Input)` component with Uk styling injected appropriately. Generally you should higher level API, such as `UKTextArea` which is created for you in this library\"\n",
    "    lbl_cls, inp_cls, cls = map(stringify,(lbl_cls, inp_cls, cls))\n",
    "    if label:  label = fh.Label(cls='uk-form-label '+lbl_cls, fr=id)(label)\n",
    "    res = input_fn(cls=inp_cls, **kwargs)\n",
    "    return fh.Div(cls=cls)(label, res)"
   ]
  },
  {
   "cell_type": "code",
   "execution_count": null,
   "metadata": {},
   "outputs": [],
   "source": [
    "#| export\n",
    "@delegates(GenericInput,but=['input_fn','inp_cls'])\n",
    "def Input(*args, inp_cls='', **kwargs): \n",
    "    \"Creates a text input with uk styling\"\n",
    "    inp_cls = ('uk-input',stringify(inp_cls))\n",
    "    return GenericInput(fh.Input, *args, inp_cls=inp_cls, **kwargs)"
   ]
  },
  {
   "cell_type": "code",
   "execution_count": null,
   "metadata": {},
   "outputs": [
    {
     "data": {
      "text/markdown": [
       "```html\n",
       "<div class=\"space-y-2\">\n",
       "<label for=\"my_id\" class=\"uk-form-label \">myLabel</label>  <input class=\"uk-input \">\n",
       "</div>\n",
       "\n",
       "```"
      ],
      "text/plain": [
       "div((label(('myLabel',),{'for': 'my_id', 'class': 'uk-form-label '}), input((),{'class': 'uk-input '})),{'class': 'space-y-2'})"
      ]
     },
     "execution_count": null,
     "metadata": {},
     "output_type": "execute_result"
    }
   ],
   "source": [
    "Input('myLabel', id='my_id')"
   ]
  },
  {
   "cell_type": "code",
   "execution_count": null,
   "metadata": {},
   "outputs": [],
   "source": [
    "#|export\n",
    "@delegates(GenericInput,but=['input_fn','inp_cls'])\n",
    "def Switch(*args, inp_cls='', **kwargs): \n",
    "    \"Creates a switch input with uk styling\"\n",
    "    inp_cls = ('uk-toggle-switch uk-form-switch',stringify(inp_cls))\n",
    "    return GenericInput(fh.CheckboxX, *args, inp_cls=inp_cls, **kwargs)"
   ]
  },
  {
   "cell_type": "code",
   "execution_count": null,
   "metadata": {},
   "outputs": [
    {
     "data": {
      "text/markdown": [
       "```html\n",
       "<div>\n",
       "  <input type=\"hidden\" skip>\n",
       "  <input type=\"checkbox\" value=\"1\" class=\"uk-toggle-switch uk-form-switch \">\n",
       "</div>\n",
       "\n",
       "```"
      ],
      "text/plain": [
       "div((input((),{'type': 'hidden', 'value': '', 'skip': True}), input((),{'type': 'checkbox', 'value': '1', 'class': 'uk-toggle-switch uk-form-switch '})),{'class': ''})"
      ]
     },
     "execution_count": null,
     "metadata": {},
     "output_type": "execute_result"
    }
   ],
   "source": [
    "Switch(cls='')"
   ]
  },
  {
   "cell_type": "code",
   "execution_count": null,
   "metadata": {},
   "outputs": [],
   "source": [
    "#|export\n",
    "@delegates(GenericInput,but=['input_fn','inp_cls'])\n",
    "def Checkbox(*args, inp_cls='', **kwargs): \n",
    "    \"Creates a checkbox input with uk styling\"\n",
    "    inp_cls = ('uk-checkbox',stringify(inp_cls))\n",
    "    return GenericInput(fh.CheckboxX, *args, inp_cls=inp_cls, **kwargs)"
   ]
  },
  {
   "cell_type": "code",
   "execution_count": null,
   "metadata": {},
   "outputs": [
    {
     "data": {
      "text/markdown": [
       "```html\n",
       "<div class=\"space-y-2\">\n",
       "<label class=\"uk-form-label \">myLabel</label>  <input type=\"hidden\" skip>\n",
       "  <input type=\"checkbox\" value=\"1\" class=\"uk-checkbox another_class\">\n",
       "</div>\n",
       "\n",
       "```"
      ],
      "text/plain": [
       "div((label(('myLabel',),{'for': '', 'class': 'uk-form-label '}), input((),{'type': 'hidden', 'value': '', 'skip': True}), input((),{'type': 'checkbox', 'value': '1', 'class': 'uk-checkbox another_class'})),{'class': 'space-y-2'})"
      ]
     },
     "execution_count": null,
     "metadata": {},
     "output_type": "execute_result"
    }
   ],
   "source": [
    "Checkbox('myLabel', inp_cls='another_class')"
   ]
  },
  {
   "cell_type": "code",
   "execution_count": null,
   "metadata": {},
   "outputs": [],
   "source": [
    "#|export\n",
    "@delegates(GenericInput,but=['input_fn','inp_cls'])\n",
    "def TextArea(*args, inp_cls='', **kwargs): \n",
    "    \"Creates a textarea with uk styling\"\n",
    "    inp_cls = ('uk-textarea',stringify(inp_cls))\n",
    "    return GenericInput(fh.Textarea, *args, inp_cls=inp_cls,  **kwargs)"
   ]
  },
  {
   "cell_type": "code",
   "execution_count": null,
   "metadata": {},
   "outputs": [
    {
     "data": {
      "text/markdown": [
       "```html\n",
       "<div class=\"space-y-2\">\n",
       "<label class=\"uk-form-label another_class\">myLabel</label><textarea class=\"uk-textarea \"></textarea></div>\n",
       "\n",
       "```"
      ],
      "text/plain": [
       "div((label(('myLabel',),{'for': '', 'class': 'uk-form-label another_class'}), textarea((),{'class': 'uk-textarea '})),{'class': 'space-y-2'})"
      ]
     },
     "execution_count": null,
     "metadata": {},
     "output_type": "execute_result"
    }
   ],
   "source": [
    "TextArea('myLabel', lbl_cls='another_class')"
   ]
  },
  {
   "cell_type": "code",
   "execution_count": null,
   "metadata": {},
   "outputs": [],
   "source": [
    "#|export\n",
    "@delegates(GenericInput,but=['input_fn','inp_cls'])\n",
    "def FormLabel(*args, inp_cls='', **kwargs): \n",
    "    \"Creates a form label with uk styling\"\n",
    "    inp_cls = ('uk-form-label',stringify(inp_cls))\n",
    "    return GenericInput(Uk_input_tag ,*args, inp_cls=inp_cls, **kwargs)"
   ]
  },
  {
   "cell_type": "code",
   "execution_count": null,
   "metadata": {},
   "outputs": [
    {
     "data": {
      "text/markdown": [
       "```html\n",
       "<div class=\"space-y-2\">\n",
       "<label class=\"uk-form-label text-sm uk-text-muted\">myLabel</label><uk-input-tag class=\"uk-form-label \"></uk-input-tag></div>\n",
       "\n",
       "```"
      ],
      "text/plain": [
       "div((label(('myLabel',),{'for': '', 'class': 'uk-form-label text-sm uk-text-muted'}), uk-input-tag((),{'class': 'uk-form-label '})),{'class': 'space-y-2'})"
      ]
     },
     "execution_count": null,
     "metadata": {},
     "output_type": "execute_result"
    }
   ],
   "source": [
    "FormLabel('myLabel', lbl_cls=TextT.muted_sm)"
   ]
  },
  {
   "cell_type": "markdown",
   "metadata": {},
   "source": [
    "## Buttons"
   ]
  },
  {
   "cell_type": "code",
   "execution_count": null,
   "metadata": {},
   "outputs": [],
   "source": [
    "#| export\n",
    "class ButtonT(VEnum):\n",
    "    default   = 'default'\n",
    "    primary   = 'primary'\n",
    "    secondary = 'secondary'\n",
    "    danger    = 'danger'\n",
    "    ghost     = 'ghost'\n",
    "    text      = 'text'\n",
    "    link      = 'link'"
   ]
  },
  {
   "cell_type": "code",
   "execution_count": null,
   "metadata": {},
   "outputs": [],
   "source": [
    "#| export\n",
    "def Button(*c, # Content for the button\n",
    "            cls=ButtonT.default, # Classes for the button\n",
    "            **kwargs # Additional args for the button\n",
    "            ):\n",
    "    \"Creates a button with uk styling\"\n",
    "    cls = stringify(cls)    \n",
    "    return fh.Button(type='button', cls=('uk-button',cls), **kwargs)(*c)"
   ]
  },
  {
   "cell_type": "code",
   "execution_count": null,
   "metadata": {},
   "outputs": [
    {
     "data": {
      "text/markdown": [
       "```html\n",
       "<button type=\"button\" class=\"uk-button uk-button-primary\">MyButton</button>\n",
       "```"
      ],
      "text/plain": [
       "button(('MyButton',),{'type': 'button', 'class': 'uk-button uk-button-primary'})"
      ]
     },
     "execution_count": null,
     "metadata": {},
     "output_type": "execute_result"
    }
   ],
   "source": [
    "Button('MyButton', cls=UkButtonT.primary)"
   ]
  },
  {
   "cell_type": "code",
   "execution_count": null,
   "metadata": {},
   "outputs": [],
   "source": [
    "#| export\n",
    "def IconButton(*c, sz='small', cls=(), **kwargs):\n",
    "    \"Creates an `IconButton` with uk styling\"\n",
    "    if sz not in ('small','medium','large'): raise ValueError(f\"Invalid size '{sz}'. Must be 'small', 'medium', or 'large'.\")\n",
    "    return fh.Button(cls=f'uk-icon-button uk-icon-button-{sz} ' + stringify(cls), **kwargs)(*c)"
   ]
  },
  {
   "cell_type": "code",
   "execution_count": null,
   "metadata": {},
   "outputs": [
    {
     "data": {
      "text/markdown": [
       "```html\n",
       "<button class=\"uk-icon-button uk-icon-button-small \"><span uk-icon=\"icon: home; ratio: 1\"></span></button>\n",
       "```"
      ],
      "text/plain": [
       "button((span((),{'uk-icon': 'icon: home; ratio: 1', 'class': ''}),),{'class': 'uk-icon-button uk-icon-button-small '})"
      ]
     },
     "execution_count": null,
     "metadata": {},
     "output_type": "execute_result"
    }
   ],
   "source": [
    "IconButton(Icon('home'))"
   ]
  },
  {
   "cell_type": "markdown",
   "metadata": {},
   "source": [
    "## Drop Downs"
   ]
  },
  {
   "cell_type": "code",
   "execution_count": null,
   "metadata": {},
   "outputs": [],
   "source": [
    "#| export\n",
    "def Options(*c,                    # Content for an `Option`\n",
    "            selected_idx:int=None, # Index location of selected `Option`\n",
    "            disabled_idxs:set=None # Idex locations of disabled `Options`\n",
    "           ):\n",
    "    \"Helper function to wrap things into `Option`s for use in `UKSelect`\"\n",
    "    return [fh.Option(o,selected=i==selected_idx, disabled=disabled_idxs and i in disabled_idxs) for i,o in enumerate(c)]"
   ]
  },
  {
   "cell_type": "code",
   "execution_count": null,
   "metadata": {},
   "outputs": [
    {
     "data": {
      "text/plain": [
       "['<option disabled>option1</option>',\n",
       " '<option selected>option2</option>',\n",
       " '<option disabled>option3</option>']"
      ]
     },
     "execution_count": null,
     "metadata": {},
     "output_type": "execute_result"
    }
   ],
   "source": [
    "list(map(fh.to_xml,Options('option1','option2','option3', selected_idx=1, disabled_idxs={0,2})))"
   ]
  },
  {
   "cell_type": "code",
   "execution_count": null,
   "metadata": {},
   "outputs": [],
   "source": [
    "#| export\n",
    "def Select(*option,            # Options for the select dropdown (can use `Options` helper function to create)\n",
    "             label=(),           # String or FT component for the label\n",
    "             lbl_cls=(),         # Additional classes for the label\n",
    "             inp_cls=(),         # Additional classes for the select input\n",
    "             cls=('space-y-2',), # Classes for the outer div\n",
    "             id=\"\",              # ID for the select input\n",
    "             name=\"\",            # Name attribute for the select input\n",
    "             placeholder=\"\",     # Placeholder text for the select input\n",
    "             searchable=False,   # Whether the select should be searchable\n",
    "             **kwargs):          # Additional arguments passed to Uk_select\n",
    "    \"Creates a select dropdown with uk styling\"\n",
    "    lbl_cls, inp_cls, cls = map(stringify, (lbl_cls, inp_cls, cls))\n",
    "    if label: \n",
    "        lbl = fh.Label(cls=f'uk-form-label {lbl_cls}', fr=id)(label) \n",
    "    select = Uk_select(*option, cls=inp_cls, uk_cloak=True, id=id, \n",
    "                       name=name, placeholder=placeholder, searchable=searchable, **kwargs)\n",
    "    return fh.Div(cls=cls)(lbl, select) if label else fh.Div(cls=cls)(select)"
   ]
  },
  {
   "cell_type": "code",
   "execution_count": null,
   "metadata": {},
   "outputs": [
    {
     "data": {
      "text/markdown": [
       "```html\n",
       "<div class=\"space-y-2\">\n",
       "<label class=\"uk-form-label \">MyLabel</label><uk-select uk-cloak placeholder=\"MyPlaceholder\"><option>a</option><option>b</option></uk-select></div>\n",
       "\n",
       "```"
      ],
      "text/plain": [
       "div((label(('MyLabel',),{'for': '', 'class': 'uk-form-label '}), uk-select((option(('a',),{'selected': False}), option(('b',),{'selected': False})),{'uk-cloak': True, 'name': '', 'placeholder': 'MyPlaceholder', 'searchable': False, 'id': '', 'class': ''})),{'class': 'space-y-2'})"
      ]
     },
     "execution_count": null,
     "metadata": {},
     "output_type": "execute_result"
    }
   ],
   "source": [
    "Select(*Options('a', 'b'), label='MyLabel', placeholder='MyPlaceholder')"
   ]
  },
  {
   "cell_type": "code",
   "execution_count": null,
   "metadata": {},
   "outputs": [],
   "source": [
    "#| exporti\n",
    "def _DropdownButtonOptions(opt_grps, opt_hdrs=None):\n",
    "    res = []\n",
    "    for g,h in zip_longest(opt_grps, fh.tuplify(opt_hdrs)):\n",
    "        if h: res.append(fh.Li(cls=\"uk-nav-header\")(h if isinstance(h,fh.FT) else fh.Div(h)))\n",
    "        if isinstance(g,(list,tuple)): res += list(map(fh.Li, g))\n",
    "        else: res.append(fh.Li(g))\n",
    "    return res"
   ]
  },
  {
   "cell_type": "code",
   "execution_count": null,
   "metadata": {},
   "outputs": [],
   "source": [
    "#| export\n",
    "def DropdownButton(\n",
    "    *opt_grp,        # List of options to be displayed in the dropdown\n",
    "    opt_hdrs=None,  # List of headers for each option group, or None\n",
    "    label=None,     # String, FT component, or None for the `Button`\n",
    "    btn_cls=ButtonT.default,  # Button class(es)\n",
    "    cls=(),         # Parent div class\n",
    "    dd_cls=(),      # Class that goes on the dropdown container\n",
    "    icon='triangle-down',  # Icon to use for the dropdown\n",
    "    icon_cls='',    # Additional classes for the icon\n",
    "    icon_position='right'  # Position of the icon: 'left' or 'right'\n",
    "    ):\n",
    "    dd_cls, btn_cls, cls, icon_cls = map(stringify, (dd_cls, btn_cls, cls, icon_cls))\n",
    "    icon_component = Icon(icon, cls=icon_cls) if icon else None\n",
    "    btn_content = [] if label is None else [label]\n",
    "    if icon_component: btn_content.insert(0 if icon_position == 'left' else len(btn_content), icon_component)\n",
    "    btn = fh.Button(type='button', cls='uk-button ' + btn_cls)(*btn_content)\n",
    "    dd = fh.Div(uk_dropdown='mode: click; pos: bottom-right', cls='uk-dropdown uk-drop ' + dd_cls)(\n",
    "        fh.Ul(cls='uk-dropdown-nav')(*_DropdownButtonOptions(opt_grp, opt_hdrs)))\n",
    "    return fh.Div(cls=cls)(fh.Div(cls='flex items-center space-x-4')(btn, dd))"
   ]
  },
  {
   "cell_type": "code",
   "execution_count": null,
   "metadata": {},
   "outputs": [],
   "source": [
    "# DropdownButton((fh.A('Option 1.1', _href='#'), fh.A('Option 1.2', _href='#')), \n",
    "#                  (fh.A('Option 2.1', _href='#'), fh.A('Option 2.2', _href='#')),\n",
    "#                  opt_hdrs=('Header 1', 'Header 2'))"
   ]
  },
  {
   "cell_type": "markdown",
   "metadata": {},
   "source": [
    "## Headings"
   ]
  },
  {
   "cell_type": "code",
   "execution_count": null,
   "metadata": {},
   "outputs": [],
   "source": [
    "#| export\n",
    "def GenericComponent(component_fn, *c, cls=(), **kwargs):\n",
    "    res = component_fn(cls=cls, **kwargs)(*c)\n",
    "    return res"
   ]
  },
  {
   "cell_type": "code",
   "execution_count": null,
   "metadata": {},
   "outputs": [],
   "source": [
    "#| export\n",
    "def H1(*c, cls=(), **kwargs): return GenericComponent(fh.H1, *c, cls=('uk-h1',stringify(cls)), **kwargs)\n",
    "def H2(*c, cls=(), **kwargs): return GenericComponent(fh.H2, *c, cls=('uk-h2',stringify(cls)), **kwargs)\n",
    "def H3(*c, cls=(), **kwargs): return GenericComponent(fh.H3, *c, cls=('uk-h3',stringify(cls)), **kwargs)\n",
    "def H4(*c, cls=(), **kwargs): return GenericComponent(fh.H4, *c, cls=('uk-h4',stringify(cls)), **kwargs)\n",
    "def H5(*c, cls=(), **kwargs): return GenericComponent(fh.H5, *c, cls=('uk-h5',stringify(cls)), **kwargs)\n",
    "def H6(*c, cls=(), **kwargs): return GenericComponent(fh.H6, *c, cls=('uk-h6',stringify(cls)), **kwargs)"
   ]
  },
  {
   "cell_type": "code",
   "execution_count": null,
   "metadata": {},
   "outputs": [
    {
     "data": {
      "text/markdown": [
       "```html\n",
       "<h1 class=\"uk-h1 another-class\">My Uk styled header</h1>\n",
       "\n",
       "```"
      ],
      "text/plain": [
       "h1(('My Uk styled header',),{'class': 'uk-h1 another-class'})"
      ]
     },
     "execution_count": null,
     "metadata": {},
     "output_type": "execute_result"
    }
   ],
   "source": [
    "H1('My Uk styled header',cls='another-class')"
   ]
  },
  {
   "cell_type": "markdown",
   "metadata": {},
   "source": [
    "## Dividers"
   ]
  },
  {
   "cell_type": "code",
   "execution_count": null,
   "metadata": {},
   "outputs": [],
   "source": [
    "#| export\n",
    "def HSplit(*c, cls=(), line_cls=(), text_cls=()):\n",
    "    cls, line_cls, text_cls = map(stringify,(cls, line_cls, text_cls))\n",
    "    return fh.Div(cls='relative ' + cls)(\n",
    "        fh.Div(cls=\"absolute inset-0 flex items-center \" + line_cls)(fh.Span(cls=\"w-full border-t border-border\")),\n",
    "        fh.Div(cls=\"relative flex justify-center \" + text_cls)(fh.Span(cls=\"bg-background px-2 \")(*c)))"
   ]
  },
  {
   "cell_type": "code",
   "execution_count": null,
   "metadata": {},
   "outputs": [],
   "source": [
    "# HSplit()"
   ]
  },
  {
   "cell_type": "code",
   "execution_count": null,
   "metadata": {},
   "outputs": [],
   "source": [
    "#| export\n",
    "def HLine(lwidth=2, y_space=4): return fh.Div(cls=f\"my-{y_space} h-[{lwidth}px] w-full bg-secondary\")"
   ]
  },
  {
   "cell_type": "code",
   "execution_count": null,
   "metadata": {},
   "outputs": [
    {
     "data": {
      "text/markdown": [
       "```html\n",
       "<div class=\"my-4 h-[2px] w-full bg-secondary\"></div>\n",
       "\n",
       "```"
      ],
      "text/plain": [
       "div((),{'class': 'my-4 h-[2px] w-full bg-secondary'})"
      ]
     },
     "execution_count": null,
     "metadata": {},
     "output_type": "execute_result"
    }
   ],
   "source": [
    "HLine()"
   ]
  },
  {
   "cell_type": "code",
   "execution_count": null,
   "metadata": {},
   "outputs": [],
   "source": [
    "#| export\n",
    "def NavDivider(): return fh.Li(cls=\"uk-nav-divider\")"
   ]
  },
  {
   "cell_type": "code",
   "execution_count": null,
   "metadata": {},
   "outputs": [
    {
     "data": {
      "text/markdown": [
       "```html\n",
       "<li class=\"uk-nav-divider\"></li>\n",
       "\n",
       "```"
      ],
      "text/plain": [
       "li((),{'class': 'uk-nav-divider'})"
      ]
     },
     "execution_count": null,
     "metadata": {},
     "output_type": "execute_result"
    }
   ],
   "source": [
    "NavDivider()"
   ]
  },
  {
   "cell_type": "markdown",
   "metadata": {},
   "source": [
    "## NavBar"
   ]
  },
  {
   "cell_type": "code",
   "execution_count": null,
   "metadata": {},
   "outputs": [],
   "source": [
    "#| export\n",
    "def NavbarDropdown(*c, label, href='#', cls='', has_header=False, **kwargs):\n",
    "    fn = lambda x: fh.Li(item, cls='uk-drop-close', href='#demo', uk_toggle=True)\n",
    "    flattened = []\n",
    "    for i, item in enumerate(c):\n",
    "        if i > 0: flattened.append(fh.Li(cls=\"uk-nav-divider\"))\n",
    "        if isinstance(item, (list,tuple)): flattened.extend(map(fh.Li, item))\n",
    "        else: flattened.append(fh.Li(item, cls=\"uk-nav-header\" if i == 0 and has_header else None, uk_toggle=True))\n",
    "    return (fh.Li(cls=cls, **kwargs)(\n",
    "                fh.A(label, cls='uk-drop-close', href='#', uk_toggle=True), \n",
    "                fh.Div(cls='uk-navbar-dropdown', uk_dropdown=\"mode: click; pos: bottom-left\")(fh.Ul(cls='uk-nav uk-dropdown-nav')(*flattened))))"
   ]
  },
  {
   "cell_type": "code",
   "execution_count": null,
   "metadata": {},
   "outputs": [],
   "source": [
    "#| export\n",
    "def _NavBarSide(n, s):\n",
    "    def add_class(item):\n",
    "        if isinstance(item, str): return fh.Li(cls='uk-navbar-item')(item)\n",
    "        else: item.attrs['class'] = f\"{item.attrs.get('class', '')} uk-navbar-item\".strip()\n",
    "        return item\n",
    "    return fh.Div(cls=f'uk-navbar-{s}')(fh.Ul(cls='uk-navbar-nav')(*map(add_class, fh.tuplify(n))))"
   ]
  },
  {
   "cell_type": "code",
   "execution_count": null,
   "metadata": {},
   "outputs": [],
   "source": [
    "#| export\n",
    "def Navbar(lnav: fh.Sequence[Union[str, fh.FT]]=None, \n",
    "             rnav: fh.Sequence[Union[str, fh.FT]]=None, \n",
    "             cls='',\n",
    "             **kwargs\n",
    "            ) -> fh.FT:\n",
    "    return fh.Div(cls='uk-navbar-container uk-width-1-1 relative z-10 '+ stringify(cls), uk_navbar=True, **kwargs)(\n",
    "             _NavBarSide(lnav,'left') if lnav else '',\n",
    "             _NavBarSide(rnav,'right') if rnav else '')"
   ]
  },
  {
   "cell_type": "markdown",
   "metadata": {},
   "source": [
    "## Sidebar"
   ]
  },
  {
   "cell_type": "code",
   "execution_count": null,
   "metadata": {},
   "outputs": [],
   "source": [
    "sidebar_items = [\"Profile\", \"Account\", \"Appearance\", \"Notifications\", \"Display\"]\n",
    "tst = fh.Ul(cls='uk-nav-primary', uk_switcher=\"connect: #component-nav; animation: uk-animation-fade\")(\n",
    "                            *map(lambda x: fh.Li(fh.A(x)),sidebar_items))"
   ]
  },
  {
   "cell_type": "code",
   "execution_count": null,
   "metadata": {},
   "outputs": [],
   "source": [
    "#| export\n",
    "def Sidebar(*ul,                 # Each Ul can be it's own section.  Use A for links!\n",
    "              cls='space-y-4 p-4', # Classes for outer container\n",
    "              **kwargs             # Kwargs for outer container\n",
    "             ):\n",
    "    \"Creates a styled sidebar component\"\n",
    "    styles = ('uk-nav-default', 'uk-nav-primary','uk-nav-secondary')\n",
    "    sidebar = []\n",
    "    for section in fh.tuplify(ul):\n",
    "        section = copy.deepcopy(section)\n",
    "        _sattrs = section.attrs\n",
    "        if 'class' not in _sattrs: _sattrs['class'] = ''\n",
    "        if 'uk-nav' not in _sattrs: _sattrs['class'] += ' uk-nav '\n",
    "        if not any(x in styles for x in _sattrs['class'].split()): _sattrs['class'] += ' uk-nav-default '\n",
    "        sidebar.append(section)  \n",
    "    return fh.Div(cls=cls, **kwargs)(*sidebar)"
   ]
  },
  {
   "cell_type": "code",
   "execution_count": null,
   "metadata": {},
   "outputs": [
    {
     "data": {
      "text/markdown": [
       "```html\n",
       "<div class=\"space-y-4 p-4\">\n",
       "  <ul class=\"uk-nav-primary uk-nav \">\n",
       "    <li>\n",
       "<a href=\"#\">Profile</a>    </li>\n",
       "    <li>\n",
       "<a href=\"#\">Account</a>    </li>\n",
       "  </ul>\n",
       "</div>\n",
       "\n",
       "```"
      ],
      "text/plain": [
       "div((ul((li((a(('Profile',),{'href': '#'}),),{}), li((a(('Account',),{'href': '#'}),),{})),{'class': 'uk-nav-primary uk-nav '}),),{'class': 'space-y-4 p-4'})"
      ]
     },
     "execution_count": null,
     "metadata": {},
     "output_type": "execute_result"
    }
   ],
   "source": [
    "sidebar_items = [\"Profile\", \"Account\"]\n",
    "tst = fh.Ul(cls='uk-nav-primary')(*map(lambda x: fh.Li(fh.A(x)),sidebar_items))\n",
    "Sidebar(tst)"
   ]
  },
  {
   "cell_type": "markdown",
   "metadata": {},
   "source": [
    "## Navtab"
   ]
  },
  {
   "cell_type": "code",
   "execution_count": null,
   "metadata": {},
   "outputs": [],
   "source": [
    "#| export\n",
    "def NavTab(text, active=False):\n",
    "    return fh.Li(cls=\"uk-active\" if active else \" \")(fh.A(text, href=\"#demo\", uk_toggle=True))\n",
    "\n",
    "def Tab(*items, maxw=96, cls='', **kwargs):\n",
    "    cls = stringify(cls)\n",
    "    return fh.Ul(cls=f\"uk-tab-alt max-w-{maxw} \"+cls,**kwargs)(*[NavTab(item, active=i==0) for i, item in enumerate(items)])"
   ]
  },
  {
   "cell_type": "markdown",
   "metadata": {},
   "source": [
    "## Cards"
   ]
  },
  {
   "cell_type": "code",
   "execution_count": null,
   "metadata": {},
   "outputs": [],
   "source": [
    "#|export\n",
    "def Card(*c, # Components that go in the body\n",
    "        header=None, # Components that go in the header\n",
    "        footer=None,  # Components that go in the footer\n",
    "        body_cls='space-y-6', # classes for the body\n",
    "        header_cls=(), # classes for the header\n",
    "        footer_cls=(), # classes for the footer\n",
    "        cls=(), #class for outermost component\n",
    "        **kwargs # classes that for the card itself\n",
    "        ):\n",
    "    header_cls, footer_cls, body_cls, cls = map(stringify, (header_cls, footer_cls, body_cls, cls))\n",
    "    res = []\n",
    "    if header: res += [fh.Div(cls='uk-card-header ' + header_cls)(header),]\n",
    "    res += [fh.Div(cls='uk-card-body ' + body_cls)(*c),]\n",
    "    if footer: res += [fh.Div(cls='uk-card-footer ' + footer_cls)(footer),]\n",
    "    return fh.Div(cls='uk-card '+cls, **kwargs)(*res)"
   ]
  },
  {
   "cell_type": "markdown",
   "metadata": {},
   "source": [
    "## Modals"
   ]
  },
  {
   "cell_type": "code",
   "execution_count": null,
   "metadata": {},
   "outputs": [],
   "source": [
    "#| export\n",
    "def ModalTitle(*c, cls=()): return fh.Div(cls='uk-modal-title ' + stringify(cls))(*c)\n",
    "\n",
    "def Modal(*c,\n",
    "        header=None, # Components that go in the header\n",
    "        footer=None,  # Components that go in the footer\n",
    "        body_cls='space-y-6', # classes for the body\n",
    "        header_cls='p-6', # classes for the header\n",
    "        footer_cls=(), # classes for the footer\n",
    "        cls=(), #class for outermost component\n",
    "        **kwargs # classes that for the card itself\n",
    "        ):\n",
    "    header_cls, footer_cls, body_cls, cls = map(stringify, (header_cls, footer_cls, body_cls, cls))\n",
    "    res = []\n",
    "    if header: res += [fh.Div(cls='uk-modal-header ' + header_cls)(header),]\n",
    "    res += [fh.Div(cls='uk-modal-body uk-modal-dialog ' + body_cls)(*c),]\n",
    "    if footer: res += [fh.Div(cls='uk-modal-footer ' + footer_cls)(footer),]\n",
    "    return fh.Div(cls='uk-modal uk-modal-container' + cls, uk_modal=True, **kwargs)(*res)\n"
   ]
  },
  {
   "cell_type": "markdown",
   "metadata": {},
   "source": [
    "## Tables"
   ]
  },
  {
   "cell_type": "code",
   "execution_count": null,
   "metadata": {},
   "outputs": [],
   "source": [
    "#| export\n",
    "def _default_cell(col, row): return fh.Td(row[col], cls='p-2')"
   ]
  },
  {
   "cell_type": "code",
   "execution_count": null,
   "metadata": {},
   "outputs": [
    {
     "ename": "TypeError",
     "evalue": "Table() missing 2 required positional arguments: 'columns' and 'data'",
     "output_type": "error",
     "traceback": [
      "\u001b[0;31m---------------------------------------------------------------------------\u001b[0m",
      "\u001b[0;31mTypeError\u001b[0m                                 Traceback (most recent call last)",
      "Cell \u001b[0;32mIn[180], line 14\u001b[0m\n\u001b[1;32m     12\u001b[0m cols \u001b[38;5;241m=\u001b[39m (\u001b[38;5;124m'\u001b[39m\u001b[38;5;124mColA\u001b[39m\u001b[38;5;124m'\u001b[39m, \u001b[38;5;124m'\u001b[39m\u001b[38;5;124mColB\u001b[39m\u001b[38;5;124m'\u001b[39m, \u001b[38;5;124m'\u001b[39m\u001b[38;5;124mColC\u001b[39m\u001b[38;5;124m'\u001b[39m, \u001b[38;5;124m'\u001b[39m\u001b[38;5;124mColD\u001b[39m\u001b[38;5;124m'\u001b[39m)\n\u001b[1;32m     13\u001b[0m data \u001b[38;5;241m=\u001b[39m [{\u001b[38;5;124m'\u001b[39m\u001b[38;5;124mColA\u001b[39m\u001b[38;5;124m'\u001b[39m:\u001b[38;5;241m1\u001b[39m, \u001b[38;5;124m'\u001b[39m\u001b[38;5;124mColB\u001b[39m\u001b[38;5;124m'\u001b[39m:\u001b[38;5;241m2\u001b[39m, \u001b[38;5;124m'\u001b[39m\u001b[38;5;124mColC\u001b[39m\u001b[38;5;124m'\u001b[39m:\u001b[38;5;241m3\u001b[39m, \u001b[38;5;124m'\u001b[39m\u001b[38;5;124mColD\u001b[39m\u001b[38;5;124m'\u001b[39m:\u001b[38;5;241m4\u001b[39m},]\n\u001b[0;32m---> 14\u001b[0m \u001b[43mTable\u001b[49m\u001b[43m(\u001b[49m\u001b[43mcols\u001b[49m\u001b[43m,\u001b[49m\u001b[43m \u001b[49m\u001b[43mdata\u001b[49m\u001b[43m,\u001b[49m\u001b[43m \u001b[49m\u001b[43mcell_render\u001b[49m\u001b[38;5;241;43m=\u001b[39;49m\u001b[43mrender_cell\u001b[49m\u001b[43m,\u001b[49m\u001b[43m \u001b[49m\u001b[43mheader_render\u001b[49m\u001b[38;5;241;43m=\u001b[39;49m\u001b[43mrender_header\u001b[49m\u001b[43m)\u001b[49m\n",
      "Cell \u001b[0;32mIn[178], line 16\u001b[0m, in \u001b[0;36mTable\u001b[0;34m(columns, data, cls, footer, cell_render, header_render, *args, **kwargs)\u001b[0m\n\u001b[1;32m     14\u001b[0m body \u001b[38;5;241m=\u001b[39m fh\u001b[38;5;241m.\u001b[39mTbody(\u001b[38;5;241m*\u001b[39mtable_content)\n\u001b[1;32m     15\u001b[0m \u001b[38;5;28;01mif\u001b[39;00m footer: table_content\u001b[38;5;241m.\u001b[39mappend(fh\u001b[38;5;241m.\u001b[39mTfoot(footer))\n\u001b[0;32m---> 16\u001b[0m \u001b[38;5;28;01mreturn\u001b[39;00m \u001b[43mTable\u001b[49m\u001b[43m(\u001b[49m\u001b[38;5;28;43mcls\u001b[39;49m\u001b[38;5;241;43m=\u001b[39;49m\u001b[43mtable_cls\u001b[49m\u001b[43m,\u001b[49m\u001b[43m \u001b[49m\u001b[38;5;241;43m*\u001b[39;49m\u001b[43margs\u001b[49m\u001b[43m,\u001b[49m\u001b[43m \u001b[49m\u001b[38;5;241;43m*\u001b[39;49m\u001b[38;5;241;43m*\u001b[39;49m\u001b[43mkwargs\u001b[49m\u001b[43m)\u001b[49m(\u001b[38;5;241m*\u001b[39m[head,body])\n",
      "\u001b[0;31mTypeError\u001b[0m: Table() missing 2 required positional arguments: 'columns' and 'data'"
     ]
    }
   ],
   "source": [
    "def render_header(col):\n",
    "    cls = 'p-2 ' + 'uk-table-shrink' if col in ('Done','Actions') else ''\n",
    "    return fh.Th(col, cls=cls)\n",
    "\n",
    "def render_cell(col, row):\n",
    "    match col:\n",
    "        case \"ColA\":  return fh.Td(row[col], cls=TextT.muted_sm)\n",
    "        case \"ColB\":  return fh.Td(row[col], cls=TextT.medium_sm)\n",
    "        case 'ColC':  return fh.Td(row[col])\n",
    "        case 'ColD':  return fh.Td(row[col], cls='p-2')\n",
    "        \n",
    "cols = ('ColA', 'ColB', 'ColC', 'ColD')\n",
    "data = [{'ColA':1, 'ColB':2, 'ColC':3, 'ColD':4},]\n",
    "Table(cols, data, cell_render=render_cell, header_render=render_header)"
   ]
  },
  {
   "cell_type": "code",
   "execution_count": null,
   "metadata": {},
   "outputs": [],
   "source": [
    "#| export\n",
    "def TableHeader(columns, header_render=None):\n",
    "    rndr = header_render or fh.Th(cls='p-2')\n",
    "    return fh.Tr(*map(rndr, columns))"
   ]
  },
  {
   "cell_type": "code",
   "execution_count": null,
   "metadata": {},
   "outputs": [],
   "source": [
    "#| export\n",
    "def TableRow(row, columns, cell_render=None):\n",
    "    rndr = cell_render or _default_cell\n",
    "    return fh.Tr(*[rndr(col, row) for col in columns])"
   ]
  },
  {
   "cell_type": "code",
   "execution_count": null,
   "metadata": {},
   "outputs": [],
   "source": [
    "#| export\n",
    "def Table(columns, data, *args, cls=(), footer=None, cell_render=None, header_render=None, **kwargs):\n",
    "    # table middle, small : Should these be parameterized?\n",
    "    # Document, especially cell and header render\n",
    "    table_cls = 'uk-table uk-table-middle uk-table-divider uk-table-hover uk-table-small ' + stringify(cls)\n",
    "    cell_render   = fh.ifnone(cell_render,   lambda c,r: fh.Td(cls='p-2')(r[c]))\n",
    "    header_render = fh.ifnone(header_render, lambda c:   fh.Th(cls='p-2')(c))\n",
    "    \n",
    "    head = fh.Thead(fh.Th(*map(header_render, columns)))\n",
    "    \n",
    "    table_content = []\n",
    "    for row in data: table_content.append(fh.Tr(*[cell_render(col, row) for col in columns]))\n",
    "        \n",
    "    body = fh.Tbody(*table_content)\n",
    "    if footer: table_content.append(fh.Tfoot(footer))\n",
    "    return fh.Table(cls=table_cls, *args, **kwargs)(*[head,body])"
   ]
  },
  {
   "cell_type": "markdown",
   "metadata": {},
   "source": [
    "## Forms"
   ]
  },
  {
   "cell_type": "code",
   "execution_count": null,
   "metadata": {},
   "outputs": [],
   "source": [
    "#| export\n",
    "def FormSection(title, description, *c, button_txt='Update', outer_margin=6, inner_margin=6):\n",
    "    return fh.Div(cls=f'space-y-{inner_margin} py-{outer_margin}')(\n",
    "        fh.Div(H3(title), fh.P(description, cls=TextT.medium_sm)),\n",
    "        HSplit(), *c,\n",
    "        fh.Div(Button(button_txt, cls=ButtonT.primary)) if button_txt else None)"
   ]
  },
  {
   "cell_type": "code",
   "execution_count": null,
   "metadata": {},
   "outputs": [],
   "source": [
    "#| hide\n",
    "\n",
    "import nbdev; nbdev.nbdev_export()"
   ]
  }
 ],
 "metadata": {
  "kernelspec": {
   "display_name": "python3",
   "language": "python",
   "name": "python3"
  }
 },
 "nbformat": 4,
 "nbformat_minor": 4
}
