{
 "cells": [
  {
   "cell_type": "markdown",
   "id": "bd49724c",
   "metadata": {},
   "source": [
    "# Dashboard\n",
    "\n",
    "> FrankenUI Dashboard Example"
   ]
  },
  {
   "cell_type": "code",
   "execution_count": 37,
   "id": "04abc944",
   "metadata": {},
   "outputs": [],
   "source": [
    "#| default_exp dashboard"
   ]
  },
  {
   "cell_type": "code",
   "execution_count": 38,
   "id": "cef92ebb",
   "metadata": {},
   "outputs": [],
   "source": [
    "#| export\n",
    "from fasthtml.common import *\n",
    "from fh_frankenui import *\n",
    "from fasthtml.svg import *\n",
    "from fh_matplotlib import matplotlib2fasthtml\n",
    "import numpy as np\n",
    "import matplotlib.pylab as plt"
   ]
  },
  {
   "cell_type": "code",
   "execution_count": 39,
   "id": "02ad7e62",
   "metadata": {},
   "outputs": [],
   "source": [
    "#| hide\n",
    "from nbdev.showdoc import *"
   ]
  },
  {
   "cell_type": "code",
   "execution_count": 40,
   "id": "f0f5477a",
   "metadata": {},
   "outputs": [
    {
     "data": {
      "text/html": [
       "<script src=\"https://cdn.tailwindcss.com\"></script>\n",
       "<script src=\"https://cdn.jsdelivr.net/npm/uikit@3.21.6/dist/js/uikit.min.js\"></script>\n",
       "<script src=\"https://cdn.jsdelivr.net/npm/uikit@3.21.6/dist/js/uikit-icons.min.js\"></script>\n",
       "<script type=\"module\" src=\"https://unpkg.com/franken-wc@0.0.6/dist/js/wc.iife.js\"></script>\n",
       "<link rel=\"stylesheet\" href=\"https://unpkg.com/franken-wc@0.0.6/dist/css/blue.min.css\">\n",
       "\n",
       "<style>\n",
       "#notebook-container { max-width: none; }\n",
       ".output_html * { list-style-type: none !important; }\n",
       "</style>\n"
      ],
      "text/plain": [
       "<IPython.core.display.HTML object>"
      ]
     },
     "metadata": {},
     "output_type": "display_data"
    }
   ],
   "source": [
    "%%html\n",
    "<script src=\"https://cdn.tailwindcss.com\"></script>\n",
    "<script src=\"https://cdn.jsdelivr.net/npm/uikit@3.21.6/dist/js/uikit.min.js\"></script>\n",
    "<script src=\"https://cdn.jsdelivr.net/npm/uikit@3.21.6/dist/js/uikit-icons.min.js\"></script>\n",
    "<script type=\"module\" src=\"https://unpkg.com/franken-wc@0.0.6/dist/js/wc.iife.js\"></script>\n",
    "<link rel=\"stylesheet\" href=\"https://unpkg.com/franken-wc@0.0.6/dist/css/blue.min.css\">\n",
    "\n",
    "<style>\n",
    "#notebook-container { max-width: none; }\n",
    ".output_html * { list-style-type: none !important; }\n",
    "</style>"
   ]
  },
  {
   "cell_type": "code",
   "execution_count": 41,
   "id": "275f3643",
   "metadata": {},
   "outputs": [],
   "source": [
    "#| exports\n",
    "def InfoCard(title, value, change):\n",
    "    return Div(Card(\n",
    "             Div(H3(value),\n",
    "                P(change, cls=TextT.muted_sm)),\n",
    "             header = H4(title)))"
   ]
  },
  {
   "cell_type": "code",
   "execution_count": 42,
   "id": "745555dc",
   "metadata": {},
   "outputs": [],
   "source": [
    "#| exports\n",
    "rev = InfoCard(\"Total Revenue\", \"$45,231.89\", \"+20.1% from last month\")\n",
    "sub = InfoCard(\"Subscriptions\", \"+2350\", \"+180.1% from last month\")\n",
    "sal = InfoCard(\"Sales\", \"+12,234\", \"+19% from last month\")\n",
    "act = InfoCard(\"Active Now\", \"+573\", \"+201 since last hour\")"
   ]
  },
  {
   "cell_type": "code",
   "execution_count": 43,
   "id": "96867f4f",
   "metadata": {},
   "outputs": [],
   "source": [
    "#| exports\n",
    "top_info_row = Grid(rev,sub,sal,act,cols=4, cls=GridT.small)"
   ]
  },
  {
   "cell_type": "code",
   "execution_count": 44,
   "id": "98b733c2",
   "metadata": {},
   "outputs": [],
   "source": [
    "#| exports\n",
    "def AvatarItem(name, email, amount):\n",
    "    return Div(cls=\"flex items-center\")(\n",
    "        DiceBearAvatar(name, 9,9),\n",
    "        Div(cls=\"ml-4 space-y-1\")(\n",
    "            P(name, cls=TextT.medium_sm),\n",
    "            P(email, cls=TextT.muted_sm)),\n",
    "        Div(amount, cls=\"ml-auto font-medium\"))\n",
    "\n",
    "recent_sales = Card(\n",
    "    Div(cls=\"space-y-8\")(\n",
    "        *[AvatarItem(n,e,d) for (n,e,d) in (\n",
    "            (\"Olivia Martin\",   \"olivia.martin@email.com\",   \"+$1,999.00\"),\n",
    "            (\"Jackson Lee\",     \"jackson.lee@email.com\",     \"+$39.00\"),\n",
    "            (\"Isabella Nguyen\", \"isabella.nguyen@email.com\", \"+$299.00\"),\n",
    "            (\"William Kim\",     \"will@email.com\",            \"+$99.00\"),\n",
    "            (\"Sofia Davis\",     \"sofia.davis@email.com\",     \"+$39.00\"))]),\n",
    "    header=Div(\n",
    "        H3(\"Recent Sales\"),\n",
    "        P(\"You made 265 sales this month.\", cls=TextT.muted_sm)),\n",
    "\n",
    "cls='lg:col-span-3')"
   ]
  },
  {
   "cell_type": "code",
   "execution_count": 45,
   "id": "3767a677",
   "metadata": {},
   "outputs": [],
   "source": [
    "#| exports\n",
    "@matplotlib2fasthtml\n",
    "def generate_chart(num_points):\n",
    "    plotdata = [np.random.exponential(1) for _ in range(num_points)]\n",
    "    plt.plot(range(len(plotdata)), plotdata)"
   ]
  },
  {
   "cell_type": "code",
   "execution_count": 46,
   "id": "d7a93876",
   "metadata": {},
   "outputs": [
    {
     "data": {
      "text/html": [
       "<img src=\"data:image/jpg;base64, /9j/4AAQSkZJRgABAQEAZABkAAD/2wBDAAgGBgcGBQgHBwcJCQgKDBQNDAsLDBkSEw8UHRofHh0aHBwgJC4nICIsIxwcKDcpLDAxNDQ0Hyc5PTgyPC4zNDL/2wBDAQkJCQwLDBgNDRgyIRwhMjIyMjIyMjIyMjIyMjIyMjIyMjIyMjIyMjIyMjIyMjIyMjIyMjIyMjIyMjIyMjIyMjL/wAARCAHgAoADASIAAhEBAxEB/8QAHwAAAQUBAQEBAQEAAAAAAAAAAAECAwQFBgcICQoL/8QAtRAAAgEDAwIEAwUFBAQAAAF9AQIDAAQRBRIhMUEGE1FhByJxFDKBkaEII0KxwRVS0fAkM2JyggkKFhcYGRolJicoKSo0NTY3ODk6Q0RFRkdISUpTVFVWV1hZWmNkZWZnaGlqc3R1dnd4eXqDhIWGh4iJipKTlJWWl5iZmqKjpKWmp6ipqrKztLW2t7i5usLDxMXGx8jJytLT1NXW19jZ2uHi4+Tl5ufo6erx8vP09fb3+Pn6/8QAHwEAAwEBAQEBAQEBAQAAAAAAAAECAwQFBgcICQoL/8QAtREAAgECBAQDBAcFBAQAAQJ3AAECAxEEBSExBhJBUQdhcRMiMoEIFEKRobHBCSMzUvAVYnLRChYkNOEl8RcYGRomJygpKjU2Nzg5OkNERUZHSElKU1RVVldYWVpjZGVmZ2hpanN0dXZ3eHl6goOEhYaHiImKkpOUlZaXmJmaoqOkpaanqKmqsrO0tba3uLm6wsPExcbHyMnK0tPU1dbX2Nna4uPk5ebn6Onq8vP09fb3+Pn6/9oADAMBAAIRAxEAPwD3+iiigAooooAKKKKACiiigAooooAKKKKACiiigAooooAKKKKACiiigAooooAKKKKACiiigAooooAKKKKACiiigAooooAKKKKACiiigAooooAKKKKACiiigAooooAKKKKACiiigAooooAKKKKACiiigAooooAKKKKACiiigAooooAKKKKACiiigAooooAKKKKACiiigAooooAKKKKACiiigAooooAKKKKACiiigAooooAKKKKACiiigAooooAKKKKACiiigAooooAKKKKACiiigAooooAKKKKACiiigAooooAKKKKACiiigAooooAKKKKACiiigAooooAKKKKACiiigAooooAKKKKACiiigAooooAKKKKACiiigAooooAKKKKACiiigAooooAKKKKACiiigAooooAKKKKACiiigAooooAKKKKACiiigAooooAKKKKACiiigAooooAKKKKACiiigAooooAKKKKACiiigAooooAKKKKACiiigAooooAKKKKACiiigAooooAKKKKACiiigAooooAKKKKACiiigAooooAKKKKACiiigAooooAKKKKACiiigAooooAKKKKACiiigAooooAKKKKACiiigAooooAKKKKACiiigAooooAKKKKACiiigAooooAKKKKACiiigAoopr5CMQcHFADqK4fwxput6z4U0jVLjxlrKTXllDcSLHDZ7QzoGIGYCcZPrWr/AMI1qv8A0Ouuf9+bP/4xQB0dFc5/wjWq/wDQ665/35s//jFH/CNar/0Ouuf9+bP/AOMUAdHRXOf8I1qv/Q665/35s/8A4xR/wjWq/wDQ665/35s//jFAHR0Vzn/CNar/ANDrrn/fmz/+MUf8I1qv/Q665/35s/8A4xQB0dFc5/wjWq/9Drrn/fmz/wDjFH/CNar/ANDrrn/fmz/+MUAdHRXOf8I1qv8A0Ouuf9+bP/4xR/wjWq/9Drrn/fmz/wDjFAHR0Vzn/CNar/0Ouuf9+bP/AOMUf8I1qv8A0Ouuf9+bP/4xQB0dFc5/wjWq/wDQ665/35s//jFH/CNar/0Ouuf9+bP/AOMUAdHRXOf8I1qv/Q665/35s/8A4xR/wjWq/wDQ665/35s//jFAHR0Vzn/CNar/ANDrrn/fmz/+MUf8I1qv/Q665/35s/8A4xQB0dFc5/wjWq/9Drrn/fmz/wDjFH/CNar/ANDrrn/fmz/+MUAdHRXOf8I1qv8A0Ouuf9+bP/4xR/wjWq/9Drrn/fmz/wDjFAHR0Vzn/CNar/0Ouuf9+bP/AOMUf8I1qv8A0Ouuf9+bP/4xQB0dFc5/wjWq/wDQ665/35s//jFH/CNar/0Ouuf9+bP/AOMUAdHRXOf8I1qv/Q665/35s/8A4xR/wjWq/wDQ665/35s//jFAHR0Vzn/CNar/ANDrrn/fmz/+MUf8I1qv/Q665/35s/8A4xQB0dFc5/wjWq/9Drrn/fmz/wDjFH/CNar/ANDrrn/fmz/+MUAdHRXOf8I1qv8A0Ouuf9+bP/4xR/wjWq/9Drrn/fmz/wDjFAHR0Vzn/CNar/0Ouuf9+bP/AOMUf8I1qv8A0Ouuf9+bP/4xQB0dFc5/wjWq/wDQ665/35s//jFH/CNar/0Ouuf9+bP/AOMUAdHRXOf8I1qv/Q665/35s/8A4xR/wjWq/wDQ665/35s//jFAHR0Vzn/CNar/ANDrrn/fmz/+MUf8I1qv/Q665/35s/8A4xQB0dFc5/wjWq/9Drrn/fmz/wDjFH/CNar/ANDrrn/fmz/+MUAdHRXOf8I1qv8A0Ouuf9+bP/4xR/wjWq/9Drrn/fmz/wDjFAHR0Vzn/CNar/0Ouuf9+bP/AOMUf8I1qv8A0Ouuf9+bP/4xQB0dFc5/wjWq/wDQ665/35s//jFH/CNar/0Ouuf9+bP/AOMUAdHRXOf8I1qv/Q665/35s/8A4xR/wjWq/wDQ665/35s//jFAHR0Vzn/CNar/ANDrrn/fmz/+MUf8I1qv/Q665/35s/8A4xQB0dFc5/wjWq/9Drrn/fmz/wDjFH/CNar/ANDrrn/fmz/+MUAdHRXOf8I1qv8A0Ouuf9+bP/4xR/wjWq/9Drrn/fmz/wDjFAHR0Vzn/CNar/0Ouuf9+bP/AOMUjeG9WCk/8JrrnA/542f/AMYoA6SisXwfe3OpeC9Dv7yUy3VzYQTSyEAbnZAScDgcntW1QAUUUUAFFFFABRRRQAUUUUAFFFFABRRRQAUUUUAFNf8A1bfQ06mv/q2+hoA5/wAA/wDJO/DX/YLtv/RS10Vc74B/5J34a/7Bdt/6KWuioAKKw/F73sPhq6ubCZ4ri3xMCp6qpywPtjNatldR31jb3cX+rmjWRfoRmq5fd5iVNc3KT0UUVJQUUUUAFFFFABRRRQAUUUUAFFFFABRRRQAUUUUAFFFFABRRRQAUUUUAFFFFABRRRQAUUUUAFFFFABRRRQAUUUUAFFFFABRRRQAUUUUAFFFFABRRRQAUUUUAFFFFABRRRQAUUUUAFFFFABRRRQAU1/8AVt9DTqa/+rb6GgDn/AP/ACTvw1/2C7b/ANFLXRVzvgH/AJJ34a/7Bdt/6KWuioAKKKKACiiigAooooAKKKKACiiigArj7mCax+J2keXqF+8N/aXjy28lyzQgoYNu1PujG5u2ea7Cua1DwedQ8RQ60fEOsQTQB1hihMHlxq+3eoDRE4Oxc5JPoRQBtalp0OqWn2aeW6jTcG3Wt1JA/H+1GwOPbNef6Rpuq6p4L8SXOjalqJbUbhk0o3GozOY4oyEDrI7Fl3kO2QehFdydIzYalaHUL4i+aRvMMgLwb1xiMkYUDqAQcH1pBokMPh+HRrK4uLGGCKOKGW2YCSNUxjBII7YOQc5NAGJ4SmNnq1/o13a31rqCxR3G241WW/jkiJZQyPIcrgggjA7da2dX1+z0crHcw6g7SISDa6fPcAfUxowH41HpHhyDSr25v3vLy/v7hFjkurx1L7FyVQBVVVGSTgAZJ5rXf/Vt9DQBz/gH/knfhr/sF23/AKKWuirnfAP/ACTvw1/2C7b/ANFLXRUAMmiSeCSGQbo5FKsPUEYNc34GldNFm0yZszabcyWzZ6kA5U/TBx+FdPXKwf8AEr+I1xF0h1W1Eq/9dY+CP++cmtaesJR+f3f8Axqe7OMvl9//AATqqKKKyNgooooAKKKKACiiigAooooAKKKKACiiigAooooAKKKKACiiigAooooAKKKKACiiigAooooAKKKKACiiigAooooAKKKKACiiigAooooAKKKKACiiigAooooAKKKKACiiigAooooAKKKKACioL67jsLC4u5jiOCNpG+gGazPCkt/c+HLW61GUyXFwDLyANqscqPyx+dVyvl5iedc3KbVNf/Vt9DTqa/8Aq2+hqSjn/AP/ACTvw1/2C7b/ANFLXRVzvgH/AJJ34a/7Bdt/6KWuioAKKKKACiiigAooooAKKKKACiiigAooooAKKKKACmv/AKtvoadTX/1bfQ0Ac/4B/wCSd+Gv+wXbf+ilroq53wD/AMk78Nf9gu2/9FLXRUAFcr42Bs4dN1tB82nXas5H/PJvlYfyrqqpavYLqmj3li2P38TICexI4P4HFaUpcs02Z1YuUGluXAQwBBBB5BFLWD4Nv21DwtZPJnzoV8iUHqGT5effAB/Gt6pnHlk4voVCSlFSXUKKKKkoKKKKACiiigAooooAKKKKACiiigAooooAKKKKACiiigAooooAKKKKACiiigAooooAKKKKACiiigAooooAKKKKACiiigAooooAKKKKACiiigAooooAKKKKACiiigAooooAKKKKAOW8bSPc2ljocLES6ncrG2OojU7nP4cV08caRRrGihUQBVA7AVy1l/xN/iBe3fWDSoRbR+nmNyxHuBkV1dbVPdjGHz+//gWMaXvSlP5fd/wbhTX/ANW30NOpr/6tvoaxNjn/AAD/AMk78Nf9gu2/9FLXRVzvgH/knfhr/sF23/opa6KgAooooAKKKKACiiigAooooAKKKKACiiigAooooAKa/wDq2+hp1Nf/AFbfQ0Ac/wCAf+Sd+Gv+wXbf+ilroq53wD/yTvw1/wBgu2/9FLXRUAFFFFAHK+H/APiW+Ldd0k8RzMt/APZuH/XArqq5XxH/AMS3xPoOsDhGkNlOf9l/u59gcmuqrWrraXdfloY0dLw7P89QooorI2CiiigAooooAKKKKACiiigAooooAKKKKACiiigAooooAKKKKACiiigAooooAKKKKACiiigAooooAKKKKACiiigAooooAKKKKACiiigAooooAKKKKACiiigAooooAKKKKACqupXsem6bc3sv3II2kI9cDpVquV8aM16um6DGTu1G5Akx1ESfMx/lV0480kmZ1ZcsG1uWfBVlJaeG4Zp/+Pm9ZruY+rPyP0xXQ0iqqKFUAKBgAdhS0py5pORUI8kVFdApr/6tvoadTX/1bfQ1JRz/AIB/5J34a/7Bdt/6KWuirnfAP/JO/DX/AGC7b/0UtdFQAUUUUAFFFFABRRRQAUUUUAFFFFABXE3mlWNl8WNDvLa3SO5vLK+a4kGSZCpt8Z+mT+ddtXP3vgrRNR1gatcx3pvVztkTUbhAmcZCqsgUA7VyAMHHNAC+MfD0nifQRp0b2yn7TDMRcxGSNhHIrlWUEZBxgjI61xV3OdK8K+IdBisdP0ua2vLOK5m0mPyIniuJI1ZwOqNs3A8nGAc13s3hnSp7a4t2hmVLi5N3IYrmWNvNIwWDKwK8dgQKLXwxo1ppd1psdgjWt3k3Kys0jTEjBLsxLMcYGSe1AGFo+n2mgfESfStIgW1sJtKW5ltouEWUSlVcDsWBIPrsHpW/q+qXmnlUttC1DUVdCS9q8ChPY+ZIp/IGl0fw7pehGZtPt2SSfb5ssszzOwX7oLuS2Bk4GcDNaT/6tvoaAOf8A/8AJO/DX/YLtv8A0UtdFXO+Af8Aknfhr/sF23/opa6KgAooooAxPF+nnUvC19CgPmpH5sZHXcnzDH5Y/GrmiagNV0SyvgRmaJWbHZscj881fIyMHpXK+Cz9iOraG3H9n3beWP8Apk/zL/X861XvU2u2v3/0jF+7VT76fdr/AJnVUUUVkbBRRRQAUUUUAFFFFABRRRQAUUUUAFFFFABRRRQAUUUUAFFFFABRRRQAUUUUAFFFFABRRRQAUUUUAFFFFABRRRQAUUUUAFFFFABRRRQAUUUUAFFFFABRRRQAUUUUAFFFFABXKaZ/xNvHepageYNOjFnCe288ufqOn41v6tqCaVpF3fPjEETPg9zjgficCszwbYPYeGbYzZNxc5uZiepZ+effGB+FbQ92Dl30/wA/68zGfvVIx7a/5f15G/RRRWJsFNf/AFbfQ06mv/q2+hoA5/wD/wAk78Nf9gu2/wDRS10Vc74B/wCSd+Gv+wXbf+ilroqACiiigAooooAKKKKACiiigAooooAKKKKACiiigApr/wCrb6GnU1/9W30NAHP+Af8Aknfhr/sF23/opa6Kud8A/wDJO/DX/YLtv/RS10VABRRRQAVyt3/xK/iJZXHSHVLZrd/TzE5B/LArqq5nxzBJ/YK6hAMz6dOl0n/ATz+GDn8K1o/Fy99DGv8ABzdtf6+R01FR288d1bRXERzHKgdT6gjIqSsjYKKKKACiiigAooooAKKKKACiiigAooooAKKKKACiiigAooooAKKKKACiiigAooooAKKKKACiiigAooooAKKKKACiiigAooooAKKKKACiiigAooooAKKKKACiiigAooooA5TxiTqFxpPh9Dn7dcB5wP8AnlH8zf0/KurAAAAGAK5TRv8AibeNdW1Q8w2SiwgPbI5f9f511dbVdEodv1MaXvOU+/5L+mFFFFYmwU1/9W30NOpr/wCrb6GgDn/AP/JO/DX/AGC7b/0UtdFXO+Af+Sd+Gv8AsF23/opa6KgAooooAKKKKACiiigAooooAKKKKACiiigAooooAKa/+rb6GnU1/wDVt9DQBz/gH/knfhr/ALBdt/6KWuirnfAP/JO/DX/YLtv/AEUtdFQAUUUUAFRXVvHeWk1tKMxzRtGw9iMGpaKFoDVzmvA1xI/h0WU5/wBI0+Z7ST/gJ4/QgfhXS1ytj/xK/iDqNp0h1K3W6j9N6/Kw+p5NdVWtb4+ZddTGg/c5X00+4KKKKyNgooooAKKKKACiiigAooooAKKKKACiiigAooooAKKKKACiiigAooooAKKKKACiiigAooooAKKKKACiiigAooooAKKKKACiiigAooooAKKKKACiiigAooooAKoa3qK6Rol5ftj9zEWUHu3RR+JxV+uU8W/8TLUtH0BeVuZ/PuB/0yj5IP1P8q0pRUppPYzqycYNrcv+EdObTPDNpFLnz5V86YnqXfk59xkD8K3KKKmUnKTk+pUIqMVFdAoooqSgpr/6tvoadTX/ANW30NAHP+Af+Sd+Gv8AsF23/opa6Kud8A/8k78Nf9gu2/8ARS10VABRRRQAUUUUAFFFFABRRRQAUUUUAFcTeaVY2XxY0O8trdI7m8sr5riQZJkKm3xn6ZP5121c/e+CtE1HWBq1zHem9XO2RNRuECZxkKqyBQDtXIAwcc0AXdftdHutIlOurC2nwfvpfPbEYCg8t2I9jxXG2HhabWfB3iGytIf7L07V5A2n2kyHEEW1QWKfwbypbZxjI6EmupvvCGh6lYz2V1ayNBPd/bZFS5lQmbj5sqwI6A4BxkZxT4/C2lxadcWH+nSW9wVZxNqNxKwKnI2uzll5A+6RQBieEYI9D8Q6joDaTo9pcfZorwT6VbeQkyFnQB0JJDAg45IIPbmt/V59dhKjSdO0+6jKHzGur14Cp9gsT5/MU7SfD+maGZ2sLdllnIM00srzSSY6bncliBk4BPGa0X/1bfQ0Ac/4B/5J34a/7Bdt/wCilroq53wD/wAk78Nf9gu2/wDRS10VABRRRQAUUUUAcr4y/wBAn0fXV4+xXQSU+kUnyt/T866qs7XtOGraDfWOMtNEwT/e6r+oFV/CeonVPC9hcscyCMRyZ67l+U5/LP41q/epp9tP1/zMV7tVrvr92j/Q2aKKKyNgooooAKKKKACiiigAooooAKKKKACiiigAooooAKKKKACiiigAooooAKKKKACiiigAooooAKKKKACiiigAooooAKKKKACiiigAooooAKKKKACiiigAooooAK5TQf8Aia+LtZ1g8xQEWFufZeX/AFx+dbPiDUxo+gXt/kBoojsz3c8L+pFQeFdMOk+G7K1cHztnmS56725Ofzx+FbR92m5d9P8AMxl71RR7a/5GzRRRWJsFFFFABTX/ANW30NOpr/6tvoaAOf8AAP8AyTvw1/2C7b/0UtdFXO+Af+Sd+Gv+wXbf+ilroqACiiigAooooAKKKKACiiigAooooAKKKKACiiigApr/AOrb6GnU1/8AVt9DQBz/AIB/5J34a/7Bdt/6KWuirnfAP/JO/DX/AGC7b/0UtdFQAUUUUAFFFFABXK+Gf+Jd4h17RjwgmF5AP9mQcgewOBXVVyuuf8S3xnomqDiO53WEx/3uU/8AHs/lWtLW8e6/LUxq6cs+z/PQ6qiiisjYKKKKACiiigAooooAKKKKACiiigAooooAKKKKACiiigAooooAKKKKACiiigAooooAKKKKACiiigAooooAKKKKACiiigAooooAKKKKACiiigAooooAKKKKAOU8Uf8AEz1zRdBHKPL9ruR/0zToD7E5H4V1dcp4b/4mniXWtbPMauLK2P8AsJ94j2Jwa6utqulodvzZjR1vPv8AkgooorE2CiiigApr/wCrb6GnU1/9W30NAHP+Af8Aknfhr/sF23/opa6Kud8A/wDJO/DX/YLtv/RS10VABRRRQAUUUUAFFFFABRRRQAUUUUAFFFUk1fTJNTbTU1G0a/VSzWqzqZQB3KZzjkdqALtFR3FxDa28lxcTRwwxjc8kjBVUepJ4AqG01PT7+y+22d9bXNpyfPhmV4+OvzA44oAtU1/9W30NVtP1XTtWhabTb+1vYlbaz20yyKD6EqTzVl/9W30NAHP+Af8Aknfhr/sF23/opa6Kud8A/wDJO/DX/YLtv/RS10VABRRRQAUUUUAFYHjSxa98LXflZE9uBcREdQyHPH4Z/Ot+kZVdCrAFWGCD3FVCXLJS7EzjzxcX1Kul3y6lpVpepjE8SyYHYkcj86t1y3ghmtbO/wBFkJ36bdPGuepjY7lP4811NOpHlm0iaUuaCbCiiioNAooooAKKKKACiiigAooooAKKKKACiiigAooooAKKKKACiiigAooooAKKKKACiiigAooooAKKKKACiiigAooooAKKKKACiiigAooooAKKKKACsnxNqf8AY/h29vQcSJGVj/324X9SK1q5TxH/AMTTxNouiDmNHN9cj/ZThQfYnIrSlFOavsZVpNQdt3p95reGtM/sfw7ZWRGJEjBk/wB88t+pNatFFRKTk22XGKilFdAooopFBRRRQAU1/wDVt9DTqa/+rb6GgDn/AAD/AMk78Nf9gu2/9FLXRVzvgH/knfhr/sF23/opa6KgAooooAKKKKACiiigAooooAKKKKACuN1NbO3+KHh54xBHI9lfmUqACzZt8bvU/WuyrIufCnhy9vmvrrQNKnu2YM08tnG0hI6EsRnPA/KgDE8c3FpcWWk75oZbCPW7eO/+YMiAE4WTsP3hjyD7VzHiPyPN8b/ZNn9l+Zpf23yvuZ8z/SM44/1Ozd7da9P/ALNsDBcQGytvJuWZ54/KXbKx6lhjDE4GSaS00zT7Cy+xWdjbW1pyPIhhVI+evygY5oA5mw+y/wDC0br+zfJ8j+xo/tXkY27/ADT5WccZ278d8Y7Yrc1eDXZip0nUdPtYwh8xbqyecsfYrKmPyNWtP0rTtJhaHTbC1sombcyW0KxqT6kKBzVl/wDVt9DQBz/gH/knfhr/ALBdt/6KWuirnfAP/JO/DX/YLtv/AEUtdFQAUUUUAFFFFABRRRQByr/8Sv4jxv0h1a1Kn3lj/wDsePxrqq5fxzG8OlW2rRKTLptzHccdSucMP1H5V00ciTRJLGwZHUMpHcHpWtTWMZfL7v8AgGNP3Zyj8/v/AODcdRRRWRsFFFFABRRRQAUUUUAFFFFABRRRQAUUUUAFFFFABRRRQAUUUUAFFFFABRRRQAUUUUAFFFFABRRRQAUUUUAFFFFABRRRQAUUUUAFFFFABRRRQAVynhb/AImet61rx5SSb7LbH/pmnUj2J5/CtLxXqZ0nw3d3CE+ey+VCB1LtwMfnn8Kn8P6YNH0GysAAGiiAfHdzy36k1tH3abffT/P9DGXvVEu2v6L9TSooorE2CiiigAooooAKa/8Aq2+hp1Nf/Vt9DQBz/gH/AJJ34a/7Bdt/6KWuirnfAP8AyTvw1/2C7b/0UtdFQAUUUUAFFFFABRRRQAUUUUAFFFFABRRRQAUUUUAFNf8A1bfQ06mv/q2+hoA5/wAA/wDJO/DX/YLtv/RS10Vc74B/5J34a/7Bdt/6KWuioAKKKKACiiigAooooAr39pHqGn3FnL/q542jb2BGKwvBl9I2mvpF38t9pbfZ5F9VH3GHsR/KulrkvEqNoer2vieBT5S4t79VH3oieG+oP9K2p+8nT77ev/BMavutVO2/p/wDraKajrJGsiMGRgCrA5BB706sTYKKKKACiiigAooooAKKKKACiiigAooooAKKKKACiiuU8eareafpENvprut9dS7YzH94Ko3MR+QH41dODnJRRFSahFyfQ6uiqOjaguq6NZ364/fxKxA7N3H4HIq9UtNOzKTTV0FFFFIYUUUUAFFFFABRRRQAUUUUAFFFFABRRRQAUUUUAFFFFABRRRQAUUVFc3Edpay3EzbYokLu3oAMmgDmNT/4nXjiw00fNbaav2y4HYyHhB9R1+hrrK5jwTbySafc6zcri51SYzkH+GPoi/TH866eta2j5F0/pmNHVc766/5fgFFFFZGwUUUUAFFFFABTX/1bfQ06mv8A6tvoaAOf8A/8k78Nf9gu2/8ARS10Vc74B/5J34a/7Bdt/wCilroqACiiigAooooAKKKKACiiigAooooAKKKxNU8XaHot79kv77ypgqu+IndYlJwGkZQRGCQeWIHFAG3RVe9vYbCyku5hK0UYBPkwvKx5xwqAsevYVkWfjPRL6a7hjmu45bS3+1TpcWE8BSLn5sSIM9D064PpQBv01/8AVt9DWVo3iXTdeP8AxL/trL5YkDzWE8CMp6FWkRQevY1qv/q2+hoA5/wD/wAk78Nf9gu2/wDRS10Vc74B/wCSd+Gv+wXbf+ilroqACiiigAooooAKKKKACorm3iu7WW2nQPFKhR1PcEYNS0UbBucr4SuJbCa68NXjlp7A7rd2/wCWsB+6fw6fkO1dVXL+L7Sa3Ft4isUzd6ad0ij/AJawn76n6Dn866Gzu4b+yhu7d98MyB0Psa2q+9aouu/qY0vdbpvpt6f1oT0UUVibBRRRQAUUUUAFFFFABRRRQAUUUUAFFFFABXKJ/wATb4iyMfmg0i1CD082Tr/47x+FdPPMlvbyTyttjjUux9ABk1zngaF20abVJ1xPqVw9y2eyk4UfTAz+NbU/djKXy+//AIBjU96cY/P7v+CR+Dv+JfcavoDcfYbkvCD/AM8pPmX+v511dcpqv/Eq8daVqI4hv42spj23dU/Enj8K6ulW1an3/phR0Th2/pBRRRWRsFFFFABRRRQAUUUUAFFFFABRUazxPM8Kyo0seC6BgSuemR2zUlABRRRQAUUUUAFFFFABRRRQAVy3jSZ7m3stBt2In1ScRsR1WJeXP5Y/Wuprk9G/4nXjHU9YPzW9kPsNse2Ry5H48Z9DWtHRufb+kY1tUoLr+XU6mGKO3gjhiULHGoVVHYAYAp9FFZGwUUUUAFFFFABRRRQAU1/9W30NOpr/AOrb6GgDn/AP/JO/DX/YLtv/AEUtdFXO+Af+Sd+Gv+wXbf8Aopa6KgAooooAKKKKACiiigAooooAKKKKACvNNX1Ky0W/8c2mqHFxqsavYxFCWvFNssQjjH8RDqwwOm7PevS6KAMTw3dRR6XBpMs4bUNMtbeO9U5+RzGDyehzgnisHw4trqWh+IPE2pMUtdZMhD85SyjUpH+ahn/4HXc0UAefeGLmyi8V2th4X1e51PRRYyfaw9y1zFbOpQRbZGztYguNgPQZwMV1mrwa7MVOk6jp9rGEPmLdWTzlj7FZUx+RrVpr/wCrb6GgDn/AP/JO/DX/AGC7b/0UtdFXO+Af+Sd+Gv8AsF23/opa6KgAooooAKKKKACiiigAooooARlDKVYAgjBB71yXh9j4f1+58Nyk/Zpc3Onsf7p+8n4HJ/M111YHi3Spr/TUu7HjUbB/tFsw6kjqv4jt9K1pNawez/pGVVPScd1/TN+iqGi6rDrWkW9/Bwsq5K/3W7j8DV+s2mnZmiakroKKKKQwooooAKKKKACiiigAooooAKKKKAOa8cXMieHvsMB/0jUZktI/+BHn9AR+Nb9pbR2dnBaxDEcMaxqPYDArmrv/AImvxDs7brDpVu1w/p5j8KD+GDXV1rP3YRj8/v8A+AY0/enKXy+7/gnP+NLF73wxctDkXFri5hI6hk54/DNaul3yanpVrfR42zxK+PQkcj8DxVplDKVYAgjBB71y3gpjZLqeguTu065YRg/88n+Zf60171Nrt+v9IH7tVPv+n9M6qiiisTYKKKKACiiigAooooAKZNKkEMk0rBY41LMx7ADJNPrmfG1xIdKh0m2bFzqky2y47Kfvn6Y4P1q4R5pKJFSfJFyOXsJr3Tpo/G0rP9mv7lkuoj/BASFRvwI/lXpqsrqGUgqRkEdCKqNplq+kf2W0YNp5PkbP9nGKw/CF1Na/avDt6+66044jY/8ALWA/cb8OntxWtSSqpyXT8un3GNOLpNRfX8+v3nUUUUVznSFFFFABRRRQAUUUUAZHibVTo3h+7u0/123ZCB1Ltwv6nP4U7w3pX9i6BaWR/wBYqbpT6ueW/U1kat/xOvGunaUPmttPX7bcDsX6Rj69/oa6ytpe7BR76/5GMPeqOXbT/P8AryCiiisTYKKKKACiiigAooooAKa/+rb6GnU1/wDVt9DQBz/gH/knfhr/ALBdt/6KWuirnfAP/JO/DX/YLtv/AEUtdFQAUUUUAFFFFABRRRQAUUUUAFFFFABRRRQAUUUUAFNf/Vt9DTqa/wDq2+hoA5/wD/yTvw1/2C7b/wBFLXRVzvgH/knfhr/sF23/AKKWuioAKKKKACiiigAooooAKKKKACiiigDkLX/imfGD2R+XTdXYywekc/8AEv4/4CuvrJ8SaONb0aW2VtlwhEtvJ0KSLypz29PxpvhnWDrWjJNKuy7iJhuYzwUkXg8fr+NbT9+Kn12f6Mwh7knDpuv1RsUUUVibhRRRQAUUUUAFFFFABRRRQAUjMFUsxAAGST2pawPGd89j4XuhFkz3AFtEB1LPxx74yfwqoR5pKK6kzlyRcn0KnglTeRalrjg7tSumZCf+eSfKg/nXVVU0qxTTNKtLFMYgiVMjuQOT+J5q3Tqy5ptomlFxgk9wrlL/AP4lXj/T7wcQ6nC1rL6eYvKn6ngV1dc742s5Lnw1LPB/x82TrdxH0KHJ/TNVRfvWfXQVZe5ddNfuOioqtp95HqGnW15F9yeNZB7ZGcVZrNqzszRO6ugooopDCiiigAooooAK5O0/4nXj+6u+ttpEX2eL0MrfeP4Dg/hW/rGoppOj3d/JjEEZYA9z2H4nArO8Hac+n+HIDPk3VyTczk9S788++MD8K2h7sHL5f5/15mM/emo9tf8AL+vI3q5bxbby2E1r4ls0LT2BxcIv/LSA/eH4dfzNdTTXRZI2jdQyMCGUjIIPaohPklcupDnjYZbXEV3axXMDh4pUDow7gjIqWuS8Mu2iavd+GJ2JjTNxYMx+9ETyv1B/rXW0VIcsrLYKc+eN3uFFFFQWFFFFABUc88dtbyzzMFiiQu7HsAMk1JXL+NZpJ7S00O3Yi41SYREjqsQ5dvyx+Zq6ceaSRFSfJFyDwVBJNZXet3CkXGqTGbB6rGOEX8s/mK6io4IY7a3jgiULHGoRFHYAYAqSipLnk2FOHJFRCiiioLCiiigAooooAKKKKACmv/q2+hp1Nf8A1bfQ0Ac/4B/5J34a/wCwXbf+ilroq53wD/yTvw1/2C7b/wBFLXRUAFFFFABRRRQAUUUUAFFFFABRRRQAUUViap4u0PRb37Jf33lTBVd8RO6xKTgNIygiMEg8sQOKANuiqmpanZ6RpdxqV9N5VpboZJZApbao74UEn8BVfTdfsNUjuJIBdxJbgNI13ZTWwAOeR5qLnoc4zjv1oA06a/8Aq2+hrI0fxXouvXDW+nXhllEfmhXhePfHnG9N6jeuf4lyORzWu/8Aq2+hoA5/wD/yTvw1/wBgu2/9FLXRVzvgH/knfhr/ALBdt/6KWuioAKKKKACiiigAooooAKKKKACiiigArkL/AP4pnxdFqQ+XTtVIhuvSOb+F/wAeh/E119UtX0yDWdKuLC4H7uZMZxyp7EfQ4NaU5KL12e5nVg5LTdbF2iue8I6nPd2Eun35xqOnP5E4P8QH3X+hHf2roamcXGTiyoTU4qSCiiipKCiiigAooooAKKKKACuU1n/iaeN9H0wcxWatfzD3Hyp+v866uuU8J/8AEx1TW9dPK3Fx5EB/6ZxjGR9f6VrS0Tn2X5mNXVxh3f5anV0UUVkbBTXRZI2R1DKwIYHuDTqKAOW8EO1taX2iSsTJply0a56mNjuQ/jzXU1ylz/xKfiHa3HSDVrcwP6eanKn8sCurrWtrLm76/wCf4mNHSPJ20/y/AKKKKyNgooooAKKKKAOU8V/8TXVtI8PLyk8v2m6H/TJOx+p4+orq65Twv/xNdb1fxA3Mckn2S1P/AEyTqR7E8/ga6utqulodvz/rQxo+9eff8v61CiiisTY5zxfp081lDqlgP+Jjpr+fFj+Nf40/Efy9619L1GDVtMt7+3OYpkDAeh7g+4ORVyuR0v8A4prxXNo7fLp+ok3Fl6JJ/HH/AFH4etbR9+HL1X5df8/vMJe5Pm6Pf16f5fcddRRRWJuFFFFABXJ6R/xOvGmpasfmtrAfYrY9i3WQ/wBPoa1vEuq/2N4fu71f9aqbYh6ueF/U/pR4Z0r+xvD9pZt/rgu+Y9y7ct+px+FbR92Dl30/zMZ+9UUe2v8Al/Xka1FFFYmwUUUUAFFFFABRRRQAUUUUAFNf/Vt9DTqa/wDq2+hoA5/wD/yTvw1/2C7b/wBFLXRVzvgH/knfhr/sF23/AKKWuioAKKKKACiiigAooooAKKKKACiiigArzTV9SstFv/HNpqhxcarGr2MRQlrxTbLEI4x/EQ6sMDpuz3r0uigDjy+jy+CJ9B168Ciysbe31Tll8ssi9Wx39R09q5yVp9X0/wAW6V4a1O81fS5dGYRSyztcBbpg48uOVslsrjIycHHTOK9TooA4Cx1bT/EfjDw1LojiWPT7K4N3sUj7OHVFWJ/7rFh93r8h4rqtX0u81Aq9truoacqIQUtUgYP7nzI2P5EVq01/9W30NAHP+Af+Sd+Gv+wXbf8Aopa6Kud8A/8AJO/DX/YLtv8A0UtdFQAUUUUAFFFFABRRRQAUUUUAFFFFABRRRQByXiRG0HWrXxNCp8ji31BVHWMn5X+oOP0rrEdXRXRgysMgg5BFRXVtDe2ktrcIHhlQo6nuDXN+ErqWxluPDV85NzY827t/y1gP3SPp0/Ktn78L9V+X/AMF7lS3SX5/8E6qiiisTcKKKKACiiigAooooAx/FOpf2T4avrtTiQRlI8dd7fKP1Oal8PaaNI8P2NjjDRRDf/vnlv1JrH8Tf8TLxFoeijlDKbycf7CfdB9iciurrWXu00u+v6L9TGPvVG+2n6v9AooorI2CiiigDm/HFrJJ4eN7bj/SdPlS7jP+6ef0yfwres7qO9soLqI5jmjWRfoRmnzRJPDJDIoaORSrA9weDXNeB5Xi0u50iZiZtMuXt+epTOVP6n8q1+Kl6fr/AF+Jj8NX1X4r+vwOoooorI2CiiigArC8X6k+m+HLhocm5nxbwAdS78DHuBk/hW7XJ33/ABOfHtnZD5rbSo/tU3p5rcID7gc/nWtFJyu9lqZVm1Gy3ehu6LpqaRotpYJjEMYUkd26sfxOTV+iis223dmiSSsgooopDCsXxRo76vpDLbnZfW7Ce1kHVZF5H59K2qKqMnFqSJlFSi4sy/D2sJrmjQXoG2UjZNH/AHJBww/z2IrUrkX/AOKZ8ZCT7umay2G9I7nsf+Bfz+lddVVYpO8dmRSk2rS3QUUUyaaO3gknlYLHGpdmPYAZJrM1OW1j/ideMtN0gfNb2I+3XI7FuiD8+foa6yuX8FQyXFrea7cKRPqkxkAPVYhwg/LP6V1Fa1tGodv6ZjR1Tm+v5dAooorI2CiiigAooooAKKKKACiiigApr/6tvoadTX/1bfQ0Ac/4B/5J34a/7Bdt/wCilroq53wD/wAk78Nf9gu2/wDRS10VABRRRQAUUUUAFFFFABRRRQAUUUUAFFFFABRRRQAU1/8AVt9DTqa/+rb6GgDn/AP/ACTvw1/2C7b/ANFLXRVzvgH/AJJ34a/7Bdt/6KWuioAKKKKACiiigAooooAKKKKACiiigAooooAK5zxVpVxNHBq+mj/iaaed8YH/AC1T+JD65Gf8mujoqoScJXRM4KceVlHR9Vt9a0uC/tj+7lXJU9VPdT7g1erjn/4pHxP5n3dG1WTDf3YLj19g3+eldjVVIpO8dmTTm5K0t1uFFFFZmgUUUUAFFFUNb1EaTol7fEjMMTMue7dFH54ppNuyE2krsw/D/wDxM/FmuaweY4mFhAfZeX/XBrq6xPCOnHTPC9lC4PnOnmyk9Sz/ADHP54/CturrNObtstPuM6Kagr7vX7wooorM1CiiigArlH/4lPxFR+kGsW20+nmx9P8Ax3j8a6uuZ8cQSDRI9SgGbjTZ0ukx3APzD6YOfwrWj8XK+un9fMxr/DzLpr/XyOmoqK3njuraK4iO6OVA6H1BGRUtZGwUUUUAR3E8drbS3EzbYokLu3oAMmuc8EwSSabcaxcLi41Sdrgg/wAKZwi/THT60njaaSaxtNEt2In1ScQ5HVYxy7flj866SCGO3t44IlCxxqERR2AGAK2+Gn6/kv8Ag/kY/FV/w/m/+B+ZJRRRWJsFFFFABRRRQBm69pEeuaNcWMh2s4zG/wDcccqfzqr4V1eTVNJ2XY26haObe6Q9Q68Z/Hr+dblcjrP/ABTfie311Plsb3FtfgdFP8Eh/kf/AK9bU/fi6f3f15mFT3JKp8n/AF5HXVzHjWeSWxtdFtmxcapMIcjqsY5dvy/nXT1yel/8TrxtqGpn5rbTl+xW57F+sh+vb6GlR0fO+n9IdbVKC66f5/gdRbwR2ttFbwrtiiQIi+gAwKkoorI2CiiigAooooAKKKKACiiigAooooAKa/8Aq2+hp1Nf/Vt9DQBz/gH/AJJ34a/7Bdt/6KWuirnfAP8AyTvw1/2C7b/0UtdFQAUUUUAFFFFABRRRQAUUUUAFFFFABRRXN6v40sdIvbq3ay1C6WyjWW+mtYg6WqMMgvlgTwN2FDEDnFAHSUVUu9QS201r6KGe7TarJHarveQEjG0Z569c4xzWVbeLbWZNRW5sL+xutPt/tU1rcogkMRDYZSrFWB2sPvcEc4oA6Cmv/q2+hrH0HX5ddjSb+xNSsbeSFZoprswbZAcEYCSMc4OeQK2H/wBW30NAHP8AgH/knfhr/sF23/opa6Kud8A/8k78Nf8AYLtv/RS10VABRRRQAUUUUAFFFFABRRRQAUUUUAFFFFABRRRQBT1XTbfWNMnsLpcxTLgnup7Ee4PNY3hTUrgifQ9Tb/iZafhSx/5bRfwuPXjGfw9a6WuZ8V6dcIYNf01c6hp+SyD/AJbRfxIf1I/GtqbUl7N9dvUxqJxftF039DpqKqaZqNvq2mwX1q26GZdw9R6g+4PFW6yaadmappq6CiiikMK5Xxj/AKfcaRoK8/bbkPMP+mUfzN/T8q6quU0z/iaePdUvjzDp8S2cR7bz8zn6jp+Na0dG59v6RjW1Sh3f/D/gdXRRRWRsFFFFABRRRQAVFcQR3VtLbyjdHKhRx6gjBqWigDmfA88g0STTZzm402d7V89wD8p+mDj8K6auUT/iU/EV06Qaxbbh6ebH1/8AHf511da1vi5u+v8AXzMaHw8r6af18goorP13U10fQ7y/bH7mMlQe7dFH5kVmk5OyNZNRV2Ymnf8AE58dX+oHm30xPscHp5h5c/UdPxrq6xPCWmNpXhy2imz9olBnnJ6l25OfccD8K260qtOVlstDOimo3e71CiiisjUKKKKACiiigAqrqNhBqmnXFjcruimQo3t7j3B5q1RTTad0JpNWZw1n4km0bwvqVnfNnU9JHkLn/lqDxEw9QePy966LwxpR0fw9a2r/AOv2+ZMT1Mjctn+X4VV1fwla6vr1hqrvsa2I81AuRMAcqD9D9eK6Gtqs4uPu9dWYUqclL3umi/r7gooorA6AooooAKKKKACiiigAooooAKKKKACmv/q2+hp1Nf8A1bfQ0Ac/4B/5J34a/wCwXbf+ilroq53wD/yTvw1/2C7b/wBFLXRUAFFFFABRRRQAUUUUAFFFFABRRRQAV57qhvtIv/F9uukX962tKsli9tAZEZzAsJR2HEeCmctgYavQqKAOYg1OTw54XltjpepXk2jWcEW2C3ZvtbbAP3WPvc9Tjjmszw5LDeW+r6lqtpqVzqd1bf6XE+m3EKLCobbbw+Yi7sbm6csWJ44A7qigDgPDthbR+MYLjw5o15pWkrZyJfCa1e1jmkLJ5W2NwCWGHywHQ4ya6rV9As9YKyXM2oI0aEAWuoT24P1EbqD+NatNf/Vt9DQBz/gH/knfhr/sF23/AKKWuirnfAP/ACTvw1/2C7b/ANFLXRUAFFFFABRRRQAUUUUAFFFFABRRRQAUUUUAFFFFABRRRQBx0P8AxSPif7Mfl0bVZMxHtBP3X2Ddv/rGuxqhrOk2+t6VPYXA+WQfKw6o3Zh7g1meFdWuLmCbS9SONU08+XNn/lov8Lj1yP8APNbS/eR5+q3/AMzCP7uXJ0e3+X+R0VFFFYm5W1C8j0/Trm8l+5BE0h98DOKxvBNm9t4Zhmn/AOPi9ZruU+pc5H6YqDxw7XFhZaNExEmp3SQnHURg5Y/hx+ddPGixRrGihUUBVA7AVs/dper/ACMV71X0X5jqKKKxNgooooAKKKKACiiigDl/HETxaXbavCuZtMuUuBjqUzhh+o/KulhlSeGOaNt0cihlI7g8imXlrHe2U9rKMxzRtG30IxWD4HupJPD4srg/6Tp0r2kg/wB08fpgfhW3xUvT9f6/Ex+Gr6r8V/X4HSVyfib/AIm3iDSNAXmPf9suh/0zT7oPsTx+VdYTgZPSuU8JD+1NR1bxE/K3UvkWxP8AzxTjI+p/UUUvdvPt+b/q4VfetDv+S/qx1dFFFYmwUUUUAFFFFABRRRQAUUUUAFFFFABRRRQAUUUUAFFFFABRRRQAUUUUAFFFFABTX/1bfQ06mv8A6tvoaAOf8A/8k78Nf9gu2/8ARS10Vc74B/5J34a/7Bdt/wCilroqACiiigAooooAKKKKACiiigAooooAKKKKACiiigApr/6tvoadTX/1bfQ0Ac/4B/5J34a/7Bdt/wCilroq53wD/wAk78Nf9gu2/wDRS10VABRRRQAUUUUAFFFFABRRRQAUUUUAFFFFABRRRQAUUUUAFcv4psp7OeDxLpybruyGLiMf8t4P4gfcdR/9YV1FBGRg9KuE+R3InDnjYr2N7BqVjDeWr74ZlDKf896sVx9gT4T8SHS3ONJ1Jy9mx6Qy94/oe34e9dZPMltbyzyttjjQux9ABk06kOV6bPYVOfMve3W5zEf/ABNfiNLJ1h0i2CD2lk6/+O8fhXV1zHgaGRtFl1OcYn1K4e5bPYE4UfTAz+NdPTrfFy9tP6+ZND4ebvr/AF8gooorI2CiiigAooooAKKKKACuUtv+JT8Q7q36QatbiZPTzU4Yflk11dct43RrazsdbiBMmmXKyNjqY2O1x+PFa0dZcvfT/L8TGtpHn7a/5/gWfGWoSWPh2aO3ybq8YWsCjqWfjj8M1qaVp8elaTa2EX3YIwmfU9z+Jya56V117x5bRowez0mDz2I6GWQfL+Q5FdbTn7sFH5/5f15hT96bn8v8/wAfyCiiisTYKKKKACiiigAooooAKKKKACiiigAooooAKKKKACiiigAooooAKKKKACiiigApr/6tvoadTX/1bfQ0Ac/4B/5J34a/7Bdt/wCilroq53wD/wAk78Nf9gu2/wDRS10VABRRRQAUUUUAFFFFABRRRQAUUUUAFFFcpq/jC7sr7VI9P0Vr+30iNZL+X7QI2XK79sa7TvYJhsEr1AzmgDq6KydU8QWmmeGpNdw89sIlkiWMfNLvwEUZ7sWUfjWXF4wks5NRh8Q6aNNmsrE6gRFceekkAyGIbavzKRgjHcYJzQB1VNf/AFbfQ1zek+KL251W0sNW0b+zXv7drizIuRNvC7dyP8o2OAwOOR154rpH/wBW30NAHP8AgH/knfhr/sF23/opa6Kud8A/8k78Nf8AYLtv/RS10VABRRRQAUUUUAFFFFABRRRQAUUUUAFFFFABRRRQAUUUUAFFFFAGbr2jw67pMtlKdrH5opB1jcdGH+fWuN1DxDdX3hOTRbj5Nce4TT5U7ksfv/QqDz716JWPdeGrC68RWuturC6t1IwMbX4wCfcZ/l6VvSqRjpLpqvX/AIJz1qUpaw66P0/4BpWttHZ2kNtEMRwxrGo9gMCpqKKwep0JWCiiigAooooAKKKKACiiigAqtqFnHqGnXNnL9yeNoz7ZGM1Zopp2d0Jq6sznPBnh6bw/pDx3bK95NJukZW3DA4UZ9gP1ro6KKc5ucnJ9RQgoRUVsgoooqSgooooAKKKKACiiigAooooAKKKKACiiigAooooAKKKKACiiigAooooAKKKKACmv/q2+hp1Nf/Vt9DQBz/gH/knfhr/sF23/AKKWuirnfAP/ACTvw1/2C7b/ANFLXRUAFFFFABRRRQAUUUUAFFFFABRRRQAVwuqabr9jfeJYtL0sXsOuqrRT+eiLbS+SIW8wMclcKrfKGPUYFd1RQBx2paFqN54PufDlvbLH9gitBY3Mso23LwlHGQOUG6MKc+uapX3h/VvF9xq1xqFgdIWbRpdMt45ZklcvIdzOdhICgqgHOTzwK76igDjdPtdd1fxHo9/qulf2bHpVtKrZnSTz5pAq5TaThAAxy2Ccjjit3V9As9YKyXM2oI0aEAWuoT24P1EbqD+NatIw3KQDjIxQBz3gH/knfhr/ALBdt/6KWuirj9I0Dxbo2i2Ol2/iDRmgs7dLeMyaRIWKooUZIuBzgegq79i8Z/8AQe0P/wAE8v8A8k0AdHRXF69P4z0Pw7qWrf2xoc32K1kuPK/smVd+xS2M/aDjOOuK0Fs/GZUH+3tD5H/QHl/+SaAOkornPsXjP/oPaH/4J5f/AJJo+xeM/wDoPaH/AOCeX/5JoA6Oiuc+xeM/+g9of/gnl/8Akmj7F4z/AOg9of8A4J5f/kmgDo6K5z7F4z/6D2h/+CeX/wCSaPsXjP8A6D2h/wDgnl/+SaAOjornPsXjP/oPaH/4J5f/AJJo+xeM/wDoPaH/AOCeX/5JoA6Oiuc+xeM/+g9of/gnl/8Akmj7F4z/AOg9of8A4J5f/kmgDo6K5z7F4z/6D2h/+CeX/wCSazYbjxnN4jvdI/tjQx9mtYLnzf7Jl+bzGlXbj7Rxjyuued3tyAdrRXOfYvGf/Qe0P/wTy/8AyTR9i8Z/9B7Q/wDwTy//ACTQB0dFc59i8Z/9B7Q//BPL/wDJNH2Lxn/0HtD/APBPL/8AJNAHR0Vzn2Lxn/0HtD/8E8v/AMk0fYvGf/Qe0P8A8E8v/wAk0AdHRXOfYvGf/Qe0P/wTy/8AyTR9i8Z/9B7Q/wDwTy//ACTQB0dFc59i8Z/9B7Q//BPL/wDJNH2Lxn/0HtD/APBPL/8AJNAHR0Vzn2Lxn/0HtD/8E8v/AMk1na9P4z0Pw7qWrf2xoc32K1kuPK/smVd+xS2M/aDjOOuKAO0orm1s/GZUH+3tD5H/AEB5f/kml+xeM/8AoPaH/wCCeX/5JoA6Oiuc+xeM/wDoPaH/AOCeX/5Jo+xeM/8AoPaH/wCCeX/5JoA6Oiuc+xeM/wDoPaH/AOCeX/5Jo+xeM/8AoPaH/wCCeX/5JoA6Oiuc+xeM/wDoPaH/AOCeX/5Jo+xeM/8AoPaH/wCCeX/5JoA6Oiuc+xeM/wDoPaH/AOCeX/5Jo+xeM/8AoPaH/wCCeX/5JoA6Oiuc+xeM/wDoPaH/AOCeX/5Jo+xeM/8AoPaH/wCCeX/5JoA6OiuKhuPGc3iO90j+2NDH2a1gufN/smX5vMaVduPtHGPK6553e3Ol9i8Z/wDQe0P/AME8v/yTQB0dFc59i8Z/9B7Q/wDwTy//ACTR9i8Z/wDQe0P/AME8v/yTQB0dFc59i8Z/9B7Q/wDwTy//ACTR9i8Z/wDQe0P/AME8v/yTQB0dFc59i8Z/9B7Q/wDwTy//ACTR9i8Z/wDQe0P/AME8v/yTQB0dFc59i8Z/9B7Q/wDwTy//ACTR9i8Z/wDQe0P/AME8v/yTQB0dFc59i8Z/9B7Q/wDwTy//ACTR9i8Z/wDQe0P/AME8v/yTQB0dFcXr0/jPQ/Dupat/bGhzfYrWS48r+yZV37FLYz9oOM464rQWz8ZlQf7e0Pkf9AeX/wCSaAOkornPsXjP/oPaH/4J5f8A5Jo+xeM/+g9of/gnl/8AkmgDo6K5z7F4z/6D2h/+CeX/AOSaPsXjP/oPaH/4J5f/AJJoA6Oiuc+xeM/+g9of/gnl/wDkmj7F4z/6D2h/+CeX/wCSaAOjpr/6tvoa577F4z/6D2h/+CeX/wCSaQ2PjMgj+3tD5/6g8v8A8k0AO8A/8k78Nf8AYLtv/RS10VZvh/SzofhzTNJMwmNlaxW/mhdu/YoXOMnGcetaVABRRRQAUUUUAFFFFABRRRQAUUUUAFFFFABRRRQAUUUUAFFFFAGZrWsaXpFqn9qSYjuG8pIhC0zSkgkqEUFm4BzgHirGm6lZ6vp8V9YTrPbS52OuR0OCCDyCCCCDyCK5rxRdQaR4y8O6xqMiw6ZFDd273EnCQyv5ZQsei5COMn1x3qXwGDLp+q3yIy2t9qtxc2u5Su6IkAOAezEMw9Q2e9AHV0UUUAFFFFABRRRQAUUUUAFFFFAEVzcRWlrNc3DiOGFGkkc9FUDJP5VlaV4j0XWL+SGylb7YIg7JNbSQSNGDgMBIqllBPUZHPvWpeXcFhZT3l1KIre3jaWWRuiIoySfoAa4bwr4g0vxh4oGtjVLEyx20kOn6dHcI0yQsyl5ZQDkM2xPl/hA55JwAd/RRRQAUUUUAFFFFABRRRQAUUUUAFV7+e0ttPuJ79o1tI42aZpBlQgHOfbFWK5jxVY65fXumiwsrO90+BzNPb3F20HmSKQY8kRvlQctjjkL6YIBt6VqlnrWmQajp8pltJ13RuUZMjOOjAEdO4q5XG/CyS7k+Hum/areKHbvEflymTem48nKjBzkY56A55wOyoAKKKKACiiigAooooAKKKKACiiigDFh8SaLNrT2NvK8t5u8l5IrWRowy5OxpQuwEc8FuDmtqvGvCLzaTaaBp8Gr38niSPUPI1HTXlYosO9vMYxfdVdvziTqxI5OcV7LQAUUUUAFFFFABRRRQAUUUUAFFFFAGZrWsaXpNui6nJ8tyTEkKwtM8xwSQI1BZuM5wOlT6XqtjrNit5p84mgLFMgFSrA4KspAKkHqCAa5Px7MkGseHZZr9tIhSSctq4AP2c7ABGdwKDfk8uCPk45INWfh0xbQr1gxnjOoztHfFSpvQSD5xB45JI4wvy8ADAoA6+iiigAooooAKKKKACiiigAooooAKKKKACiiigAooooAKKKKACiiigAooooAKKKKACiiigAooooAKKKKACiiigAooooAKKKKACiiigAooooAKKKKACiiigAooooAKKKKACiiigAooooAKKKKACiiigAooooAKKKKACiiigAooooAKKKKACiiigAooooAKKKKACiiigAooooAKKKKACiiigAooooAKKKKACiiigAooooAKKKKACiiigAooooAKKKKACiiigAooooAKKKKACiiigAooooAKKKKACiiigAooooAKKKKACiiigAooooAKKKKACiiigAooooAKKKKACiiigAooooAKKKKACiiigAooooAKKKKACiiigAooooAKKKKACiiigAooooAKKKKACiiigAooooAKKKKACiiigAooooAKKKKACiiigAooooAKKKKACiiigAooooAKKKKACiiigD//2Q==\">"
      ],
      "text/plain": [
       "<IPython.core.display.HTML object>"
      ]
     },
     "execution_count": 46,
     "metadata": {},
     "output_type": "execute_result"
    }
   ],
   "source": [
    "show(generate_chart(10))"
   ]
  },
  {
   "cell_type": "code",
   "execution_count": 63,
   "id": "c9f74172",
   "metadata": {},
   "outputs": [],
   "source": [
    "#| exports\n",
    "teams = [[\"Alicia Koch\"],['Acme Inc', 'Monster Inc.'],['Create a Team']]\n",
    "\n",
    "opt_hdrs = [\"Personal\", \"Team\", \"\"]\n",
    "\n",
    "team_dropdown = DropdownButton(*[list(map(A, team)) for team in teams],\n",
    "    opt_hdrs=opt_hdrs,\n",
    "    label=teams[0][0])"
   ]
  },
  {
   "cell_type": "code",
   "execution_count": 51,
   "id": "b91ef344",
   "metadata": {},
   "outputs": [],
   "source": [
    "#| exports\n",
    "hotkeys = [('Profile','⇧⌘P'),('Billing','⌘B'),('Settings','⌘S'),('New Team', '')]\n",
    "\n",
    "def space(*c): return A(FullySpacedDiv(*(map(P,c))))\n",
    "\n",
    "hotkeys = tuple(map(lambda x: space(*x), hotkeys))\n",
    "logout = space('Logout' ,''),\n",
    "user = Li(cls='px-2 py-1.5 text-sm')(\n",
    "        Div(cls='flex flex-col space-y-1')(\n",
    "            P('sveltecult', cls=TextT.medium_sm),\n",
    "            P('leader@sveltecult.com', cls=TextT.muted_sm))),\n",
    "avatar = DiceBearAvatar('Alicia Koch',8,8)\n",
    "avatar_dropdown = DropdownButton(user,hotkeys,logout, label=avatar)"
   ]
  },
  {
   "cell_type": "code",
   "execution_count": 28,
   "id": "6ca923da",
   "metadata": {
    "scrolled": true
   },
   "outputs": [],
   "source": [
    "# show(avatar_dropdown)"
   ]
  },
  {
   "cell_type": "code",
   "execution_count": 20,
   "id": "51137d79",
   "metadata": {},
   "outputs": [],
   "source": [
    "#| exports\n",
    "top_nav = Navbar(\n",
    "    lnav=[team_dropdown, Li(A(\"Overview\")), Li(A(\"Customers\")), Li(A(\"Products\")), Li(A(\"Settings\"))],\n",
    "    rnav=[Input(placeholder='Search'), avatar_dropdown],)"
   ]
  },
  {
   "cell_type": "code",
   "execution_count": 21,
   "id": "a7002b4e",
   "metadata": {},
   "outputs": [],
   "source": [
    "#| exports\n",
    "def page():\n",
    "    return Div(cls=\"space-y-4\")(\n",
    "        Div(cls=\"border-b border-border px-4\")(top_nav),\n",
    "        H2('Dashboard'),\n",
    "        Tab(\"Overview\", \"Analytics\", \"Reports\", \"Notifications\"), \n",
    "        top_info_row,\n",
    "        Grid(Card(generate_chart(10),cls='lg:col-span-4'),\n",
    "            recent_sales,\n",
    "            gap=4,cls='lg:grid-cols-7'))"
   ]
  },
  {
   "cell_type": "code",
   "execution_count": 23,
   "id": "22a8233b",
   "metadata": {},
   "outputs": [],
   "source": [
    "#| exports\n",
    "dashboard_homepage = page()"
   ]
  },
  {
   "cell_type": "code",
   "execution_count": 24,
   "id": "1992630d",
   "metadata": {},
   "outputs": [],
   "source": [
    "#| hide\n",
    "import nbdev; nbdev.nbdev_export()"
   ]
  }
 ],
 "metadata": {
  "kernelspec": {
   "display_name": "Python 3 (ipykernel)",
   "language": "python",
   "name": "python3"
  },
  "language_info": {
   "codemirror_mode": {
    "name": "ipython",
    "version": 3
   },
   "file_extension": ".py",
   "mimetype": "text/x-python",
   "name": "python",
   "nbconvert_exporter": "python",
   "pygments_lexer": "ipython3",
   "version": "3.12.4"
  },
  "toc": {
   "base_numbering": 1,
   "nav_menu": {},
   "number_sections": true,
   "sideBar": true,
   "skip_h1_title": false,
   "title_cell": "Table of Contents",
   "title_sidebar": "Contents",
   "toc_cell": false,
   "toc_position": {},
   "toc_section_display": true,
   "toc_window_display": false
  }
 },
 "nbformat": 4,
 "nbformat_minor": 5
}
