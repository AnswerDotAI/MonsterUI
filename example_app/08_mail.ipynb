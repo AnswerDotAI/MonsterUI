{
 "cells": [
  {
   "cell_type": "code",
   "execution_count": 1,
   "id": "8d0c0842",
   "metadata": {},
   "outputs": [],
   "source": [
    "#| default_exp mail"
   ]
  },
  {
   "cell_type": "code",
   "execution_count": 2,
   "id": "d80296c1",
   "metadata": {},
   "outputs": [],
   "source": [
    "#| export\n",
    "from fasthtml.common import *\n",
    "from fh_frankenui import *\n",
    "from fasthtml.svg import *\n",
    "from fh_matplotlib import matplotlib2fasthtml\n",
    "import numpy as np\n",
    "from pathlib import Path\n",
    "import matplotlib.pylab as plt\n",
    "import json\n",
    "from datetime import datetime"
   ]
  },
  {
   "cell_type": "code",
   "execution_count": 3,
   "id": "02013099",
   "metadata": {},
   "outputs": [
    {
     "data": {
      "text/html": [
       "<script src=\"https://cdn.tailwindcss.com\"></script>\n",
       "<script src=\"https://cdn.jsdelivr.net/npm/uikit@3.21.6/dist/js/uikit.min.js\"></script>\n",
       "<script src=\"https://cdn.jsdelivr.net/npm/uikit@3.21.6/dist/js/uikit-icons.min.js\"></script>\n",
       "<script type=\"module\" src=\"https://unpkg.com/franken-wc@0.0.6/dist/js/wc.iife.js\"></script>\n",
       "<link rel=\"stylesheet\" href=\"https://unpkg.com/franken-wc@0.0.6/dist/css/blue.min.css\">\n",
       "\n",
       "<style>\n",
       "#notebook-container { max-width: none; }\n",
       ".output_html * { list-style-type: none !important; }\n",
       "</style>\n"
      ],
      "text/plain": [
       "<IPython.core.display.HTML object>"
      ]
     },
     "metadata": {},
     "output_type": "display_data"
    }
   ],
   "source": [
    "%%html\n",
    "<script src=\"https://cdn.tailwindcss.com\"></script>\n",
    "<script src=\"https://cdn.jsdelivr.net/npm/uikit@3.21.6/dist/js/uikit.min.js\"></script>\n",
    "<script src=\"https://cdn.jsdelivr.net/npm/uikit@3.21.6/dist/js/uikit-icons.min.js\"></script>\n",
    "<script type=\"module\" src=\"https://unpkg.com/franken-wc@0.0.6/dist/js/wc.iife.js\"></script>\n",
    "<link rel=\"stylesheet\" href=\"https://unpkg.com/franken-wc@0.0.6/dist/css/blue.min.css\">\n",
    "\n",
    "<style>\n",
    "#notebook-container { max-width: none; }\n",
    ".output_html * { list-style-type: none !important; }\n",
    "</style>"
   ]
  },
  {
   "cell_type": "code",
   "execution_count": 4,
   "id": "1b2407d4",
   "metadata": {},
   "outputs": [],
   "source": [
    "#| export\n",
    "def NavItem(icon, text, quantity=None):\n",
    "    cls = 'flex items-center space-x-2 rounded-md px-3 py-2 text-sm font-medium hover:bg-accent hover:text-accent-foreground'\n",
    "    content = [Icon(icon), Span(text)]\n",
    "    if quantity:\n",
    "        content.append(Span(quantity, cls='ml-auto text-background bg-primary rounded-full px-2 py-0.5 text-xs'))\n",
    "    return Li(A(*content, href='#', cls=cls))"
   ]
  },
  {
   "cell_type": "code",
   "execution_count": 5,
   "id": "c2757d53",
   "metadata": {},
   "outputs": [],
   "source": [
    "#|export\n",
    "def NavGroup(items):\n",
    "    return Ul(cls='uk-nav uk-nav-default space-y-3')(*[NavItem(i, t, q) for i, t, q in items if q or t != 'Trash'])"
   ]
  },
  {
   "cell_type": "code",
   "execution_count": 6,
   "id": "7b7edb58",
   "metadata": {},
   "outputs": [],
   "source": [
    "#|export\n",
    "sidebar_group1 = (('home', 'Inbox', '128'), ('file-text', 'Drafts', '9'), (' arrow-up-right', 'Sent', ''),\n",
    "    ('ban', 'Junk', '23'), ('trash', 'Trash', ''), ('folder', 'Archive', ''))\n",
    "\n",
    "sidebar_group2 = (('world','Social','972'),('info','Updates','342'),('comments','Forums','128'),\n",
    "    ('cart','Shopping','8'),('bag','Promotions','21'),)\n",
    "\n",
    "def Sidebar():\n",
    "    return Div(cls='space-y-4 py-4 px-3')(\n",
    "                H3('Email',cls='pb-4'),\n",
    "                Div(cls='space-y-6')(\n",
    "                    Button('New message', cls=(ButtonT.primary, 'w-full justify-start')),\n",
    "                    NavGroup(sidebar_group1),\n",
    "                    HSplit(),\n",
    "                    NavGroup(sidebar_group2)))"
   ]
  },
  {
   "cell_type": "code",
   "execution_count": 7,
   "id": "522440ed",
   "metadata": {},
   "outputs": [],
   "source": [
    "#| export\n",
    "mail_data = json.load(open(Path('data/mail.json')))"
   ]
  },
  {
   "cell_type": "code",
   "execution_count": 8,
   "id": "c15db454",
   "metadata": {},
   "outputs": [],
   "source": [
    "#|export\n",
    "def format_date(date_str):\n",
    "    date_obj = datetime.fromisoformat(date_str)\n",
    "    return date_obj.strftime(\"%Y-%m-%d %I:%M %p\")"
   ]
  },
  {
   "cell_type": "code",
   "execution_count": 9,
   "id": "224f1ab4",
   "metadata": {},
   "outputs": [],
   "source": [
    "#| export\n",
    "def MailItem(mail):\n",
    "    cls_base = 'relative rounded-lg border border-border p-3 text-sm hover:bg-accent'\n",
    "    cls = f\"{cls_base} {'bg-muted' if mail == mail_data[0] else ''} {'tag-unread' if not mail['read'] else ''}\"\n",
    "    \n",
    "    return Li(cls=f\"tag-mail {cls}\")(\n",
    "        Div(cls='flex w-full flex-col gap-1')(\n",
    "            Div(cls='flex items-center')(\n",
    "                Div(cls='flex items-center gap-2')(\n",
    "                    Div(mail['name'], cls='font-semibold'),\n",
    "                    Span(cls='flex h-2 w-2 rounded-full bg-blue-600') if not mail['read'] else ''),\n",
    "                Div(format_date(mail['date']), cls='ml-auto text-xs')),\n",
    "            A(mail['subject'], cls=TextT.medium_xs, href=f\"#mail-{mail['id']}\"),\n",
    "            Div(mail['text'][:100] + '...', cls=TextT.muted_xs),\n",
    "            Div(cls='flex items-center gap-2')(\n",
    "                *[A(label, cls=f\"uk-label relative z-10 {'uk-label-primary' if label == 'work' else ''}\", href='#')\n",
    "                  for label in mail['labels']])))"
   ]
  },
  {
   "cell_type": "code",
   "execution_count": 10,
   "id": "ece1a4e4",
   "metadata": {},
   "outputs": [],
   "source": [
    "#|export\n",
    "def MailList(mails): return Ul(cls='js-filter space-y-2 p-4 pt-0')(*[MailItem(mail) for mail in mails])"
   ]
  },
  {
   "cell_type": "code",
   "execution_count": 11,
   "id": "7ce30476",
   "metadata": {},
   "outputs": [],
   "source": [
    "#|export\n",
    "def MailContent():\n",
    "    return Div(cls='flex flex-col')(\n",
    "        Div(cls='flex h-14 flex-none items-center border-b border-border px-4 py-2')(\n",
    "            H1('Inbox', cls='text-xl font-bold'),\n",
    "            Ul(cls='uk-tab-alt ml-auto max-w-40')(\n",
    "                Li(cls='uk-active', uk_filter_control=\"filter: .tag-mail\")(A('All mail', href='#')),\n",
    "                Li(uk_filter_control=\"filter: .tag-unread\")(A('Unread', href='#')))),\n",
    "        Div(cls='flex flex-1 flex-col')(\n",
    "            Div(cls='p-4')(\n",
    "                Div(cls='uk-inline w-full')(\n",
    "                    Span(cls='uk-form-icon text-muted-foreground')(Icon('search')),\n",
    "                    Input(cls='uk-input', type='text', placeholder='Search'))),\n",
    "            Div(cls='max-h-[600px] flex-1 overflow-y-auto')(MailList(mail_data))))"
   ]
  },
  {
   "cell_type": "code",
   "execution_count": 12,
   "id": "29100acc",
   "metadata": {},
   "outputs": [],
   "source": [
    "#| export\n",
    "def IconNavItem(*d): return [Li(A(Icon(o[0]),uk_tooltip=o[1])) for o in d]  \n",
    "def IconNav(*c,cls=''): return Ul(cls=f'uk-iconnav {cls}')(*c)"
   ]
  },
  {
   "cell_type": "code",
   "execution_count": 13,
   "id": "e2ae6388",
   "metadata": {},
   "outputs": [],
   "source": [
    "#| export\n",
    "def MailDetailView(mail):\n",
    "    return Div(cls='flex flex-col')(\n",
    "        Div(cls='flex h-14 flex-none items-center border-b border-border p-2')(\n",
    "            Div(cls='flex w-full justify-between')(\n",
    "                Div(cls='flex gap-x-2 divide-x divide-border')(\n",
    "                    IconNav(*IconNavItem(('folder','Archive'),('ban','Move to junk'),('trash','Move to trash'))),\n",
    "                    IconNav(Li(A(Icon('clock'), uk_tooltip='Snooze')), cls='pl-2')),\n",
    "                Div(cls='flex gap-x-2 divide-x divide-border')(\n",
    "                    IconNav(*IconNavItem(('reply','Reply'),('reply','Reply all'),('forward','Forward'))),\n",
    "                    IconNav(Li(A(Icon('more-vertical'))),cls='pl-2')))),\n",
    "        Div(cls='flex-1')(\n",
    "            Div(cls='flex items-start p-4')(\n",
    "                Div(cls='flex items-start gap-4 text-sm')(\n",
    "                    Span(mail['name'][:2], cls='flex h-10 w-10 items-center justify-center rounded-full bg-muted'),\n",
    "                    Div(cls='grid gap-1')(\n",
    "                        Div(mail['name'], cls=TextB.wt_bold),\n",
    "                        Div(mail['subject'], cls='text-xs'),\n",
    "                        Div(cls=TextB.sz_xsmall)(\n",
    "                            Span('Reply-To:', cls=TextB.wt_medium),\n",
    "                            f\" {mail['email']}\"))),\n",
    "                Div(format_date(mail['date']), cls=(TextT.muted_xs,'ml-auto'))),\n",
    "            Div(cls='flex-1 space-y-4 border-t border-border p-4 text-sm')(P(mail['text']))),\n",
    "        Div(cls='flex-none space-y-4 border-t border-border p-4')(\n",
    "            TextArea(id='message', placeholder=f\"Reply {mail['name']}\"),\n",
    "            Div(cls='flex justify-between')(\n",
    "                    Switch('Mute this thread',id='mute', cls='inline-flex items-center gap-x-2 text-xs'),\n",
    "                Button('Send', cls=ButtonT.primary))))"
   ]
  },
  {
   "cell_type": "code",
   "execution_count": 14,
   "id": "2be33650",
   "metadata": {},
   "outputs": [],
   "source": [
    "#| export\n",
    "def mail_homepage():\n",
    "    return Div(cls='flex divide-x divide-border')(\n",
    "        Sidebar(),\n",
    "        Grid(MailContent(),\n",
    "             MailDetailView(mail_data[0]),\n",
    "             cols=2, gap=0, cls='flex-1 divide-x divide-border'))\n",
    "\n"
   ]
  },
  {
   "cell_type": "code",
   "execution_count": null,
   "id": "d7dc9916",
   "metadata": {},
   "outputs": [],
   "source": []
  },
  {
   "cell_type": "code",
   "execution_count": 15,
   "id": "568f1f89",
   "metadata": {},
   "outputs": [],
   "source": [
    "#| export\n",
    "mail_homepage = mail_homepage()"
   ]
  }
 ],
 "metadata": {
  "kernelspec": {
   "display_name": "Python 3 (ipykernel)",
   "language": "python",
   "name": "python3"
  },
  "language_info": {
   "codemirror_mode": {
    "name": "ipython",
    "version": 3
   },
   "file_extension": ".py",
   "mimetype": "text/x-python",
   "name": "python",
   "nbconvert_exporter": "python",
   "pygments_lexer": "ipython3",
   "version": "3.12.4"
  },
  "toc": {
   "base_numbering": 1,
   "nav_menu": {},
   "number_sections": true,
   "sideBar": true,
   "skip_h1_title": false,
   "title_cell": "Table of Contents",
   "title_sidebar": "Contents",
   "toc_cell": false,
   "toc_position": {},
   "toc_section_display": true,
   "toc_window_display": false
  }
 },
 "nbformat": 4,
 "nbformat_minor": 5
}
