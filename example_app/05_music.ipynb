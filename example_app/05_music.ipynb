{
 "cells": [
  {
   "cell_type": "code",
   "execution_count": 1,
   "id": "31eb2fb8",
   "metadata": {},
   "outputs": [],
   "source": [
    "#| default_exp music"
   ]
  },
  {
   "cell_type": "code",
   "execution_count": 2,
   "id": "a9c34a3a",
   "metadata": {},
   "outputs": [],
   "source": [
    "#| export\n",
    "from fasthtml.common import *\n",
    "from fasthtml.svg import *\n",
    "from fh_frankenui import *\n",
    "from fh_matplotlib import matplotlib2fasthtml\n",
    "import numpy as np\n",
    "from pathlib import Path\n",
    "import matplotlib.pylab as plt"
   ]
  },
  {
   "cell_type": "code",
   "execution_count": 3,
   "id": "19bfe783",
   "metadata": {},
   "outputs": [],
   "source": [
    "#| hide\n",
    "from nbdev.showdoc import *"
   ]
  },
  {
   "cell_type": "code",
   "execution_count": 4,
   "id": "e4ba6bc0",
   "metadata": {},
   "outputs": [
    {
     "data": {
      "text/html": [
       "<script src=\"https://cdn.tailwindcss.com\"></script>\n",
       "<script src=\"https://cdn.jsdelivr.net/npm/uikit@3.21.6/dist/js/uikit.min.js\"></script>\n",
       "<script src=\"https://cdn.jsdelivr.net/npm/uikit@3.21.6/dist/js/uikit-icons.min.js\"></script>\n",
       "<script type=\"module\" src=\"https://unpkg.com/franken-wc@0.0.6/dist/js/wc.iife.js\"></script>\n",
       "<link rel=\"stylesheet\" href=\"https://unpkg.com/franken-wc@0.0.6/dist/css/blue.min.css\">\n",
       "<style>\n",
       "#notebook-container { max-width: none; }\n",
       ".output_html * { list-style-type: none !important; }\n",
       ".disabled {opacity: 0.5; pointer-events: none; cursor: default; text-decoration: none;}\n",
       "</style>\n"
      ],
      "text/plain": [
       "<IPython.core.display.HTML object>"
      ]
     },
     "metadata": {},
     "output_type": "display_data"
    }
   ],
   "source": [
    "%%html\n",
    "<script src=\"https://cdn.tailwindcss.com\"></script>\n",
    "<script src=\"https://cdn.jsdelivr.net/npm/uikit@3.21.6/dist/js/uikit.min.js\"></script>\n",
    "<script src=\"https://cdn.jsdelivr.net/npm/uikit@3.21.6/dist/js/uikit-icons.min.js\"></script>\n",
    "<script type=\"module\" src=\"https://unpkg.com/franken-wc@0.0.6/dist/js/wc.iife.js\"></script>\n",
    "<link rel=\"stylesheet\" href=\"https://unpkg.com/franken-wc@0.0.6/dist/css/blue.min.css\">\n",
    "<style>\n",
    "#notebook-container { max-width: none; }\n",
    ".output_html * { list-style-type: none !important; }\n",
    ".disabled {opacity: 0.5; pointer-events: none; cursor: default; text-decoration: none;}\n",
    "</style>"
   ]
  },
  {
   "cell_type": "code",
   "execution_count": 5,
   "id": "30db9932",
   "metadata": {},
   "outputs": [],
   "source": [
    "from httpx import get\n",
    "fh_fui = Path('../fh_frankenui')\n",
    "fh_fui_ex = Path('../ex_app')\n",
    "\n",
    "fh_frankenui = (fh_fui / \"components.py\").read_text()\n",
    "\n",
    "url = 'https://raw.githubusercontent.com/franken-ui/examples/master/src/pages/examples/music.astro'\n",
    "music = get(url).text\n",
    "\n",
    "url = 'https://raw.githubusercontent.com/franken-ui/examples/master/src/pages/examples/cards.astro'\n",
    "cards = get(url).text\n",
    "\n",
    "cards_in_python = (fh_fui_ex / 'cards.py').read_text()\n",
    "\n",
    "url = 'https://raw.githubusercontent.com/AnswerDotAI/fasthtml/main/examples/adv_app.py'\n",
    "idiomatic_fasthtml_app = get(url).text"
   ]
  },
  {
   "cell_type": "code",
   "execution_count": 6,
   "id": "59d0df80",
   "metadata": {},
   "outputs": [],
   "source": [
    "#| export\n",
    "\n",
    "music_dd_data = [SpacedPPs(\"About Music\",(\"Preferences\", \"⌘\")),\n",
    "                 SpacedPPs((\"Hide Music\", \"⌘H\"),(\"Hide Others\", \"⇧⌘H\"),(\"Quit Music\", \"⌘Q\"))]\n",
    "\n",
    "file_dd_data = [SpacedPPs(\"New\" ,(\"Open Stream URL\", \"⌘U\"),(\"Close Window\", \"⌘W\")),\n",
    "                SpacedPPs(\"Library\",(\"Import\", \"⌘O\"),(\"Burn Playlist to Disc\", )),\n",
    "                SpacedPPs((\"Show in Finder\", \"⇧⌘R\"),\"Convert\"),\n",
    "                SpacedPPs(\"Page Setup\",\"Print\")]\n",
    "\n",
    "edit_dd_data = [SpacedPPs((\"Undo\", \"⌘Z\"),(\"Redo\", \"⇧⌘Z\")), SpacedPPs((\"Cut\", \"⌘X\"),(\"Copy\", \"⌘C\"),(\"Paste\", \"⌘V\")),\n",
    "                SpacedPPs((\"Select All\", \"⌘A\"),(\"Deselect All\", \"⇧⌘A\")),\n",
    "                SpacedTxtIcon('Smart Dictation','microphone',0.5), SpacedTxtIcon(\"Emojis & Symbols\",'world',0.5)]\n",
    "\n",
    "view_dd_data = [SpacedPPs(\"Show Playing Next\", \"Show Lyrics\", \"Show Status Bar\", \"Hide Sidebar\", \"Enter Full Screen\")]\n",
    "\n",
    "account_dd_data = [Span(\"Switch Account\", cls=\"ml-6\"), [SpacedPP(\"Andy\"), LAlignedTxtIcon(\"Benoit\", 'plus-circle', 0.5, icon_right=False), SpacedPP(\"Luis\")],\n",
    "                   SpacedPPs(\"Manage Family\"), SpacedPPs(\"Add Account\")]"
   ]
  },
  {
   "cell_type": "code",
   "execution_count": 7,
   "id": "8be7652f",
   "metadata": {},
   "outputs": [],
   "source": [
    "#| export\n",
    "def wrap_in_a(item, has_header=False):\n",
    "    if isinstance(item, (list, tuple)): return [wrap_in_a(o) for o in item]\n",
    "    else: return A(item)"
   ]
  },
  {
   "cell_type": "code",
   "execution_count": 8,
   "id": "51fc767a",
   "metadata": {},
   "outputs": [],
   "source": [
    "#| export\n",
    "music_headers = Navbar(\n",
    "    lnav=(\n",
    "        NavbarDropdown(*wrap_in_a(music_dd_data), label='Music'),\n",
    "        NavbarDropdown(*wrap_in_a(file_dd_data), label='File'),\n",
    "        NavbarDropdown(*wrap_in_a(edit_dd_data), label='Edit'),\n",
    "        NavbarDropdown(*wrap_in_a(view_dd_data), label='View'),\n",
    "        NavbarDropdown(*wrap_in_a(account_dd_data), label='Account')),\n",
    "    cls='p-2')"
   ]
  },
  {
   "cell_type": "code",
   "execution_count": 9,
   "id": "622a065c",
   "metadata": {},
   "outputs": [],
   "source": [
    "#| export\n",
    "_fn = lambda x: A(role='button')(LAlignedTxtIcon(*tuplify(x),icon_right=False, cls='space-x-4'))\n",
    "discover = (H4(\"Discover\"), *map(_fn, ((\"Listen Now\", \"play-circle\"), (\"Browse\", 'thumbnails'), (\"Radio\", \"rss\"))))\n",
    "library = (H4(\"Library\"), *map(_fn, ((\"Playlists\", \"play-circle\"), (\"Songs\", \"bell\"), (\"Made for You\", \"user\"),(\"Artists\", \"users\"),(\"Albums\", \"bookmark\"))))\n",
    "playlist = (H4(\"Playlist\"), *map(_fn, (\"Recently Added\", \"Recently Played\", \"Top Songs\", \"Top Albums\", \"Top Artists\", \n",
    "                                         \"Logic Discography\",\"Bedtime Beats\", \"I miss Y2K Pop\")))"
   ]
  },
  {
   "cell_type": "code",
   "execution_count": 10,
   "id": "224452d6",
   "metadata": {},
   "outputs": [
    {
     "data": {
      "text/markdown": [
       "```html\n",
       "<a href=\"#\" role=\"button\">  <div class=\"uk-flex uk-flex-left uk-flex-middle space-x-4\">\n",
       "<span uk-icon=\"icon: play-circle; ratio: 1\"></span>    <p class=\"text-sm uk-text-muted\">Listen Now</p>\n",
       "  </div>\n",
       "</a>\n",
       "```"
      ],
      "text/plain": [
       "a((div((span((),{'uk-icon': 'icon: play-circle; ratio: 1', 'class': ''}), p(('Listen Now',),{'class': <TextT.muted_sm: (<TextB.sz_small: 'text-sm'>, <TextB.cl_muted: 'uk-text-muted'>)>})),{'class': 'uk-flex uk-flex-left uk-flex-middle space-x-4'}),),{'href': '#', 'role': 'button'})"
      ]
     },
     "execution_count": 10,
     "metadata": {},
     "output_type": "execute_result"
    }
   ],
   "source": [
    "discover[1]"
   ]
  },
  {
   "cell_type": "code",
   "execution_count": 11,
   "id": "dc5763e7",
   "metadata": {},
   "outputs": [],
   "source": [
    "#| export\n",
    "def AlbumImg(url):\n",
    "    return Div(cls=\"overflow-hidden rounded-md\")(Img(cls=\"transition-transform duration-200 hover:scale-105\", src=url))\n",
    "\n",
    "def AlbumFooter(title, artist):\n",
    "    return Div(cls='space-y-1')(P(title,cls=TextB.wt_bold),P(artist,cls=TextB.cl_muted))\n",
    "\n",
    "def Album(url,title,artist):\n",
    "    return Div(AlbumImg(url),AlbumFooter(title,artist))"
   ]
  },
  {
   "cell_type": "code",
   "execution_count": 12,
   "id": "1570e21b",
   "metadata": {},
   "outputs": [],
   "source": [
    "#| export\n",
    "listen_now_albums = ((\"Roar\", \"Catty Perry\"), (\"Feline on a Prayer\", \"Cat Jovi\"),(\"Fur Elise\", \"Ludwig van Beethovpurr\"),(\"Purrple Rain\", \"Prince's Cat\"))\n",
    "\n",
    "made_for_you_albums = [(\"Like a Feline\", \"Catdonna\"),(\"Livin' La Vida Purrda\", \"Ricky Catin\"),(\"Meow Meow Rocket\", \"Elton Cat\"),\n",
    "        (\"Rolling in the Purr\", \"Catdelle\",),(\"Purrs of Silence\", \"Cat Garfunkel\"),(\"Meow Me Maybe\", \"Carly Rae Purrsen\"),]\n",
    "    "
   ]
  },
  {
   "cell_type": "code",
   "execution_count": 13,
   "id": "4fdb2c4b",
   "metadata": {},
   "outputs": [],
   "source": [
    "#| export\n",
    "def create_album_grid(albums, cols=4):  \n",
    "    return Grid(*[Div(cls=\"uk-grid-small\")(\n",
    "                Div(cls=\"overflow-hidden rounded-md\")(\n",
    "                    Img(cls=\"transition-transform duration-200 hover:scale-105\", src=img_url, alt=\"\")),\n",
    "                Div(cls=\"space-y-1 text-sm\")(\n",
    "                    H3(album['title'], cls=\"font-medium leading-none\"),\n",
    "                    P(album['artist'], cls=\"text-xs text-muted-foreground\"))) for album in albums],\n",
    "                cols,gap=4)"
   ]
  },
  {
   "cell_type": "code",
   "execution_count": 14,
   "id": "23ba41e3",
   "metadata": {},
   "outputs": [],
   "source": [
    "#| export\n",
    "_album = lambda t,a: Album('https://ucarecdn.com/e5607eaf-2b2a-43b9-ada9-330824b6afd7/music1.webp',t,a)\n",
    "\n",
    "music_content = (Div(H3(\"Listen Now\"), cls=\"mt-6 space-y-1\"),\n",
    "                    P(\"Top picks for you. Updated daily.\",cls=TextT.muted_sm),\n",
    "                    HLine(),\n",
    "                    Grid(*[_album(t,a) for t,a in listen_now_albums], cols=4, cls=GridT.medium),\n",
    "                    Div(H3(\"Made for You\"), cls=\"mt-6 space-y-1\"),\n",
    "                    P(\"Your personal playlists. Updated daily.\", cls=TextT.muted_sm),\n",
    "                    HLine(),\n",
    "                    Grid(*[_album(t,a) for t,a in made_for_you_albums], cols=6, cls=GridT.small))"
   ]
  },
  {
   "cell_type": "code",
   "execution_count": 15,
   "id": "08a08c33",
   "metadata": {},
   "outputs": [],
   "source": [
    "#| export\n",
    "tabs = Ul(Li(A('Music', href='#'),cls='uk-active'),\n",
    "    Li(A('Podcasts', href='#')),\n",
    "    Li(A('Live', cls='opacity-50'), cls='uk-disabled'),\n",
    "    uk_switcher='connect: #component-nav; animation: uk-animation-fade',\n",
    "    cls='uk-tab-alt')"
   ]
  },
  {
   "cell_type": "code",
   "execution_count": 16,
   "id": "ce4b85a8",
   "metadata": {},
   "outputs": [],
   "source": [
    "#| export\n",
    "def podcast_tab():\n",
    "    return Div(\n",
    "        Div(cls=\"space-y-3\")(\n",
    "            H3(\"New Episodes\"),\n",
    "            P(\"Your favorite podcasts. Updated daily.\", cls=TextT.muted_sm)),\n",
    "        Div(cls=\"my-4 h-[1px] w-full bg-border\"),\n",
    "        Div(cls=\"uk-placeholder flex h-[450px] items-center justify-center rounded-md\",uk_placeholder=True)(\n",
    "            Div(cls=\"text-center space-y-6\")(\n",
    "                Icon(\"microphone\", 3),\n",
    "                H4(\"No episodes added\"),\n",
    "                P(\"You have not added any podcasts. Add one below.\", cls=TextT.muted_sm),\n",
    "                Button(\"Add Podcast\", cls=ButtonT.primary))))"
   ]
  },
  {
   "cell_type": "code",
   "execution_count": 21,
   "id": "1399de4d",
   "metadata": {},
   "outputs": [],
   "source": [
    "#| export\n",
    "def LAlignedIconTxts(ns, icns): return [Li(A(LAlignedIconTxt(n,i))) for n,i in zip(ns,icns)]"
   ]
  },
  {
   "cell_type": "code",
   "execution_count": 34,
   "id": "b80891aa",
   "metadata": {},
   "outputs": [],
   "source": [
    "#| export\n",
    "sb = (Ul(cls='space-y-2')(\n",
    "         Li(H3(\"Discover\")), \n",
    "         *LAlignedIconTxts([\"Listen Now\", \"Browse\", \"Radio\"], [\"play-circle\", \"thumbnails\", \"rss\"])),\n",
    "      Ul(cls='space-y-2')(\n",
    "          Li(H3(\"Library\")), \n",
    "          *LAlignedIconTxts([\"Playlists\", \"Songs\", \"Made for You\", \"Artists\", \"Albums\"], \n",
    "                           [\"play-circle\", \"bell\", \"user\", \"users\", \"bookmark\"])),\n",
    "      Ul(cls='space-y-2')(\n",
    "          Li(H3(\"Playlist\")),\n",
    "          *LAlignedIconTxts([\"Recently Added\", \"Recently Played\"], [\"\", \"\"]),)) "
   ]
  },
  {
   "cell_type": "code",
   "execution_count": 31,
   "id": "c6c020fb",
   "metadata": {},
   "outputs": [],
   "source": [
    "#| export\n",
    "sidebar = Sidebar(*sb)"
   ]
  },
  {
   "cell_type": "code",
   "execution_count": 40,
   "id": "35f15d01",
   "metadata": {},
   "outputs": [],
   "source": [
    "#| export\n",
    "def page():\n",
    "    return Div(music_headers,HSplit(),\n",
    "        Grid(sidebar,\n",
    "            Div(cls=\"col-span-4 border-l border-border\")(\n",
    "                Div(cls=\"px-8 py-6\")(\n",
    "                    Div(cls=\"flex items-center justify-between\")(\n",
    "                        Div(cls=\"max-w-80\")(tabs),\n",
    "                        Button(cls=ButtonT.primary)(Span(cls=\"mr-2 size-4\")(Icon('plus-circle', 0.8)),\"Add music\")),\n",
    "                    Ul(id=\"component-nav\", cls=\"uk-switcher\")(\n",
    "                        Li(*music_content),\n",
    "                        Li(podcast_tab())))),\n",
    "            cols=5))"
   ]
  },
  {
   "cell_type": "code",
   "execution_count": 23,
   "id": "93953501",
   "metadata": {},
   "outputs": [],
   "source": [
    "#| export\n",
    "music_homepage = page()"
   ]
  }
 ],
 "metadata": {
  "kernelspec": {
   "display_name": "Python 3 (ipykernel)",
   "language": "python",
   "name": "python3"
  },
  "language_info": {
   "codemirror_mode": {
    "name": "ipython",
    "version": 3
   },
   "file_extension": ".py",
   "mimetype": "text/x-python",
   "name": "python",
   "nbconvert_exporter": "python",
   "pygments_lexer": "ipython3",
   "version": "3.12.4"
  },
  "toc": {
   "base_numbering": 1,
   "nav_menu": {},
   "number_sections": true,
   "sideBar": true,
   "skip_h1_title": false,
   "title_cell": "Table of Contents",
   "title_sidebar": "Contents",
   "toc_cell": false,
   "toc_position": {},
   "toc_section_display": true,
   "toc_window_display": false
  }
 },
 "nbformat": 4,
 "nbformat_minor": 5
}
