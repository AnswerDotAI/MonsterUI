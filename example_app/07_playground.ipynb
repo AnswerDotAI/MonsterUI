{
 "cells": [
  {
   "cell_type": "code",
   "execution_count": 1,
   "id": "ab1bae9f",
   "metadata": {},
   "outputs": [],
   "source": [
    "#| default_exp playground"
   ]
  },
  {
   "cell_type": "code",
   "execution_count": 2,
   "id": "9dc35963",
   "metadata": {},
   "outputs": [],
   "source": [
    "#| export\n",
    "from fasthtml.common import *\n",
    "from fasthtml.svg import *\n",
    "from fh_frankenui import *\n",
    "from fh_matplotlib import matplotlib2fasthtml\n",
    "import numpy as np\n",
    "from pathlib import Path\n",
    "import matplotlib.pylab as plt"
   ]
  },
  {
   "cell_type": "code",
   "execution_count": 3,
   "id": "417b3820",
   "metadata": {},
   "outputs": [],
   "source": [
    "#| hide\n",
    "from nbdev.showdoc import *"
   ]
  },
  {
   "cell_type": "code",
   "execution_count": 4,
   "id": "108c7b98",
   "metadata": {},
   "outputs": [
    {
     "data": {
      "text/html": [
       "<script src=\"https://cdn.tailwindcss.com\"></script>\n",
       "<script src=\"https://cdn.jsdelivr.net/npm/uikit@3.21.6/dist/js/uikit.min.js\"></script>\n",
       "<script src=\"https://cdn.jsdelivr.net/npm/uikit@3.21.6/dist/js/uikit-icons.min.js\"></script>\n",
       "<script type=\"module\" src=\"https://unpkg.com/franken-wc@0.0.6/dist/js/wc.iife.js\"></script>\n",
       "<link rel=\"stylesheet\" href=\"https://unpkg.com/franken-wc@0.0.6/dist/css/blue.min.css\">\n",
       "\n",
       "<style>\n",
       "#notebook-container { max-width: none; }\n",
       ".output_html * { list-style-type: none !important; }\n",
       "</style>\n"
      ],
      "text/plain": [
       "<IPython.core.display.HTML object>"
      ]
     },
     "metadata": {},
     "output_type": "display_data"
    }
   ],
   "source": [
    "%%html\n",
    "<script src=\"https://cdn.tailwindcss.com\"></script>\n",
    "<script src=\"https://cdn.jsdelivr.net/npm/uikit@3.21.6/dist/js/uikit.min.js\"></script>\n",
    "<script src=\"https://cdn.jsdelivr.net/npm/uikit@3.21.6/dist/js/uikit-icons.min.js\"></script>\n",
    "<script type=\"module\" src=\"https://unpkg.com/franken-wc@0.0.6/dist/js/wc.iife.js\"></script>\n",
    "<link rel=\"stylesheet\" href=\"https://unpkg.com/franken-wc@0.0.6/dist/css/blue.min.css\">\n",
    "\n",
    "<style>\n",
    "#notebook-container { max-width: none; }\n",
    ".output_html * { list-style-type: none !important; }\n",
    "</style>"
   ]
  },
  {
   "cell_type": "code",
   "execution_count": 5,
   "id": "a4e37a2c",
   "metadata": {},
   "outputs": [],
   "source": [
    "#| export\n",
    "from fasthtml.common import *\n",
    "from fh_frankenui.components import *"
   ]
  },
  {
   "cell_type": "code",
   "execution_count": 6,
   "id": "37b395ce",
   "metadata": {},
   "outputs": [],
   "source": [
    "#|export\n",
    "preset_options = [\"Grammatical Standard English\", \"Summarize for a 2nd grader\",\n",
    "        \"Text to command\",\"Q&A\",\"English to other languages\",\"Parse unstructured data\",\n",
    "        \"Classification\",\"Natural language to Python\",\"Explain code\",\"Chat\",\"More examples\"]"
   ]
  },
  {
   "cell_type": "code",
   "execution_count": 7,
   "id": "6e050f17",
   "metadata": {},
   "outputs": [],
   "source": [
    "#| export\n",
    "def playground_navbar():\n",
    "    save_modal = Modal(\n",
    "        ModalTitle(\"Save preset\"),\n",
    "        P(\"This will save the current playground state as a preset which you can access later or share with others.\",cls=(\"mt-1.5\", TextT.muted_sm)),\n",
    "        Input(label=\"Name\", id=\"name\"), \n",
    "        Input(label=\"Description\", id=\"description\"),\n",
    "        Button(\"Save\", cls=(ButtonT.primary, \"uk-modal-close\")),\n",
    "        id=\"save\")\n",
    "    \n",
    "    share_dd = Div(cls=\"space-y-6\")(\n",
    "        H3(\"Share preset\"),\n",
    "        P(\"Anyone who has this link and an OpenAI account will be able to view this.\", cls=TextT.muted_sm),\n",
    "        Div(cls='flex space-x-2')(\n",
    "            Input(value=\"https://platform.openai.com/playground/p/7bbKYQvsVkNmVb8NGcdUOLae?model=text-davinci-003\", readonly=True, cls=\"flex-1\"),\n",
    "            Button(Icon('copy'), cls=(ButtonT.primary, \"uk-drop-close\"))))#flex items-center space-x-2 pt-4 bbmx-6 my-6\n",
    "\n",
    "    rnav = Div(cls='flex items-center space-x-2')(\n",
    "        Select(*Options(*preset_options), name='preset', optgroup_label=\"Examples\",\n",
    "                 placeholder='Load a preset', searchable=True, cls='h-9 w-[200px] lg:w-[300px]'),\n",
    "        Button(\"Save\", cls=ButtonT.secondary, uk_toggle=\"#save\"),\n",
    "        save_modal,\n",
    "        Button(\"View Code\", cls=ButtonT.secondary),\n",
    "        DropdownButton(share_dd,label=\"Share\", btn_cls=ButtonT.secondary,dd_cls='p-6'),\n",
    "        DropdownButton(A(\"Content filter preferences\", href=\"#demo\"), \n",
    "                         None, # divider\n",
    "                         A(\"Delete preset\", cls=\"text-destructive\", href=\"#demo\"),\n",
    "            label=Icon('ellipsis'), btn_cls=ButtonT.secondary,))\n",
    "    \n",
    "    return Navbar(lnav=H4('Playground'),rnav=rnav,cls='p-2')"
   ]
  },
  {
   "cell_type": "code",
   "execution_count": 8,
   "id": "b71beacd",
   "metadata": {},
   "outputs": [],
   "source": [
    "#| export\n",
    "def page():\n",
    "    navbar = playground_navbar()\n",
    "    \n",
    "    main_content = Div(\n",
    "        Div(\n",
    "            Textarea(\n",
    "                cls=\"uk-textarea h-full p-4\",\n",
    "                placeholder=\"Write a tagline for an ice cream shop\",\n",
    "                readonly=True\n",
    "            ),\n",
    "            cls=\"flex-1\"\n",
    "        ),\n",
    "        Div(cls=\"w-[200px] flex-none\"),\n",
    "        cls=\"flex h-[700px] gap-x-6 px-8 py-6\"\n",
    "    )\n",
    "    \n",
    "    bottom_buttons = Div(\n",
    "        Button(\"Submit\", cls=ButtonT.primary, uk_toggle=\"#demo\"),\n",
    "        Button(Icon(\"history\"), cls=ButtonT.secondary, uk_toggle=\"#demo\"),\n",
    "        cls=\"flex gap-x-2 px-8 py-6 pt-0\"\n",
    "    )\n",
    "    \n",
    "    return Div(\n",
    "        navbar,\n",
    "        main_content,\n",
    "        bottom_buttons\n",
    "    )"
   ]
  },
  {
   "cell_type": "code",
   "execution_count": 17,
   "id": "20aefea1",
   "metadata": {},
   "outputs": [],
   "source": [
    "#| export\n",
    "\n",
    "playground_homepage = page()"
   ]
  },
  {
   "cell_type": "code",
   "execution_count": 18,
   "id": "2c302358",
   "metadata": {},
   "outputs": [],
   "source": [
    "#| hide\n",
    "import nbdev; nbdev.nbdev_export()"
   ]
  }
 ],
 "metadata": {
  "kernelspec": {
   "display_name": "Python 3 (ipykernel)",
   "language": "python",
   "name": "python3"
  },
  "language_info": {
   "codemirror_mode": {
    "name": "ipython",
    "version": 3
   },
   "file_extension": ".py",
   "mimetype": "text/x-python",
   "name": "python",
   "nbconvert_exporter": "python",
   "pygments_lexer": "ipython3",
   "version": "3.12.4"
  },
  "toc": {
   "base_numbering": 1,
   "nav_menu": {},
   "number_sections": true,
   "sideBar": true,
   "skip_h1_title": false,
   "title_cell": "Table of Contents",
   "title_sidebar": "Contents",
   "toc_cell": false,
   "toc_position": {},
   "toc_section_display": true,
   "toc_window_display": false
  }
 },
 "nbformat": 4,
 "nbformat_minor": 5
}
