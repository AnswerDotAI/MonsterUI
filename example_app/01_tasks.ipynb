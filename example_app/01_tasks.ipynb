{
 "cells": [
  {
   "cell_type": "markdown",
   "metadata": {},
   "source": [
    "# Tasks\n",
    "\n",
    "> FrankenUI Tasks Example"
   ]
  },
  {
   "cell_type": "code",
   "execution_count": 1,
   "metadata": {},
   "outputs": [],
   "source": [
    "#| default_exp tasks"
   ]
  },
  {
   "cell_type": "code",
   "execution_count": 2,
   "metadata": {},
   "outputs": [],
   "source": [
    "#| hide\n",
    "from nbdev.showdoc import *"
   ]
  },
  {
   "cell_type": "code",
   "execution_count": 3,
   "metadata": {},
   "outputs": [],
   "source": [
    "#| export\n",
    "from fasthtml.common import *\n",
    "from fh_frankenui import *\n",
    "from fasthtml.svg import *\n",
    "import json"
   ]
  },
  {
   "cell_type": "markdown",
   "metadata": {},
   "source": [
    "## Data"
   ]
  },
  {
   "cell_type": "markdown",
   "metadata": {},
   "source": [
    "We store data in Python to minic the static data in the examples.  Eventually this should be replaced with sqlite data store to allow for interactive functionality"
   ]
  },
  {
   "cell_type": "code",
   "execution_count": 6,
   "metadata": {},
   "outputs": [],
   "source": [
    "#| export\n",
    "with open('data/status_list.json', 'r') as f: data     = json.load(f)\n",
    "with open('data/statuses.json',    'r') as f: statuses = json.load(f)"
   ]
  },
  {
   "cell_type": "code",
   "execution_count": null,
   "metadata": {},
   "outputs": [],
   "source": [
    "#| export\n",
    "priority_dd = [{'priority': \"low\", 'count': 36 }, {'priority': \"medium\", 'count': 33 }, {'priority': \"high\", 'count': 31 }]\n",
    "\n",
    "rows_per_page_dd = [10,20,30,40,50]\n",
    "\n",
    "status_dd = [{'status': \"backlog\", 'count': 21 },{'status': \"todo\", 'count': 21 },{'status': \"progress\", 'count': 20 },{'status': \"done\",'count': 19 },{'status': \"cancelled\", 'count': 19 }]\n"
   ]
  },
  {
   "cell_type": "markdown",
   "metadata": {},
   "source": [
    "## Tasks Page Functions"
   ]
  },
  {
   "cell_type": "code",
   "execution_count": null,
   "metadata": {},
   "outputs": [],
   "source": [
    "#| export\n",
    "def create_hotkey_li(hotkey):\n",
    "    return Li(A(cls='uk-drop-close justify-between')(\n",
    "        hotkey[0],\n",
    "        Span(hotkey[1], cls='ml-auto text-xs tracking-widest opacity-60')))\n",
    "\n",
    "hotkeys_a = (('Profile','⇧⌘P'),('Billing','⌘B'),('Settings','⌘S'),('New Team',''))\n",
    "hotkeys_b = (('Logout',''), )\n",
    "\n",
    "# TODO convert to navbar\n",
    "avatar_opts = Ul(cls='uk-dropdown-nav uk-nav')(\n",
    "    Li(cls='px-2 py-1.5 text-sm')(\n",
    "        Div(cls='flex flex-col space-y-1')(\n",
    "            P('sveltecult', cls='text-sm font-medium leading-none'),\n",
    "            P('leader@sveltecult.com', cls='text-xs leading-none text-muted-foreground'))),\n",
    "    Li(cls='uk-nav-divider'),\n",
    "    *map(create_hotkey_li, hotkeys_a),\n",
    "    Li(cls='uk-nav-divider'),\n",
    "    *map(create_hotkey_li, hotkeys_b)\n",
    ")"
   ]
  },
  {
   "cell_type": "code",
   "execution_count": null,
   "metadata": {},
   "outputs": [],
   "source": [
    "#| export\n",
    "def CreateTaskModal():\n",
    "    return Modal(\n",
    "        Div(cls='p-6')(\n",
    "            ModalTitle('Create Task'),P('Fill out the information below to create a new task', cls=TextT.muted_sm),\n",
    "            Br(),\n",
    "            Form(cls='space-y-6')(\n",
    "                Grid(Select(*Options('Documentation', 'Bug', 'Feature'), label='Task Type', id='task_type'),\n",
    "                     Select(*Options('In Progress', 'Backlog', 'Todo', 'Cancelled', 'Done'), label='Status', id='task_status'),\n",
    "                     Select(*Options('Low', 'Medium', 'High'), label='Priority', id='task_priority')),\n",
    "                TextArea(label='Title', placeholder='Please describe the task that needs to be completed'),\n",
    "                Div(cls='flex justify-end space-x-2')(\n",
    "                    Button(cls=ButtonT.ghost + ' uk-modal-close')('Cancel'),\n",
    "                    Button(cls=ButtonT.primary + ' uk-modal-close')('Submit')))),\n",
    "        id='TaskForm')"
   ]
  },
  {
   "cell_type": "code",
   "execution_count": null,
   "metadata": {},
   "outputs": [],
   "source": [
    "#| export\n",
    "page_heading =SpaceBetweenDiv(cls='space-y-2')(\n",
    "            Div(cls='space-y-2')(\n",
    "                H2('Welcome back!'),P(\"Here's a list of your tasks for this month!\", cls=TextT.muted_sm)),\n",
    "            Div(A(href='#', cls='h-8 w-8 inline-flex rounded-full bg-accent ring-ring')(Img(src='https://api.dicebear.com/8.x/lorelei/svg?seed=sveltecult')),\n",
    "                Div(uk_dropdown='mode: click; pos: bottom-right', cls='uk-dropdown uk-drop')(avatar_opts)))"
   ]
  },
  {
   "cell_type": "code",
   "execution_count": null,
   "metadata": {},
   "outputs": [],
   "source": [
    "#| export\n",
    "\n",
    "table_controls =(Input(cls='w-[250px]',placeholder='Filter task'),\n",
    "     DropdownButton(\n",
    "         [A(FullySpacedDiv(a['status'], a['count'], wrap_tag=P),cls='capitalize') for a in status_dd],\n",
    "         label = \"Status\", \n",
    "         btn_cls=(TextT.medium_xs, 'uk-button-default')),     \n",
    "     DropdownButton(\n",
    "         [A(FullySpacedDiv(LAlignedIconTxt(a['priority'], icon=\"check\"), a['count']),cls='capitalize') for a in priority_dd],                         \n",
    "         label = \"Priority\", \n",
    "         btn_cls=(TextT.medium_xs,'uk-button-default')),\n",
    "      DropdownButton([A(LAlignedIconTxt(o, icon=\"check\")) for o in ['Title','Status','Priority']],\n",
    "            label='View',\n",
    "            opt_hdrs=[\"Toggle Columns\"],\n",
    "            btn_cls=(TextT.medium_xs,'uk-button-default')),\n",
    "            Button('Create Task',cls=('uk-button-primary', TextT.medium_xs), uk_toggle=\"target: #TaskForm\"))"
   ]
  },
  {
   "cell_type": "markdown",
   "metadata": {},
   "source": [
    "## Route Data"
   ]
  },
  {
   "cell_type": "code",
   "execution_count": null,
   "metadata": {},
   "outputs": [],
   "source": [
    "#| export\n",
    "def checkbox(selected=False, ):\n",
    "    # TODO: Use UkCheckbox Type\n",
    "    if selected: return Input(type='checkbox', cls='uk-checkbox', checked=True)\n",
    "    return              Input(type='checkbox', cls='uk-checkbox')"
   ]
  },
  {
   "cell_type": "code",
   "execution_count": null,
   "metadata": {},
   "outputs": [],
   "source": [
    "#| export\n",
    "def task_dropdown():\n",
    "    # TODO: Figure out uk-drop-close boilerplate fix\n",
    "    return DropdownButton([\n",
    "            A('Edit',                   cls='uk-drop-close'),\n",
    "            A('Make a copy',            cls='uk-drop-close'),\n",
    "            A('Favorite',               cls='uk-drop-close')],\n",
    "            [A(SpacedPP('Delete', '⌘⌫'), cls='uk-drop-close')])"
   ]
  },
  {
   "cell_type": "code",
   "execution_count": null,
   "metadata": {
    "scrolled": true
   },
   "outputs": [],
   "source": [
    "#| export\n",
    "def header_render(col):\n",
    "    cls = 'p-2 ' + 'uk-table-shrink' if col in ('Done','Actions') else ''\n",
    "    match col:\n",
    "        case \"Done\":    return Th(checkbox, cls=cls)\n",
    "        case 'Actions': return Th(\"\",       cls=cls)\n",
    "        case _:         return Th(col, cls=cls)"
   ]
  },
  {
   "cell_type": "code",
   "execution_count": null,
   "metadata": {},
   "outputs": [],
   "source": [
    "#| export\n",
    "def cell_render(col, row):\n",
    "    def _Td(*args,cls='', **kwargs): return Td(*args, cls=f'p-2 {cls}',**kwargs)\n",
    "    match col:\n",
    "        case \"Done\":  return _Td(cls='uk-table-shrink')(checkbox(row['selected']))\n",
    "        case \"Task\":  return _Td(row[\"id\"])\n",
    "        case \"Title\": return _Td(cls='uk-table-expand max-w-[500px] truncate')(row[\"title\"], cls='font-medium')\n",
    "        case \"Status\" | \"Priority\": return _Td(cls='uk-text-nowrap uk-text-capitalize')(Span(row[col.lower()]))\n",
    "        case \"Actions\": return _Td(cls='uk-table-shrink')(task_dropdown())\n",
    "        case _: raise ValueError(f\"Unknown column: {col}\")"
   ]
  },
  {
   "cell_type": "code",
   "execution_count": null,
   "metadata": {},
   "outputs": [],
   "source": [
    "#| export\n",
    "\n",
    "task_columns = [\"Done\", 'Task', 'Title', 'Status', 'Priority', 'Actions']\n",
    "\n",
    "tasks_table = Div(cls='uk-overflow-auto mt-4 rounded-md border border-border')(Table(\n",
    "    columns=task_columns,\n",
    "    data=data,\n",
    "    cell_render=cell_render,\n",
    "    header_render=header_render,))"
   ]
  },
  {
   "cell_type": "code",
   "execution_count": null,
   "metadata": {},
   "outputs": [],
   "source": [
    "#| export\n",
    "\n",
    "def footer():\n",
    "    hw_cls = 'h-4 w-4'\n",
    "    return SpaceBetweenDiv(cls='mt-4 px-2 py-2')(\n",
    "        Div('1 of 100 row(s) selected.', cls='flex-1 text-sm text-muted-foreground'),\n",
    "        Div(cls='flex flex-none items-center space-x-8')(\n",
    "            CenteredDiv('Page 1 of 10', cls='w-[100px] text-sm font-medium'),\n",
    "            LAlignedDiv(\n",
    "                IconButton(cls='hidden lg:inline-flex')(Span('Go to last page', cls='sr-only'),\n",
    "                    Span(uk_icon='chevron-double-left', cls=hw_cls)),\n",
    "                IconButton(Span('Go to previous page', cls='sr-only'),\n",
    "                    Span(uk_icon='chevron-left', cls=hw_cls)),\n",
    "                IconButton(Span('Go to next page', cls='sr-only'),\n",
    "                    Span(uk_icon='chevron-right', cls=hw_cls)),\n",
    "                IconButton(cls='hidden lg:inline-flex')(\n",
    "                    Span('Go to last page', cls='sr-only'),\n",
    "                    Span(uk_icon='chevron-double-right', cls=hw_cls)),\n",
    "            gap=2)))"
   ]
  },
  {
   "cell_type": "code",
   "execution_count": null,
   "metadata": {},
   "outputs": [],
   "source": [
    "#| export\n",
    "tasks_ui = Div(\n",
    "    SpaceBetweenDiv(cls='mt-8')(\n",
    "        Div(cls='flex flex-1 gap-4')(table_controls)),\n",
    "    tasks_table,\n",
    "    footer(),)"
   ]
  },
  {
   "cell_type": "code",
   "execution_count": null,
   "metadata": {},
   "outputs": [],
   "source": [
    "#| export\n",
    "tasks_homepage = CreateTaskModal(), Div(cls='p-8')(page_heading, tasks_ui)"
   ]
  },
  {
   "cell_type": "code",
   "execution_count": null,
   "metadata": {},
   "outputs": [],
   "source": [
    "#| hide\n",
    "import nbdev; nbdev.nbdev_export()"
   ]
  },
  {
   "cell_type": "code",
   "execution_count": null,
   "metadata": {},
   "outputs": [],
   "source": []
  }
 ],
 "metadata": {
  "kernelspec": {
   "display_name": "Python 3 (ipykernel)",
   "language": "python",
   "name": "python3"
  },
  "language_info": {
   "codemirror_mode": {
    "name": "ipython",
    "version": 3
   },
   "file_extension": ".py",
   "mimetype": "text/x-python",
   "name": "python",
   "nbconvert_exporter": "python",
   "pygments_lexer": "ipython3",
   "version": "3.12.4"
  },
  "toc": {
   "base_numbering": 1,
   "nav_menu": {},
   "number_sections": true,
   "sideBar": true,
   "skip_h1_title": false,
   "title_cell": "Table of Contents",
   "title_sidebar": "Contents",
   "toc_cell": false,
   "toc_position": {},
   "toc_section_display": true,
   "toc_window_display": false
  }
 },
 "nbformat": 4,
 "nbformat_minor": 4
}
