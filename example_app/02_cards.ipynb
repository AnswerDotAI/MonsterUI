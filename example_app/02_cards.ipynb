{
 "cells": [
  {
   "cell_type": "markdown",
   "id": "bd49724c",
   "metadata": {},
   "source": [
    "# Cards\n",
    "\n",
    "> FrankenUI Cards Example"
   ]
  },
  {
   "cell_type": "code",
   "execution_count": 1,
   "id": "4878c4e1",
   "metadata": {},
   "outputs": [],
   "source": [
    "#| default_exp cards"
   ]
  },
  {
   "cell_type": "code",
   "execution_count": 2,
   "id": "db96459b",
   "metadata": {},
   "outputs": [],
   "source": [
    "#| export\n",
    "from fasthtml.common import *\n",
    "from fh_frankenui import *\n",
    "from fasthtml.svg import *\n",
    "import calendar"
   ]
  },
  {
   "cell_type": "code",
   "execution_count": 3,
   "id": "c8c2cc08",
   "metadata": {},
   "outputs": [],
   "source": [
    "#| hide\n",
    "from nbdev.showdoc import *"
   ]
  },
  {
   "cell_type": "code",
   "execution_count": 4,
   "id": "7f8fd12f",
   "metadata": {},
   "outputs": [
    {
     "data": {
      "text/html": [
       "<script src=\"https://cdn.tailwindcss.com\"></script>\n",
       "<script src=\"https://cdn.jsdelivr.net/npm/uikit@3.21.6/dist/js/uikit.min.js\"></script>\n",
       "<script src=\"https://cdn.jsdelivr.net/npm/uikit@3.21.6/dist/js/uikit-icons.min.js\"></script>\n",
       "<script type=\"module\" src=\"https://unpkg.com/franken-wc@0.0.6/dist/js/wc.iife.js\"></script>\n",
       "<link rel=\"stylesheet\" href=\"https://unpkg.com/franken-wc@0.0.6/dist/css/blue.min.css\">\n",
       "\n",
       "<style>\n",
       "#notebook-container { max-width: none; }\n",
       ".output_html * { list-style-type: none !important; }\n",
       "</style>\n"
      ],
      "text/plain": [
       "<IPython.core.display.HTML object>"
      ]
     },
     "metadata": {},
     "output_type": "display_data"
    }
   ],
   "source": [
    "%%html\n",
    "<script src=\"https://cdn.tailwindcss.com\"></script>\n",
    "<script src=\"https://cdn.jsdelivr.net/npm/uikit@3.21.6/dist/js/uikit.min.js\"></script>\n",
    "<script src=\"https://cdn.jsdelivr.net/npm/uikit@3.21.6/dist/js/uikit-icons.min.js\"></script>\n",
    "<script type=\"module\" src=\"https://unpkg.com/franken-wc@0.0.6/dist/js/wc.iife.js\"></script>\n",
    "<link rel=\"stylesheet\" href=\"https://unpkg.com/franken-wc@0.0.6/dist/css/blue.min.css\">\n",
    "\n",
    "<style>\n",
    "#notebook-container { max-width: none; }\n",
    ".output_html * { list-style-type: none !important; }\n",
    "</style>"
   ]
  },
  {
   "cell_type": "markdown",
   "id": "9c614ae3",
   "metadata": {},
   "source": [
    "## Cards"
   ]
  },
  {
   "cell_type": "markdown",
   "id": "56c63ad5",
   "metadata": {},
   "source": [
    "### C1, R1"
   ]
  },
  {
   "cell_type": "code",
   "execution_count": 5,
   "id": "576c1ec3",
   "metadata": {},
   "outputs": [],
   "source": [
    "#| export\n",
    "Left1 = Card(Grid(Button(Icon('github',cls='uk-margin-small-right'),'Github'),\n",
    "                  Button(Icon('google',cls='uk-margin-small-right'),'Google'),\n",
    "                  cols=2,cls='gap-6'),\n",
    "            HSplit(\"OR CONTINUE WITH\", text_cls = (TextB.sz_xsmall, TextB.cl_muted)),\n",
    "            Input('Email',    'email',   placeholder='m@example.com'),\n",
    "            Input('Password', 'Password',placeholder='Password',     type='Password'),\n",
    "            header=(H3('Create an account'),P(cls=TextT.muted_sm)('Enter your email below to create your account')),\n",
    "            footer=Button(cls=(ButtonT.primary,'w-full'))('Create Account'),\n",
    "            body_cls='space-y-4 py-0')"
   ]
  },
  {
   "cell_type": "markdown",
   "id": "c1d80f69",
   "metadata": {},
   "source": [
    "## C1, R2"
   ]
  },
  {
   "cell_type": "code",
   "execution_count": 6,
   "id": "71067a4e",
   "metadata": {},
   "outputs": [],
   "source": [
    "#| export\n",
    "Card1Svg = Svg(viewBox=\"0 0 24 24\", fill=\"none\", stroke=\"currentColor\", stroke_linecap=\"round\", stroke_linejoin=\"round\", stroke_width=\"2\", cls=\"h-6 w-6 mr-1\")(Rect(width=\"20\", height=\"14\", x=\"2\", y=\"5\", rx=\"2\"),Path(d=\"M2 10h20\"))\n",
    "Card2Svg = Svg(role=\"img\", viewBox=\"0 0 24 24\", cls=\"h-6 w-6 mr-1\")(Path(d=\"M7.076 21.337H2.47a.641.641 0 0 1-.633-.74L4.944.901C5.026.382 5.474 0 5.998 0h7.46c2.57 0 4.578.543 5.69 1.81 1.01 1.15 1.304 2.42 1.012 4.287-.023.143-.047.288-.077.437-.983 5.05-4.349 6.797-8.647 6.797h-2.19c-.524 0-.968.382-1.05.9l-1.12 7.106zm14.146-14.42a3.35 3.35 0 0 0-.607-.541c-.013.076-.026.175-.041.254-.93 4.778-4.005 7.201-9.138 7.201h-2.19a.563.563 0 0 0-.556.479l-1.187 7.527h-.506l-.24 1.516a.56.56 0 0 0 .554.647h3.882c.46 0 .85-.334.922-.788.06-.26.76-4.852.816-5.09a.932.932 0 0 1 .923-.788h.58c3.76 0 6.705-1.528 7.565-5.946.36-1.847.174-3.388-.777-4.471z\", fill=\"currentColor\")),\n",
    "AppleSvg = Svg(role=\"img\", viewBox=\"0 0 24 24\", cls=\"h-6 w-6 mr-1\")(Path(d=\"M12.152 6.896c-.948 0-2.415-1.078-3.96-1.04-2.04.027-3.91 1.183-4.961 3.014-2.117 3.675-.546 9.103 1.519 12.09 1.013 1.454 2.208 3.09 3.792 3.039 1.52-.065 2.09-.987 3.935-.987 1.831 0 2.35.987 3.96.948 1.637-.026 2.676-1.48 3.676-2.948 1.156-1.688 1.636-3.325 1.662-3.415-.039-.013-3.182-1.221-3.22-4.857-.026-3.04 2.48-4.494 2.597-4.559-1.429-2.09-3.623-2.324-4.39-2.376-2-.156-3.675 1.09-4.61 1.09zM15.53 3.83c.843-1.012 1.4-2.427 1.245-3.83-1.207.052-2.662.805-3.532 1.818-.78.896-1.454 2.338-1.273 3.714 1.338.104 2.715-.688 3.559-1.701\", fill=\"currentColor\"))"
   ]
  },
  {
   "cell_type": "code",
   "execution_count": 7,
   "id": "d30e1e29",
   "metadata": {},
   "outputs": [],
   "source": [
    "#| export\n",
    "Left2 = Card(\n",
    "    Grid(\n",
    "        Button(CenteredDiv(Card1Svg, \"Card\"),  cls='h-20 w-full border-2 border-primary'),\n",
    "        Button(CenteredDiv(Card2Svg, \"Card\"),  cls='h-20 w-full'),\n",
    "        Button(CenteredDiv(AppleSvg, \"Apple\"), cls='h-20 w-full'),\n",
    "        cols=3,cls='gap-6'),\n",
    "    Div(cls='space-y-4')(\n",
    "    Input('Name',        'name',        placeholder='m@example.com'),\n",
    "    Input('Card Number', 'card_number', placeholder='m@example.com'),\n",
    "    Grid(Select(*Options(*calendar.month_name[1:],0),label='Expires',id='expire_month'),\n",
    "         Select(*Options(*range(2024,2030),0),       label='Year',   id='expire_year'),\n",
    "         Input('CVV', 'cvv',placeholder='CVV', cls=\"\"),\n",
    "         cols=3,cls='gap-4')),\n",
    "    header=(H3('Payment Method'),P(cls=TextT.muted_sm)('Add a new payment method to your account.')))"
   ]
  },
  {
   "cell_type": "markdown",
   "id": "ce3da98e",
   "metadata": {},
   "source": [
    "### C3, R1"
   ]
  },
  {
   "cell_type": "code",
   "execution_count": 8,
   "id": "8c238a7f",
   "metadata": {},
   "outputs": [],
   "source": [
    "#| export\n",
    "area_opts = ('Team','Billing','Account','Deployment','Support')\n",
    "severity_opts = ('Severity 1 (Highest)', 'Severity 2', 'Severity 3', 'Severity 4 (Lowest)')\n",
    "Right1 = Card(\n",
    "    Grid(Select(*Options(*area_opts),    label='Area',    id='area'),\n",
    "         Select(*Options(*severity_opts),label='Severity',id='area'),\n",
    "         cols=2,gap=2),\n",
    "    Input(    label='Subject',    placeholder='I need help with'),\n",
    "    TextArea( label='Description',placeholder='Please include all information relevant to your issue'),\n",
    "    FormLabel(label=\"Tags\",state=\"danger\", value=\"Spam,Invalid\"),\n",
    "    header=(H3('Report an issue'),P(cls=TextT.muted_sm)('What area are you having problems with')),\n",
    "    footer = FullySpacedDiv(Button(cls=ButtonT.ghost  )('Cancel'),\n",
    "                            Button(cls=ButtonT.primary)('Submit')))\n"
   ]
  },
  {
   "cell_type": "markdown",
   "id": "43338ac8",
   "metadata": {},
   "source": [
    "### C3, R2"
   ]
  },
  {
   "cell_type": "code",
   "execution_count": 9,
   "id": "7253706b",
   "metadata": {},
   "outputs": [],
   "source": [
    "#| export\n",
    "FlexBlockCentered = (FlexT.block,FlexT.center)"
   ]
  },
  {
   "cell_type": "code",
   "execution_count": 10,
   "id": "aa8a07f7",
   "metadata": {},
   "outputs": [],
   "source": [
    "#| export\n",
    "franken_desc =\"HTML-first, framework-agnostic, beautifully designed components that you can truly copy and paste into your site. Accessible. Customizable. Open Source.\"\n",
    "Right2 = Card(H4(\"franken/ui\"),\n",
    "              P(cls=TextT.muted_sm)(franken_desc),\n",
    "              Div(cls=('flex','gap-x-4',TextT.muted_sm))(\n",
    "                Div(cls=FlexBlockCentered)(\"TypeScript\"),\n",
    "                Div(cls=FlexBlockCentered)(Icon('star'),\"20k\"),\"Updated April 2023\"))"
   ]
  },
  {
   "cell_type": "code",
   "execution_count": 11,
   "id": "0a8ee7a1",
   "metadata": {},
   "outputs": [
    {
     "data": {
      "text/markdown": [
       "```html\n",
       "<div class=\"uk-flex uk-flex-center\"></div>\n",
       "\n",
       "```"
      ],
      "text/plain": [
       "div((),{'class': 'uk-flex uk-flex-center'})"
      ]
     },
     "execution_count": 11,
     "metadata": {},
     "output_type": "execute_result"
    }
   ],
   "source": [
    "Div(cls=(FlexT.block,FlexT.center))"
   ]
  },
  {
   "cell_type": "code",
   "execution_count": 12,
   "id": "dca8ab94",
   "metadata": {},
   "outputs": [
    {
     "data": {
      "text/plain": [
       "(<FlexT.block: ''>, <FlexT.center: 'center'>, 'something')"
      ]
     },
     "execution_count": 12,
     "metadata": {},
     "output_type": "execute_result"
    }
   ],
   "source": [
    "FlexBlockCentered+('something',)"
   ]
  },
  {
   "cell_type": "markdown",
   "id": "6e1b3eac",
   "metadata": {},
   "source": [
    "### C3, R3"
   ]
  },
  {
   "cell_type": "code",
   "execution_count": 13,
   "id": "bfee421c",
   "metadata": {},
   "outputs": [],
   "source": [
    "#| export\n",
    "Right3 = Card(\n",
    "    Switch(label = Div(H5('Strictly Necessary'),P(cls=(TextT.muted_sm,TextB.wt_normal))('These cookies are essential in order to use the website and use its features.')),\n",
    "                cls=(*FlexBlockCentered, FlexT.between, 'gap-2')),\n",
    "    Switch(label = Div(H5('Functional Cookies'),P(cls=(TextT.muted_sm,TextB.wt_normal))('These cookies allow the website to provide personalized functionality.')),\n",
    "                cls=(*FlexBlockCentered, FlexT.between, 'gap-2')),\n",
    "    Switch(label = Div(H5('Performance Cookies'),P(cls=(TextT.muted_sm,TextB.wt_normal))('These cookies help to improve the performance of the website.')),\n",
    "                cls=(*FlexBlockCentered, FlexT.between, 'gap-2')),\n",
    "    header=(H4('Cookie Settings'),P(cls=(TextT.muted_sm, 'mt-1.5'))('Manage your cookie settings here.')),\n",
    "    footer=Button(cls='uk-button-primary w-full')('Save Preferences'),)"
   ]
  },
  {
   "cell_type": "markdown",
   "id": "1d5439a0",
   "metadata": {},
   "source": [
    "### C2, R1"
   ]
  },
  {
   "cell_type": "code",
   "execution_count": 1,
   "id": "1b354a91",
   "metadata": {},
   "outputs": [
    {
     "ename": "NameError",
     "evalue": "name 'A' is not defined",
     "output_type": "error",
     "traceback": [
      "\u001b[0;31m---------------------------------------------------------------------------\u001b[0m",
      "\u001b[0;31mNameError\u001b[0m                                 Traceback (most recent call last)",
      "Cell \u001b[0;32mIn[1], line 5\u001b[0m\n\u001b[1;32m      1\u001b[0m \u001b[38;5;66;03m#| export\u001b[39;00m\n\u001b[1;32m      2\u001b[0m team_members \u001b[38;5;241m=\u001b[39m [(\u001b[38;5;124m\"\u001b[39m\u001b[38;5;124mSofia Davis\u001b[39m\u001b[38;5;124m\"\u001b[39m, \u001b[38;5;124m\"\u001b[39m\u001b[38;5;124mm@example.com\u001b[39m\u001b[38;5;124m\"\u001b[39m, \u001b[38;5;124m\"\u001b[39m\u001b[38;5;124mOwner\u001b[39m\u001b[38;5;124m\"\u001b[39m),(\u001b[38;5;124m\"\u001b[39m\u001b[38;5;124mJackson Lee\u001b[39m\u001b[38;5;124m\"\u001b[39m, \u001b[38;5;124m\"\u001b[39m\u001b[38;5;124mp@example.com\u001b[39m\u001b[38;5;124m\"\u001b[39m, \u001b[38;5;124m\"\u001b[39m\u001b[38;5;124mMember\u001b[39m\u001b[38;5;124m\"\u001b[39m),]\n\u001b[1;32m      4\u001b[0m options \u001b[38;5;241m=\u001b[39m [\n\u001b[0;32m----> 5\u001b[0m     \u001b[43mA\u001b[49m(Div(Div(\u001b[38;5;124m'\u001b[39m\u001b[38;5;124mViewer\u001b[39m\u001b[38;5;124m'\u001b[39m),    Div(\u001b[38;5;124m'\u001b[39m\u001b[38;5;124mCan view and comment.\u001b[39m\u001b[38;5;124m'\u001b[39m,                 \u001b[38;5;28mcls\u001b[39m\u001b[38;5;241m=\u001b[39mTextT\u001b[38;5;241m.\u001b[39mmuted_sm))),\n\u001b[1;32m      6\u001b[0m     A(Div(Div(\u001b[38;5;124m'\u001b[39m\u001b[38;5;124mDeveloper\u001b[39m\u001b[38;5;124m'\u001b[39m), Div(\u001b[38;5;124m'\u001b[39m\u001b[38;5;124mCan view, comment and edit.\u001b[39m\u001b[38;5;124m'\u001b[39m,           \u001b[38;5;28mcls\u001b[39m\u001b[38;5;241m=\u001b[39mTextT\u001b[38;5;241m.\u001b[39mmuted_sm))),\n\u001b[1;32m      7\u001b[0m     A(Div(Div(\u001b[38;5;124m'\u001b[39m\u001b[38;5;124mBilling\u001b[39m\u001b[38;5;124m'\u001b[39m),   Div(\u001b[38;5;124m'\u001b[39m\u001b[38;5;124mCan view, comment and manage billing.\u001b[39m\u001b[38;5;124m'\u001b[39m, \u001b[38;5;28mcls\u001b[39m\u001b[38;5;241m=\u001b[39mTextT\u001b[38;5;241m.\u001b[39mmuted_sm))),\n\u001b[1;32m      8\u001b[0m     A(Div(Div(\u001b[38;5;124m'\u001b[39m\u001b[38;5;124mOwner\u001b[39m\u001b[38;5;124m'\u001b[39m),     Div(\u001b[38;5;124m'\u001b[39m\u001b[38;5;124mAdmin-level access to all resources.\u001b[39m\u001b[38;5;124m'\u001b[39m,  \u001b[38;5;28mcls\u001b[39m\u001b[38;5;241m=\u001b[39mTextT\u001b[38;5;241m.\u001b[39mmuted_sm)))\n\u001b[1;32m      9\u001b[0m ]\n\u001b[1;32m     11\u001b[0m body \u001b[38;5;241m=\u001b[39m [Div(\u001b[38;5;28mcls\u001b[39m\u001b[38;5;241m=\u001b[39m(\u001b[38;5;241m*\u001b[39mFlexBlockCentered, \u001b[38;5;124m'\u001b[39m\u001b[38;5;124mspace-x-4\u001b[39m\u001b[38;5;124m'\u001b[39m))(\n\u001b[1;32m     12\u001b[0m         DiceBearAvatar(n, \u001b[38;5;241m10\u001b[39m,\u001b[38;5;241m10\u001b[39m),\n\u001b[1;32m     13\u001b[0m         Div(\u001b[38;5;28mcls\u001b[39m\u001b[38;5;241m=\u001b[39m\u001b[38;5;124m'\u001b[39m\u001b[38;5;124mflex-1\u001b[39m\u001b[38;5;124m'\u001b[39m)(\n\u001b[0;32m   (...)\u001b[0m\n\u001b[1;32m     16\u001b[0m         DropdownButton(options, label\u001b[38;5;241m=\u001b[39mr),\n\u001b[1;32m     17\u001b[0m     ) \u001b[38;5;28;01mfor\u001b[39;00m n,e,r \u001b[38;5;129;01min\u001b[39;00m team_members]\n\u001b[1;32m     19\u001b[0m Middle1 \u001b[38;5;241m=\u001b[39m Card(\u001b[38;5;241m*\u001b[39mbody,\n\u001b[1;32m     20\u001b[0m         header \u001b[38;5;241m=\u001b[39m (H4(\u001b[38;5;124m'\u001b[39m\u001b[38;5;124mTeam Members\u001b[39m\u001b[38;5;124m'\u001b[39m),Div(\u001b[38;5;124m'\u001b[39m\u001b[38;5;124mInvite your team members to collaborate.\u001b[39m\u001b[38;5;124m'\u001b[39m, \u001b[38;5;28mcls\u001b[39m\u001b[38;5;241m=\u001b[39m(\u001b[38;5;124m'\u001b[39m\u001b[38;5;124mmt-1.5\u001b[39m\u001b[38;5;124m'\u001b[39m, TextT\u001b[38;5;241m.\u001b[39mmuted_sm))),)\n",
      "\u001b[0;31mNameError\u001b[0m: name 'A' is not defined"
     ]
    }
   ],
   "source": [
    "#| export\n",
    "team_members = [(\"Sofia Davis\", \"m@example.com\", \"Owner\"),(\"Jackson Lee\", \"p@example.com\", \"Member\"),]\n",
    "\n",
    "options = [\n",
    "    A(Div(Div('Viewer'),    Div('Can view and comment.',                 cls=TextT.muted_sm))),\n",
    "    A(Div(Div('Developer'), Div('Can view, comment and edit.',           cls=TextT.muted_sm))),\n",
    "    A(Div(Div('Billing'),   Div('Can view, comment and manage billing.', cls=TextT.muted_sm))),\n",
    "    A(Div(Div('Owner'),     Div('Admin-level access to all resources.',  cls=TextT.muted_sm)))\n",
    "]\n",
    "\n",
    "body = [Div(cls=(*FlexBlockCentered, 'space-x-4'))(\n",
    "        DiceBearAvatar(n, 10,10),\n",
    "        Div(cls='flex-1')(\n",
    "            P(n, cls='text-sm font-medium leading-none'),\n",
    "            P(e, cls=TextT.muted_sm)),\n",
    "        DropdownButton(options, label=r),\n",
    "    ) for n,e,r in team_members]\n",
    "\n",
    "Middle1 = Card(*body,\n",
    "        header = (H4('Team Members'),Div('Invite your team members to collaborate.', cls=('mt-1.5', TextT.muted_sm))),)"
   ]
  },
  {
   "cell_type": "markdown",
   "id": "fcda74bf",
   "metadata": {},
   "source": [
    "### C2, R2"
   ]
  },
  {
   "cell_type": "code",
   "execution_count": 15,
   "id": "68dfdd14",
   "metadata": {},
   "outputs": [],
   "source": [
    "#| export\n",
    "access_roles = (\"Read and write access\", \"Read-only access\")\n",
    "team_members = [(\"Olivia Martin\", \"m@example.com\", \"Read and write access\"),\n",
    "                (\"Isabella Nguyen\", \"b@example.com\", \"Read-only access\"),\n",
    "                (\"Sofia Davis\", \"p@example.com\", \"Read-only access\")]"
   ]
  },
  {
   "cell_type": "code",
   "execution_count": 13,
   "id": "26a5cbf0",
   "metadata": {},
   "outputs": [],
   "source": [
    "#| export\n",
    "Middle2 = Card(\n",
    "    Div(cls='flex gap-x-2')(\n",
    "        Input(value='http://example.com/link/to/document',cls='flex-1'),\n",
    "        Button('Copy link')),\n",
    "    Div(cls='uk-divider-icon my-4'),\n",
    "    H4(cls='text-sm font-medium')('People with access'),\n",
    "    *[LAlignedDiv(\n",
    "        DiceBearAvatar(n, 10,10),\n",
    "        Div(cls='flex-1')(\n",
    "            P(n, cls='text-sm font-medium leading-none'),\n",
    "            P(e, cls=TextT.muted_sm)),\n",
    "        Select(*Options(*access_roles, selected_idx=access_roles.index(r)))) for n,e,r in team_members],\n",
    "    header = (H4('Share this document'),Div('Anyone with the link can view this document.', cls=('mt-1.5',TextT.muted_sm))))"
   ]
  },
  {
   "cell_type": "markdown",
   "id": "e90cf43c",
   "metadata": {},
   "source": [
    "### C2, R3"
   ]
  },
  {
   "cell_type": "code",
   "execution_count": 14,
   "id": "93ddf953",
   "metadata": {},
   "outputs": [],
   "source": [
    "#| export\n",
    "Middle3 = Card(Button('Jan 20, 2024 - Feb 09, 2024'))"
   ]
  },
  {
   "cell_type": "markdown",
   "id": "0478f7df",
   "metadata": {},
   "source": [
    "### C2, R4"
   ]
  },
  {
   "cell_type": "code",
   "execution_count": 15,
   "id": "a77f02ee",
   "metadata": {},
   "outputs": [],
   "source": [
    "#| export\n",
    "section_content =(('bell','Everything',\"Email digest, mentions & all activity.\"),\n",
    "                  ('user',\"Available\",\"Only mentions and comments\"),\n",
    "                  ('ban',\"Ignoring\",\"Turn of all notifications\"))"
   ]
  },
  {
   "cell_type": "code",
   "execution_count": 16,
   "id": "aecb3bce",
   "metadata": {},
   "outputs": [],
   "source": [
    "#| export\n",
    "Middle4 = Card(\n",
    "    Ul(cls=\"uk-nav uk-nav-secondary\")\n",
    "    (*[Li(cls='-mx-1')(A(Div(cls=\"flex gap-x-4\")(Div(uk_icon=icon),Div(cls='flex-1')(P(name),P(cls=TextT.muted_sm)(desc)))))\n",
    "            for icon, name, desc in section_content]),\n",
    "    header = (H4('Notification'),Div('Choose what you want to be notified about.', cls=('mt-1.5', TextT.muted_sm))),\n",
    "    body_cls='pt-0')"
   ]
  },
  {
   "cell_type": "markdown",
   "id": "779fa6fb",
   "metadata": {},
   "source": [
    "## Route Data"
   ]
  },
  {
   "cell_type": "code",
   "execution_count": 79,
   "id": "a1987227",
   "metadata": {},
   "outputs": [],
   "source": [
    "#| export\n",
    "def page():\n",
    "    return Title(\"Custom\"),Grid(\n",
    "            *map(Div,(Left1,Left2,Middle1,Middle2,Middle3,Middle4,Right1,Right2, Right3)),\n",
    "            cols=1, cls=(GridT.small,'md:grid-cols-3', 'sm:grid-cols-2'), uk_grid=\"masonry: pack\")"
   ]
  },
  {
   "cell_type": "code",
   "execution_count": null,
   "id": "3eaa3ce6",
   "metadata": {},
   "outputs": [],
   "source": [
    "Grid()"
   ]
  },
  {
   "cell_type": "code",
   "execution_count": 80,
   "id": "0954254d",
   "metadata": {},
   "outputs": [],
   "source": [
    "#| export\n",
    "cards_homepage = page()"
   ]
  },
  {
   "cell_type": "code",
   "execution_count": 81,
   "id": "3c32b2aa",
   "metadata": {},
   "outputs": [],
   "source": [
    "#| hide\n",
    "import nbdev; nbdev.nbdev_export()"
   ]
  }
 ],
 "metadata": {
  "kernelspec": {
   "display_name": "Python 3 (ipykernel)",
   "language": "python",
   "name": "python3"
  },
  "language_info": {
   "codemirror_mode": {
    "name": "ipython",
    "version": 3
   },
   "file_extension": ".py",
   "mimetype": "text/x-python",
   "name": "python",
   "nbconvert_exporter": "python",
   "pygments_lexer": "ipython3",
   "version": "3.12.4"
  },
  "toc": {
   "base_numbering": 1,
   "nav_menu": {},
   "number_sections": true,
   "sideBar": true,
   "skip_h1_title": false,
   "title_cell": "Table of Contents",
   "title_sidebar": "Contents",
   "toc_cell": false,
   "toc_position": {},
   "toc_section_display": true,
   "toc_window_display": false
  }
 },
 "nbformat": 4,
 "nbformat_minor": 5
}
