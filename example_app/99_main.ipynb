{
 "cells": [
  {
   "cell_type": "markdown",
   "id": "e43d0955",
   "metadata": {},
   "source": [
    "# Main\n",
    "\n",
    "> FrankenUI Tasks Example"
   ]
  },
  {
   "cell_type": "code",
   "execution_count": 1,
   "id": "0cc276d0",
   "metadata": {},
   "outputs": [],
   "source": [
    "#| default_exp main"
   ]
  },
  {
   "cell_type": "code",
   "execution_count": 2,
   "id": "d5abdcb0",
   "metadata": {},
   "outputs": [],
   "source": [
    "#| export\n",
    "from fasthtml.common import *\n",
    "from fh_frankenui.components import *"
   ]
  },
  {
   "cell_type": "markdown",
   "id": "d2395bea",
   "metadata": {},
   "source": [
    "# Imports\n",
    "\n",
    "To make imports work, I symlinked all the module files into this directory.  This way the import statements are the same in notebook as in module.\n",
    "\n",
    "`!ln -s app/* .`"
   ]
  },
  {
   "cell_type": "code",
   "execution_count": 3,
   "id": "687dd79b",
   "metadata": {},
   "outputs": [],
   "source": [
    "#| export\n",
    "from tasks import tasks_homepage\n",
    "from cards import cards_homepage\n",
    "from dashboard import dashboard_homepage\n",
    "from forms import forms_homepage\n",
    "from music import music_homepage\n",
    "from auth import auth_homepage\n",
    "from playground import playground_homepage\n",
    "from mail import mail_homepage"
   ]
  },
  {
   "cell_type": "code",
   "execution_count": 4,
   "id": "ccd98c59",
   "metadata": {},
   "outputs": [],
   "source": [
    "#| export\n",
    "hdrs = (Script(src=\"https://cdn.tailwindcss.com\"),\n",
    "        Script(src=\"https://cdn.jsdelivr.net/npm/uikit@3.21.6/dist/js/uikit.min.js\"),\n",
    "        Script(src=\"https://cdn.jsdelivr.net/npm/uikit@3.21.6/dist/js/uikit-icons.min.js\"),\n",
    "        Script(type=\"module\", src=\"https://unpkg.com/franken-wc@0.0.6/dist/js/wc.iife.js\"),\n",
    "        Link(rel=\"stylesheet\", href=\"https://unpkg.com/franken-wc@0.0.6/dist/css/blue.min.css\"),)"
   ]
  },
  {
   "cell_type": "code",
   "execution_count": 5,
   "id": "cf8e434d",
   "metadata": {},
   "outputs": [],
   "source": [
    "#| export\n",
    "if IN_NOTEBOOK: \n",
    "    from fasthtml.jupyter import *\n",
    "    app,rt = jupy_app(hdrs=hdrs,debug=True,default_hdrs=False, pico=False)\n",
    "    server = JupyUvi(app)\n",
    "else:           \n",
    "    app,rt = fast_app(hdrs=hdrs,debug=True,default_hdrs=False, pico=False)"
   ]
  },
  {
   "cell_type": "code",
   "execution_count": 6,
   "id": "77bc464f",
   "metadata": {},
   "outputs": [],
   "source": [
    "#| export\n",
    "@app.route('/tasks')\n",
    "def tasks(): return tasks_homepage\n",
    "\n",
    "@app.route('/cards')\n",
    "def cards(): return cards_homepage\n",
    "\n",
    "@app.route('/forms')\n",
    "def forms(): return forms_homepage\n",
    "\n",
    "@app.route('/dashboard')\n",
    "def dashboard(): return dashboard_homepage\n",
    "\n",
    "@app.route('/music')\n",
    "def music(): return music_homepage\n",
    "\n",
    "@app.route('/auth')\n",
    "def auth(): return auth_homepage\n",
    "\n",
    "@app.route('/playground')\n",
    "def playground(): return playground_homepage\n",
    "\n",
    "@app.route('/mail')\n",
    "def mail(): return mail_homepage"
   ]
  },
  {
   "cell_type": "code",
   "execution_count": 7,
   "id": "86973461",
   "metadata": {},
   "outputs": [],
   "source": [
    "#| export\n",
    "def Navbar(*c, left=(), center=(), right=(), container=True, transparent=False, sticky=False, cls=(), **kwargs):\n",
    "    nav_cls = f\"uk-navbar-container{'uk-navbar-transparent' if transparent else ''}\"\n",
    "    nav = Nav(cls=nav_cls, uk_navbar=True, **kwargs)(\n",
    "        Div(cls='uk-navbar-left')(*left) if left else None,\n",
    "        Div(cls='uk-navbar-center')(*center) if center else None,\n",
    "        Div(cls='uk-navbar-right')(*right) if right else None,\n",
    "        *c\n",
    "    )\n",
    "    sticky_attrs = {'uk-sticky': 'sel-target: .uk-navbar-container; cls-active: uk-navbar-sticky'} if sticky else {}\n",
    "    return Div(cls=f\"uk-container {stringify(cls)}\" if container else stringify(cls), **sticky_attrs)(nav)\n",
    "\n",
    "def NavItem(label, href='#', active=False, parent=False, cls=()):\n",
    "    item_cls = f\"{'uk-active' if active else ''} {'uk-parent' if parent else ''} {stringify(cls)}\".strip()\n",
    "    return Li(cls=item_cls)(A(href=href)(label))\n",
    "\n",
    "def NavDropdown(label, items, cls=()):\n",
    "    return Li(cls=f\"uk-parent {stringify(cls)}\".strip())(\n",
    "        A(href='#')(label),\n",
    "        Div(cls='uk-navbar-dropdown')(Ul(cls='uk-nav uk-navbar-dropdown-nav')(*items))\n",
    "    )"
   ]
  },
  {
   "cell_type": "code",
   "execution_count": 8,
   "id": "88f6dc1e",
   "metadata": {},
   "outputs": [],
   "source": [
    "#| export\n",
    "def UkNavBar(*lis):\n",
    "    return Nav(cls='uk-navbar-left')(\n",
    "        Ul(cls='uk-navbar-nav')(\n",
    "        *lis\n",
    "        ))"
   ]
  },
  {
   "cell_type": "code",
   "execution_count": 9,
   "id": "8b654c52",
   "metadata": {},
   "outputs": [],
   "source": [
    "#| export\n",
    "@app.route('/')\n",
    "def home():\n",
    "    nav_items = (('Home', '/'), ('Tasks', '/tasks'), \n",
    "                 ('Cards', '/cards'), ('Dashboard', '/dashboard'),\n",
    "                ('Forms', '/forms'), ('Music', '/music'), ('Authentication', '/auth'),\n",
    "                ('Playground', '/playground'),('Mail', '/mail')\n",
    "                )\n",
    "    nav_items = [Li()(A(href=r)(n)) for (n,r) in nav_items]\n",
    "    \n",
    "    navbar = UkNavBar(*nav_items)\n",
    "    content = Div(cls='uk-container uk-margin-top')(\n",
    "        H1('FrankenUI Examples in FastHTML'),\n",
    "        P('This site showcases the FrankenUI components rebuilt using FastHTML, demonstrating the power and flexibility of our Python wrapper.'),\n",
    "        P('Explore the Tasks and Cards pages to see examples of FrankenUI components implemented with FastHTML.')\n",
    "    )\n",
    "    return navbar, content"
   ]
  },
  {
   "cell_type": "code",
   "execution_count": 10,
   "id": "106a8d55",
   "metadata": {},
   "outputs": [],
   "source": [
    "#| export\n",
    "if IN_NOTEBOOK: HTMX()\n",
    "else: serve()"
   ]
  },
  {
   "cell_type": "code",
   "execution_count": 15,
   "id": "7013f05b",
   "metadata": {},
   "outputs": [
    {
     "data": {
      "text/html": [
       "<iframe src=\"http://localhost:8000/cards\" style=\"width: 100%; height: auto; border: none;\" onload=\"{\n",
       "        let frame = this;\n",
       "        window.addEventListener('message', function(e) {\n",
       "            if (e.data.height) frame.style.height = (e.data.height+1) + 'px';\n",
       "        }, false);\n",
       "    }\" allow=\"accelerometer; autoplay; camera; clipboard-read; clipboard-write; display-capture; encrypted-media; fullscreen; gamepad; geolocation; gyroscope; hid; identity-credentials-get; idle-detection; magnetometer; microphone; midi; payment; picture-in-picture; publickey-credentials-get; screen-wake-lock; serial; usb; web-share; xr-spatial-tracking\"></iframe> "
      ],
      "text/plain": [
       "<IPython.core.display.HTML object>"
      ]
     },
     "execution_count": 15,
     "metadata": {},
     "output_type": "execute_result"
    }
   ],
   "source": [
    "HTMX('cards')"
   ]
  },
  {
   "cell_type": "code",
   "execution_count": 12,
   "id": "e792288a",
   "metadata": {},
   "outputs": [],
   "source": [
    "#| hide\n",
    "import nbdev; nbdev.nbdev_export()"
   ]
  }
 ],
 "metadata": {
  "kernelspec": {
   "display_name": "Python 3 (ipykernel)",
   "language": "python",
   "name": "python3"
  },
  "language_info": {
   "codemirror_mode": {
    "name": "ipython",
    "version": 3
   },
   "file_extension": ".py",
   "mimetype": "text/x-python",
   "name": "python",
   "nbconvert_exporter": "python",
   "pygments_lexer": "ipython3",
   "version": "3.12.4"
  },
  "toc": {
   "base_numbering": 1,
   "nav_menu": {},
   "number_sections": true,
   "sideBar": true,
   "skip_h1_title": false,
   "title_cell": "Table of Contents",
   "title_sidebar": "Contents",
   "toc_cell": false,
   "toc_position": {},
   "toc_section_display": true,
   "toc_window_display": false
  }
 },
 "nbformat": 4,
 "nbformat_minor": 5
}
