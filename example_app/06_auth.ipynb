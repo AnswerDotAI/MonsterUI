{
 "cells": [
  {
   "cell_type": "code",
   "execution_count": 1,
   "id": "8de1f656",
   "metadata": {},
   "outputs": [],
   "source": [
    "#| default_exp auth"
   ]
  },
  {
   "cell_type": "code",
   "execution_count": 2,
   "id": "6c16c057",
   "metadata": {},
   "outputs": [],
   "source": [
    "#| export\n",
    "from fasthtml.common import *\n",
    "from fasthtml.svg import *\n",
    "from fh_frankenui import *\n",
    "from fh_matplotlib import matplotlib2fasthtml\n",
    "import numpy as np\n",
    "from pathlib import Path\n",
    "import matplotlib.pylab as plt"
   ]
  },
  {
   "cell_type": "code",
   "execution_count": 3,
   "id": "f97e9da7",
   "metadata": {},
   "outputs": [],
   "source": [
    "#| hide\n",
    "from nbdev.showdoc import *"
   ]
  },
  {
   "cell_type": "code",
   "execution_count": 4,
   "id": "ed3ff699",
   "metadata": {},
   "outputs": [
    {
     "data": {
      "text/html": [
       "<script src=\"https://cdn.tailwindcss.com\"></script>\n",
       "<script src=\"https://cdn.jsdelivr.net/npm/uikit@3.21.6/dist/js/uikit.min.js\"></script>\n",
       "<script src=\"https://cdn.jsdelivr.net/npm/uikit@3.21.6/dist/js/uikit-icons.min.js\"></script>\n",
       "<script type=\"module\" src=\"https://unpkg.com/franken-wc@0.0.6/dist/js/wc.iife.js\"></script>\n",
       "<link rel=\"stylesheet\" href=\"https://unpkg.com/franken-wc@0.0.6/dist/css/blue.min.css\">\n",
       "\n",
       "<style>\n",
       "#notebook-container { max-width: none; }\n",
       ".output_html * { list-style-type: none !important; }\n",
       "</style>\n"
      ],
      "text/plain": [
       "<IPython.core.display.HTML object>"
      ]
     },
     "metadata": {},
     "output_type": "display_data"
    }
   ],
   "source": [
    "%%html\n",
    "<script src=\"https://cdn.tailwindcss.com\"></script>\n",
    "<script src=\"https://cdn.jsdelivr.net/npm/uikit@3.21.6/dist/js/uikit.min.js\"></script>\n",
    "<script src=\"https://cdn.jsdelivr.net/npm/uikit@3.21.6/dist/js/uikit-icons.min.js\"></script>\n",
    "<script type=\"module\" src=\"https://unpkg.com/franken-wc@0.0.6/dist/js/wc.iife.js\"></script>\n",
    "<link rel=\"stylesheet\" href=\"https://unpkg.com/franken-wc@0.0.6/dist/css/blue.min.css\">\n",
    "\n",
    "<style>\n",
    "#notebook-container { max-width: none; }\n",
    ".output_html * { list-style-type: none !important; }\n",
    "</style>"
   ]
  },
  {
   "cell_type": "code",
   "execution_count": 8,
   "id": "b753bd8a",
   "metadata": {},
   "outputs": [],
   "source": [
    "#| export\n",
    "\n",
    "def page():    \n",
    "    left = Div(cls=\"col-span-1 hidden flex-col justify-between bg-zinc-900 p-8 text-white lg:flex\")(\n",
    "        Div(cls=(TextB.wt_bold,TextB.sz_medium))(\"Acme Inc\"),\n",
    "        Blockquote(cls=\"space-y-2\")(\n",
    "            P(cls=TextB.sz_large)('\"This library has saved me countless hours of work and helped me deliver stunning designs to my clients faster than ever before.\"'),\n",
    "            Footer(cls=TextB.sz_small)(\"Sofia Davis\")))\n",
    "\n",
    "    right = Div(cls=\"col-span-2 flex flex-col p-8 lg:col-span-1\")(\n",
    "        Div(cls=\"flex flex-none justify-end\")(Button(\"Login\", cls=ButtonT.ghost, uk_toggle=\"#demo\")),\n",
    "        CenteredDiv(cls='flex-1')(\n",
    "            Div(cls=f\"space-y-6 w-[350px]\")(\n",
    "                Div(cls=\"flex flex-col space-y-2 text-center\")(\n",
    "                    H3(\"Create an account\"),\n",
    "                    P(cls=TextT.muted_sm)(\"Enter your email below to create your account\")),\n",
    "                Form(cls='space-y-6')(\n",
    "                        Input(placeholder=\"name@example.com\"),\n",
    "                        Button(Span(cls=\"mr-2\", uk_spinner=\"ratio: 0.54\"), \"Sign in with Email\", cls=(ButtonT.primary, \"w-full\"), disabled=True),\n",
    "                        HSplit(\"Or continue with\",cls=TextT.muted_sm),\n",
    "                        Button(Icon('github',cls='mr-2'), \"Github\", cls=(ButtonT.default, \"w-full\"), uk_toggle=\"#demo\")),\n",
    "                P(cls=(TextT.muted_sm,\"text-center\"))(\n",
    "                \"By clicking continue, you agree to our \",\n",
    "                A(cls=\"underline underline-offset-4 hover:text-primary\", href=\"#demo\", uk_toggle=True)(\"Terms of Service\"),\" and \",\n",
    "                A(cls=\"underline underline-offset-4 hover:text-primary\", href=\"#demo\", uk_toggle=True)(\"Privacy Policy\"),\".\"))))\n",
    "    \n",
    "    return Grid(left,right,cols=2, gap=0,cls='h-screen')"
   ]
  },
  {
   "cell_type": "code",
   "execution_count": 9,
   "id": "eb744b1d",
   "metadata": {},
   "outputs": [],
   "source": [
    "#| export\n",
    "\n",
    "auth_homepage = page()"
   ]
  },
  {
   "cell_type": "code",
   "execution_count": null,
   "id": "a56bf1d6",
   "metadata": {},
   "outputs": [],
   "source": []
  },
  {
   "cell_type": "code",
   "execution_count": null,
   "id": "dc99446b",
   "metadata": {},
   "outputs": [],
   "source": []
  },
  {
   "cell_type": "code",
   "execution_count": 10,
   "id": "602eebb4",
   "metadata": {},
   "outputs": [],
   "source": [
    "#| hide\n",
    "import nbdev; nbdev.nbdev_export()"
   ]
  },
  {
   "cell_type": "code",
   "execution_count": null,
   "id": "dd3d7895",
   "metadata": {},
   "outputs": [],
   "source": []
  },
  {
   "cell_type": "code",
   "execution_count": null,
   "id": "1b144381",
   "metadata": {},
   "outputs": [],
   "source": []
  }
 ],
 "metadata": {
  "kernelspec": {
   "display_name": "Python 3 (ipykernel)",
   "language": "python",
   "name": "python3"
  },
  "language_info": {
   "codemirror_mode": {
    "name": "ipython",
    "version": 3
   },
   "file_extension": ".py",
   "mimetype": "text/x-python",
   "name": "python",
   "nbconvert_exporter": "python",
   "pygments_lexer": "ipython3",
   "version": "3.12.4"
  },
  "toc": {
   "base_numbering": 1,
   "nav_menu": {},
   "number_sections": true,
   "sideBar": true,
   "skip_h1_title": false,
   "title_cell": "Table of Contents",
   "title_sidebar": "Contents",
   "toc_cell": false,
   "toc_position": {},
   "toc_section_display": true,
   "toc_window_display": false
  }
 },
 "nbformat": 4,
 "nbformat_minor": 5
}
